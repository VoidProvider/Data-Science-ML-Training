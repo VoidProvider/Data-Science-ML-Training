{
 "cells": [
  {
   "cell_type": "markdown",
   "id": "arbitrary-conducting",
   "metadata": {
    "papermill": {
     "duration": 0.01782,
     "end_time": "2021-04-17T23:51:22.590332",
     "exception": false,
     "start_time": "2021-04-17T23:51:22.572512",
     "status": "completed"
    },
    "tags": []
   },
   "source": [
    "# Practicando a Pandas"
   ]
  },
  {
   "cell_type": "markdown",
   "id": "official-equivalent",
   "metadata": {
    "papermill": {
     "duration": 0.015808,
     "end_time": "2021-04-17T23:51:22.622463",
     "exception": false,
     "start_time": "2021-04-17T23:51:22.606655",
     "status": "completed"
    },
    "tags": []
   },
   "source": [
    "# Introduction\n",
    "\n",
    "Now you are ready to get a deeper understanding of your data.\n",
    "\n",
    "Run the following cell to load your data and some utility functions (including code to check your answers)."
   ]
  },
  {
   "cell_type": "code",
   "execution_count": 1,
   "id": "rotary-conservation",
   "metadata": {
    "execution": {
     "iopub.execute_input": "2021-04-17T23:51:22.659907Z",
     "iopub.status.busy": "2021-04-17T23:51:22.658640Z",
     "iopub.status.idle": "2021-04-17T23:51:30.713132Z",
     "shell.execute_reply": "2021-04-17T23:51:30.712276Z"
    },
    "papermill": {
     "duration": 8.074792,
     "end_time": "2021-04-17T23:51:30.713320",
     "exception": false,
     "start_time": "2021-04-17T23:51:22.638528",
     "status": "completed"
    },
    "tags": []
   },
   "outputs": [
    {
     "name": "stdout",
     "output_type": "stream",
     "text": [
      "Setup complete.\n"
     ]
    },
    {
     "data": {
      "text/html": [
       "<div>\n",
       "<style scoped>\n",
       "    .dataframe tbody tr th:only-of-type {\n",
       "        vertical-align: middle;\n",
       "    }\n",
       "\n",
       "    .dataframe tbody tr th {\n",
       "        vertical-align: top;\n",
       "    }\n",
       "\n",
       "    .dataframe thead th {\n",
       "        text-align: right;\n",
       "    }\n",
       "</style>\n",
       "<table border=\"1\" class=\"dataframe\">\n",
       "  <thead>\n",
       "    <tr style=\"text-align: right;\">\n",
       "      <th></th>\n",
       "      <th>country</th>\n",
       "      <th>description</th>\n",
       "      <th>designation</th>\n",
       "      <th>points</th>\n",
       "      <th>price</th>\n",
       "      <th>province</th>\n",
       "      <th>region_1</th>\n",
       "      <th>region_2</th>\n",
       "      <th>taster_name</th>\n",
       "      <th>taster_twitter_handle</th>\n",
       "      <th>title</th>\n",
       "      <th>variety</th>\n",
       "      <th>winery</th>\n",
       "    </tr>\n",
       "  </thead>\n",
       "  <tbody>\n",
       "    <tr>\n",
       "      <th>0</th>\n",
       "      <td>Italy</td>\n",
       "      <td>Aromas include tropical fruit, broom, brimston...</td>\n",
       "      <td>Vulkà Bianco</td>\n",
       "      <td>87</td>\n",
       "      <td>NaN</td>\n",
       "      <td>Sicily &amp; Sardinia</td>\n",
       "      <td>Etna</td>\n",
       "      <td>NaN</td>\n",
       "      <td>Kerin O’Keefe</td>\n",
       "      <td>@kerinokeefe</td>\n",
       "      <td>Nicosia 2013 Vulkà Bianco  (Etna)</td>\n",
       "      <td>White Blend</td>\n",
       "      <td>Nicosia</td>\n",
       "    </tr>\n",
       "    <tr>\n",
       "      <th>1</th>\n",
       "      <td>Portugal</td>\n",
       "      <td>This is ripe and fruity, a wine that is smooth...</td>\n",
       "      <td>Avidagos</td>\n",
       "      <td>87</td>\n",
       "      <td>15.0</td>\n",
       "      <td>Douro</td>\n",
       "      <td>NaN</td>\n",
       "      <td>NaN</td>\n",
       "      <td>Roger Voss</td>\n",
       "      <td>@vossroger</td>\n",
       "      <td>Quinta dos Avidagos 2011 Avidagos Red (Douro)</td>\n",
       "      <td>Portuguese Red</td>\n",
       "      <td>Quinta dos Avidagos</td>\n",
       "    </tr>\n",
       "    <tr>\n",
       "      <th>2</th>\n",
       "      <td>US</td>\n",
       "      <td>Tart and snappy, the flavors of lime flesh and...</td>\n",
       "      <td>NaN</td>\n",
       "      <td>87</td>\n",
       "      <td>14.0</td>\n",
       "      <td>Oregon</td>\n",
       "      <td>Willamette Valley</td>\n",
       "      <td>Willamette Valley</td>\n",
       "      <td>Paul Gregutt</td>\n",
       "      <td>@paulgwine</td>\n",
       "      <td>Rainstorm 2013 Pinot Gris (Willamette Valley)</td>\n",
       "      <td>Pinot Gris</td>\n",
       "      <td>Rainstorm</td>\n",
       "    </tr>\n",
       "    <tr>\n",
       "      <th>3</th>\n",
       "      <td>US</td>\n",
       "      <td>Pineapple rind, lemon pith and orange blossom ...</td>\n",
       "      <td>Reserve Late Harvest</td>\n",
       "      <td>87</td>\n",
       "      <td>13.0</td>\n",
       "      <td>Michigan</td>\n",
       "      <td>Lake Michigan Shore</td>\n",
       "      <td>NaN</td>\n",
       "      <td>Alexander Peartree</td>\n",
       "      <td>NaN</td>\n",
       "      <td>St. Julian 2013 Reserve Late Harvest Riesling ...</td>\n",
       "      <td>Riesling</td>\n",
       "      <td>St. Julian</td>\n",
       "    </tr>\n",
       "    <tr>\n",
       "      <th>4</th>\n",
       "      <td>US</td>\n",
       "      <td>Much like the regular bottling from 2012, this...</td>\n",
       "      <td>Vintner's Reserve Wild Child Block</td>\n",
       "      <td>87</td>\n",
       "      <td>65.0</td>\n",
       "      <td>Oregon</td>\n",
       "      <td>Willamette Valley</td>\n",
       "      <td>Willamette Valley</td>\n",
       "      <td>Paul Gregutt</td>\n",
       "      <td>@paulgwine</td>\n",
       "      <td>Sweet Cheeks 2012 Vintner's Reserve Wild Child...</td>\n",
       "      <td>Pinot Noir</td>\n",
       "      <td>Sweet Cheeks</td>\n",
       "    </tr>\n",
       "  </tbody>\n",
       "</table>\n",
       "</div>"
      ],
      "text/plain": [
       "    country                                        description  \\\n",
       "0     Italy  Aromas include tropical fruit, broom, brimston...   \n",
       "1  Portugal  This is ripe and fruity, a wine that is smooth...   \n",
       "2        US  Tart and snappy, the flavors of lime flesh and...   \n",
       "3        US  Pineapple rind, lemon pith and orange blossom ...   \n",
       "4        US  Much like the regular bottling from 2012, this...   \n",
       "\n",
       "                          designation  points  price           province  \\\n",
       "0                        Vulkà Bianco      87    NaN  Sicily & Sardinia   \n",
       "1                            Avidagos      87   15.0              Douro   \n",
       "2                                 NaN      87   14.0             Oregon   \n",
       "3                Reserve Late Harvest      87   13.0           Michigan   \n",
       "4  Vintner's Reserve Wild Child Block      87   65.0             Oregon   \n",
       "\n",
       "              region_1           region_2         taster_name  \\\n",
       "0                 Etna                NaN       Kerin O’Keefe   \n",
       "1                  NaN                NaN          Roger Voss   \n",
       "2    Willamette Valley  Willamette Valley        Paul Gregutt   \n",
       "3  Lake Michigan Shore                NaN  Alexander Peartree   \n",
       "4    Willamette Valley  Willamette Valley        Paul Gregutt   \n",
       "\n",
       "  taster_twitter_handle                                              title  \\\n",
       "0          @kerinokeefe                  Nicosia 2013 Vulkà Bianco  (Etna)   \n",
       "1            @vossroger      Quinta dos Avidagos 2011 Avidagos Red (Douro)   \n",
       "2           @paulgwine       Rainstorm 2013 Pinot Gris (Willamette Valley)   \n",
       "3                   NaN  St. Julian 2013 Reserve Late Harvest Riesling ...   \n",
       "4           @paulgwine   Sweet Cheeks 2012 Vintner's Reserve Wild Child...   \n",
       "\n",
       "          variety               winery  \n",
       "0     White Blend              Nicosia  \n",
       "1  Portuguese Red  Quinta dos Avidagos  \n",
       "2      Pinot Gris            Rainstorm  \n",
       "3        Riesling           St. Julian  \n",
       "4      Pinot Noir         Sweet Cheeks  "
      ]
     },
     "execution_count": 1,
     "metadata": {},
     "output_type": "execute_result"
    }
   ],
   "source": [
    "import pandas as pd\n",
    "pd.set_option(\"display.max_rows\", 5)\n",
    "reviews = pd.read_csv(\"../input/wine-reviews/winemag-data-130k-v2.csv\", index_col=0)\n",
    "\n",
    "from learntools.core import binder; binder.bind(globals())\n",
    "from learntools.pandas.summary_functions_and_maps import *\n",
    "print(\"Setup complete.\")\n",
    "\n",
    "reviews.head()"
   ]
  },
  {
   "cell_type": "markdown",
   "id": "worldwide-james",
   "metadata": {
    "papermill": {
     "duration": 0.016984,
     "end_time": "2021-04-17T23:51:30.749614",
     "exception": false,
     "start_time": "2021-04-17T23:51:30.732630",
     "status": "completed"
    },
    "tags": []
   },
   "source": [
    "# Exercises"
   ]
  },
  {
   "cell_type": "markdown",
   "id": "productive-medication",
   "metadata": {
    "papermill": {
     "duration": 0.016764,
     "end_time": "2021-04-17T23:51:30.783444",
     "exception": false,
     "start_time": "2021-04-17T23:51:30.766680",
     "status": "completed"
    },
    "tags": []
   },
   "source": [
    "## 1.\n",
    "\n",
    "What is the median of the `points` column in the `reviews` DataFrame?"
   ]
  },
  {
   "cell_type": "code",
   "execution_count": 2,
   "id": "statewide-campus",
   "metadata": {
    "execution": {
     "iopub.execute_input": "2021-04-17T23:51:30.825551Z",
     "iopub.status.busy": "2021-04-17T23:51:30.824690Z",
     "iopub.status.idle": "2021-04-17T23:51:30.834051Z",
     "shell.execute_reply": "2021-04-17T23:51:30.833380Z"
    },
    "papermill": {
     "duration": 0.032055,
     "end_time": "2021-04-17T23:51:30.834191",
     "exception": false,
     "start_time": "2021-04-17T23:51:30.802136",
     "status": "completed"
    },
    "tags": []
   },
   "outputs": [
    {
     "name": "stdout",
     "output_type": "stream",
     "text": [
      "88.0\n"
     ]
    },
    {
     "data": {
      "application/javascript": [
       "parent.postMessage({\"jupyterEvent\": \"custom.exercise_interaction\", \"data\": {\"outcomeType\": 1, \"valueTowardsCompletion\": 0.14285714285714285, \"interactionType\": 1, \"questionType\": 1, \"questionId\": \"1_MedianPoints\", \"learnToolsVersion\": \"0.3.4\", \"failureMessage\": \"\", \"exceptionClass\": \"\", \"trace\": \"\"}}, \"*\")"
      ],
      "text/plain": [
       "<IPython.core.display.Javascript object>"
      ]
     },
     "metadata": {},
     "output_type": "display_data"
    },
    {
     "data": {
      "text/markdown": [
       "<span style=\"color:#33cc33\">Correct</span>"
      ],
      "text/plain": [
       "Correct"
      ]
     },
     "metadata": {},
     "output_type": "display_data"
    }
   ],
   "source": [
    "median_points = reviews['points'].median()\n",
    "print(median_points)\n",
    "# Check your answer\n",
    "q1.check()"
   ]
  },
  {
   "cell_type": "markdown",
   "id": "fitted-industry",
   "metadata": {
    "papermill": {
     "duration": 0.018307,
     "end_time": "2021-04-17T23:51:30.871303",
     "exception": false,
     "start_time": "2021-04-17T23:51:30.852996",
     "status": "completed"
    },
    "tags": []
   },
   "source": [
    "## 2. \n",
    "What countries are represented in the dataset? (Your answer should not include any duplicates.)"
   ]
  },
  {
   "cell_type": "code",
   "execution_count": 3,
   "id": "narrative-kingdom",
   "metadata": {
    "execution": {
     "iopub.execute_input": "2021-04-17T23:51:30.928324Z",
     "iopub.status.busy": "2021-04-17T23:51:30.927626Z",
     "iopub.status.idle": "2021-04-17T23:51:30.935404Z",
     "shell.execute_reply": "2021-04-17T23:51:30.934679Z"
    },
    "papermill": {
     "duration": 0.045536,
     "end_time": "2021-04-17T23:51:30.935570",
     "exception": false,
     "start_time": "2021-04-17T23:51:30.890034",
     "status": "completed"
    },
    "tags": []
   },
   "outputs": [
    {
     "name": "stdout",
     "output_type": "stream",
     "text": [
      "['Italy' 'Portugal' 'US' 'Spain' 'France' 'Germany' 'Argentina' 'Chile'\n",
      " 'Australia' 'Austria' 'South Africa' 'New Zealand' 'Israel' 'Hungary'\n",
      " 'Greece' 'Romania' 'Mexico' 'Canada' nan 'Turkey' 'Czech Republic'\n",
      " 'Slovenia' 'Luxembourg' 'Croatia' 'Georgia' 'Uruguay' 'England' 'Lebanon'\n",
      " 'Serbia' 'Brazil' 'Moldova' 'Morocco' 'Peru' 'India' 'Bulgaria' 'Cyprus'\n",
      " 'Armenia' 'Switzerland' 'Bosnia and Herzegovina' 'Ukraine' 'Slovakia'\n",
      " 'Macedonia' 'China' 'Egypt']\n"
     ]
    },
    {
     "data": {
      "application/javascript": [
       "parent.postMessage({\"jupyterEvent\": \"custom.exercise_interaction\", \"data\": {\"outcomeType\": 1, \"valueTowardsCompletion\": 0.14285714285714285, \"interactionType\": 1, \"questionType\": 2, \"questionId\": \"2_UniqueCountries\", \"learnToolsVersion\": \"0.3.4\", \"failureMessage\": \"\", \"exceptionClass\": \"\", \"trace\": \"\"}}, \"*\")"
      ],
      "text/plain": [
       "<IPython.core.display.Javascript object>"
      ]
     },
     "metadata": {},
     "output_type": "display_data"
    },
    {
     "data": {
      "text/markdown": [
       "<span style=\"color:#33cc33\">Correct</span>"
      ],
      "text/plain": [
       "Correct"
      ]
     },
     "metadata": {},
     "output_type": "display_data"
    }
   ],
   "source": [
    "countries = reviews['country'].unique()\n",
    "print(countries)\n",
    "# Check your answer\n",
    "q2.check()"
   ]
  },
  {
   "cell_type": "code",
   "execution_count": 4,
   "id": "wrapped-coast",
   "metadata": {
    "execution": {
     "iopub.execute_input": "2021-04-17T23:51:30.981924Z",
     "iopub.status.busy": "2021-04-17T23:51:30.980962Z",
     "iopub.status.idle": "2021-04-17T23:51:30.984382Z",
     "shell.execute_reply": "2021-04-17T23:51:30.984898Z"
    },
    "papermill": {
     "duration": 0.029013,
     "end_time": "2021-04-17T23:51:30.985079",
     "exception": false,
     "start_time": "2021-04-17T23:51:30.956066",
     "status": "completed"
    },
    "tags": []
   },
   "outputs": [],
   "source": [
    "#q2.hint()\n",
    "#q2.solution()"
   ]
  },
  {
   "cell_type": "markdown",
   "id": "cubic-belle",
   "metadata": {
    "papermill": {
     "duration": 0.020121,
     "end_time": "2021-04-17T23:51:31.025685",
     "exception": false,
     "start_time": "2021-04-17T23:51:31.005564",
     "status": "completed"
    },
    "tags": []
   },
   "source": [
    "## 3.\n",
    "How often does each country appear in the dataset? Create a Series `reviews_per_country` mapping countries to the count of reviews of wines from that country."
   ]
  },
  {
   "cell_type": "code",
   "execution_count": 5,
   "id": "healthy-valentine",
   "metadata": {
    "execution": {
     "iopub.execute_input": "2021-04-17T23:51:31.104341Z",
     "iopub.status.busy": "2021-04-17T23:51:31.101845Z",
     "iopub.status.idle": "2021-04-17T23:51:31.116028Z",
     "shell.execute_reply": "2021-04-17T23:51:31.115475Z"
    },
    "papermill": {
     "duration": 0.069818,
     "end_time": "2021-04-17T23:51:31.116179",
     "exception": false,
     "start_time": "2021-04-17T23:51:31.046361",
     "status": "completed"
    },
    "tags": []
   },
   "outputs": [
    {
     "data": {
      "application/javascript": [
       "parent.postMessage({\"jupyterEvent\": \"custom.exercise_interaction\", \"data\": {\"outcomeType\": 1, \"valueTowardsCompletion\": 0.14285714285714285, \"interactionType\": 1, \"questionType\": 1, \"questionId\": \"3_ReviewsPerCountry\", \"learnToolsVersion\": \"0.3.4\", \"failureMessage\": \"\", \"exceptionClass\": \"\", \"trace\": \"\"}}, \"*\")"
      ],
      "text/plain": [
       "<IPython.core.display.Javascript object>"
      ]
     },
     "metadata": {},
     "output_type": "display_data"
    },
    {
     "data": {
      "text/markdown": [
       "<span style=\"color:#33cc33\">Correct</span>"
      ],
      "text/plain": [
       "Correct"
      ]
     },
     "metadata": {},
     "output_type": "display_data"
    },
    {
     "data": {
      "text/plain": [
       "US          54504\n",
       "France      22093\n",
       "            ...  \n",
       "Egypt           1\n",
       "Slovakia        1\n",
       "Name: country, Length: 43, dtype: int64"
      ]
     },
     "execution_count": 5,
     "metadata": {},
     "output_type": "execute_result"
    }
   ],
   "source": [
    "reviews_per_country = reviews['country'].value_counts()\n",
    "\n",
    "# Check your answer\n",
    "q3.check()\n",
    "reviews_per_country"
   ]
  },
  {
   "cell_type": "code",
   "execution_count": 6,
   "id": "exposed-chester",
   "metadata": {
    "execution": {
     "iopub.execute_input": "2021-04-17T23:51:31.164512Z",
     "iopub.status.busy": "2021-04-17T23:51:31.163830Z",
     "iopub.status.idle": "2021-04-17T23:51:31.165804Z",
     "shell.execute_reply": "2021-04-17T23:51:31.166433Z"
    },
    "papermill": {
     "duration": 0.028411,
     "end_time": "2021-04-17T23:51:31.166607",
     "exception": false,
     "start_time": "2021-04-17T23:51:31.138196",
     "status": "completed"
    },
    "tags": []
   },
   "outputs": [],
   "source": [
    "#q3.hint()\n",
    "#q3.solution()"
   ]
  },
  {
   "cell_type": "markdown",
   "id": "super-newspaper",
   "metadata": {
    "papermill": {
     "duration": 0.021936,
     "end_time": "2021-04-17T23:51:31.210658",
     "exception": false,
     "start_time": "2021-04-17T23:51:31.188722",
     "status": "completed"
    },
    "tags": []
   },
   "source": [
    "## 4.\n",
    "Create variable `centered_price` containing a version of the `price` column with the mean price subtracted.\n",
    "\n",
    "(Note: this 'centering' transformation is a common preprocessing step before applying various machine learning algorithms.) "
   ]
  },
  {
   "cell_type": "code",
   "execution_count": 7,
   "id": "dress-participation",
   "metadata": {
    "execution": {
     "iopub.execute_input": "2021-04-17T23:51:31.260212Z",
     "iopub.status.busy": "2021-04-17T23:51:31.257941Z",
     "iopub.status.idle": "2021-04-17T23:51:31.329952Z",
     "shell.execute_reply": "2021-04-17T23:51:31.330465Z"
    },
    "papermill": {
     "duration": 0.097769,
     "end_time": "2021-04-17T23:51:31.330637",
     "exception": false,
     "start_time": "2021-04-17T23:51:31.232868",
     "status": "completed"
    },
    "tags": []
   },
   "outputs": [
    {
     "data": {
      "application/javascript": [
       "parent.postMessage({\"jupyterEvent\": \"custom.exercise_interaction\", \"data\": {\"outcomeType\": 1, \"valueTowardsCompletion\": 0.14285714285714285, \"interactionType\": 1, \"questionType\": 1, \"questionId\": \"4_CenteredPrice\", \"learnToolsVersion\": \"0.3.4\", \"failureMessage\": \"\", \"exceptionClass\": \"\", \"trace\": \"\"}}, \"*\")"
      ],
      "text/plain": [
       "<IPython.core.display.Javascript object>"
      ]
     },
     "metadata": {},
     "output_type": "display_data"
    },
    {
     "data": {
      "text/markdown": [
       "<span style=\"color:#33cc33\">Correct</span>"
      ],
      "text/plain": [
       "Correct"
      ]
     },
     "metadata": {},
     "output_type": "display_data"
    },
    {
     "data": {
      "text/plain": [
       "0               NaN\n",
       "1        -20.363389\n",
       "            ...    \n",
       "129969    -3.363389\n",
       "129970   -14.363389\n",
       "Name: price, Length: 129971, dtype: float64"
      ]
     },
     "execution_count": 7,
     "metadata": {},
     "output_type": "execute_result"
    }
   ],
   "source": [
    "m=reviews['price'].mean()\n",
    "centered_price = reviews['price'].apply(lambda p: p-m)\n",
    "\n",
    "# Check your answer\n",
    "q4.check()\n",
    "centered_price"
   ]
  },
  {
   "cell_type": "code",
   "execution_count": 8,
   "id": "patient-invite",
   "metadata": {
    "execution": {
     "iopub.execute_input": "2021-04-17T23:51:31.380120Z",
     "iopub.status.busy": "2021-04-17T23:51:31.379521Z",
     "iopub.status.idle": "2021-04-17T23:51:31.382924Z",
     "shell.execute_reply": "2021-04-17T23:51:31.383492Z"
    },
    "papermill": {
     "duration": 0.029841,
     "end_time": "2021-04-17T23:51:31.383665",
     "exception": false,
     "start_time": "2021-04-17T23:51:31.353824",
     "status": "completed"
    },
    "tags": []
   },
   "outputs": [],
   "source": [
    "#q4.hint()\n",
    "#q4.solution()"
   ]
  },
  {
   "cell_type": "markdown",
   "id": "fantastic-career",
   "metadata": {
    "papermill": {
     "duration": 0.022832,
     "end_time": "2021-04-17T23:51:31.429979",
     "exception": false,
     "start_time": "2021-04-17T23:51:31.407147",
     "status": "completed"
    },
    "tags": []
   },
   "source": [
    "## 5.\n",
    "I'm an economical wine buyer. Which wine is the \"best bargain\"? Create a variable `bargain_wine` with the title of the wine with the highest points-to-price ratio in the dataset."
   ]
  },
  {
   "cell_type": "code",
   "execution_count": 9,
   "id": "romantic-property",
   "metadata": {
    "execution": {
     "iopub.execute_input": "2021-04-17T23:51:31.486217Z",
     "iopub.status.busy": "2021-04-17T23:51:31.485413Z",
     "iopub.status.idle": "2021-04-17T23:51:31.501801Z",
     "shell.execute_reply": "2021-04-17T23:51:31.501091Z"
    },
    "papermill": {
     "duration": 0.042648,
     "end_time": "2021-04-17T23:51:31.501946",
     "exception": false,
     "start_time": "2021-04-17T23:51:31.459298",
     "status": "completed"
    },
    "tags": []
   },
   "outputs": [
    {
     "data": {
      "application/javascript": [
       "parent.postMessage({\"jupyterEvent\": \"custom.exercise_interaction\", \"data\": {\"outcomeType\": 1, \"valueTowardsCompletion\": 0.14285714285714285, \"interactionType\": 1, \"questionType\": 2, \"questionId\": \"5_BargainWine\", \"learnToolsVersion\": \"0.3.4\", \"failureMessage\": \"\", \"exceptionClass\": \"\", \"trace\": \"\"}}, \"*\")"
      ],
      "text/plain": [
       "<IPython.core.display.Javascript object>"
      ]
     },
     "metadata": {},
     "output_type": "display_data"
    },
    {
     "data": {
      "text/markdown": [
       "<span style=\"color:#33cc33\">Correct</span>"
      ],
      "text/plain": [
       "Correct"
      ]
     },
     "metadata": {},
     "output_type": "display_data"
    },
    {
     "data": {
      "text/plain": [
       "'Bandit NV Merlot (California)'"
      ]
     },
     "execution_count": 9,
     "metadata": {},
     "output_type": "execute_result"
    }
   ],
   "source": [
    "\n",
    "\n",
    "\n",
    "bargain_wine=reviews.loc[(reviews.points/reviews.price).idxmax(), 'title']\n",
    "# Check your answer\n",
    "q5.check()\n",
    "bargain_wine\n",
    "\n"
   ]
  },
  {
   "cell_type": "code",
   "execution_count": 10,
   "id": "happy-capitol",
   "metadata": {
    "execution": {
     "iopub.execute_input": "2021-04-17T23:51:31.557688Z",
     "iopub.status.busy": "2021-04-17T23:51:31.556649Z",
     "iopub.status.idle": "2021-04-17T23:51:31.559936Z",
     "shell.execute_reply": "2021-04-17T23:51:31.559375Z"
    },
    "papermill": {
     "duration": 0.033015,
     "end_time": "2021-04-17T23:51:31.560078",
     "exception": false,
     "start_time": "2021-04-17T23:51:31.527063",
     "status": "completed"
    },
    "tags": []
   },
   "outputs": [],
   "source": [
    "# q5.hint()\n",
    "# q5.solution()"
   ]
  },
  {
   "cell_type": "markdown",
   "id": "helpful-karaoke",
   "metadata": {
    "papermill": {
     "duration": 0.024385,
     "end_time": "2021-04-17T23:51:31.609676",
     "exception": false,
     "start_time": "2021-04-17T23:51:31.585291",
     "status": "completed"
    },
    "tags": []
   },
   "source": [
    "## 6.\n",
    "There are only so many words you can use when describing a bottle of wine. Is a wine more likely to be \"tropical\" or \"fruity\"? Create a Series `descriptor_counts` counting how many times each of these two words appears in the `description` column in the dataset."
   ]
  },
  {
   "cell_type": "code",
   "execution_count": 11,
   "id": "adolescent-republican",
   "metadata": {
    "execution": {
     "iopub.execute_input": "2021-04-17T23:51:31.672921Z",
     "iopub.status.busy": "2021-04-17T23:51:31.667308Z",
     "iopub.status.idle": "2021-04-17T23:51:31.827949Z",
     "shell.execute_reply": "2021-04-17T23:51:31.827255Z"
    },
    "papermill": {
     "duration": 0.193622,
     "end_time": "2021-04-17T23:51:31.828093",
     "exception": false,
     "start_time": "2021-04-17T23:51:31.634471",
     "status": "completed"
    },
    "tags": []
   },
   "outputs": [
    {
     "data": {
      "application/javascript": [
       "parent.postMessage({\"jupyterEvent\": \"custom.exercise_interaction\", \"data\": {\"outcomeType\": 1, \"valueTowardsCompletion\": 0.14285714285714285, \"interactionType\": 1, \"questionType\": 1, \"questionId\": \"6_DescriptorCounts\", \"learnToolsVersion\": \"0.3.4\", \"failureMessage\": \"\", \"exceptionClass\": \"\", \"trace\": \"\"}}, \"*\")"
      ],
      "text/plain": [
       "<IPython.core.display.Javascript object>"
      ]
     },
     "metadata": {},
     "output_type": "display_data"
    },
    {
     "data": {
      "text/markdown": [
       "<span style=\"color:#33cc33\">Correct</span>"
      ],
      "text/plain": [
       "Correct"
      ]
     },
     "metadata": {},
     "output_type": "display_data"
    },
    {
     "data": {
      "text/plain": [
       "tropical    3607\n",
       "fruity      9090\n",
       "dtype: int64"
      ]
     },
     "execution_count": 11,
     "metadata": {},
     "output_type": "execute_result"
    }
   ],
   "source": [
    "n_trop= reviews.description.map(lambda desc: 'tropical' in desc).sum()\n",
    "n_fruity=reviews.description.map(lambda desc: 'fruity' in desc).sum()\n",
    "descriptor_counts=pd.Series([n_trop,n_fruity],index=['tropical'\n",
    "                                                     ,'fruity'])\n",
    "# Check your answer\n",
    "q6.check()\n",
    "descriptor_counts                                                    \n",
    "            "
   ]
  },
  {
   "cell_type": "code",
   "execution_count": 12,
   "id": "starting-suite",
   "metadata": {
    "execution": {
     "iopub.execute_input": "2021-04-17T23:51:31.885342Z",
     "iopub.status.busy": "2021-04-17T23:51:31.884482Z",
     "iopub.status.idle": "2021-04-17T23:51:31.888930Z",
     "shell.execute_reply": "2021-04-17T23:51:31.888344Z"
    },
    "papermill": {
     "duration": 0.034699,
     "end_time": "2021-04-17T23:51:31.889102",
     "exception": false,
     "start_time": "2021-04-17T23:51:31.854403",
     "status": "completed"
    },
    "tags": []
   },
   "outputs": [],
   "source": [
    "# q6.hint()\n",
    "# q6.solution()"
   ]
  },
  {
   "cell_type": "markdown",
   "id": "killing-wheel",
   "metadata": {
    "papermill": {
     "duration": 0.025927,
     "end_time": "2021-04-17T23:51:31.941681",
     "exception": false,
     "start_time": "2021-04-17T23:51:31.915754",
     "status": "completed"
    },
    "tags": []
   },
   "source": [
    "## 7.\n",
    "We'd like to host these wine reviews on our website, but a rating system ranging from 80 to 100 points is too hard to understand - we'd like to translate them into simple star ratings. A score of 95 or higher counts as 3 stars, a score of at least 85 but less than 95 is 2 stars. Any other score is 1 star.\n",
    "\n",
    "Also, the Canadian Vintners Association bought a lot of ads on the site, so any wines from Canada should automatically get 3 stars, regardless of points.\n",
    "\n",
    "Create a series `star_ratings` with the number of stars corresponding to each review in the dataset."
   ]
  },
  {
   "cell_type": "code",
   "execution_count": 13,
   "id": "vital-arrival",
   "metadata": {
    "execution": {
     "iopub.execute_input": "2021-04-17T23:51:32.001710Z",
     "iopub.status.busy": "2021-04-17T23:51:32.000928Z",
     "iopub.status.idle": "2021-04-17T23:51:34.414698Z",
     "shell.execute_reply": "2021-04-17T23:51:34.415246Z"
    },
    "papermill": {
     "duration": 2.447044,
     "end_time": "2021-04-17T23:51:34.415445",
     "exception": false,
     "start_time": "2021-04-17T23:51:31.968401",
     "status": "completed"
    },
    "tags": []
   },
   "outputs": [
    {
     "data": {
      "application/javascript": [
       "parent.postMessage({\"jupyterEvent\": \"custom.exercise_interaction\", \"data\": {\"outcomeType\": 1, \"valueTowardsCompletion\": 0.14285714285714285, \"interactionType\": 1, \"questionType\": 1, \"questionId\": \"7_StarRatings\", \"learnToolsVersion\": \"0.3.4\", \"failureMessage\": \"\", \"exceptionClass\": \"\", \"trace\": \"\"}}, \"*\")"
      ],
      "text/plain": [
       "<IPython.core.display.Javascript object>"
      ]
     },
     "metadata": {},
     "output_type": "display_data"
    },
    {
     "data": {
      "text/markdown": [
       "<span style=\"color:#33cc33\">Correct</span>"
      ],
      "text/plain": [
       "Correct"
      ]
     },
     "metadata": {},
     "output_type": "display_data"
    },
    {
     "data": {
      "text/plain": [
       "0         2\n",
       "1         2\n",
       "         ..\n",
       "129969    2\n",
       "129970    2\n",
       "Length: 129971, dtype: int64"
      ]
     },
     "execution_count": 13,
     "metadata": {},
     "output_type": "execute_result"
    }
   ],
   "source": [
    "def stars(a,b):\n",
    "    n=0\n",
    "    \n",
    "    if a==\"Canada\":\n",
    "        n=3\n",
    "    elif b>=95:\n",
    "        n=3\n",
    "    elif b>=85:\n",
    "        n=2\n",
    "    else : \n",
    "        n=1\n",
    "    return n\n",
    "\n",
    "star_ratings = reviews.apply(lambda t : stars(t['country'],t['points']), axis=1)\n",
    "\n",
    "# Check your answer\n",
    "q7.check()\n",
    "star_ratings"
   ]
  },
  {
   "cell_type": "code",
   "execution_count": 14,
   "id": "decimal-highland",
   "metadata": {
    "execution": {
     "iopub.execute_input": "2021-04-17T23:51:34.496073Z",
     "iopub.status.busy": "2021-04-17T23:51:34.494999Z",
     "iopub.status.idle": "2021-04-17T23:51:34.502381Z",
     "shell.execute_reply": "2021-04-17T23:51:34.501421Z"
    },
    "papermill": {
     "duration": 0.056944,
     "end_time": "2021-04-17T23:51:34.502631",
     "exception": false,
     "start_time": "2021-04-17T23:51:34.445687",
     "status": "completed"
    },
    "tags": []
   },
   "outputs": [],
   "source": [
    "# q7.hint()\n",
    "# q7.solution()"
   ]
  },
  {
   "cell_type": "markdown",
   "id": "bridal-undergraduate",
   "metadata": {
    "papermill": {
     "duration": 0.032797,
     "end_time": "2021-04-17T23:51:34.574124",
     "exception": false,
     "start_time": "2021-04-17T23:51:34.541327",
     "status": "completed"
    },
    "tags": []
   },
   "source": [
    "# Keep going\n",
    "Continue to **[grouping and sorting](https://www.kaggle.com/residentmario/grouping-and-sorting)**."
   ]
  },
  {
   "cell_type": "markdown",
   "id": "excess-mission",
   "metadata": {
    "papermill": {
     "duration": 0.0281,
     "end_time": "2021-04-17T23:51:34.630813",
     "exception": false,
     "start_time": "2021-04-17T23:51:34.602713",
     "status": "completed"
    },
    "tags": []
   },
   "source": [
    "---\n",
    "\n",
    "\n",
    "\n",
    "\n",
    "*Have questions or comments? Visit the [Learn Discussion forum](https://www.kaggle.com/learn-forum/161299) to chat with other Learners.*"
   ]
  },
  {
   "cell_type": "markdown",
   "id": "sixth-defendant",
   "metadata": {
    "papermill": {
     "duration": 0.027663,
     "end_time": "2021-04-17T23:51:34.687097",
     "exception": false,
     "start_time": "2021-04-17T23:51:34.659434",
     "status": "completed"
    },
    "tags": []
   },
   "source": [
    "### Desde poludniowy albanczyk"
   ]
  }
 ],
 "metadata": {
  "kernelspec": {
   "display_name": "Python 3",
   "language": "python",
   "name": "python3"
  },
  "language_info": {
   "codemirror_mode": {
    "name": "ipython",
    "version": 3
   },
   "file_extension": ".py",
   "mimetype": "text/x-python",
   "name": "python",
   "nbconvert_exporter": "python",
   "pygments_lexer": "ipython3",
   "version": "3.7.9"
  },
  "papermill": {
   "default_parameters": {},
   "duration": 20.020685,
   "end_time": "2021-04-17T23:51:35.325579",
   "environment_variables": {},
   "exception": null,
   "input_path": "__notebook__.ipynb",
   "output_path": "__notebook__.ipynb",
   "parameters": {},
   "start_time": "2021-04-17T23:51:15.304894",
   "version": "2.3.2"
  }
 },
 "nbformat": 4,
 "nbformat_minor": 5
}
