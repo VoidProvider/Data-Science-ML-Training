{
 "cells": [
  {
   "cell_type": "markdown",
   "id": "79be30be",
   "metadata": {
    "papermill": {
     "duration": 0.013334,
     "end_time": "2022-03-29T00:21:43.866979",
     "exception": false,
     "start_time": "2022-03-29T00:21:43.853645",
     "status": "completed"
    },
    "tags": []
   },
   "source": [
    "**This notebook is an exercise in the [Introduction to Machine Learning](https://www.kaggle.com/learn/intro-to-machine-learning) course.  You can reference the tutorial at [this link](https://www.kaggle.com/dansbecker/underfitting-and-overfitting).**\n",
    "\n",
    "---\n"
   ]
  },
  {
   "cell_type": "markdown",
   "id": "3b812a3b",
   "metadata": {
    "papermill": {
     "duration": 0.008538,
     "end_time": "2022-03-29T00:21:43.887085",
     "exception": false,
     "start_time": "2022-03-29T00:21:43.878547",
     "status": "completed"
    },
    "tags": []
   },
   "source": [
    "## Recap\n",
    "You've built your first model, and now it's time to optimize the size of the tree to make better predictions. Run this cell to set up your coding environment where the previous step left off."
   ]
  },
  {
   "cell_type": "code",
   "execution_count": 1,
   "id": "7e7f993b",
   "metadata": {
    "execution": {
     "iopub.execute_input": "2022-03-29T00:21:43.914499Z",
     "iopub.status.busy": "2022-03-29T00:21:43.912611Z",
     "iopub.status.idle": "2022-03-29T00:21:45.363612Z",
     "shell.execute_reply": "2022-03-29T00:21:45.364242Z",
     "shell.execute_reply.started": "2022-03-28T23:55:44.117920Z"
    },
    "papermill": {
     "duration": 1.46829,
     "end_time": "2022-03-29T00:21:45.364545",
     "exception": false,
     "start_time": "2022-03-29T00:21:43.896255",
     "status": "completed"
    },
    "tags": []
   },
   "outputs": [
    {
     "name": "stdout",
     "output_type": "stream",
     "text": [
      "Validation MAE: 29,653\n",
      "\n",
      "Setup complete\n"
     ]
    }
   ],
   "source": [
    "# Code you have previously used to load data\n",
    "import pandas as pd\n",
    "from sklearn.metrics import mean_absolute_error\n",
    "from sklearn.model_selection import train_test_split\n",
    "from sklearn.tree import DecisionTreeRegressor\n",
    "\n",
    "\n",
    "# Path of the file to read\n",
    "iowa_file_path = '../input/home-data-for-ml-course/train.csv'\n",
    "\n",
    "home_data = pd.read_csv(iowa_file_path)\n",
    "# Create target object and call it y\n",
    "y = home_data.SalePrice\n",
    "# Create X\n",
    "features = ['LotArea', 'YearBuilt', '1stFlrSF', '2ndFlrSF', 'FullBath', 'BedroomAbvGr', 'TotRmsAbvGrd']\n",
    "X = home_data[features]\n",
    "\n",
    "# Split into validation and training data\n",
    "train_X, val_X, train_y, val_y = train_test_split(X, y, random_state=1)\n",
    "\n",
    "# Specify Model\n",
    "iowa_model = DecisionTreeRegressor(random_state=1)\n",
    "# Fit Model\n",
    "iowa_model.fit(train_X, train_y)\n",
    "\n",
    "# Make validation predictions and calculate mean absolute error\n",
    "val_predictions = iowa_model.predict(val_X)\n",
    "val_mae = mean_absolute_error(val_predictions, val_y)\n",
    "print(\"Validation MAE: {:,.0f}\".format(val_mae))\n",
    "\n",
    "# Set up code checking\n",
    "from learntools.core import binder\n",
    "binder.bind(globals())\n",
    "from learntools.machine_learning.ex5 import *\n",
    "print(\"\\nSetup complete\")"
   ]
  },
  {
   "cell_type": "markdown",
   "id": "0886da3a",
   "metadata": {
    "papermill": {
     "duration": 0.008919,
     "end_time": "2022-03-29T00:21:45.382840",
     "exception": false,
     "start_time": "2022-03-29T00:21:45.373921",
     "status": "completed"
    },
    "tags": []
   },
   "source": [
    "# Exercises\n",
    "You could write the function `get_mae` yourself. For now, we'll supply it. This is the same function you read about in the previous lesson. Just run the cell below."
   ]
  },
  {
   "cell_type": "code",
   "execution_count": 2,
   "id": "72607e3b",
   "metadata": {
    "execution": {
     "iopub.execute_input": "2022-03-29T00:21:45.407483Z",
     "iopub.status.busy": "2022-03-29T00:21:45.404242Z",
     "iopub.status.idle": "2022-03-29T00:21:45.409609Z",
     "shell.execute_reply": "2022-03-29T00:21:45.410097Z",
     "shell.execute_reply.started": "2022-03-28T23:56:15.580332Z"
    },
    "papermill": {
     "duration": 0.01818,
     "end_time": "2022-03-29T00:21:45.410287",
     "exception": false,
     "start_time": "2022-03-29T00:21:45.392107",
     "status": "completed"
    },
    "tags": []
   },
   "outputs": [],
   "source": [
    "def get_mae(max_leaf_nodes, train_X, val_X, train_y, val_y):\n",
    "    model = DecisionTreeRegressor(max_leaf_nodes=max_leaf_nodes, random_state=0)\n",
    "    model.fit(train_X, train_y)\n",
    "    preds_val = model.predict(val_X)\n",
    "    mae = mean_absolute_error(val_y, preds_val)\n",
    "    return(mae)"
   ]
  },
  {
   "cell_type": "markdown",
   "id": "42b49fe1",
   "metadata": {
    "papermill": {
     "duration": 0.008734,
     "end_time": "2022-03-29T00:21:45.428067",
     "exception": false,
     "start_time": "2022-03-29T00:21:45.419333",
     "status": "completed"
    },
    "tags": []
   },
   "source": [
    "## Step 1: Compare Different Tree Sizes\n",
    "Write a loop that tries the following values for *max_leaf_nodes* from a set of possible values.\n",
    "\n",
    "Call the *get_mae* function on each value of max_leaf_nodes. Store the output in some way that allows you to select the value of `max_leaf_nodes` that gives the most accurate model on your data."
   ]
  },
  {
   "cell_type": "code",
   "execution_count": 3,
   "id": "12348cac",
   "metadata": {
    "execution": {
     "iopub.execute_input": "2022-03-29T00:21:45.449804Z",
     "iopub.status.busy": "2022-03-29T00:21:45.449115Z",
     "iopub.status.idle": "2022-03-29T00:21:45.499507Z",
     "shell.execute_reply": "2022-03-29T00:21:45.498909Z",
     "shell.execute_reply.started": "2022-03-29T00:17:18.032261Z"
    },
    "papermill": {
     "duration": 0.062421,
     "end_time": "2022-03-29T00:21:45.499651",
     "exception": false,
     "start_time": "2022-03-29T00:21:45.437230",
     "status": "completed"
    },
    "tags": []
   },
   "outputs": [
    {
     "data": {
      "application/javascript": [
       "parent.postMessage({\"jupyterEvent\": \"custom.exercise_interaction\", \"data\": {\"outcomeType\": 1, \"valueTowardsCompletion\": 0.5, \"interactionType\": 1, \"questionType\": 1, \"questionId\": \"1_BestTreeSize\", \"learnToolsVersion\": \"0.3.4\", \"failureMessage\": \"\", \"exceptionClass\": \"\", \"trace\": \"\"}}, \"*\")"
      ],
      "text/plain": [
       "<IPython.core.display.Javascript object>"
      ]
     },
     "metadata": {},
     "output_type": "display_data"
    },
    {
     "data": {
      "text/markdown": [
       "<span style=\"color:#33cc33\">Correct</span>"
      ],
      "text/plain": [
       "Correct"
      ]
     },
     "metadata": {},
     "output_type": "display_data"
    }
   ],
   "source": [
    "candidate_max_leaf_nodes = [5, 25, 50, 100, 250, 500]\n",
    "# Write loop to find the ideal tree size from candidate_max_leaf_nodes\n",
    "hmap={}\n",
    "for max_leaf_nodes in candidate_max_leaf_nodes:\n",
    "    hmap[max_leaf_nodes]=get_mae(max_leaf_nodes, train_X, val_X, train_y, val_y)\n",
    "\n",
    "# Store the best value of max_leaf_nodes (it will be either 5, 25, 50, 100, 250 or 500)\n",
    "best_tree_size = min(hmap,key=hmap.get)\n",
    "\n",
    "# Check your answer\n",
    "step_1.check()"
   ]
  },
  {
   "cell_type": "markdown",
   "id": "c19b4611",
   "metadata": {
    "papermill": {
     "duration": 0.009942,
     "end_time": "2022-03-29T00:21:45.520010",
     "exception": false,
     "start_time": "2022-03-29T00:21:45.510068",
     "status": "completed"
    },
    "tags": []
   },
   "source": [
    "## Step 2: Fit Model Using All Data\n",
    "You know the best tree size. If you were going to deploy this model in practice, you would make it even more accurate by using all of the data and keeping that tree size.  That is, you don't need to hold out the validation data now that you've made all your modeling decisions."
   ]
  },
  {
   "cell_type": "code",
   "execution_count": 4,
   "id": "d7b2b593",
   "metadata": {
    "execution": {
     "iopub.execute_input": "2022-03-29T00:21:45.547040Z",
     "iopub.status.busy": "2022-03-29T00:21:45.545952Z",
     "iopub.status.idle": "2022-03-29T00:21:45.562816Z",
     "shell.execute_reply": "2022-03-29T00:21:45.562057Z",
     "shell.execute_reply.started": "2022-03-29T00:21:03.734613Z"
    },
    "papermill": {
     "duration": 0.031517,
     "end_time": "2022-03-29T00:21:45.562981",
     "exception": false,
     "start_time": "2022-03-29T00:21:45.531464",
     "status": "completed"
    },
    "tags": []
   },
   "outputs": [
    {
     "data": {
      "application/javascript": [
       "parent.postMessage({\"jupyterEvent\": \"custom.exercise_interaction\", \"data\": {\"outcomeType\": 1, \"valueTowardsCompletion\": 0.5, \"interactionType\": 1, \"questionType\": 2, \"questionId\": \"2_FitModelWithAllData\", \"learnToolsVersion\": \"0.3.4\", \"failureMessage\": \"\", \"exceptionClass\": \"\", \"trace\": \"\"}}, \"*\")"
      ],
      "text/plain": [
       "<IPython.core.display.Javascript object>"
      ]
     },
     "metadata": {},
     "output_type": "display_data"
    },
    {
     "data": {
      "text/markdown": [
       "<span style=\"color:#33cc33\">Correct</span>"
      ],
      "text/plain": [
       "Correct"
      ]
     },
     "metadata": {},
     "output_type": "display_data"
    }
   ],
   "source": [
    "final_model = DecisionTreeRegressor(max_leaf_nodes=best_tree_size, random_state=0)\n",
    "\n",
    "final_model.fit(X,y)\n",
    "\n",
    "# Check your answer\n",
    "step_2.check()"
   ]
  }
 ],
 "metadata": {
  "kernelspec": {
   "display_name": "Python 3",
   "language": "python",
   "name": "python3"
  },
  "language_info": {
   "codemirror_mode": {
    "name": "ipython",
    "version": 3
   },
   "file_extension": ".py",
   "mimetype": "text/x-python",
   "name": "python",
   "nbconvert_exporter": "python",
   "pygments_lexer": "ipython3",
   "version": "3.7.12"
  },
  "papermill": {
   "default_parameters": {},
   "duration": 12.988648,
   "end_time": "2022-03-29T00:21:46.286600",
   "environment_variables": {},
   "exception": null,
   "input_path": "__notebook__.ipynb",
   "output_path": "__notebook__.ipynb",
   "parameters": {},
   "start_time": "2022-03-29T00:21:33.297952",
   "version": "2.3.3"
  }
 },
 "nbformat": 4,
 "nbformat_minor": 5
}
