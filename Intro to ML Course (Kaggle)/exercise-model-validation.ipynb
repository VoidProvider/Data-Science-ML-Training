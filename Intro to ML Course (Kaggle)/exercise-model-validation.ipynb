{
 "cells": [
  {
   "cell_type": "markdown",
   "id": "4b92bc03",
   "metadata": {
    "papermill": {
     "duration": 0.009298,
     "end_time": "2022-03-28T23:33:55.406984",
     "exception": false,
     "start_time": "2022-03-28T23:33:55.397686",
     "status": "completed"
    },
    "tags": []
   },
   "source": [
    "**This notebook is an exercise in the [Introduction to Machine Learning](https://www.kaggle.com/learn/intro-to-machine-learning) course.  You can reference the tutorial at [this link](https://www.kaggle.com/dansbecker/model-validation).**\n",
    "\n",
    "---\n"
   ]
  },
  {
   "cell_type": "markdown",
   "id": "1546cba0",
   "metadata": {
    "papermill": {
     "duration": 0.00822,
     "end_time": "2022-03-28T23:33:55.425932",
     "exception": false,
     "start_time": "2022-03-28T23:33:55.417712",
     "status": "completed"
    },
    "tags": []
   },
   "source": [
    "## Recap\n",
    "You've built a model. In this exercise you will test how good your model is.\n",
    "\n",
    "Run the cell below to set up your coding environment where the previous exercise left off."
   ]
  },
  {
   "cell_type": "code",
   "execution_count": 1,
   "id": "03610bd9",
   "metadata": {
    "execution": {
     "iopub.execute_input": "2022-03-28T23:33:55.452039Z",
     "iopub.status.busy": "2022-03-28T23:33:55.450973Z",
     "iopub.status.idle": "2022-03-28T23:33:56.586995Z",
     "shell.execute_reply": "2022-03-28T23:33:56.587542Z",
     "shell.execute_reply.started": "2022-03-28T23:22:35.899822Z"
    },
    "papermill": {
     "duration": 1.153255,
     "end_time": "2022-03-28T23:33:56.587843",
     "exception": false,
     "start_time": "2022-03-28T23:33:55.434588",
     "status": "completed"
    },
    "tags": []
   },
   "outputs": [
    {
     "name": "stdout",
     "output_type": "stream",
     "text": [
      "First in-sample predictions: [208500. 181500. 223500. 140000. 250000.]\n",
      "Actual target values for those homes: [208500, 181500, 223500, 140000, 250000]\n",
      "Setup Complete\n"
     ]
    }
   ],
   "source": [
    "# Code you have previously used to load data\n",
    "import pandas as pd\n",
    "from sklearn.tree import DecisionTreeRegressor\n",
    "\n",
    "# Path of the file to read\n",
    "iowa_file_path = '../input/home-data-for-ml-course/train.csv'\n",
    "\n",
    "home_data = pd.read_csv(iowa_file_path)\n",
    "y = home_data.SalePrice\n",
    "feature_columns = ['LotArea', 'YearBuilt', '1stFlrSF', '2ndFlrSF', 'FullBath', 'BedroomAbvGr', 'TotRmsAbvGrd']\n",
    "X = home_data[feature_columns]\n",
    "\n",
    "# Specify Model\n",
    "iowa_model = DecisionTreeRegressor()\n",
    "# Fit Model\n",
    "iowa_model.fit(X, y)\n",
    "\n",
    "print(\"First in-sample predictions:\", iowa_model.predict(X.head()))\n",
    "print(\"Actual target values for those homes:\", y.head().tolist())\n",
    "\n",
    "# Set up code checking\n",
    "from learntools.core import binder\n",
    "binder.bind(globals())\n",
    "from learntools.machine_learning.ex4 import *\n",
    "print(\"Setup Complete\")"
   ]
  },
  {
   "cell_type": "markdown",
   "id": "2f1043f1",
   "metadata": {
    "papermill": {
     "duration": 0.008314,
     "end_time": "2022-03-28T23:33:56.605137",
     "exception": false,
     "start_time": "2022-03-28T23:33:56.596823",
     "status": "completed"
    },
    "tags": []
   },
   "source": [
    "# Exercises\n",
    "\n",
    "## Step 1: Split Your Data\n",
    "Use the `train_test_split` function to split up your data.\n",
    "\n",
    "Give it the argument `random_state=1` so the `check` functions know what to expect when verifying your code.\n",
    "\n",
    "Recall, your features are loaded in the DataFrame **X** and your target is loaded in **y**.\n"
   ]
  },
  {
   "cell_type": "code",
   "execution_count": 2,
   "id": "ade43c31",
   "metadata": {
    "execution": {
     "iopub.execute_input": "2022-03-28T23:33:56.625229Z",
     "iopub.status.busy": "2022-03-28T23:33:56.624687Z",
     "iopub.status.idle": "2022-03-28T23:33:56.636421Z",
     "shell.execute_reply": "2022-03-28T23:33:56.635997Z",
     "shell.execute_reply.started": "2022-03-28T23:25:43.810668Z"
    },
    "papermill": {
     "duration": 0.022845,
     "end_time": "2022-03-28T23:33:56.636572",
     "exception": false,
     "start_time": "2022-03-28T23:33:56.613727",
     "status": "completed"
    },
    "tags": []
   },
   "outputs": [
    {
     "data": {
      "application/javascript": [
       "parent.postMessage({\"jupyterEvent\": \"custom.exercise_interaction\", \"data\": {\"outcomeType\": 1, \"valueTowardsCompletion\": 0.25, \"interactionType\": 1, \"questionType\": 2, \"questionId\": \"1_SplitData\", \"learnToolsVersion\": \"0.3.4\", \"failureMessage\": \"\", \"exceptionClass\": \"\", \"trace\": \"\"}}, \"*\")"
      ],
      "text/plain": [
       "<IPython.core.display.Javascript object>"
      ]
     },
     "metadata": {},
     "output_type": "display_data"
    },
    {
     "data": {
      "text/markdown": [
       "<span style=\"color:#33cc33\">Correct</span>"
      ],
      "text/plain": [
       "Correct"
      ]
     },
     "metadata": {},
     "output_type": "display_data"
    }
   ],
   "source": [
    "# Import the train_test_split function and uncomment\n",
    "from sklearn.model_selection import train_test_split\n",
    "\n",
    "# fill in and uncomment\n",
    "train_X, val_X, train_y, val_y = train_test_split(X,y, random_state=1)\n",
    "# Check your answer\n",
    "step_1.check()"
   ]
  },
  {
   "cell_type": "markdown",
   "id": "52172229",
   "metadata": {
    "papermill": {
     "duration": 0.00933,
     "end_time": "2022-03-28T23:33:56.655703",
     "exception": false,
     "start_time": "2022-03-28T23:33:56.646373",
     "status": "completed"
    },
    "tags": []
   },
   "source": [
    "## Step 2: Specify and Fit the Model\n",
    "\n",
    "Create a `DecisionTreeRegressor` model and fit it to the relevant data.\n",
    "Set `random_state` to 1 again when creating the model."
   ]
  },
  {
   "cell_type": "code",
   "execution_count": 3,
   "id": "9dd68b76",
   "metadata": {
    "execution": {
     "iopub.execute_input": "2022-03-28T23:33:56.677690Z",
     "iopub.status.busy": "2022-03-28T23:33:56.677126Z",
     "iopub.status.idle": "2022-03-28T23:33:56.701191Z",
     "shell.execute_reply": "2022-03-28T23:33:56.701745Z",
     "shell.execute_reply.started": "2022-03-28T23:27:58.967780Z"
    },
    "papermill": {
     "duration": 0.036565,
     "end_time": "2022-03-28T23:33:56.701917",
     "exception": false,
     "start_time": "2022-03-28T23:33:56.665352",
     "status": "completed"
    },
    "tags": []
   },
   "outputs": [
    {
     "name": "stdout",
     "output_type": "stream",
     "text": [
      "[186500. 184000. 130000.  92000. 164500. 220000. 335000. 144152. 215000.\n",
      " 262000.]\n",
      "[186500. 184000. 130000.  92000. 164500. 220000. 335000. 144152. 215000.\n",
      " 262000.]\n"
     ]
    },
    {
     "data": {
      "application/javascript": [
       "parent.postMessage({\"jupyterEvent\": \"custom.exercise_interaction\", \"data\": {\"outcomeType\": 1, \"valueTowardsCompletion\": 0.25, \"interactionType\": 1, \"questionType\": 2, \"questionId\": \"2_FitModelWithTrain\", \"learnToolsVersion\": \"0.3.4\", \"failureMessage\": \"\", \"exceptionClass\": \"\", \"trace\": \"\"}}, \"*\")"
      ],
      "text/plain": [
       "<IPython.core.display.Javascript object>"
      ]
     },
     "metadata": {},
     "output_type": "display_data"
    },
    {
     "data": {
      "text/markdown": [
       "<span style=\"color:#33cc33\">Correct</span>"
      ],
      "text/plain": [
       "Correct"
      ]
     },
     "metadata": {},
     "output_type": "display_data"
    }
   ],
   "source": [
    "from sklearn.tree import DecisionTreeRegressor\n",
    "\n",
    "# Specify the model\n",
    "iowa_model = DecisionTreeRegressor(random_state=1)\n",
    "\n",
    "# Fit iowa_model with the training data.\n",
    "iowa_model.fit(train_X,train_y)\n",
    "\n",
    "# Check your answer\n",
    "step_2.check()"
   ]
  },
  {
   "cell_type": "markdown",
   "id": "051719b3",
   "metadata": {
    "papermill": {
     "duration": 0.010487,
     "end_time": "2022-03-28T23:33:56.723271",
     "exception": false,
     "start_time": "2022-03-28T23:33:56.712784",
     "status": "completed"
    },
    "tags": []
   },
   "source": [
    "## Step 3: Make Predictions with Validation data\n"
   ]
  },
  {
   "cell_type": "code",
   "execution_count": 4,
   "id": "e8ada182",
   "metadata": {
    "execution": {
     "iopub.execute_input": "2022-03-28T23:33:56.747617Z",
     "iopub.status.busy": "2022-03-28T23:33:56.747002Z",
     "iopub.status.idle": "2022-03-28T23:33:56.760307Z",
     "shell.execute_reply": "2022-03-28T23:33:56.760787Z",
     "shell.execute_reply.started": "2022-03-28T23:29:15.391006Z"
    },
    "papermill": {
     "duration": 0.027,
     "end_time": "2022-03-28T23:33:56.760950",
     "exception": false,
     "start_time": "2022-03-28T23:33:56.733950",
     "status": "completed"
    },
    "tags": []
   },
   "outputs": [
    {
     "data": {
      "application/javascript": [
       "parent.postMessage({\"jupyterEvent\": \"custom.exercise_interaction\", \"data\": {\"outcomeType\": 1, \"valueTowardsCompletion\": 0.25, \"interactionType\": 1, \"questionType\": 2, \"questionId\": \"3_ValPreds\", \"learnToolsVersion\": \"0.3.4\", \"failureMessage\": \"\", \"exceptionClass\": \"\", \"trace\": \"\"}}, \"*\")"
      ],
      "text/plain": [
       "<IPython.core.display.Javascript object>"
      ]
     },
     "metadata": {},
     "output_type": "display_data"
    },
    {
     "data": {
      "text/markdown": [
       "<span style=\"color:#33cc33\">Correct</span>"
      ],
      "text/plain": [
       "Correct"
      ]
     },
     "metadata": {},
     "output_type": "display_data"
    }
   ],
   "source": [
    "# Predict with all validation observations\n",
    "val_predictions = iowa_model.predict(val_X)\n",
    "\n",
    "# Check your answer\n",
    "step_3.check()"
   ]
  },
  {
   "cell_type": "markdown",
   "id": "bd28deb8",
   "metadata": {
    "papermill": {
     "duration": 0.015741,
     "end_time": "2022-03-28T23:33:56.791528",
     "exception": false,
     "start_time": "2022-03-28T23:33:56.775787",
     "status": "completed"
    },
    "tags": []
   },
   "source": [
    "Inspect your predictions and actual values from validation data."
   ]
  },
  {
   "cell_type": "code",
   "execution_count": 5,
   "id": "2c90fa20",
   "metadata": {
    "execution": {
     "iopub.execute_input": "2022-03-28T23:33:56.831160Z",
     "iopub.status.busy": "2022-03-28T23:33:56.829990Z",
     "iopub.status.idle": "2022-03-28T23:33:56.836957Z",
     "shell.execute_reply": "2022-03-28T23:33:56.837458Z",
     "shell.execute_reply.started": "2022-03-28T23:31:11.945536Z"
    },
    "papermill": {
     "duration": 0.028719,
     "end_time": "2022-03-28T23:33:56.837656",
     "exception": false,
     "start_time": "2022-03-28T23:33:56.808937",
     "status": "completed"
    },
    "tags": []
   },
   "outputs": [
    {
     "name": "stdout",
     "output_type": "stream",
     "text": [
      "[186500. 184000. 130000.  92000. 164500.]\n",
      "258     231500\n",
      "267     179500\n",
      "288     122000\n",
      "649      84500\n",
      "1233    142000\n",
      "Name: SalePrice, dtype: int64\n"
     ]
    }
   ],
   "source": [
    "# print the top few validation predictions\n",
    "print(val_predictions[:5])\n",
    "# print the top few actual prices from validation data\n",
    "print(val_y[:5])"
   ]
  },
  {
   "cell_type": "markdown",
   "id": "efae28eb",
   "metadata": {
    "papermill": {
     "duration": 0.012518,
     "end_time": "2022-03-28T23:33:56.862904",
     "exception": false,
     "start_time": "2022-03-28T23:33:56.850386",
     "status": "completed"
    },
    "tags": []
   },
   "source": [
    "\n",
    "\n",
    "## Step 4: Calculate the Mean Absolute Error in Validation Data\n"
   ]
  },
  {
   "cell_type": "code",
   "execution_count": 6,
   "id": "20e6455f",
   "metadata": {
    "execution": {
     "iopub.execute_input": "2022-03-28T23:33:56.890577Z",
     "iopub.status.busy": "2022-03-28T23:33:56.889970Z",
     "iopub.status.idle": "2022-03-28T23:33:56.898601Z",
     "shell.execute_reply": "2022-03-28T23:33:56.899047Z",
     "shell.execute_reply.started": "2022-03-28T23:32:51.447818Z"
    },
    "papermill": {
     "duration": 0.023982,
     "end_time": "2022-03-28T23:33:56.899211",
     "exception": false,
     "start_time": "2022-03-28T23:33:56.875229",
     "status": "completed"
    },
    "tags": []
   },
   "outputs": [
    {
     "name": "stdout",
     "output_type": "stream",
     "text": [
      "29652.931506849316\n"
     ]
    },
    {
     "data": {
      "application/javascript": [
       "parent.postMessage({\"jupyterEvent\": \"custom.exercise_interaction\", \"data\": {\"outcomeType\": 1, \"valueTowardsCompletion\": 0.25, \"interactionType\": 1, \"questionType\": 1, \"questionId\": \"4_MAE\", \"learnToolsVersion\": \"0.3.4\", \"failureMessage\": \"\", \"exceptionClass\": \"\", \"trace\": \"\"}}, \"*\")"
      ],
      "text/plain": [
       "<IPython.core.display.Javascript object>"
      ]
     },
     "metadata": {},
     "output_type": "display_data"
    },
    {
     "data": {
      "text/markdown": [
       "<span style=\"color:#33cc33\">Correct</span>"
      ],
      "text/plain": [
       "Correct"
      ]
     },
     "metadata": {},
     "output_type": "display_data"
    }
   ],
   "source": [
    "from sklearn.metrics import mean_absolute_error\n",
    "val_mae = mean_absolute_error(val_y, val_predictions)\n",
    "\n",
    "print(val_mae)\n",
    "\n",
    "# Check your answer\n",
    "step_4.check()"
   ]
  }
 ],
 "metadata": {
  "kernelspec": {
   "display_name": "Python 3",
   "language": "python",
   "name": "python3"
  },
  "language_info": {
   "codemirror_mode": {
    "name": "ipython",
    "version": 3
   },
   "file_extension": ".py",
   "mimetype": "text/x-python",
   "name": "python",
   "nbconvert_exporter": "python",
   "pygments_lexer": "ipython3",
   "version": "3.7.12"
  },
  "papermill": {
   "default_parameters": {},
   "duration": 9.997525,
   "end_time": "2022-03-28T23:33:57.523286",
   "environment_variables": {},
   "exception": null,
   "input_path": "__notebook__.ipynb",
   "output_path": "__notebook__.ipynb",
   "parameters": {},
   "start_time": "2022-03-28T23:33:47.525761",
   "version": "2.3.3"
  }
 },
 "nbformat": 4,
 "nbformat_minor": 5
}
