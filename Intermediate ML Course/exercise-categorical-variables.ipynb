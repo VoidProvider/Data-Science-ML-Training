{
 "cells": [
  {
   "cell_type": "markdown",
   "id": "36bd0ca6",
   "metadata": {
    "papermill": {
     "duration": 0.012107,
     "end_time": "2024-03-23T22:01:08.417170",
     "exception": false,
     "start_time": "2024-03-23T22:01:08.405063",
     "status": "completed"
    },
    "tags": []
   },
   "source": [
    "**This notebook is an exercise in the [Intermediate Machine Learning](https://www.kaggle.com/learn/intermediate-machine-learning) course.  You can reference the tutorial at [this link](https://www.kaggle.com/alexisbcook/categorical-variables).**\n",
    "\n",
    "---\n"
   ]
  },
  {
   "cell_type": "markdown",
   "id": "dc30ab38",
   "metadata": {
    "papermill": {
     "duration": 0.011637,
     "end_time": "2024-03-23T22:01:08.440543",
     "exception": false,
     "start_time": "2024-03-23T22:01:08.428906",
     "status": "completed"
    },
    "tags": []
   },
   "source": [
    "By encoding **categorical variables**, we'll obtain your best results thus far!\n",
    "\n",
    "# Setup\n",
    "\n",
    "The questions below will give you feedback on your work. Run the following cell to set up the feedback system."
   ]
  },
  {
   "cell_type": "code",
   "execution_count": 1,
   "id": "42750b45",
   "metadata": {
    "execution": {
     "iopub.execute_input": "2024-03-23T22:01:08.465835Z",
     "iopub.status.busy": "2024-03-23T22:01:08.465360Z",
     "iopub.status.idle": "2024-03-23T22:01:09.616868Z",
     "shell.execute_reply": "2024-03-23T22:01:09.615327Z"
    },
    "papermill": {
     "duration": 1.168093,
     "end_time": "2024-03-23T22:01:09.620529",
     "exception": false,
     "start_time": "2024-03-23T22:01:08.452436",
     "status": "completed"
    },
    "tags": []
   },
   "outputs": [
    {
     "name": "stdout",
     "output_type": "stream",
     "text": [
      "Setup Complete\n"
     ]
    }
   ],
   "source": [
    "# Set up code checking\n",
    "import os\n",
    "if not os.path.exists(\"../input/train.csv\"):\n",
    "    os.symlink(\"../input/home-data-for-ml-course/train.csv\", \"../input/train.csv\")  \n",
    "    os.symlink(\"../input/home-data-for-ml-course/test.csv\", \"../input/test.csv\") \n",
    "from learntools.core import binder\n",
    "binder.bind(globals())\n",
    "from learntools.ml_intermediate.ex3 import *\n",
    "print(\"Setup Complete\")"
   ]
  },
  {
   "cell_type": "markdown",
   "id": "15dfea09",
   "metadata": {
    "papermill": {
     "duration": 0.010757,
     "end_time": "2024-03-23T22:01:09.642748",
     "exception": false,
     "start_time": "2024-03-23T22:01:09.631991",
     "status": "completed"
    },
    "tags": []
   },
   "source": [
    "In this exercise, you will work with data from the [Housing Prices Competition for Kaggle Learn Users](https://www.kaggle.com/c/home-data-for-ml-course). \n",
    "\n",
    "![Ames Housing dataset image](https://storage.googleapis.com/kaggle-media/learn/images/lTJVG4e.png)\n",
    "\n",
    "Run the next code cell without changes to load the training and validation sets in `X_train`, `X_valid`, `y_train`, and `y_valid`.  The test set is loaded in `X_test`."
   ]
  },
  {
   "cell_type": "code",
   "execution_count": 2,
   "id": "a2c28aa6",
   "metadata": {
    "execution": {
     "iopub.execute_input": "2024-03-23T22:01:09.668006Z",
     "iopub.status.busy": "2024-03-23T22:01:09.666802Z",
     "iopub.status.idle": "2024-03-23T22:01:11.396348Z",
     "shell.execute_reply": "2024-03-23T22:01:11.394437Z"
    },
    "papermill": {
     "duration": 1.746555,
     "end_time": "2024-03-23T22:01:11.400487",
     "exception": false,
     "start_time": "2024-03-23T22:01:09.653932",
     "status": "completed"
    },
    "tags": []
   },
   "outputs": [],
   "source": [
    "import pandas as pd\n",
    "from sklearn.model_selection import train_test_split\n",
    "\n",
    "# Read the data\n",
    "X = pd.read_csv('../input/train.csv', index_col='Id') \n",
    "X_test = pd.read_csv('../input/test.csv', index_col='Id')\n",
    "\n",
    "# Remove rows with missing target, separate target from predictors\n",
    "X.dropna(axis=0, subset=['SalePrice'], inplace=True)\n",
    "y = X.SalePrice\n",
    "X.drop(['SalePrice'], axis=1, inplace=True)\n",
    "\n",
    "# To keep things simple, we'll drop columns with missing values\n",
    "cols_with_missing = [col for col in X.columns if X[col].isnull().any()] \n",
    "X.drop(cols_with_missing, axis=1, inplace=True)\n",
    "X_test.drop(cols_with_missing, axis=1, inplace=True)\n",
    "\n",
    "# Break off validation set from training data\n",
    "X_train, X_valid, y_train, y_valid = train_test_split(X, y,\n",
    "                                                      train_size=0.8, test_size=0.2,\n",
    "                                                      random_state=0)"
   ]
  },
  {
   "cell_type": "markdown",
   "id": "9e709cbb",
   "metadata": {
    "papermill": {
     "duration": 0.010752,
     "end_time": "2024-03-23T22:01:11.422783",
     "exception": false,
     "start_time": "2024-03-23T22:01:11.412031",
     "status": "completed"
    },
    "tags": []
   },
   "source": [
    "Use the next code cell to print the first five rows of the data."
   ]
  },
  {
   "cell_type": "code",
   "execution_count": 3,
   "id": "dba7c523",
   "metadata": {
    "execution": {
     "iopub.execute_input": "2024-03-23T22:01:11.448007Z",
     "iopub.status.busy": "2024-03-23T22:01:11.447507Z",
     "iopub.status.idle": "2024-03-23T22:01:11.479458Z",
     "shell.execute_reply": "2024-03-23T22:01:11.478149Z"
    },
    "papermill": {
     "duration": 0.047966,
     "end_time": "2024-03-23T22:01:11.482476",
     "exception": false,
     "start_time": "2024-03-23T22:01:11.434510",
     "status": "completed"
    },
    "tags": []
   },
   "outputs": [
    {
     "data": {
      "text/html": [
       "<div>\n",
       "<style scoped>\n",
       "    .dataframe tbody tr th:only-of-type {\n",
       "        vertical-align: middle;\n",
       "    }\n",
       "\n",
       "    .dataframe tbody tr th {\n",
       "        vertical-align: top;\n",
       "    }\n",
       "\n",
       "    .dataframe thead th {\n",
       "        text-align: right;\n",
       "    }\n",
       "</style>\n",
       "<table border=\"1\" class=\"dataframe\">\n",
       "  <thead>\n",
       "    <tr style=\"text-align: right;\">\n",
       "      <th></th>\n",
       "      <th>MSSubClass</th>\n",
       "      <th>MSZoning</th>\n",
       "      <th>LotArea</th>\n",
       "      <th>Street</th>\n",
       "      <th>LotShape</th>\n",
       "      <th>LandContour</th>\n",
       "      <th>Utilities</th>\n",
       "      <th>LotConfig</th>\n",
       "      <th>LandSlope</th>\n",
       "      <th>Neighborhood</th>\n",
       "      <th>...</th>\n",
       "      <th>OpenPorchSF</th>\n",
       "      <th>EnclosedPorch</th>\n",
       "      <th>3SsnPorch</th>\n",
       "      <th>ScreenPorch</th>\n",
       "      <th>PoolArea</th>\n",
       "      <th>MiscVal</th>\n",
       "      <th>MoSold</th>\n",
       "      <th>YrSold</th>\n",
       "      <th>SaleType</th>\n",
       "      <th>SaleCondition</th>\n",
       "    </tr>\n",
       "    <tr>\n",
       "      <th>Id</th>\n",
       "      <th></th>\n",
       "      <th></th>\n",
       "      <th></th>\n",
       "      <th></th>\n",
       "      <th></th>\n",
       "      <th></th>\n",
       "      <th></th>\n",
       "      <th></th>\n",
       "      <th></th>\n",
       "      <th></th>\n",
       "      <th></th>\n",
       "      <th></th>\n",
       "      <th></th>\n",
       "      <th></th>\n",
       "      <th></th>\n",
       "      <th></th>\n",
       "      <th></th>\n",
       "      <th></th>\n",
       "      <th></th>\n",
       "      <th></th>\n",
       "      <th></th>\n",
       "    </tr>\n",
       "  </thead>\n",
       "  <tbody>\n",
       "    <tr>\n",
       "      <th>619</th>\n",
       "      <td>20</td>\n",
       "      <td>RL</td>\n",
       "      <td>11694</td>\n",
       "      <td>Pave</td>\n",
       "      <td>Reg</td>\n",
       "      <td>Lvl</td>\n",
       "      <td>AllPub</td>\n",
       "      <td>Inside</td>\n",
       "      <td>Gtl</td>\n",
       "      <td>NridgHt</td>\n",
       "      <td>...</td>\n",
       "      <td>108</td>\n",
       "      <td>0</td>\n",
       "      <td>0</td>\n",
       "      <td>260</td>\n",
       "      <td>0</td>\n",
       "      <td>0</td>\n",
       "      <td>7</td>\n",
       "      <td>2007</td>\n",
       "      <td>New</td>\n",
       "      <td>Partial</td>\n",
       "    </tr>\n",
       "    <tr>\n",
       "      <th>871</th>\n",
       "      <td>20</td>\n",
       "      <td>RL</td>\n",
       "      <td>6600</td>\n",
       "      <td>Pave</td>\n",
       "      <td>Reg</td>\n",
       "      <td>Lvl</td>\n",
       "      <td>AllPub</td>\n",
       "      <td>Inside</td>\n",
       "      <td>Gtl</td>\n",
       "      <td>NAmes</td>\n",
       "      <td>...</td>\n",
       "      <td>0</td>\n",
       "      <td>0</td>\n",
       "      <td>0</td>\n",
       "      <td>0</td>\n",
       "      <td>0</td>\n",
       "      <td>0</td>\n",
       "      <td>8</td>\n",
       "      <td>2009</td>\n",
       "      <td>WD</td>\n",
       "      <td>Normal</td>\n",
       "    </tr>\n",
       "    <tr>\n",
       "      <th>93</th>\n",
       "      <td>30</td>\n",
       "      <td>RL</td>\n",
       "      <td>13360</td>\n",
       "      <td>Pave</td>\n",
       "      <td>IR1</td>\n",
       "      <td>HLS</td>\n",
       "      <td>AllPub</td>\n",
       "      <td>Inside</td>\n",
       "      <td>Gtl</td>\n",
       "      <td>Crawfor</td>\n",
       "      <td>...</td>\n",
       "      <td>0</td>\n",
       "      <td>44</td>\n",
       "      <td>0</td>\n",
       "      <td>0</td>\n",
       "      <td>0</td>\n",
       "      <td>0</td>\n",
       "      <td>8</td>\n",
       "      <td>2009</td>\n",
       "      <td>WD</td>\n",
       "      <td>Normal</td>\n",
       "    </tr>\n",
       "    <tr>\n",
       "      <th>818</th>\n",
       "      <td>20</td>\n",
       "      <td>RL</td>\n",
       "      <td>13265</td>\n",
       "      <td>Pave</td>\n",
       "      <td>IR1</td>\n",
       "      <td>Lvl</td>\n",
       "      <td>AllPub</td>\n",
       "      <td>CulDSac</td>\n",
       "      <td>Gtl</td>\n",
       "      <td>Mitchel</td>\n",
       "      <td>...</td>\n",
       "      <td>59</td>\n",
       "      <td>0</td>\n",
       "      <td>0</td>\n",
       "      <td>0</td>\n",
       "      <td>0</td>\n",
       "      <td>0</td>\n",
       "      <td>7</td>\n",
       "      <td>2008</td>\n",
       "      <td>WD</td>\n",
       "      <td>Normal</td>\n",
       "    </tr>\n",
       "    <tr>\n",
       "      <th>303</th>\n",
       "      <td>20</td>\n",
       "      <td>RL</td>\n",
       "      <td>13704</td>\n",
       "      <td>Pave</td>\n",
       "      <td>IR1</td>\n",
       "      <td>Lvl</td>\n",
       "      <td>AllPub</td>\n",
       "      <td>Corner</td>\n",
       "      <td>Gtl</td>\n",
       "      <td>CollgCr</td>\n",
       "      <td>...</td>\n",
       "      <td>81</td>\n",
       "      <td>0</td>\n",
       "      <td>0</td>\n",
       "      <td>0</td>\n",
       "      <td>0</td>\n",
       "      <td>0</td>\n",
       "      <td>1</td>\n",
       "      <td>2006</td>\n",
       "      <td>WD</td>\n",
       "      <td>Normal</td>\n",
       "    </tr>\n",
       "  </tbody>\n",
       "</table>\n",
       "<p>5 rows × 60 columns</p>\n",
       "</div>"
      ],
      "text/plain": [
       "     MSSubClass MSZoning  LotArea Street LotShape LandContour Utilities  \\\n",
       "Id                                                                        \n",
       "619          20       RL    11694   Pave      Reg         Lvl    AllPub   \n",
       "871          20       RL     6600   Pave      Reg         Lvl    AllPub   \n",
       "93           30       RL    13360   Pave      IR1         HLS    AllPub   \n",
       "818          20       RL    13265   Pave      IR1         Lvl    AllPub   \n",
       "303          20       RL    13704   Pave      IR1         Lvl    AllPub   \n",
       "\n",
       "    LotConfig LandSlope Neighborhood  ... OpenPorchSF EnclosedPorch 3SsnPorch  \\\n",
       "Id                                    ...                                       \n",
       "619    Inside       Gtl      NridgHt  ...         108             0         0   \n",
       "871    Inside       Gtl        NAmes  ...           0             0         0   \n",
       "93     Inside       Gtl      Crawfor  ...           0            44         0   \n",
       "818   CulDSac       Gtl      Mitchel  ...          59             0         0   \n",
       "303    Corner       Gtl      CollgCr  ...          81             0         0   \n",
       "\n",
       "    ScreenPorch  PoolArea  MiscVal  MoSold  YrSold SaleType SaleCondition  \n",
       "Id                                                                         \n",
       "619         260         0        0       7    2007      New       Partial  \n",
       "871           0         0        0       8    2009       WD        Normal  \n",
       "93            0         0        0       8    2009       WD        Normal  \n",
       "818           0         0        0       7    2008       WD        Normal  \n",
       "303           0         0        0       1    2006       WD        Normal  \n",
       "\n",
       "[5 rows x 60 columns]"
      ]
     },
     "execution_count": 3,
     "metadata": {},
     "output_type": "execute_result"
    }
   ],
   "source": [
    "X_train.head()"
   ]
  },
  {
   "cell_type": "markdown",
   "id": "15fbe580",
   "metadata": {
    "papermill": {
     "duration": 0.012004,
     "end_time": "2024-03-23T22:01:11.507608",
     "exception": false,
     "start_time": "2024-03-23T22:01:11.495604",
     "status": "completed"
    },
    "tags": []
   },
   "source": [
    "Notice that the dataset contains both numerical and categorical variables.  You'll need to encode the categorical data before training a model.\n",
    "\n",
    "To compare different models, you'll use the same `score_dataset()` function from the tutorial.  This function reports the [mean absolute error](https://en.wikipedia.org/wiki/Mean_absolute_error) (MAE) from a random forest model."
   ]
  },
  {
   "cell_type": "code",
   "execution_count": 4,
   "id": "119b60b5",
   "metadata": {
    "execution": {
     "iopub.execute_input": "2024-03-23T22:01:11.533716Z",
     "iopub.status.busy": "2024-03-23T22:01:11.533162Z",
     "iopub.status.idle": "2024-03-23T22:01:11.988850Z",
     "shell.execute_reply": "2024-03-23T22:01:11.987249Z"
    },
    "papermill": {
     "duration": 0.473207,
     "end_time": "2024-03-23T22:01:11.992404",
     "exception": false,
     "start_time": "2024-03-23T22:01:11.519197",
     "status": "completed"
    },
    "tags": []
   },
   "outputs": [],
   "source": [
    "from sklearn.ensemble import RandomForestRegressor\n",
    "from sklearn.metrics import mean_absolute_error\n",
    "\n",
    "# function for comparing different approaches\n",
    "def score_dataset(X_train, X_valid, y_train, y_valid):\n",
    "    model = RandomForestRegressor(n_estimators=100, random_state=0)\n",
    "    model.fit(X_train, y_train)\n",
    "    preds = model.predict(X_valid)\n",
    "    return mean_absolute_error(y_valid, preds)"
   ]
  },
  {
   "cell_type": "markdown",
   "id": "5e8435e9",
   "metadata": {
    "papermill": {
     "duration": 0.011904,
     "end_time": "2024-03-23T22:01:12.018069",
     "exception": false,
     "start_time": "2024-03-23T22:01:12.006165",
     "status": "completed"
    },
    "tags": []
   },
   "source": [
    "# Step 1: Drop columns with categorical data\n",
    "\n",
    "We'll get started with the most straightforward approach.  Let's use the code cell below to preprocess the data in `X_train` and `X_valid` to remove columns with categorical data.  Set the preprocessed DataFrames to `drop_X_train` and `drop_X_valid`, respectively.  "
   ]
  },
  {
   "cell_type": "code",
   "execution_count": 5,
   "id": "0a18e41b",
   "metadata": {
    "execution": {
     "iopub.execute_input": "2024-03-23T22:01:12.044588Z",
     "iopub.status.busy": "2024-03-23T22:01:12.044063Z",
     "iopub.status.idle": "2024-03-23T22:01:12.058202Z",
     "shell.execute_reply": "2024-03-23T22:01:12.056873Z"
    },
    "papermill": {
     "duration": 0.030971,
     "end_time": "2024-03-23T22:01:12.061063",
     "exception": false,
     "start_time": "2024-03-23T22:01:12.030092",
     "status": "completed"
    },
    "tags": []
   },
   "outputs": [
    {
     "data": {
      "application/javascript": [
       "parent.postMessage({\"jupyterEvent\": \"custom.exercise_interaction\", \"data\": {\"outcomeType\": 1, \"valueTowardsCompletion\": 0.5, \"interactionType\": 1, \"questionType\": 2, \"questionId\": \"1_Drop\", \"learnToolsVersion\": \"0.3.4\", \"failureMessage\": \"\", \"exceptionClass\": \"\", \"trace\": \"\"}}, \"*\")"
      ],
      "text/plain": [
       "<IPython.core.display.Javascript object>"
      ]
     },
     "metadata": {},
     "output_type": "display_data"
    },
    {
     "data": {
      "text/markdown": [
       "<span style=\"color:#33cc33\">Correct</span>"
      ],
      "text/plain": [
       "Correct"
      ]
     },
     "metadata": {},
     "output_type": "display_data"
    }
   ],
   "source": [
    "# Fill in the lines below: drop columns in training and validation data\n",
    "drop_X_train = X_train.select_dtypes(exclude=['object'])\n",
    "drop_X_valid = X_valid.select_dtypes(exclude=['object'])\n",
    "\n",
    "# Check your answers\n",
    "step_1.check()"
   ]
  },
  {
   "cell_type": "markdown",
   "id": "3504a9d6",
   "metadata": {
    "papermill": {
     "duration": 0.011854,
     "end_time": "2024-03-23T22:01:12.085081",
     "exception": false,
     "start_time": "2024-03-23T22:01:12.073227",
     "status": "completed"
    },
    "tags": []
   },
   "source": [
    "Now let's run the next code cell to get the MAE for this approach."
   ]
  },
  {
   "cell_type": "code",
   "execution_count": 6,
   "id": "cd9e4895",
   "metadata": {
    "execution": {
     "iopub.execute_input": "2024-03-23T22:01:12.111830Z",
     "iopub.status.busy": "2024-03-23T22:01:12.111310Z",
     "iopub.status.idle": "2024-03-23T22:01:13.479598Z",
     "shell.execute_reply": "2024-03-23T22:01:13.478099Z"
    },
    "papermill": {
     "duration": 1.386024,
     "end_time": "2024-03-23T22:01:13.483176",
     "exception": false,
     "start_time": "2024-03-23T22:01:12.097152",
     "status": "completed"
    },
    "tags": []
   },
   "outputs": [
    {
     "name": "stdout",
     "output_type": "stream",
     "text": [
      "MAE from Approach 1 (Drop categorical variables):\n",
      "17837.82570776256\n"
     ]
    }
   ],
   "source": [
    "print(\"MAE from Approach 1 (Drop categorical variables):\")\n",
    "print(score_dataset(drop_X_train, drop_X_valid, y_train, y_valid))"
   ]
  },
  {
   "cell_type": "markdown",
   "id": "5322cc78",
   "metadata": {
    "papermill": {
     "duration": 0.011873,
     "end_time": "2024-03-23T22:01:13.508343",
     "exception": false,
     "start_time": "2024-03-23T22:01:13.496470",
     "status": "completed"
    },
    "tags": []
   },
   "source": [
    "Before jumping into ordinal encoding, we'll investigate the dataset.  Specifically, we'll look at the `'Condition2'` column.  The code cell below prints the unique entries in both the training and validation sets."
   ]
  },
  {
   "cell_type": "code",
   "execution_count": 7,
   "id": "59d8e5ea",
   "metadata": {
    "execution": {
     "iopub.execute_input": "2024-03-23T22:01:13.536380Z",
     "iopub.status.busy": "2024-03-23T22:01:13.534383Z",
     "iopub.status.idle": "2024-03-23T22:01:13.546690Z",
     "shell.execute_reply": "2024-03-23T22:01:13.544560Z"
    },
    "papermill": {
     "duration": 0.030365,
     "end_time": "2024-03-23T22:01:13.550782",
     "exception": false,
     "start_time": "2024-03-23T22:01:13.520417",
     "status": "completed"
    },
    "tags": []
   },
   "outputs": [
    {
     "name": "stdout",
     "output_type": "stream",
     "text": [
      "Unique values in 'Condition2' column in training data: ['Norm' 'PosA' 'Feedr' 'PosN' 'Artery' 'RRAe']\n",
      "\n",
      "Unique values in 'Condition2' column in validation data: ['Norm' 'RRAn' 'RRNn' 'Artery' 'Feedr' 'PosN']\n"
     ]
    }
   ],
   "source": [
    "print(\"Unique values in 'Condition2' column in training data:\", X_train['Condition2'].unique())\n",
    "print(\"\\nUnique values in 'Condition2' column in validation data:\", X_valid['Condition2'].unique())"
   ]
  },
  {
   "cell_type": "markdown",
   "id": "d4c137ef",
   "metadata": {
    "papermill": {
     "duration": 0.016159,
     "end_time": "2024-03-23T22:01:13.580586",
     "exception": false,
     "start_time": "2024-03-23T22:01:13.564427",
     "status": "completed"
    },
    "tags": []
   },
   "source": [
    "# Step 2: Ordinal encoding\n",
    "\n",
    "### Part A\n",
    "\n",
    "If we now write code to: \n",
    "- fit an ordinal encoder to the training data, and then \n",
    "- use it to transform both the training and validation data, \n",
    "\n",
    "we'll get an error.  Can you see why this is the case?  \n",
    "\n",
    "Fitting an ordinal encoder to a column in the training data creates a corresponding integer-valued label for each unique value **that appears in the training data**. In the case that the validation data contains values that don't also appear in the training data, the encoder will throw an error, because these values won't have an integer assigned to them. Notice that the 'Condition2' column in the validation data contains the values 'RRAn' and 'RRNn', but these don't appear in the training data -- thus, if we try to use an ordinal encoder with scikit-learn, the code will throw an error."
   ]
  },
  {
   "cell_type": "markdown",
   "id": "2bc40009",
   "metadata": {
    "execution": {
     "iopub.execute_input": "2024-03-23T20:47:48.679502Z",
     "iopub.status.busy": "2024-03-23T20:47:48.679043Z",
     "iopub.status.idle": "2024-03-23T20:47:48.689794Z",
     "shell.execute_reply": "2024-03-23T20:47:48.688505Z",
     "shell.execute_reply.started": "2024-03-23T20:47:48.679468Z"
    },
    "papermill": {
     "duration": 0.014255,
     "end_time": "2024-03-23T22:01:13.613515",
     "exception": false,
     "start_time": "2024-03-23T22:01:13.599260",
     "status": "completed"
    },
    "tags": []
   },
   "source": [
    "This is a common problem that we'll encounter with real-world data, and there are many approaches to fixing this issue. For instance, we can write a custom ordinal encoder to deal with new categories. The simplest approach, however, is to drop the problematic categorical columns.\n",
    "\n",
    "Let's run the code cell below to save the problematic columns to a Python list **bad_label_cols**. Likewise, columns that can be safely ordinal encoded are stored in **good_label_cols**."
   ]
  },
  {
   "cell_type": "code",
   "execution_count": 8,
   "id": "4496c26d",
   "metadata": {
    "execution": {
     "iopub.execute_input": "2024-03-23T22:01:13.658993Z",
     "iopub.status.busy": "2024-03-23T22:01:13.658196Z",
     "iopub.status.idle": "2024-03-23T22:01:13.686174Z",
     "shell.execute_reply": "2024-03-23T22:01:13.684849Z"
    },
    "papermill": {
     "duration": 0.057098,
     "end_time": "2024-03-23T22:01:13.690462",
     "exception": false,
     "start_time": "2024-03-23T22:01:13.633364",
     "status": "completed"
    },
    "tags": []
   },
   "outputs": [
    {
     "name": "stdout",
     "output_type": "stream",
     "text": [
      "Categorical columns that will be ordinal encoded: ['MSZoning', 'Street', 'LotShape', 'LandContour', 'Utilities', 'LotConfig', 'LandSlope', 'Neighborhood', 'Condition1', 'BldgType', 'HouseStyle', 'RoofStyle', 'Exterior1st', 'Exterior2nd', 'ExterQual', 'ExterCond', 'Foundation', 'Heating', 'HeatingQC', 'CentralAir', 'KitchenQual', 'PavedDrive', 'SaleType', 'SaleCondition']\n",
      "\n",
      "Categorical columns that will be dropped from the dataset: ['Functional', 'RoofMatl', 'Condition2']\n"
     ]
    }
   ],
   "source": [
    "# Categorical columns in the training data\n",
    "object_cols = [col for col in X_train.columns if X_train[col].dtype == \"object\"]\n",
    "\n",
    "# Columns that can be safely ordinal encoded\n",
    "good_label_cols = [col for col in object_cols if \n",
    "                   set(X_valid[col]).issubset(set(X_train[col]))]\n",
    "        \n",
    "# Problematic columns that will be dropped from the dataset\n",
    "bad_label_cols = list(set(object_cols)-set(good_label_cols))\n",
    "        \n",
    "print('Categorical columns that will be ordinal encoded:', good_label_cols)\n",
    "print('\\nCategorical columns that will be dropped from the dataset:', bad_label_cols)"
   ]
  },
  {
   "cell_type": "markdown",
   "id": "c3b8c232",
   "metadata": {
    "papermill": {
     "duration": 0.014307,
     "end_time": "2024-03-23T22:01:13.723518",
     "exception": false,
     "start_time": "2024-03-23T22:01:13.709211",
     "status": "completed"
    },
    "tags": []
   },
   "source": [
    "### Part B\n",
    "\n",
    "Let's use the next code cell to ordinal encode the data in `X_train` and `X_valid`.  Set the preprocessed DataFrames to `label_X_train` and `label_X_valid`, respectively.  \n",
    "- We have provided code below to drop the categorical columns in `bad_label_cols` from the dataset. \n",
    "- We will also ordinal encode the categorical columns in `good_label_cols`.  "
   ]
  },
  {
   "cell_type": "code",
   "execution_count": 9,
   "id": "1ef26504",
   "metadata": {
    "execution": {
     "iopub.execute_input": "2024-03-23T22:01:13.750856Z",
     "iopub.status.busy": "2024-03-23T22:01:13.750333Z",
     "iopub.status.idle": "2024-03-23T22:01:13.804301Z",
     "shell.execute_reply": "2024-03-23T22:01:13.802951Z"
    },
    "papermill": {
     "duration": 0.070555,
     "end_time": "2024-03-23T22:01:13.806734",
     "exception": false,
     "start_time": "2024-03-23T22:01:13.736179",
     "status": "completed"
    },
    "tags": []
   },
   "outputs": [
    {
     "data": {
      "application/javascript": [
       "parent.postMessage({\"jupyterEvent\": \"custom.exercise_interaction\", \"data\": {\"outcomeType\": 1, \"valueTowardsCompletion\": 0.5, \"interactionType\": 1, \"questionType\": 2, \"questionId\": \"2.2_LabelB\", \"learnToolsVersion\": \"0.3.4\", \"failureMessage\": \"\", \"exceptionClass\": \"\", \"trace\": \"\"}}, \"*\")"
      ],
      "text/plain": [
       "<IPython.core.display.Javascript object>"
      ]
     },
     "metadata": {},
     "output_type": "display_data"
    },
    {
     "data": {
      "text/markdown": [
       "<span style=\"color:#33cc33\">Correct</span>"
      ],
      "text/plain": [
       "Correct"
      ]
     },
     "metadata": {},
     "output_type": "display_data"
    }
   ],
   "source": [
    "from sklearn.preprocessing import OrdinalEncoder\n",
    "\n",
    "# Drop categorical columns that will not be encoded\n",
    "label_X_train = X_train.drop(bad_label_cols, axis=1)\n",
    "label_X_valid = X_valid.drop(bad_label_cols, axis=1)\n",
    "\n",
    "# Apply ordinal encoder \n",
    "ordinal_encoder=OrdinalEncoder()\n",
    "label_X_train[good_label_cols]=ordinal_encoder.fit_transform(label_X_train[good_label_cols])\n",
    "label_X_valid[good_label_cols]=ordinal_encoder.transform(label_X_valid[good_label_cols])\n",
    "    \n",
    "# Check your answer\n",
    "step_2.b.check()"
   ]
  },
  {
   "cell_type": "markdown",
   "id": "e086939c",
   "metadata": {
    "papermill": {
     "duration": 0.012352,
     "end_time": "2024-03-23T22:01:13.831827",
     "exception": false,
     "start_time": "2024-03-23T22:01:13.819475",
     "status": "completed"
    },
    "tags": []
   },
   "source": [
    "Run the next code cell to get the MAE for this approach."
   ]
  },
  {
   "cell_type": "code",
   "execution_count": 10,
   "id": "1d08bcc5",
   "metadata": {
    "execution": {
     "iopub.execute_input": "2024-03-23T22:01:13.860381Z",
     "iopub.status.busy": "2024-03-23T22:01:13.859653Z",
     "iopub.status.idle": "2024-03-23T22:01:15.568779Z",
     "shell.execute_reply": "2024-03-23T22:01:15.567348Z"
    },
    "papermill": {
     "duration": 1.726872,
     "end_time": "2024-03-23T22:01:15.571585",
     "exception": false,
     "start_time": "2024-03-23T22:01:13.844713",
     "status": "completed"
    },
    "tags": []
   },
   "outputs": [
    {
     "name": "stdout",
     "output_type": "stream",
     "text": [
      "MAE from Approach 2 (Ordinal Encoding):\n",
      "17098.01649543379\n"
     ]
    }
   ],
   "source": [
    "print(\"MAE from Approach 2 (Ordinal Encoding):\") \n",
    "print(score_dataset(label_X_train, label_X_valid, y_train, y_valid))"
   ]
  },
  {
   "cell_type": "markdown",
   "id": "0d8464fe",
   "metadata": {
    "papermill": {
     "duration": 0.012377,
     "end_time": "2024-03-23T22:01:15.596980",
     "exception": false,
     "start_time": "2024-03-23T22:01:15.584603",
     "status": "completed"
    },
    "tags": []
   },
   "source": [
    "So far, you've tried two different approaches to dealing with categorical variables.  And, you've seen that encoding categorical data yields better results than removing columns from the dataset.\n",
    "\n",
    "Soon, you'll try one-hot encoding.  Before then, there's one additional topic we need to cover.  Begin by running the next code cell without changes.  "
   ]
  },
  {
   "cell_type": "code",
   "execution_count": 11,
   "id": "4c68accc",
   "metadata": {
    "execution": {
     "iopub.execute_input": "2024-03-23T22:01:15.625202Z",
     "iopub.status.busy": "2024-03-23T22:01:15.624737Z",
     "iopub.status.idle": "2024-03-23T22:01:15.641734Z",
     "shell.execute_reply": "2024-03-23T22:01:15.640728Z"
    },
    "papermill": {
     "duration": 0.03418,
     "end_time": "2024-03-23T22:01:15.644168",
     "exception": false,
     "start_time": "2024-03-23T22:01:15.609988",
     "status": "completed"
    },
    "tags": []
   },
   "outputs": [
    {
     "data": {
      "text/plain": [
       "[('Street', 2),\n",
       " ('Utilities', 2),\n",
       " ('CentralAir', 2),\n",
       " ('LandSlope', 3),\n",
       " ('PavedDrive', 3),\n",
       " ('LotShape', 4),\n",
       " ('LandContour', 4),\n",
       " ('ExterQual', 4),\n",
       " ('KitchenQual', 4),\n",
       " ('MSZoning', 5),\n",
       " ('LotConfig', 5),\n",
       " ('BldgType', 5),\n",
       " ('ExterCond', 5),\n",
       " ('HeatingQC', 5),\n",
       " ('Condition2', 6),\n",
       " ('RoofStyle', 6),\n",
       " ('Foundation', 6),\n",
       " ('Heating', 6),\n",
       " ('Functional', 6),\n",
       " ('SaleCondition', 6),\n",
       " ('RoofMatl', 7),\n",
       " ('HouseStyle', 8),\n",
       " ('Condition1', 9),\n",
       " ('SaleType', 9),\n",
       " ('Exterior1st', 15),\n",
       " ('Exterior2nd', 16),\n",
       " ('Neighborhood', 25)]"
      ]
     },
     "execution_count": 11,
     "metadata": {},
     "output_type": "execute_result"
    }
   ],
   "source": [
    "# Get number of unique entries in each column with categorical data\n",
    "object_nunique = list(map(lambda col: X_train[col].nunique(), object_cols))\n",
    "d = dict(zip(object_cols, object_nunique))\n",
    "\n",
    "# Print number of unique entries by column, in ascending order\n",
    "sorted(d.items(), key=lambda x: x[1])"
   ]
  },
  {
   "cell_type": "markdown",
   "id": "1291304b",
   "metadata": {
    "papermill": {
     "duration": 0.014327,
     "end_time": "2024-03-23T22:01:15.672226",
     "exception": false,
     "start_time": "2024-03-23T22:01:15.657899",
     "status": "completed"
    },
    "tags": []
   },
   "source": [
    "# Step 3: Investigating cardinality\n",
    "\n",
    "### Part A\n",
    "\n",
    "The output above shows, for each column with categorical data, the number of unique values in the column.  For instance, the `'Street'` column in the training data has two unique values: `'Grvl'` and `'Pave'`, corresponding to a gravel road and a paved road, respectively.\n",
    "\n",
    "We refer to the number of unique entries of a categorical variable as the **cardinality** of that categorical variable.  For instance, the `'Street'` variable has cardinality 2.\n",
    "\n",
    "Let's use the output above to answer the questions below."
   ]
  },
  {
   "cell_type": "code",
   "execution_count": 12,
   "id": "a8d9b4e0",
   "metadata": {
    "execution": {
     "iopub.execute_input": "2024-03-23T22:01:15.701389Z",
     "iopub.status.busy": "2024-03-23T22:01:15.700027Z",
     "iopub.status.idle": "2024-03-23T22:01:15.709577Z",
     "shell.execute_reply": "2024-03-23T22:01:15.708310Z"
    },
    "papermill": {
     "duration": 0.026833,
     "end_time": "2024-03-23T22:01:15.712323",
     "exception": false,
     "start_time": "2024-03-23T22:01:15.685490",
     "status": "completed"
    },
    "tags": []
   },
   "outputs": [
    {
     "data": {
      "text/plain": [
       "{'MSZoning': 5,\n",
       " 'Street': 2,\n",
       " 'LotShape': 4,\n",
       " 'LandContour': 4,\n",
       " 'Utilities': 2,\n",
       " 'LotConfig': 5,\n",
       " 'LandSlope': 3,\n",
       " 'Neighborhood': 25,\n",
       " 'Condition1': 9,\n",
       " 'Condition2': 6,\n",
       " 'BldgType': 5,\n",
       " 'HouseStyle': 8,\n",
       " 'RoofStyle': 6,\n",
       " 'RoofMatl': 7,\n",
       " 'Exterior1st': 15,\n",
       " 'Exterior2nd': 16,\n",
       " 'ExterQual': 4,\n",
       " 'ExterCond': 5,\n",
       " 'Foundation': 6,\n",
       " 'Heating': 6,\n",
       " 'HeatingQC': 5,\n",
       " 'CentralAir': 2,\n",
       " 'KitchenQual': 4,\n",
       " 'Functional': 6,\n",
       " 'PavedDrive': 3,\n",
       " 'SaleType': 9,\n",
       " 'SaleCondition': 6}"
      ]
     },
     "execution_count": 12,
     "metadata": {},
     "output_type": "execute_result"
    }
   ],
   "source": [
    "d"
   ]
  },
  {
   "cell_type": "code",
   "execution_count": 13,
   "id": "436e0524",
   "metadata": {
    "execution": {
     "iopub.execute_input": "2024-03-23T22:01:15.741026Z",
     "iopub.status.busy": "2024-03-23T22:01:15.740573Z",
     "iopub.status.idle": "2024-03-23T22:01:15.747664Z",
     "shell.execute_reply": "2024-03-23T22:01:15.746477Z"
    },
    "papermill": {
     "duration": 0.02518,
     "end_time": "2024-03-23T22:01:15.750805",
     "exception": false,
     "start_time": "2024-03-23T22:01:15.725625",
     "status": "completed"
    },
    "tags": []
   },
   "outputs": [
    {
     "data": {
      "text/plain": [
       "dict_keys(['MSZoning', 'Street', 'LotShape', 'LandContour', 'Utilities', 'LotConfig', 'LandSlope', 'Neighborhood', 'Condition1', 'Condition2', 'BldgType', 'HouseStyle', 'RoofStyle', 'RoofMatl', 'Exterior1st', 'Exterior2nd', 'ExterQual', 'ExterCond', 'Foundation', 'Heating', 'HeatingQC', 'CentralAir', 'KitchenQual', 'Functional', 'PavedDrive', 'SaleType', 'SaleCondition'])"
      ]
     },
     "execution_count": 13,
     "metadata": {},
     "output_type": "execute_result"
    }
   ],
   "source": [
    "d.keys()"
   ]
  },
  {
   "cell_type": "code",
   "execution_count": 14,
   "id": "93d00e6f",
   "metadata": {
    "execution": {
     "iopub.execute_input": "2024-03-23T22:01:15.780721Z",
     "iopub.status.busy": "2024-03-23T22:01:15.780228Z",
     "iopub.status.idle": "2024-03-23T22:01:15.791218Z",
     "shell.execute_reply": "2024-03-23T22:01:15.789915Z"
    },
    "papermill": {
     "duration": 0.028876,
     "end_time": "2024-03-23T22:01:15.793829",
     "exception": false,
     "start_time": "2024-03-23T22:01:15.764953",
     "status": "completed"
    },
    "tags": []
   },
   "outputs": [
    {
     "data": {
      "application/javascript": [
       "parent.postMessage({\"jupyterEvent\": \"custom.exercise_interaction\", \"data\": {\"outcomeType\": 1, \"valueTowardsCompletion\": 0.5, \"interactionType\": 1, \"questionType\": 1, \"questionId\": \"3.1_CardinalityA\", \"learnToolsVersion\": \"0.3.4\", \"failureMessage\": \"\", \"exceptionClass\": \"\", \"trace\": \"\"}}, \"*\")"
      ],
      "text/plain": [
       "<IPython.core.display.Javascript object>"
      ]
     },
     "metadata": {},
     "output_type": "display_data"
    },
    {
     "data": {
      "text/markdown": [
       "<span style=\"color:#33cc33\">Correct</span>"
      ],
      "text/plain": [
       "Correct"
      ]
     },
     "metadata": {},
     "output_type": "display_data"
    }
   ],
   "source": [
    "# Fill in the line below: How many categorical variables in the training data\n",
    "# have cardinality greater than 10?\n",
    "high_cardinality_numcols = len([col for col in d.keys() if d[col] > 10])\n",
    "\n",
    "# Fill in the line below: How many columns are needed to one-hot encode the \n",
    "# 'Neighborhood' variable in the training data?\n",
    "num_cols_neighborhood = d['Neighborhood']\n",
    "\n",
    "# Check your answers\n",
    "step_3.a.check()"
   ]
  },
  {
   "cell_type": "markdown",
   "id": "9ea1b00f",
   "metadata": {
    "papermill": {
     "duration": 0.013317,
     "end_time": "2024-03-23T22:01:15.821020",
     "exception": false,
     "start_time": "2024-03-23T22:01:15.807703",
     "status": "completed"
    },
    "tags": []
   },
   "source": [
    "### Part B\n",
    "\n",
    "For large datasets with many rows, one-hot encoding can greatly expand the size of the dataset.  For this reason, we typically will only one-hot encode columns with relatively low cardinality.  Then, high cardinality columns can either be dropped from the dataset, or we can use ordinal encoding.\n",
    "\n",
    "As an example, consider a dataset with 10,000 rows, and containing one categorical column with 100 unique entries.  \n",
    "- If this column is replaced with the corresponding one-hot encoding, how many entries are added to the dataset?  \n",
    "- If we instead replace the column with the ordinal encoding, how many entries are added?  \n",
    "\n",
    "Use your answers to fill in the lines below."
   ]
  },
  {
   "cell_type": "code",
   "execution_count": 15,
   "id": "d3f617ff",
   "metadata": {
    "execution": {
     "iopub.execute_input": "2024-03-23T22:01:15.851043Z",
     "iopub.status.busy": "2024-03-23T22:01:15.850584Z",
     "iopub.status.idle": "2024-03-23T22:01:15.861742Z",
     "shell.execute_reply": "2024-03-23T22:01:15.860320Z"
    },
    "papermill": {
     "duration": 0.029336,
     "end_time": "2024-03-23T22:01:15.864229",
     "exception": false,
     "start_time": "2024-03-23T22:01:15.834893",
     "status": "completed"
    },
    "tags": []
   },
   "outputs": [
    {
     "data": {
      "application/javascript": [
       "parent.postMessage({\"jupyterEvent\": \"custom.exercise_interaction\", \"data\": {\"outcomeType\": 1, \"valueTowardsCompletion\": 0.5, \"interactionType\": 1, \"questionType\": 1, \"questionId\": \"3.2_CardinalityB\", \"learnToolsVersion\": \"0.3.4\", \"failureMessage\": \"\", \"exceptionClass\": \"\", \"trace\": \"\"}}, \"*\")"
      ],
      "text/plain": [
       "<IPython.core.display.Javascript object>"
      ]
     },
     "metadata": {},
     "output_type": "display_data"
    },
    {
     "data": {
      "text/markdown": [
       "<span style=\"color:#33cc33\">Correct</span>"
      ],
      "text/plain": [
       "Correct"
      ]
     },
     "metadata": {},
     "output_type": "display_data"
    }
   ],
   "source": [
    "# Fill in the line below: How many entries are added to the dataset by \n",
    "# replacing the column with a one-hot encoding?\n",
    "OH_entries_added = 10000*100 - 10000\n",
    "\n",
    "# Fill in the line below: How many entries are added to the dataset by\n",
    "# replacing the column with an ordinal encoding?\n",
    "label_entries_added = 0\n",
    "\n",
    "# Check your answers\n",
    "step_3.b.check()"
   ]
  },
  {
   "cell_type": "markdown",
   "id": "6d26e985",
   "metadata": {
    "papermill": {
     "duration": 0.013492,
     "end_time": "2024-03-23T22:01:15.891714",
     "exception": false,
     "start_time": "2024-03-23T22:01:15.878222",
     "status": "completed"
    },
    "tags": []
   },
   "source": [
    "Next, we'll experiment with one-hot encoding.  But, instead of encoding all of the categorical variables in the dataset, we'll only create a one-hot encoding for columns with cardinality less than 10.\n",
    "\n",
    "Run the code cell below without changes to set `low_cardinality_cols` to a Python list containing the columns that will be one-hot encoded.  Likewise, `high_cardinality_cols` contains a list of categorical columns that will be dropped from the dataset."
   ]
  },
  {
   "cell_type": "code",
   "execution_count": 16,
   "id": "9c2f4bb1",
   "metadata": {
    "execution": {
     "iopub.execute_input": "2024-03-23T22:01:15.922309Z",
     "iopub.status.busy": "2024-03-23T22:01:15.921733Z",
     "iopub.status.idle": "2024-03-23T22:01:15.935191Z",
     "shell.execute_reply": "2024-03-23T22:01:15.933959Z"
    },
    "papermill": {
     "duration": 0.032111,
     "end_time": "2024-03-23T22:01:15.937880",
     "exception": false,
     "start_time": "2024-03-23T22:01:15.905769",
     "status": "completed"
    },
    "tags": []
   },
   "outputs": [
    {
     "name": "stdout",
     "output_type": "stream",
     "text": [
      "Categorical columns that will be one-hot encoded: ['MSZoning', 'Street', 'LotShape', 'LandContour', 'Utilities', 'LotConfig', 'LandSlope', 'Condition1', 'Condition2', 'BldgType', 'HouseStyle', 'RoofStyle', 'RoofMatl', 'ExterQual', 'ExterCond', 'Foundation', 'Heating', 'HeatingQC', 'CentralAir', 'KitchenQual', 'Functional', 'PavedDrive', 'SaleType', 'SaleCondition']\n",
      "\n",
      "Categorical columns that will be dropped from the dataset: ['Neighborhood', 'Exterior1st', 'Exterior2nd']\n"
     ]
    }
   ],
   "source": [
    "# Columns that will be one-hot encoded\n",
    "low_cardinality_cols = [col for col in object_cols if X_train[col].nunique() < 10]\n",
    "\n",
    "# Columns that will be dropped from the dataset\n",
    "high_cardinality_cols = list(set(object_cols)-set(low_cardinality_cols))\n",
    "\n",
    "print('Categorical columns that will be one-hot encoded:', low_cardinality_cols)\n",
    "print('\\nCategorical columns that will be dropped from the dataset:', high_cardinality_cols)"
   ]
  },
  {
   "cell_type": "markdown",
   "id": "85c139d9",
   "metadata": {
    "papermill": {
     "duration": 0.014392,
     "end_time": "2024-03-23T22:01:15.967114",
     "exception": false,
     "start_time": "2024-03-23T22:01:15.952722",
     "status": "completed"
    },
    "tags": []
   },
   "source": [
    "# Step 4: One-hot encoding\n",
    "\n",
    "Use the next code cell to one-hot encode the data in `X_train` and `X_valid`.  Set the preprocessed DataFrames to `OH_X_train` and `OH_X_valid`, respectively.  \n",
    "- The full list of categorical columns in the dataset can be found in the Python list `object_cols`.\n",
    "- We should only one-hot encode the categorical columns in `low_cardinality_cols`.  All other categorical columns should be dropped from the dataset. "
   ]
  },
  {
   "cell_type": "code",
   "execution_count": 17,
   "id": "fc079275",
   "metadata": {
    "execution": {
     "iopub.execute_input": "2024-03-23T22:01:15.998502Z",
     "iopub.status.busy": "2024-03-23T22:01:15.998017Z",
     "iopub.status.idle": "2024-03-23T22:01:16.057392Z",
     "shell.execute_reply": "2024-03-23T22:01:16.056225Z"
    },
    "papermill": {
     "duration": 0.079658,
     "end_time": "2024-03-23T22:01:16.061404",
     "exception": false,
     "start_time": "2024-03-23T22:01:15.981746",
     "status": "completed"
    },
    "tags": []
   },
   "outputs": [
    {
     "name": "stderr",
     "output_type": "stream",
     "text": [
      "/opt/conda/lib/python3.10/site-packages/sklearn/preprocessing/_encoders.py:868: FutureWarning: `sparse` was renamed to `sparse_output` in version 1.2 and will be removed in 1.4. `sparse_output` is ignored unless you leave `sparse` to its default value.\n",
      "  warnings.warn(\n"
     ]
    },
    {
     "data": {
      "application/javascript": [
       "parent.postMessage({\"jupyterEvent\": \"custom.exercise_interaction\", \"data\": {\"outcomeType\": 1, \"valueTowardsCompletion\": 0.5, \"interactionType\": 1, \"questionType\": 2, \"questionId\": \"4_OneHot\", \"learnToolsVersion\": \"0.3.4\", \"failureMessage\": \"\", \"exceptionClass\": \"\", \"trace\": \"\"}}, \"*\")"
      ],
      "text/plain": [
       "<IPython.core.display.Javascript object>"
      ]
     },
     "metadata": {},
     "output_type": "display_data"
    },
    {
     "data": {
      "text/markdown": [
       "<span style=\"color:#33cc33\">Correct</span>"
      ],
      "text/plain": [
       "Correct"
      ]
     },
     "metadata": {},
     "output_type": "display_data"
    }
   ],
   "source": [
    "from sklearn.preprocessing import OneHotEncoder\n",
    "\n",
    "OH_encoder = OneHotEncoder(handle_unknown='ignore', sparse=False)\n",
    "\n",
    "OH_X_train = pd.DataFrame(OH_encoder.fit_transform(X_train[low_cardinality_cols]))\n",
    "OH_X_valid = pd.DataFrame(OH_encoder.transform(X_valid[low_cardinality_cols]))\n",
    "\n",
    "OH_X_train.index = X_train.index\n",
    "OH_X_valid.index = X_valid.index\n",
    "\n",
    "OH_X_train = pd.concat([X_train.drop(object_cols, axis=1), OH_X_train], axis=1)\n",
    "OH_X_valid = pd.concat([X_valid.drop(object_cols, axis=1), OH_X_valid], axis=1)\n",
    "\n",
    "OH_X_train.columns = OH_X_train.columns.astype(str)\n",
    "OH_X_valid.columns = OH_X_valid.columns.astype(str)\n",
    "\n",
    "# Check your answer\n",
    "step_4.check()"
   ]
  },
  {
   "cell_type": "markdown",
   "id": "42101ce2",
   "metadata": {
    "papermill": {
     "duration": 0.014555,
     "end_time": "2024-03-23T22:01:16.090708",
     "exception": false,
     "start_time": "2024-03-23T22:01:16.076153",
     "status": "completed"
    },
    "tags": []
   },
   "source": [
    "Run the next code cell to get the MAE for this approach."
   ]
  },
  {
   "cell_type": "code",
   "execution_count": 18,
   "id": "f5acde3f",
   "metadata": {
    "execution": {
     "iopub.execute_input": "2024-03-23T22:01:16.123211Z",
     "iopub.status.busy": "2024-03-23T22:01:16.121997Z",
     "iopub.status.idle": "2024-03-23T22:01:18.228627Z",
     "shell.execute_reply": "2024-03-23T22:01:18.227214Z"
    },
    "papermill": {
     "duration": 2.125857,
     "end_time": "2024-03-23T22:01:18.231655",
     "exception": false,
     "start_time": "2024-03-23T22:01:16.105798",
     "status": "completed"
    },
    "tags": []
   },
   "outputs": [
    {
     "name": "stdout",
     "output_type": "stream",
     "text": [
      "MAE from Approach 3 (One-Hot Encoding):\n",
      "17525.345719178084\n"
     ]
    }
   ],
   "source": [
    "print(\"MAE from Approach 3 (One-Hot Encoding):\") \n",
    "print(score_dataset(OH_X_train, OH_X_valid, y_train, y_valid))"
   ]
  },
  {
   "cell_type": "markdown",
   "id": "dc1ba3a2",
   "metadata": {
    "papermill": {
     "duration": 0.014681,
     "end_time": "2024-03-23T22:01:18.261460",
     "exception": false,
     "start_time": "2024-03-23T22:01:18.246779",
     "status": "completed"
    },
    "tags": []
   },
   "source": [
    "---\n",
    "\n",
    "\n",
    "\n",
    "\n",
    "*By Poludniowy Albanczyk*"
   ]
  }
 ],
 "metadata": {
  "kaggle": {
   "accelerator": "none",
   "dataSources": [
    {
     "databundleVersionId": 111096,
     "sourceId": 10211,
     "sourceType": "competition"
    }
   ],
   "isGpuEnabled": false,
   "isInternetEnabled": false,
   "language": "python",
   "sourceType": "notebook"
  },
  "kernelspec": {
   "display_name": "Python 3",
   "language": "python",
   "name": "python3"
  },
  "language_info": {
   "codemirror_mode": {
    "name": "ipython",
    "version": 3
   },
   "file_extension": ".py",
   "mimetype": "text/x-python",
   "name": "python",
   "nbconvert_exporter": "python",
   "pygments_lexer": "ipython3",
   "version": "3.10.13"
  },
  "papermill": {
   "default_parameters": {},
   "duration": 14.157706,
   "end_time": "2024-03-23T22:01:19.202230",
   "environment_variables": {},
   "exception": null,
   "input_path": "__notebook__.ipynb",
   "output_path": "__notebook__.ipynb",
   "parameters": {},
   "start_time": "2024-03-23T22:01:05.044524",
   "version": "2.5.0"
  }
 },
 "nbformat": 4,
 "nbformat_minor": 5
}
