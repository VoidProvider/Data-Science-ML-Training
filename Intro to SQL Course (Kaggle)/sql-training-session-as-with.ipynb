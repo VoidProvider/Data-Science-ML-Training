{
 "cells": [
  {
   "cell_type": "markdown",
   "id": "796c567c",
   "metadata": {
    "papermill": {
     "duration": 0.009998,
     "end_time": "2021-09-23T15:03:59.876257",
     "exception": false,
     "start_time": "2021-09-23T15:03:59.866259",
     "status": "completed"
    },
    "tags": []
   },
   "source": [
    "### Training session SQL - Poludniowy albanczyk"
   ]
  },
  {
   "cell_type": "markdown",
   "id": "4874a66e",
   "metadata": {
    "papermill": {
     "duration": 0.008325,
     "end_time": "2021-09-23T15:03:59.895914",
     "exception": false,
     "start_time": "2021-09-23T15:03:59.887589",
     "status": "completed"
    },
    "tags": []
   },
   "source": [
    "**This notebook is an exercise in the [SQL](https://www.kaggle.com/learn/intro-to-sql) course.  You can reference the tutorial at [this link](https://www.kaggle.com/dansbecker/as-with).**\n",
    "\n",
    "---\n"
   ]
  },
  {
   "cell_type": "code",
   "execution_count": 1,
   "id": "fd5957c1",
   "metadata": {
    "execution": {
     "iopub.execute_input": "2021-09-23T15:03:59.917082Z",
     "iopub.status.busy": "2021-09-23T15:03:59.916031Z",
     "iopub.status.idle": "2021-09-23T15:04:04.721607Z",
     "shell.execute_reply": "2021-09-23T15:04:04.722494Z",
     "shell.execute_reply.started": "2021-09-23T13:45:15.136036Z"
    },
    "papermill": {
     "duration": 4.818406,
     "end_time": "2021-09-23T15:04:04.722887",
     "exception": false,
     "start_time": "2021-09-23T15:03:59.904481",
     "status": "completed"
    },
    "tags": []
   },
   "outputs": [
    {
     "name": "stdout",
     "output_type": "stream",
     "text": [
      "Using Kaggle's public dataset BigQuery integration.\n"
     ]
    },
    {
     "name": "stderr",
     "output_type": "stream",
     "text": [
      "/opt/conda/lib/python3.7/site-packages/google/cloud/bigquery/client.py:440: UserWarning: Cannot create BigQuery Storage client, the dependency google-cloud-bigquery-storage is not installed.\n",
      "  \"Cannot create BigQuery Storage client, the dependency \"\n"
     ]
    },
    {
     "name": "stdout",
     "output_type": "stream",
     "text": [
      "Setup Complete\n"
     ]
    }
   ],
   "source": [
    "# Set up feedback system\n",
    "from learntools.core import binder\n",
    "binder.bind(globals())\n",
    "from learntools.sql.ex5 import *\n",
    "print(\"Setup Complete\")"
   ]
  },
  {
   "cell_type": "markdown",
   "id": "274bfba7",
   "metadata": {
    "papermill": {
     "duration": 0.009541,
     "end_time": "2021-09-23T15:04:04.743752",
     "exception": false,
     "start_time": "2021-09-23T15:04:04.734211",
     "status": "completed"
    },
    "tags": []
   },
   "source": [
    "You'll work with a dataset about taxi trips in the city of Chicago. Run the cell below to fetch the `chicago_taxi_trips` dataset."
   ]
  },
  {
   "cell_type": "code",
   "execution_count": 2,
   "id": "4f7fd5cb",
   "metadata": {
    "execution": {
     "iopub.execute_input": "2021-09-23T15:04:04.769779Z",
     "iopub.status.busy": "2021-09-23T15:04:04.769132Z",
     "iopub.status.idle": "2021-09-23T15:04:05.828062Z",
     "shell.execute_reply": "2021-09-23T15:04:05.827497Z",
     "shell.execute_reply.started": "2021-09-23T13:46:20.743591Z"
    },
    "papermill": {
     "duration": 1.07477,
     "end_time": "2021-09-23T15:04:05.828215",
     "exception": false,
     "start_time": "2021-09-23T15:04:04.753445",
     "status": "completed"
    },
    "tags": []
   },
   "outputs": [
    {
     "name": "stdout",
     "output_type": "stream",
     "text": [
      "Using Kaggle's public dataset BigQuery integration.\n"
     ]
    }
   ],
   "source": [
    "from google.cloud import bigquery\n",
    "\n",
    "# Create a \"Client\" object\n",
    "client = bigquery.Client()\n",
    "\n",
    "# Construct a reference to the \"chicago_taxi_trips\" dataset\n",
    "dataset_ref = client.dataset(\"chicago_taxi_trips\", project=\"bigquery-public-data\")\n",
    "\n",
    "# API request - fetch the dataset\n",
    "dataset = client.get_dataset(dataset_ref)"
   ]
  },
  {
   "cell_type": "markdown",
   "id": "7f8cd51c",
   "metadata": {
    "papermill": {
     "duration": 0.010372,
     "end_time": "2021-09-23T15:04:05.850016",
     "exception": false,
     "start_time": "2021-09-23T15:04:05.839644",
     "status": "completed"
    },
    "tags": []
   },
   "source": [
    "# Exercises\n",
    "\n",
    "You are curious how much slower traffic moves when traffic volume is high. This involves a few steps.\n",
    "\n",
    "### 1) Find the data\n",
    "Before you can access the data, you need to find the table name with the data.\n",
    "\n",
    "*Hint*: Tab completion is helpful whenever you can't remember a command. Type `client.` and then hit the tab key. Don't forget the period before hitting tab."
   ]
  },
  {
   "cell_type": "code",
   "execution_count": 3,
   "id": "2b1c8d40",
   "metadata": {
    "execution": {
     "iopub.execute_input": "2021-09-23T15:04:05.876340Z",
     "iopub.status.busy": "2021-09-23T15:04:05.875709Z",
     "iopub.status.idle": "2021-09-23T15:04:06.228622Z",
     "shell.execute_reply": "2021-09-23T15:04:06.227690Z",
     "shell.execute_reply.started": "2021-09-23T13:51:19.361009Z"
    },
    "papermill": {
     "duration": 0.368582,
     "end_time": "2021-09-23T15:04:06.228840",
     "exception": false,
     "start_time": "2021-09-23T15:04:05.860258",
     "status": "completed"
    },
    "tags": []
   },
   "outputs": [
    {
     "name": "stdout",
     "output_type": "stream",
     "text": [
      "taxi_trips\n"
     ]
    }
   ],
   "source": [
    "# List all the tables in the dataset\n",
    "tables = list(client.list_tables(dataset))\n",
    "\n",
    "# Print names of all tables in the dataset (there is only one!)\n",
    "for table in tables:  \n",
    "    print(table.table_id)\n",
    "\n"
   ]
  },
  {
   "cell_type": "code",
   "execution_count": 4,
   "id": "00144eec",
   "metadata": {
    "execution": {
     "iopub.execute_input": "2021-09-23T15:04:06.255050Z",
     "iopub.status.busy": "2021-09-23T15:04:06.253139Z",
     "iopub.status.idle": "2021-09-23T15:04:06.261401Z",
     "shell.execute_reply": "2021-09-23T15:04:06.261869Z",
     "shell.execute_reply.started": "2021-09-23T13:49:52.103383Z"
    },
    "papermill": {
     "duration": 0.022173,
     "end_time": "2021-09-23T15:04:06.262032",
     "exception": false,
     "start_time": "2021-09-23T15:04:06.239859",
     "status": "completed"
    },
    "tags": []
   },
   "outputs": [
    {
     "data": {
      "application/javascript": [
       "parent.postMessage({\"jupyterEvent\": \"custom.exercise_interaction\", \"data\": {\"outcomeType\": 1, \"valueTowardsCompletion\": 0.16666666666666666, \"interactionType\": 1, \"questionType\": 1, \"questionId\": \"1_GetTableName\", \"learnToolsVersion\": \"0.3.4\", \"failureMessage\": \"\", \"exceptionClass\": \"\", \"trace\": \"\"}}, \"*\")"
      ],
      "text/plain": [
       "<IPython.core.display.Javascript object>"
      ]
     },
     "metadata": {},
     "output_type": "display_data"
    },
    {
     "data": {
      "text/markdown": [
       "<span style=\"color:#33cc33\">Correct</span>"
      ],
      "text/plain": [
       "Correct"
      ]
     },
     "metadata": {},
     "output_type": "display_data"
    }
   ],
   "source": [
    "# Write the table name as a string below\n",
    "table_name = 'taxi_trips'\n",
    "\n",
    "# Check your answer\n",
    "q_1.check()"
   ]
  },
  {
   "cell_type": "markdown",
   "id": "35d2862d",
   "metadata": {
    "papermill": {
     "duration": 0.010491,
     "end_time": "2021-09-23T15:04:06.283357",
     "exception": false,
     "start_time": "2021-09-23T15:04:06.272866",
     "status": "completed"
    },
    "tags": []
   },
   "source": [
    "### 2) Peek at the data\n",
    "\n",
    "Use the next code cell to peek at the top few rows of the data. Inspect the data and see if any issues with data quality are immediately obvious. "
   ]
  },
  {
   "cell_type": "code",
   "execution_count": 5,
   "id": "a1fd55a3",
   "metadata": {
    "execution": {
     "iopub.execute_input": "2021-09-23T15:04:06.308243Z",
     "iopub.status.busy": "2021-09-23T15:04:06.307628Z",
     "iopub.status.idle": "2021-09-23T15:04:07.486383Z",
     "shell.execute_reply": "2021-09-23T15:04:07.486840Z",
     "shell.execute_reply.started": "2021-09-23T14:18:52.274431Z"
    },
    "papermill": {
     "duration": 1.192998,
     "end_time": "2021-09-23T15:04:07.487017",
     "exception": false,
     "start_time": "2021-09-23T15:04:06.294019",
     "status": "completed"
    },
    "tags": []
   },
   "outputs": [
    {
     "name": "stderr",
     "output_type": "stream",
     "text": [
      "/opt/conda/lib/python3.7/site-packages/ipykernel_launcher.py:8: UserWarning: Cannot use bqstorage_client if max_results is set, reverting to fetching data with the tabledata.list endpoint.\n",
      "  \n"
     ]
    },
    {
     "data": {
      "text/html": [
       "<div>\n",
       "<style scoped>\n",
       "    .dataframe tbody tr th:only-of-type {\n",
       "        vertical-align: middle;\n",
       "    }\n",
       "\n",
       "    .dataframe tbody tr th {\n",
       "        vertical-align: top;\n",
       "    }\n",
       "\n",
       "    .dataframe thead th {\n",
       "        text-align: right;\n",
       "    }\n",
       "</style>\n",
       "<table border=\"1\" class=\"dataframe\">\n",
       "  <thead>\n",
       "    <tr style=\"text-align: right;\">\n",
       "      <th></th>\n",
       "      <th>unique_key</th>\n",
       "      <th>taxi_id</th>\n",
       "      <th>trip_start_timestamp</th>\n",
       "      <th>trip_end_timestamp</th>\n",
       "      <th>trip_seconds</th>\n",
       "      <th>trip_miles</th>\n",
       "      <th>pickup_census_tract</th>\n",
       "      <th>dropoff_census_tract</th>\n",
       "      <th>pickup_community_area</th>\n",
       "      <th>dropoff_community_area</th>\n",
       "      <th>...</th>\n",
       "      <th>extras</th>\n",
       "      <th>trip_total</th>\n",
       "      <th>payment_type</th>\n",
       "      <th>company</th>\n",
       "      <th>pickup_latitude</th>\n",
       "      <th>pickup_longitude</th>\n",
       "      <th>pickup_location</th>\n",
       "      <th>dropoff_latitude</th>\n",
       "      <th>dropoff_longitude</th>\n",
       "      <th>dropoff_location</th>\n",
       "    </tr>\n",
       "  </thead>\n",
       "  <tbody>\n",
       "    <tr>\n",
       "      <th>0</th>\n",
       "      <td>fc0c0cb1d6d7080a3f3d97c443baab6a81959d02</td>\n",
       "      <td>823e84fe16b6c574b4d68ea21879f760fcaa733b867e31...</td>\n",
       "      <td>2016-01-19 10:15:00+00:00</td>\n",
       "      <td>2016-01-19 10:15:00+00:00</td>\n",
       "      <td>457.0</td>\n",
       "      <td>1.7</td>\n",
       "      <td>NaN</td>\n",
       "      <td>NaN</td>\n",
       "      <td>NaN</td>\n",
       "      <td>NaN</td>\n",
       "      <td>...</td>\n",
       "      <td>0.0</td>\n",
       "      <td>8.60</td>\n",
       "      <td>Credit Card</td>\n",
       "      <td>303 Taxi</td>\n",
       "      <td>NaN</td>\n",
       "      <td>NaN</td>\n",
       "      <td>None</td>\n",
       "      <td>NaN</td>\n",
       "      <td>NaN</td>\n",
       "      <td>None</td>\n",
       "    </tr>\n",
       "    <tr>\n",
       "      <th>1</th>\n",
       "      <td>9c2ce7b2be6a3c5446233532a8d92c91a8b10fd0</td>\n",
       "      <td>e4d62c5f130dee786b1d1515868b32e04df99df544b98e...</td>\n",
       "      <td>2017-01-26 09:30:00+00:00</td>\n",
       "      <td>2017-01-26 09:45:00+00:00</td>\n",
       "      <td>1260.0</td>\n",
       "      <td>12.6</td>\n",
       "      <td>NaN</td>\n",
       "      <td>NaN</td>\n",
       "      <td>NaN</td>\n",
       "      <td>NaN</td>\n",
       "      <td>...</td>\n",
       "      <td>5.0</td>\n",
       "      <td>37.75</td>\n",
       "      <td>Cash</td>\n",
       "      <td>Chicago Independents</td>\n",
       "      <td>NaN</td>\n",
       "      <td>NaN</td>\n",
       "      <td>None</td>\n",
       "      <td>NaN</td>\n",
       "      <td>NaN</td>\n",
       "      <td>None</td>\n",
       "    </tr>\n",
       "    <tr>\n",
       "      <th>2</th>\n",
       "      <td>2c7254540b7e9cb659d45c6893f3707dd349a546</td>\n",
       "      <td>01d4efe447227b73918ec67e1cf9f29be1575b44d257b6...</td>\n",
       "      <td>2013-01-03 16:15:00+00:00</td>\n",
       "      <td>2013-01-03 16:15:00+00:00</td>\n",
       "      <td>60.0</td>\n",
       "      <td>0.0</td>\n",
       "      <td>NaN</td>\n",
       "      <td>NaN</td>\n",
       "      <td>NaN</td>\n",
       "      <td>NaN</td>\n",
       "      <td>...</td>\n",
       "      <td>0.0</td>\n",
       "      <td>50.05</td>\n",
       "      <td>Credit Card</td>\n",
       "      <td>Taxi Affiliation Services</td>\n",
       "      <td>NaN</td>\n",
       "      <td>NaN</td>\n",
       "      <td>None</td>\n",
       "      <td>NaN</td>\n",
       "      <td>NaN</td>\n",
       "      <td>None</td>\n",
       "    </tr>\n",
       "    <tr>\n",
       "      <th>3</th>\n",
       "      <td>8527bf0132f1d4a8ffbd53a34ac646974444c872</td>\n",
       "      <td>c02e4b7d55d11b15841c4ff678e4057182b1b0f61830b0...</td>\n",
       "      <td>2013-01-08 13:00:00+00:00</td>\n",
       "      <td>2013-01-08 12:45:00+00:00</td>\n",
       "      <td>NaN</td>\n",
       "      <td>0.0</td>\n",
       "      <td>NaN</td>\n",
       "      <td>NaN</td>\n",
       "      <td>NaN</td>\n",
       "      <td>NaN</td>\n",
       "      <td>...</td>\n",
       "      <td>0.0</td>\n",
       "      <td>11.45</td>\n",
       "      <td>Credit Card</td>\n",
       "      <td>Taxi Affiliation Services</td>\n",
       "      <td>NaN</td>\n",
       "      <td>NaN</td>\n",
       "      <td>None</td>\n",
       "      <td>NaN</td>\n",
       "      <td>NaN</td>\n",
       "      <td>None</td>\n",
       "    </tr>\n",
       "    <tr>\n",
       "      <th>4</th>\n",
       "      <td>435d7372da8158aaafd20f787c12265b5d36df14</td>\n",
       "      <td>e4d62c5f130dee786b1d1515868b32e04df99df544b98e...</td>\n",
       "      <td>2017-01-26 09:45:00+00:00</td>\n",
       "      <td>2017-01-26 09:45:00+00:00</td>\n",
       "      <td>0.0</td>\n",
       "      <td>0.0</td>\n",
       "      <td>NaN</td>\n",
       "      <td>NaN</td>\n",
       "      <td>NaN</td>\n",
       "      <td>NaN</td>\n",
       "      <td>...</td>\n",
       "      <td>0.0</td>\n",
       "      <td>66.50</td>\n",
       "      <td>Credit Card</td>\n",
       "      <td>Chicago Independents</td>\n",
       "      <td>NaN</td>\n",
       "      <td>NaN</td>\n",
       "      <td>None</td>\n",
       "      <td>NaN</td>\n",
       "      <td>NaN</td>\n",
       "      <td>None</td>\n",
       "    </tr>\n",
       "  </tbody>\n",
       "</table>\n",
       "<p>5 rows × 23 columns</p>\n",
       "</div>"
      ],
      "text/plain": [
       "                                 unique_key  \\\n",
       "0  fc0c0cb1d6d7080a3f3d97c443baab6a81959d02   \n",
       "1  9c2ce7b2be6a3c5446233532a8d92c91a8b10fd0   \n",
       "2  2c7254540b7e9cb659d45c6893f3707dd349a546   \n",
       "3  8527bf0132f1d4a8ffbd53a34ac646974444c872   \n",
       "4  435d7372da8158aaafd20f787c12265b5d36df14   \n",
       "\n",
       "                                             taxi_id  \\\n",
       "0  823e84fe16b6c574b4d68ea21879f760fcaa733b867e31...   \n",
       "1  e4d62c5f130dee786b1d1515868b32e04df99df544b98e...   \n",
       "2  01d4efe447227b73918ec67e1cf9f29be1575b44d257b6...   \n",
       "3  c02e4b7d55d11b15841c4ff678e4057182b1b0f61830b0...   \n",
       "4  e4d62c5f130dee786b1d1515868b32e04df99df544b98e...   \n",
       "\n",
       "       trip_start_timestamp        trip_end_timestamp  trip_seconds  \\\n",
       "0 2016-01-19 10:15:00+00:00 2016-01-19 10:15:00+00:00         457.0   \n",
       "1 2017-01-26 09:30:00+00:00 2017-01-26 09:45:00+00:00        1260.0   \n",
       "2 2013-01-03 16:15:00+00:00 2013-01-03 16:15:00+00:00          60.0   \n",
       "3 2013-01-08 13:00:00+00:00 2013-01-08 12:45:00+00:00           NaN   \n",
       "4 2017-01-26 09:45:00+00:00 2017-01-26 09:45:00+00:00           0.0   \n",
       "\n",
       "   trip_miles  pickup_census_tract  dropoff_census_tract  \\\n",
       "0         1.7                  NaN                   NaN   \n",
       "1        12.6                  NaN                   NaN   \n",
       "2         0.0                  NaN                   NaN   \n",
       "3         0.0                  NaN                   NaN   \n",
       "4         0.0                  NaN                   NaN   \n",
       "\n",
       "   pickup_community_area  dropoff_community_area  ...  extras  trip_total  \\\n",
       "0                    NaN                     NaN  ...     0.0        8.60   \n",
       "1                    NaN                     NaN  ...     5.0       37.75   \n",
       "2                    NaN                     NaN  ...     0.0       50.05   \n",
       "3                    NaN                     NaN  ...     0.0       11.45   \n",
       "4                    NaN                     NaN  ...     0.0       66.50   \n",
       "\n",
       "   payment_type                    company  pickup_latitude pickup_longitude  \\\n",
       "0   Credit Card                   303 Taxi              NaN              NaN   \n",
       "1          Cash       Chicago Independents              NaN              NaN   \n",
       "2   Credit Card  Taxi Affiliation Services              NaN              NaN   \n",
       "3   Credit Card  Taxi Affiliation Services              NaN              NaN   \n",
       "4   Credit Card       Chicago Independents              NaN              NaN   \n",
       "\n",
       "  pickup_location  dropoff_latitude  dropoff_longitude dropoff_location  \n",
       "0            None               NaN                NaN             None  \n",
       "1            None               NaN                NaN             None  \n",
       "2            None               NaN                NaN             None  \n",
       "3            None               NaN                NaN             None  \n",
       "4            None               NaN                NaN             None  \n",
       "\n",
       "[5 rows x 23 columns]"
      ]
     },
     "execution_count": 5,
     "metadata": {},
     "output_type": "execute_result"
    }
   ],
   "source": [
    "# Construct a reference to the \"taxi_trips\" table\n",
    "table_ref = dataset_ref.table(\"taxi_trips\")\n",
    "\n",
    "# API request - fetch the table\n",
    "table = client.get_table(table_ref)\n",
    "\n",
    "# Preview the first five lines of the \"taxi_trips\" table\n",
    "client.list_rows(table, max_results=5).to_dataframe()\n",
    "\n"
   ]
  },
  {
   "cell_type": "markdown",
   "id": "7bd3a0a0",
   "metadata": {
    "papermill": {
     "duration": 0.012527,
     "end_time": "2021-09-23T15:04:07.511463",
     "exception": false,
     "start_time": "2021-09-23T15:04:07.498936",
     "status": "completed"
    },
    "tags": []
   },
   "source": [
    "### 3) Determine when this data is from\n",
    "\n",
    "If the data is sufficiently old, we might be careful before assuming the data is still relevant to traffic patterns today. Write a query that counts the number of trips in each year.  \n",
    "\n",
    "Your results should have two columns:\n",
    "- `year` - the year of the trips\n",
    "- `num_trips` - the number of trips in that year\n",
    "\n",
    "Hints:\n",
    "- When using **GROUP BY** and **ORDER BY**, you should refer to the columns by the alias `year` that you set at the top of the **SELECT** query.\n",
    "- The SQL code to **SELECT** the year from `trip_start_timestamp` is <code>SELECT EXTRACT(YEAR FROM trip_start_timestamp)</code>\n",
    "- The **FROM** field can be a little tricky until you are used to it.  The format is:\n",
    "    1. A backick (the symbol \\`).\n",
    "    2. The project name. In this case it is `bigquery-public-data`.\n",
    "    3. A period.\n",
    "    4. The dataset name. In this case, it is `chicago_taxi_trips`.\n",
    "    5. A period.\n",
    "    6. The table name. You used this as your answer in **1) Find the data**.\n",
    "    7. A backtick (the symbol \\`)."
   ]
  },
  {
   "cell_type": "code",
   "execution_count": 6,
   "id": "cf573c01",
   "metadata": {
    "execution": {
     "iopub.execute_input": "2021-09-23T15:04:07.542035Z",
     "iopub.status.busy": "2021-09-23T15:04:07.537412Z",
     "iopub.status.idle": "2021-09-23T15:04:09.693336Z",
     "shell.execute_reply": "2021-09-23T15:04:09.692847Z",
     "shell.execute_reply.started": "2021-09-23T14:26:43.423354Z"
    },
    "papermill": {
     "duration": 2.17042,
     "end_time": "2021-09-23T15:04:09.693473",
     "exception": false,
     "start_time": "2021-09-23T15:04:07.523053",
     "status": "completed"
    },
    "tags": []
   },
   "outputs": [
    {
     "name": "stderr",
     "output_type": "stream",
     "text": [
      "/opt/conda/lib/python3.7/site-packages/google/cloud/bigquery/client.py:440: UserWarning: Cannot create BigQuery Storage client, the dependency google-cloud-bigquery-storage is not installed.\n",
      "  \"Cannot create BigQuery Storage client, the dependency \"\n"
     ]
    },
    {
     "name": "stdout",
     "output_type": "stream",
     "text": [
      "   num_trips  year\n",
      "0   27217716  2013\n",
      "1   37395436  2014\n",
      "2   32385875  2015\n",
      "3   31759339  2016\n",
      "4   24988003  2017\n",
      "5   20732088  2018\n",
      "6   16477365  2019\n",
      "7    3889032  2020\n",
      "8    2148174  2021\n"
     ]
    },
    {
     "data": {
      "application/javascript": [
       "parent.postMessage({\"jupyterEvent\": \"custom.exercise_interaction\", \"data\": {\"outcomeType\": 1, \"valueTowardsCompletion\": 0.16666666666666666, \"interactionType\": 1, \"questionType\": 2, \"questionId\": \"3_YearDistrib\", \"learnToolsVersion\": \"0.3.4\", \"failureMessage\": \"\", \"exceptionClass\": \"\", \"trace\": \"\"}}, \"*\")"
      ],
      "text/plain": [
       "<IPython.core.display.Javascript object>"
      ]
     },
     "metadata": {},
     "output_type": "display_data"
    },
    {
     "data": {
      "text/markdown": [
       "<span style=\"color:#33cc33\">Correct</span>"
      ],
      "text/plain": [
       "Correct"
      ]
     },
     "metadata": {},
     "output_type": "display_data"
    }
   ],
   "source": [
    "# Your code goes here\n",
    "rides_per_year_query = \"\"\"WITH years AS \n",
    "                       (SELECT EXTRACT(YEAR FROM trip_start_timestamp) as year\n",
    "                       FROM `bigquery-public-data.chicago_taxi_trips.taxi_trips`)\n",
    "                       SELECT COUNT(1) as num_trips, year\n",
    "                       from years\n",
    "                       GROUP BY year\n",
    "                       ORDER BY year\"\"\"\n",
    "\n",
    "safe_config = bigquery.QueryJobConfig(maximum_bytes_billed=10**10)\n",
    "rides_per_year_query_job = client.query(rides_per_year_query, job_config=safe_config)\n",
    "\n",
    "rides_per_year_result = rides_per_year_query_job.to_dataframe()\n",
    "\n",
    "\n",
    "print(rides_per_year_result)\n",
    "\n",
    "\n",
    "q_3.check()"
   ]
  },
  {
   "cell_type": "markdown",
   "id": "68e87f5d",
   "metadata": {
    "papermill": {
     "duration": 0.012737,
     "end_time": "2021-09-23T15:04:09.719410",
     "exception": false,
     "start_time": "2021-09-23T15:04:09.706673",
     "status": "completed"
    },
    "tags": []
   },
   "source": [
    "### 4) Dive slightly deeper\n",
    "\n",
    "You'd like to take a closer look at rides from 2017.  Copy the query you used above in `rides_per_year_query` into the cell below for `rides_per_month_query`.  Then modify it in two ways:\n",
    "1. Use a **WHERE** clause to limit the query to data from 2017.\n",
    "2. Modify the query to extract the month rather than the year."
   ]
  },
  {
   "cell_type": "code",
   "execution_count": 7,
   "id": "e1a621e7",
   "metadata": {
    "execution": {
     "iopub.execute_input": "2021-09-23T15:04:09.752862Z",
     "iopub.status.busy": "2021-09-23T15:04:09.752190Z",
     "iopub.status.idle": "2021-09-23T15:04:12.480933Z",
     "shell.execute_reply": "2021-09-23T15:04:12.481396Z",
     "shell.execute_reply.started": "2021-09-23T14:42:04.095554Z"
    },
    "papermill": {
     "duration": 2.749072,
     "end_time": "2021-09-23T15:04:12.481589",
     "exception": false,
     "start_time": "2021-09-23T15:04:09.732517",
     "status": "completed"
    },
    "tags": []
   },
   "outputs": [
    {
     "name": "stderr",
     "output_type": "stream",
     "text": [
      "/opt/conda/lib/python3.7/site-packages/google/cloud/bigquery/client.py:440: UserWarning: Cannot create BigQuery Storage client, the dependency google-cloud-bigquery-storage is not installed.\n",
      "  \"Cannot create BigQuery Storage client, the dependency \"\n"
     ]
    },
    {
     "name": "stdout",
     "output_type": "stream",
     "text": [
      "    month  num_trips\n",
      "0       1    1972071\n",
      "1       2    1909802\n",
      "2       3    2362105\n",
      "3       4    2194702\n",
      "4       5    2323386\n",
      "5       6    2324472\n",
      "6       7    2054299\n",
      "7       8    2079861\n",
      "8       9    1950631\n",
      "9      10    2141197\n",
      "10     11    1907997\n",
      "11     12    1767480\n"
     ]
    },
    {
     "data": {
      "application/javascript": [
       "parent.postMessage({\"jupyterEvent\": \"custom.exercise_interaction\", \"data\": {\"outcomeType\": 1, \"valueTowardsCompletion\": 0.16666666666666666, \"interactionType\": 1, \"questionType\": 2, \"questionId\": \"4_MonthDistrib\", \"learnToolsVersion\": \"0.3.4\", \"failureMessage\": \"\", \"exceptionClass\": \"\", \"trace\": \"\"}}, \"*\")"
      ],
      "text/plain": [
       "<IPython.core.display.Javascript object>"
      ]
     },
     "metadata": {},
     "output_type": "display_data"
    },
    {
     "data": {
      "text/markdown": [
       "<span style=\"color:#33cc33\">Correct</span>"
      ],
      "text/plain": [
       "Correct"
      ]
     },
     "metadata": {},
     "output_type": "display_data"
    }
   ],
   "source": [
    "# Your code goes here\n",
    "rides_per_month_query = \"\"\"WITH months AS \n",
    "                       (SELECT EXTRACT(MONTH FROM trip_start_timestamp) as month\n",
    "                       FROM `bigquery-public-data.chicago_taxi_trips.taxi_trips`\n",
    "                       WHERE EXTRACT(YEAR FROM trip_start_timestamp)=2017)\n",
    "                       \n",
    "                       SELECT month,COUNT(1) as num_trips\n",
    "                       from months\n",
    "                       GROUP BY month\n",
    "                       ORDER BY month\"\"\" \n",
    "\n",
    "# Set up the query\n",
    "safe_config = bigquery.QueryJobConfig(maximum_bytes_billed=10**10)\n",
    "rides_per_month_query_job = client.query(rides_per_month_query,job_config=safe_config) # Your code goes here\n",
    "\n",
    "# API request - run the query, and return a pandas DataFrame\n",
    "rides_per_month_result = rides_per_month_query_job.to_dataframe() # Your code goes here\n",
    "\n",
    "# View results\n",
    "print(rides_per_month_result)\n",
    "\n",
    "# Check your answer\n",
    "q_4.check()"
   ]
  },
  {
   "cell_type": "markdown",
   "id": "65ff38b1",
   "metadata": {
    "papermill": {
     "duration": 0.014091,
     "end_time": "2021-09-23T15:04:12.509608",
     "exception": false,
     "start_time": "2021-09-23T15:04:12.495517",
     "status": "completed"
    },
    "tags": []
   },
   "source": [
    "### 5) Write the query\n",
    "\n",
    "It's time to step up the sophistication of your queries.  Write a query that shows, for each hour of the day in the dataset, the corresponding number of trips and average speed.\n",
    "\n",
    "Your results should have three columns:\n",
    "- `hour_of_day` - sort by this column, which holds the result of extracting the hour from `trip_start_timestamp`.\n",
    "- `num_trips` - the count of the total number of trips in each hour of the day (e.g. how many trips were started between 6AM and 7AM, independent of which day it occurred on).\n",
    "- `avg_mph` - the average speed, measured in miles per hour, for trips that started in that hour of the day.  Average speed in miles per hour is calculated as `3600 * SUM(trip_miles) / SUM(trip_seconds)`. (The value 3600 is used to convert from seconds to hours.)\n",
    "\n",
    "Restrict your query to data meeting the following criteria:\n",
    "- a `trip_start_timestamp` between **2017-01-01** and **2017-07-01**\n",
    "- `trip_seconds` > 0 and `trip_miles` > 0\n",
    "\n",
    "You will use a common table expression (CTE) to select just the relevant rides.  Because this dataset is very big, this CTE should select only the columns you'll need to create the final output (though you won't actually create those in the CTE -- instead you'll create those in the later **SELECT** statement below the CTE).\n",
    "\n",
    "This is a much harder query than anything you've written so far.  Good luck!"
   ]
  },
  {
   "cell_type": "code",
   "execution_count": 8,
   "id": "2f63748c",
   "metadata": {
    "execution": {
     "iopub.execute_input": "2021-09-23T15:04:12.541814Z",
     "iopub.status.busy": "2021-09-23T15:04:12.541112Z",
     "iopub.status.idle": "2021-09-23T15:04:13.786477Z",
     "shell.execute_reply": "2021-09-23T15:04:13.785998Z",
     "shell.execute_reply.started": "2021-09-23T15:02:23.065834Z"
    },
    "papermill": {
     "duration": 1.262732,
     "end_time": "2021-09-23T15:04:13.786636",
     "exception": false,
     "start_time": "2021-09-23T15:04:12.523904",
     "status": "completed"
    },
    "tags": []
   },
   "outputs": [
    {
     "name": "stderr",
     "output_type": "stream",
     "text": [
      "/opt/conda/lib/python3.7/site-packages/google/cloud/bigquery/client.py:440: UserWarning: Cannot create BigQuery Storage client, the dependency google-cloud-bigquery-storage is not installed.\n",
      "  \"Cannot create BigQuery Storage client, the dependency \"\n"
     ]
    },
    {
     "name": "stdout",
     "output_type": "stream",
     "text": [
      "    hour_of_day  num_trips    avg_mph\n",
      "0             0     319339  20.230524\n",
      "1             1     266529  18.937621\n",
      "2             2     210147  18.777070\n",
      "3             3     159668  20.158048\n",
      "4             4     122183  26.736014\n",
      "5             5     119312  30.769172\n",
      "6             6     182738  24.588313\n",
      "7             7     358406  17.735967\n",
      "8             8     541775  15.079892\n",
      "9             9     565548  16.543882\n",
      "10           10     525120  18.539614\n",
      "11           11     594603  18.928379\n",
      "12           12     622324  17.838745\n",
      "13           13     630181  17.671089\n",
      "14           14     622465  16.974239\n",
      "15           15     640430  15.688418\n",
      "16           16     701435  14.283888\n",
      "17           17     756627  12.462955\n",
      "18           18     768251  13.646810\n",
      "19           19     701064  16.642882\n",
      "20           20     598614  19.536777\n",
      "21           21     552726  20.433874\n",
      "22           22     501095  19.531374\n",
      "23           23     399587  19.877046\n"
     ]
    },
    {
     "data": {
      "application/javascript": [
       "parent.postMessage({\"jupyterEvent\": \"custom.exercise_interaction\", \"data\": {\"outcomeType\": 1, \"valueTowardsCompletion\": 0.16666666666666666, \"interactionType\": 1, \"questionType\": 2, \"questionId\": \"5_TheLongQuery\", \"learnToolsVersion\": \"0.3.4\", \"failureMessage\": \"\", \"exceptionClass\": \"\", \"trace\": \"\"}}, \"*\")"
      ],
      "text/plain": [
       "<IPython.core.display.Javascript object>"
      ]
     },
     "metadata": {},
     "output_type": "display_data"
    },
    {
     "data": {
      "text/markdown": [
       "<span style=\"color:#33cc33\">Correct</span>"
      ],
      "text/plain": [
       "Correct"
      ]
     },
     "metadata": {},
     "output_type": "display_data"
    }
   ],
   "source": [
    "# Your code goes here\n",
    "speeds_query = \"\"\"\n",
    "               WITH RelevantRides AS\n",
    "               (\n",
    "                   SELECT EXTRACT(HOUR from trip_start_timestamp) as hour_of_day, \n",
    "                   trip_miles, trip_seconds\n",
    "                   FROM `bigquery-public-data.chicago_taxi_trips.taxi_trips`\n",
    "                   WHERE trip_start_timestamp > '2017-01-01' AND \n",
    "                         trip_start_timestamp < '2017-07-01' AND \n",
    "                         trip_miles >0 AND\n",
    "                         trip_seconds >0\n",
    "               )\n",
    "               SELECT hour_of_day, \n",
    "               COUNT(1) as num_trips,\n",
    "               3600*SUM(trip_miles)/SUM(trip_seconds) as avg_mph\n",
    "               \n",
    "               FROM RelevantRides\n",
    "               GROUP BY hour_of_day\n",
    "               ORDER BY hour_of_day\n",
    "               \"\"\"\n",
    "\n",
    "# Set up the query\n",
    "safe_config = bigquery.QueryJobConfig(maximum_bytes_billed=10**10)\n",
    "speeds_query_job = client.query(speeds_query,job_config=safe_config)# Your code here\n",
    "\n",
    "# API request - run the query, and return a pandas DataFrame\n",
    "speeds_result = speeds_query_job.to_dataframe() # Your code here\n",
    "\n",
    "# View results\n",
    "print(speeds_result)\n",
    "\n",
    "# Check your answer\n",
    "q_5.check()"
   ]
  }
 ],
 "metadata": {
  "kernelspec": {
   "display_name": "Python 3",
   "language": "python",
   "name": "python3"
  },
  "language_info": {
   "codemirror_mode": {
    "name": "ipython",
    "version": 3
   },
   "file_extension": ".py",
   "mimetype": "text/x-python",
   "name": "python",
   "nbconvert_exporter": "python",
   "pygments_lexer": "ipython3",
   "version": "3.7.10"
  },
  "papermill": {
   "default_parameters": {},
   "duration": 21.377186,
   "end_time": "2021-09-23T15:04:14.310671",
   "environment_variables": {},
   "exception": null,
   "input_path": "__notebook__.ipynb",
   "output_path": "__notebook__.ipynb",
   "parameters": {},
   "start_time": "2021-09-23T15:03:52.933485",
   "version": "2.3.3"
  }
 },
 "nbformat": 4,
 "nbformat_minor": 5
}
