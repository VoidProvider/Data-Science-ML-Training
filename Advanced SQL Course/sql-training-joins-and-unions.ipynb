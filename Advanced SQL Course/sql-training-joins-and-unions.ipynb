{
 "cells": [
  {
   "cell_type": "markdown",
   "id": "35790b65",
   "metadata": {
    "papermill": {
     "duration": 0.016762,
     "end_time": "2021-11-28T23:23:58.812830",
     "exception": false,
     "start_time": "2021-11-28T23:23:58.796068",
     "status": "completed"
    },
    "tags": []
   },
   "source": [
    "## SQL Training Session - LEFT/RIGHT/INNER JOIN and UNION\n",
    "\n",
    "---\n"
   ]
  },
  {
   "cell_type": "markdown",
   "id": "308e92fb",
   "metadata": {
    "papermill": {
     "duration": 0.017051,
     "end_time": "2021-11-28T23:23:58.847221",
     "exception": false,
     "start_time": "2021-11-28T23:23:58.830170",
     "status": "completed"
    },
    "tags": []
   },
   "source": [
    "# Introduction\n",
    "\n",
    "Here, you'll use different types of SQL **JOINs** to answer questions about the [Stack Overflow](https://www.kaggle.com/stackoverflow/stackoverflow) dataset.\n",
    "\n",
    "Before you get started, run the following cell to set everything up."
   ]
  },
  {
   "cell_type": "code",
   "execution_count": 1,
   "id": "cceae473",
   "metadata": {
    "execution": {
     "iopub.execute_input": "2021-11-28T23:23:58.885465Z",
     "iopub.status.busy": "2021-11-28T23:23:58.884858Z",
     "iopub.status.idle": "2021-11-28T23:24:19.818029Z",
     "shell.execute_reply": "2021-11-28T23:24:19.817081Z",
     "shell.execute_reply.started": "2021-11-28T21:57:30.569388Z"
    },
    "papermill": {
     "duration": 20.958269,
     "end_time": "2021-11-28T23:24:19.818248",
     "exception": false,
     "start_time": "2021-11-28T23:23:58.859979",
     "status": "completed"
    },
    "tags": []
   },
   "outputs": [
    {
     "name": "stdout",
     "output_type": "stream",
     "text": [
      "Using Kaggle's public dataset BigQuery integration.\n"
     ]
    },
    {
     "name": "stderr",
     "output_type": "stream",
     "text": [
      "/opt/conda/lib/python3.7/site-packages/google/cloud/bigquery/client.py:440: UserWarning: Cannot create BigQuery Storage client, the dependency google-cloud-bigquery-storage is not installed.\n",
      "  \"Cannot create BigQuery Storage client, the dependency \"\n"
     ]
    },
    {
     "name": "stdout",
     "output_type": "stream",
     "text": [
      "Setup Complete\n"
     ]
    }
   ],
   "source": [
    "# Set up feedback system\n",
    "from learntools.core import binder\n",
    "binder.bind(globals())\n",
    "from learntools.sql_advanced.ex1 import *\n",
    "print(\"Setup Complete\")"
   ]
  },
  {
   "cell_type": "markdown",
   "id": "5f09f777",
   "metadata": {
    "papermill": {
     "duration": 0.01315,
     "end_time": "2021-11-28T23:24:19.846018",
     "exception": false,
     "start_time": "2021-11-28T23:24:19.832868",
     "status": "completed"
    },
    "tags": []
   },
   "source": [
    "The code cell below fetches the `posts_questions` table from the `stackoverflow` dataset.  We also preview the first five rows of the table."
   ]
  },
  {
   "cell_type": "code",
   "execution_count": 2,
   "id": "a5709e44",
   "metadata": {
    "execution": {
     "iopub.execute_input": "2021-11-28T23:24:19.881730Z",
     "iopub.status.busy": "2021-11-28T23:24:19.881047Z",
     "iopub.status.idle": "2021-11-28T23:24:21.679379Z",
     "shell.execute_reply": "2021-11-28T23:24:21.679993Z",
     "shell.execute_reply.started": "2021-11-28T21:57:51.847565Z"
    },
    "papermill": {
     "duration": 1.820857,
     "end_time": "2021-11-28T23:24:21.680186",
     "exception": false,
     "start_time": "2021-11-28T23:24:19.859329",
     "status": "completed"
    },
    "tags": []
   },
   "outputs": [
    {
     "name": "stdout",
     "output_type": "stream",
     "text": [
      "Using Kaggle's public dataset BigQuery integration.\n"
     ]
    },
    {
     "name": "stderr",
     "output_type": "stream",
     "text": [
      "/opt/conda/lib/python3.7/site-packages/ipykernel_launcher.py:19: UserWarning: Cannot use bqstorage_client if max_results is set, reverting to fetching data with the tabledata.list endpoint.\n"
     ]
    },
    {
     "data": {
      "text/html": [
       "<div>\n",
       "<style scoped>\n",
       "    .dataframe tbody tr th:only-of-type {\n",
       "        vertical-align: middle;\n",
       "    }\n",
       "\n",
       "    .dataframe tbody tr th {\n",
       "        vertical-align: top;\n",
       "    }\n",
       "\n",
       "    .dataframe thead th {\n",
       "        text-align: right;\n",
       "    }\n",
       "</style>\n",
       "<table border=\"1\" class=\"dataframe\">\n",
       "  <thead>\n",
       "    <tr style=\"text-align: right;\">\n",
       "      <th></th>\n",
       "      <th>id</th>\n",
       "      <th>title</th>\n",
       "      <th>body</th>\n",
       "      <th>accepted_answer_id</th>\n",
       "      <th>answer_count</th>\n",
       "      <th>comment_count</th>\n",
       "      <th>community_owned_date</th>\n",
       "      <th>creation_date</th>\n",
       "      <th>favorite_count</th>\n",
       "      <th>last_activity_date</th>\n",
       "      <th>last_edit_date</th>\n",
       "      <th>last_editor_display_name</th>\n",
       "      <th>last_editor_user_id</th>\n",
       "      <th>owner_display_name</th>\n",
       "      <th>owner_user_id</th>\n",
       "      <th>parent_id</th>\n",
       "      <th>post_type_id</th>\n",
       "      <th>score</th>\n",
       "      <th>tags</th>\n",
       "      <th>view_count</th>\n",
       "    </tr>\n",
       "  </thead>\n",
       "  <tbody>\n",
       "    <tr>\n",
       "      <th>0</th>\n",
       "      <td>68760184</td>\n",
       "      <td>SpawnPrefabAtGeoLocation with mapbox-streets-v8?</td>\n",
       "      <td>&lt;p&gt;How can we spawn custom prefabs at geo loca...</td>\n",
       "      <td>NaN</td>\n",
       "      <td>0</td>\n",
       "      <td>0</td>\n",
       "      <td>NaT</td>\n",
       "      <td>2021-08-12 15:22:56.787000+00:00</td>\n",
       "      <td>NaN</td>\n",
       "      <td>2021-08-12 15:22:56.787000+00:00</td>\n",
       "      <td>NaT</td>\n",
       "      <td>None</td>\n",
       "      <td>NaN</td>\n",
       "      <td>None</td>\n",
       "      <td>8169506</td>\n",
       "      <td>None</td>\n",
       "      <td>1</td>\n",
       "      <td>0</td>\n",
       "      <td>mapbox-unity</td>\n",
       "      <td>2</td>\n",
       "    </tr>\n",
       "    <tr>\n",
       "      <th>1</th>\n",
       "      <td>68776566</td>\n",
       "      <td>Why to use process.nextTick() to call Writeabl...</td>\n",
       "      <td>&lt;p&gt;I was reading the &lt;a href=\"https://nodejs.o...</td>\n",
       "      <td>NaN</td>\n",
       "      <td>0</td>\n",
       "      <td>0</td>\n",
       "      <td>NaT</td>\n",
       "      <td>2021-08-13 17:56:46.653000+00:00</td>\n",
       "      <td>NaN</td>\n",
       "      <td>2021-08-13 17:56:46.653000+00:00</td>\n",
       "      <td>NaT</td>\n",
       "      <td>None</td>\n",
       "      <td>NaN</td>\n",
       "      <td>None</td>\n",
       "      <td>11255630</td>\n",
       "      <td>None</td>\n",
       "      <td>1</td>\n",
       "      <td>0</td>\n",
       "      <td>javascript|node.js|stream|buffer</td>\n",
       "      <td>2</td>\n",
       "    </tr>\n",
       "    <tr>\n",
       "      <th>2</th>\n",
       "      <td>68847727</td>\n",
       "      <td>Share button in browser copy old address url</td>\n",
       "      <td>&lt;p&gt;I dont know but my share button in browser ...</td>\n",
       "      <td>NaN</td>\n",
       "      <td>0</td>\n",
       "      <td>0</td>\n",
       "      <td>NaT</td>\n",
       "      <td>2021-08-19 12:16:22.210000+00:00</td>\n",
       "      <td>NaN</td>\n",
       "      <td>2021-08-19 12:16:22.210000+00:00</td>\n",
       "      <td>NaT</td>\n",
       "      <td>None</td>\n",
       "      <td>NaN</td>\n",
       "      <td>None</td>\n",
       "      <td>15916653</td>\n",
       "      <td>None</td>\n",
       "      <td>1</td>\n",
       "      <td>0</td>\n",
       "      <td>url|mobile</td>\n",
       "      <td>2</td>\n",
       "    </tr>\n",
       "    <tr>\n",
       "      <th>3</th>\n",
       "      <td>68863312</td>\n",
       "      <td>Changed a Virtual Switch on a node and destroy...</td>\n",
       "      <td>&lt;p&gt;I have a Windows Failover cluster with 2 'b...</td>\n",
       "      <td>NaN</td>\n",
       "      <td>0</td>\n",
       "      <td>0</td>\n",
       "      <td>NaT</td>\n",
       "      <td>2021-08-20 13:46:29.450000+00:00</td>\n",
       "      <td>NaN</td>\n",
       "      <td>2021-08-20 13:46:29.450000+00:00</td>\n",
       "      <td>NaT</td>\n",
       "      <td>None</td>\n",
       "      <td>NaN</td>\n",
       "      <td>None</td>\n",
       "      <td>3533172</td>\n",
       "      <td>None</td>\n",
       "      <td>1</td>\n",
       "      <td>0</td>\n",
       "      <td>failovercluster</td>\n",
       "      <td>2</td>\n",
       "    </tr>\n",
       "    <tr>\n",
       "      <th>4</th>\n",
       "      <td>69023598</td>\n",
       "      <td>Problem about exporting data by the function “...</td>\n",
       "      <td>&lt;p&gt;1.The field type defined in the database is...</td>\n",
       "      <td>NaN</td>\n",
       "      <td>0</td>\n",
       "      <td>0</td>\n",
       "      <td>NaT</td>\n",
       "      <td>2021-09-02 03:00:15+00:00</td>\n",
       "      <td>NaN</td>\n",
       "      <td>2021-09-02 03:00:15+00:00</td>\n",
       "      <td>NaT</td>\n",
       "      <td>None</td>\n",
       "      <td>NaN</td>\n",
       "      <td>None</td>\n",
       "      <td>15504166</td>\n",
       "      <td>None</td>\n",
       "      <td>1</td>\n",
       "      <td>0</td>\n",
       "      <td>dolphindb</td>\n",
       "      <td>2</td>\n",
       "    </tr>\n",
       "  </tbody>\n",
       "</table>\n",
       "</div>"
      ],
      "text/plain": [
       "         id                                              title  \\\n",
       "0  68760184   SpawnPrefabAtGeoLocation with mapbox-streets-v8?   \n",
       "1  68776566  Why to use process.nextTick() to call Writeabl...   \n",
       "2  68847727       Share button in browser copy old address url   \n",
       "3  68863312  Changed a Virtual Switch on a node and destroy...   \n",
       "4  69023598  Problem about exporting data by the function “...   \n",
       "\n",
       "                                                body  accepted_answer_id  \\\n",
       "0  <p>How can we spawn custom prefabs at geo loca...                 NaN   \n",
       "1  <p>I was reading the <a href=\"https://nodejs.o...                 NaN   \n",
       "2  <p>I dont know but my share button in browser ...                 NaN   \n",
       "3  <p>I have a Windows Failover cluster with 2 'b...                 NaN   \n",
       "4  <p>1.The field type defined in the database is...                 NaN   \n",
       "\n",
       "   answer_count  comment_count community_owned_date  \\\n",
       "0             0              0                  NaT   \n",
       "1             0              0                  NaT   \n",
       "2             0              0                  NaT   \n",
       "3             0              0                  NaT   \n",
       "4             0              0                  NaT   \n",
       "\n",
       "                     creation_date  favorite_count  \\\n",
       "0 2021-08-12 15:22:56.787000+00:00             NaN   \n",
       "1 2021-08-13 17:56:46.653000+00:00             NaN   \n",
       "2 2021-08-19 12:16:22.210000+00:00             NaN   \n",
       "3 2021-08-20 13:46:29.450000+00:00             NaN   \n",
       "4        2021-09-02 03:00:15+00:00             NaN   \n",
       "\n",
       "                last_activity_date last_edit_date last_editor_display_name  \\\n",
       "0 2021-08-12 15:22:56.787000+00:00            NaT                     None   \n",
       "1 2021-08-13 17:56:46.653000+00:00            NaT                     None   \n",
       "2 2021-08-19 12:16:22.210000+00:00            NaT                     None   \n",
       "3 2021-08-20 13:46:29.450000+00:00            NaT                     None   \n",
       "4        2021-09-02 03:00:15+00:00            NaT                     None   \n",
       "\n",
       "   last_editor_user_id owner_display_name  owner_user_id parent_id  \\\n",
       "0                  NaN               None        8169506      None   \n",
       "1                  NaN               None       11255630      None   \n",
       "2                  NaN               None       15916653      None   \n",
       "3                  NaN               None        3533172      None   \n",
       "4                  NaN               None       15504166      None   \n",
       "\n",
       "   post_type_id  score                              tags  view_count  \n",
       "0             1      0                      mapbox-unity           2  \n",
       "1             1      0  javascript|node.js|stream|buffer           2  \n",
       "2             1      0                        url|mobile           2  \n",
       "3             1      0                   failovercluster           2  \n",
       "4             1      0                         dolphindb           2  "
      ]
     },
     "execution_count": 2,
     "metadata": {},
     "output_type": "execute_result"
    }
   ],
   "source": [
    "from google.cloud import bigquery\n",
    "\n",
    "# Create a \"Client\" object\n",
    "client = bigquery.Client()\n",
    "\n",
    "# Construct a reference to the \"stackoverflow\" dataset\n",
    "dataset_ref = client.dataset(\"stackoverflow\", project=\"bigquery-public-data\")\n",
    "\n",
    "# API request - fetch the dataset\n",
    "dataset = client.get_dataset(dataset_ref)\n",
    "\n",
    "# Construct a reference to the \"posts_questions\" table\n",
    "table_ref = dataset_ref.table(\"posts_questions\")\n",
    "\n",
    "# API request - fetch the table\n",
    "table = client.get_table(table_ref)\n",
    "\n",
    "# Preview the first five lines of the table\n",
    "client.list_rows(table, max_results=5).to_dataframe()"
   ]
  },
  {
   "cell_type": "markdown",
   "id": "cc27b4bc",
   "metadata": {
    "papermill": {
     "duration": 0.014995,
     "end_time": "2021-11-28T23:24:21.710526",
     "exception": false,
     "start_time": "2021-11-28T23:24:21.695531",
     "status": "completed"
    },
    "tags": []
   },
   "source": [
    "We also take a look at the `posts_answers` table."
   ]
  },
  {
   "cell_type": "code",
   "execution_count": 3,
   "id": "8184aab4",
   "metadata": {
    "execution": {
     "iopub.execute_input": "2021-11-28T23:24:21.750054Z",
     "iopub.status.busy": "2021-11-28T23:24:21.749274Z",
     "iopub.status.idle": "2021-11-28T23:24:22.872695Z",
     "shell.execute_reply": "2021-11-28T23:24:22.873222Z",
     "shell.execute_reply.started": "2021-11-28T21:58:31.037341Z"
    },
    "papermill": {
     "duration": 1.147555,
     "end_time": "2021-11-28T23:24:22.873457",
     "exception": false,
     "start_time": "2021-11-28T23:24:21.725902",
     "status": "completed"
    },
    "tags": []
   },
   "outputs": [
    {
     "name": "stderr",
     "output_type": "stream",
     "text": [
      "/opt/conda/lib/python3.7/site-packages/ipykernel_launcher.py:8: UserWarning: Cannot use bqstorage_client if max_results is set, reverting to fetching data with the tabledata.list endpoint.\n",
      "  \n"
     ]
    },
    {
     "data": {
      "text/html": [
       "<div>\n",
       "<style scoped>\n",
       "    .dataframe tbody tr th:only-of-type {\n",
       "        vertical-align: middle;\n",
       "    }\n",
       "\n",
       "    .dataframe tbody tr th {\n",
       "        vertical-align: top;\n",
       "    }\n",
       "\n",
       "    .dataframe thead th {\n",
       "        text-align: right;\n",
       "    }\n",
       "</style>\n",
       "<table border=\"1\" class=\"dataframe\">\n",
       "  <thead>\n",
       "    <tr style=\"text-align: right;\">\n",
       "      <th></th>\n",
       "      <th>id</th>\n",
       "      <th>title</th>\n",
       "      <th>body</th>\n",
       "      <th>accepted_answer_id</th>\n",
       "      <th>answer_count</th>\n",
       "      <th>comment_count</th>\n",
       "      <th>community_owned_date</th>\n",
       "      <th>creation_date</th>\n",
       "      <th>favorite_count</th>\n",
       "      <th>last_activity_date</th>\n",
       "      <th>last_edit_date</th>\n",
       "      <th>last_editor_display_name</th>\n",
       "      <th>last_editor_user_id</th>\n",
       "      <th>owner_display_name</th>\n",
       "      <th>owner_user_id</th>\n",
       "      <th>parent_id</th>\n",
       "      <th>post_type_id</th>\n",
       "      <th>score</th>\n",
       "      <th>tags</th>\n",
       "      <th>view_count</th>\n",
       "    </tr>\n",
       "  </thead>\n",
       "  <tbody>\n",
       "    <tr>\n",
       "      <th>0</th>\n",
       "      <td>68472973</td>\n",
       "      <td>None</td>\n",
       "      <td>&lt;p&gt;Thank you.  After thinking through your ans...</td>\n",
       "      <td>None</td>\n",
       "      <td>None</td>\n",
       "      <td>0</td>\n",
       "      <td>NaT</td>\n",
       "      <td>2021-07-21 16:09:49.560000+00:00</td>\n",
       "      <td>None</td>\n",
       "      <td>2021-07-21 16:09:49.560000+00:00</td>\n",
       "      <td>NaT</td>\n",
       "      <td>None</td>\n",
       "      <td>NaN</td>\n",
       "      <td>None</td>\n",
       "      <td>11880888</td>\n",
       "      <td>68461807</td>\n",
       "      <td>2</td>\n",
       "      <td>0</td>\n",
       "      <td>None</td>\n",
       "      <td>None</td>\n",
       "    </tr>\n",
       "    <tr>\n",
       "      <th>1</th>\n",
       "      <td>68472974</td>\n",
       "      <td>None</td>\n",
       "      <td>&lt;pre&gt;&lt;code&gt;SELECT age((((m.message -&amp;gt; 'head...</td>\n",
       "      <td>None</td>\n",
       "      <td>None</td>\n",
       "      <td>0</td>\n",
       "      <td>NaT</td>\n",
       "      <td>2021-07-21 16:09:54.130000+00:00</td>\n",
       "      <td>None</td>\n",
       "      <td>2021-07-21 16:09:54.130000+00:00</td>\n",
       "      <td>NaT</td>\n",
       "      <td>None</td>\n",
       "      <td>NaN</td>\n",
       "      <td>None</td>\n",
       "      <td>14132876</td>\n",
       "      <td>68471992</td>\n",
       "      <td>2</td>\n",
       "      <td>0</td>\n",
       "      <td>None</td>\n",
       "      <td>None</td>\n",
       "    </tr>\n",
       "    <tr>\n",
       "      <th>2</th>\n",
       "      <td>68472975</td>\n",
       "      <td>None</td>\n",
       "      <td>&lt;p&gt;I believe &lt;code&gt;Identifiable&lt;/code&gt; is a pr...</td>\n",
       "      <td>None</td>\n",
       "      <td>None</td>\n",
       "      <td>1</td>\n",
       "      <td>NaT</td>\n",
       "      <td>2021-07-21 16:09:56.317000+00:00</td>\n",
       "      <td>None</td>\n",
       "      <td>2021-07-21 16:09:56.317000+00:00</td>\n",
       "      <td>NaT</td>\n",
       "      <td>None</td>\n",
       "      <td>NaN</td>\n",
       "      <td>None</td>\n",
       "      <td>16487083</td>\n",
       "      <td>68472232</td>\n",
       "      <td>2</td>\n",
       "      <td>0</td>\n",
       "      <td>None</td>\n",
       "      <td>None</td>\n",
       "    </tr>\n",
       "    <tr>\n",
       "      <th>3</th>\n",
       "      <td>68472976</td>\n",
       "      <td>None</td>\n",
       "      <td>&lt;p&gt;Funny enough I had the same problem with th...</td>\n",
       "      <td>None</td>\n",
       "      <td>None</td>\n",
       "      <td>0</td>\n",
       "      <td>NaT</td>\n",
       "      <td>2021-07-21 16:10:06.223000+00:00</td>\n",
       "      <td>None</td>\n",
       "      <td>2021-07-21 16:10:06.223000+00:00</td>\n",
       "      <td>NaT</td>\n",
       "      <td>None</td>\n",
       "      <td>NaN</td>\n",
       "      <td>None</td>\n",
       "      <td>9497800</td>\n",
       "      <td>64728953</td>\n",
       "      <td>2</td>\n",
       "      <td>0</td>\n",
       "      <td>None</td>\n",
       "      <td>None</td>\n",
       "    </tr>\n",
       "    <tr>\n",
       "      <th>4</th>\n",
       "      <td>68472989</td>\n",
       "      <td>None</td>\n",
       "      <td>&lt;p&gt;You either need to set a &lt;code&gt;height&lt;/code...</td>\n",
       "      <td>None</td>\n",
       "      <td>None</td>\n",
       "      <td>0</td>\n",
       "      <td>NaT</td>\n",
       "      <td>2021-07-21 16:10:45.250000+00:00</td>\n",
       "      <td>None</td>\n",
       "      <td>2021-07-21 16:10:45.250000+00:00</td>\n",
       "      <td>NaT</td>\n",
       "      <td>None</td>\n",
       "      <td>NaN</td>\n",
       "      <td>None</td>\n",
       "      <td>6035993</td>\n",
       "      <td>68472903</td>\n",
       "      <td>2</td>\n",
       "      <td>0</td>\n",
       "      <td>None</td>\n",
       "      <td>None</td>\n",
       "    </tr>\n",
       "  </tbody>\n",
       "</table>\n",
       "</div>"
      ],
      "text/plain": [
       "         id title                                               body  \\\n",
       "0  68472973  None  <p>Thank you.  After thinking through your ans...   \n",
       "1  68472974  None  <pre><code>SELECT age((((m.message -&gt; 'head...   \n",
       "2  68472975  None  <p>I believe <code>Identifiable</code> is a pr...   \n",
       "3  68472976  None  <p>Funny enough I had the same problem with th...   \n",
       "4  68472989  None  <p>You either need to set a <code>height</code...   \n",
       "\n",
       "  accepted_answer_id answer_count  comment_count community_owned_date  \\\n",
       "0               None         None              0                  NaT   \n",
       "1               None         None              0                  NaT   \n",
       "2               None         None              1                  NaT   \n",
       "3               None         None              0                  NaT   \n",
       "4               None         None              0                  NaT   \n",
       "\n",
       "                     creation_date favorite_count  \\\n",
       "0 2021-07-21 16:09:49.560000+00:00           None   \n",
       "1 2021-07-21 16:09:54.130000+00:00           None   \n",
       "2 2021-07-21 16:09:56.317000+00:00           None   \n",
       "3 2021-07-21 16:10:06.223000+00:00           None   \n",
       "4 2021-07-21 16:10:45.250000+00:00           None   \n",
       "\n",
       "                last_activity_date last_edit_date last_editor_display_name  \\\n",
       "0 2021-07-21 16:09:49.560000+00:00            NaT                     None   \n",
       "1 2021-07-21 16:09:54.130000+00:00            NaT                     None   \n",
       "2 2021-07-21 16:09:56.317000+00:00            NaT                     None   \n",
       "3 2021-07-21 16:10:06.223000+00:00            NaT                     None   \n",
       "4 2021-07-21 16:10:45.250000+00:00            NaT                     None   \n",
       "\n",
       "   last_editor_user_id owner_display_name  owner_user_id  parent_id  \\\n",
       "0                  NaN               None       11880888   68461807   \n",
       "1                  NaN               None       14132876   68471992   \n",
       "2                  NaN               None       16487083   68472232   \n",
       "3                  NaN               None        9497800   64728953   \n",
       "4                  NaN               None        6035993   68472903   \n",
       "\n",
       "   post_type_id  score  tags view_count  \n",
       "0             2      0  None       None  \n",
       "1             2      0  None       None  \n",
       "2             2      0  None       None  \n",
       "3             2      0  None       None  \n",
       "4             2      0  None       None  "
      ]
     },
     "execution_count": 3,
     "metadata": {},
     "output_type": "execute_result"
    }
   ],
   "source": [
    "# Construct a reference to the \"posts_answers\" table\n",
    "table_ref = dataset_ref.table(\"posts_answers\")\n",
    "\n",
    "# API request - fetch the table\n",
    "table = client.get_table(table_ref)\n",
    "\n",
    "# Preview the first five lines of the table\n",
    "client.list_rows(table, max_results=5).to_dataframe()"
   ]
  },
  {
   "cell_type": "markdown",
   "id": "784b751e",
   "metadata": {
    "papermill": {
     "duration": 0.016322,
     "end_time": "2021-11-28T23:24:22.906173",
     "exception": false,
     "start_time": "2021-11-28T23:24:22.889851",
     "status": "completed"
    },
    "tags": []
   },
   "source": [
    "You will work with both of these tables to answer the questions below.\n",
    "\n",
    "# Exercises\n",
    "\n",
    "### 1) How long does it take for questions to receive answers?\n",
    "\n",
    "You're interested in exploring the data to have a better understanding of how long it generally takes for questions to receive answers.  Armed with this knowledge, you plan to use this information to better design the order in which questions are presented to Stack Overflow users.\n",
    "\n",
    "With this goal in mind, you write the query below, which focuses on questions asked in January 2018.  It returns a table with two columns:\n",
    "- `q_id` - the ID of the question\n",
    "- `time_to_answer` - how long it took (in seconds) for the question to receive an answer\n",
    "\n",
    "Run the query below (without changes), and take a look at the output."
   ]
  },
  {
   "cell_type": "code",
   "execution_count": 4,
   "id": "2ed2d3be",
   "metadata": {
    "execution": {
     "iopub.execute_input": "2021-11-28T23:24:22.949039Z",
     "iopub.status.busy": "2021-11-28T23:24:22.948246Z",
     "iopub.status.idle": "2021-11-28T23:24:29.358544Z",
     "shell.execute_reply": "2021-11-28T23:24:29.357993Z",
     "shell.execute_reply.started": "2021-11-28T21:58:38.11684Z"
    },
    "papermill": {
     "duration": 6.435973,
     "end_time": "2021-11-28T23:24:29.358703",
     "exception": false,
     "start_time": "2021-11-28T23:24:22.922730",
     "status": "completed"
    },
    "tags": []
   },
   "outputs": [
    {
     "name": "stderr",
     "output_type": "stream",
     "text": [
      "/opt/conda/lib/python3.7/site-packages/google/cloud/bigquery/client.py:440: UserWarning: Cannot create BigQuery Storage client, the dependency google-cloud-bigquery-storage is not installed.\n",
      "  \"Cannot create BigQuery Storage client, the dependency \"\n"
     ]
    },
    {
     "name": "stdout",
     "output_type": "stream",
     "text": [
      "Percentage of answered questions: 100.0%\n",
      "Number of questions: 134685\n"
     ]
    },
    {
     "data": {
      "text/html": [
       "<div>\n",
       "<style scoped>\n",
       "    .dataframe tbody tr th:only-of-type {\n",
       "        vertical-align: middle;\n",
       "    }\n",
       "\n",
       "    .dataframe tbody tr th {\n",
       "        vertical-align: top;\n",
       "    }\n",
       "\n",
       "    .dataframe thead th {\n",
       "        text-align: right;\n",
       "    }\n",
       "</style>\n",
       "<table border=\"1\" class=\"dataframe\">\n",
       "  <thead>\n",
       "    <tr style=\"text-align: right;\">\n",
       "      <th></th>\n",
       "      <th>q_id</th>\n",
       "      <th>time_to_answer</th>\n",
       "    </tr>\n",
       "  </thead>\n",
       "  <tbody>\n",
       "    <tr>\n",
       "      <th>0</th>\n",
       "      <td>48382183</td>\n",
       "      <td>-132444692</td>\n",
       "    </tr>\n",
       "    <tr>\n",
       "      <th>1</th>\n",
       "      <td>48154783</td>\n",
       "      <td>0</td>\n",
       "    </tr>\n",
       "    <tr>\n",
       "      <th>2</th>\n",
       "      <td>48195422</td>\n",
       "      <td>0</td>\n",
       "    </tr>\n",
       "    <tr>\n",
       "      <th>3</th>\n",
       "      <td>48117460</td>\n",
       "      <td>0</td>\n",
       "    </tr>\n",
       "    <tr>\n",
       "      <th>4</th>\n",
       "      <td>48142530</td>\n",
       "      <td>0</td>\n",
       "    </tr>\n",
       "  </tbody>\n",
       "</table>\n",
       "</div>"
      ],
      "text/plain": [
       "       q_id  time_to_answer\n",
       "0  48382183      -132444692\n",
       "1  48154783               0\n",
       "2  48195422               0\n",
       "3  48117460               0\n",
       "4  48142530               0"
      ]
     },
     "execution_count": 4,
     "metadata": {},
     "output_type": "execute_result"
    }
   ],
   "source": [
    "first_query = \"\"\"\n",
    "              SELECT q.id AS q_id,\n",
    "                  MIN(TIMESTAMP_DIFF(a.creation_date, q.creation_date, SECOND)) as time_to_answer\n",
    "              FROM `bigquery-public-data.stackoverflow.posts_questions` AS q\n",
    "                  INNER JOIN `bigquery-public-data.stackoverflow.posts_answers` AS a\n",
    "              ON q.id = a.parent_id\n",
    "              WHERE q.creation_date >= '2018-01-01' and q.creation_date < '2018-02-01'\n",
    "              GROUP BY q.id\n",
    "              ORDER BY time_to_answer\n",
    "              \"\"\"\n",
    "\n",
    "first_result = client.query(first_query).result().to_dataframe()\n",
    "print(\"Percentage of answered questions: %s%%\" % \\\n",
    "      (sum(first_result[\"time_to_answer\"].notnull()) / len(first_result) * 100))\n",
    "print(\"Number of questions:\", len(first_result))\n",
    "first_result.head()"
   ]
  },
  {
   "cell_type": "markdown",
   "id": "adc6f22d",
   "metadata": {
    "papermill": {
     "duration": 0.017601,
     "end_time": "2021-11-28T23:24:29.393740",
     "exception": false,
     "start_time": "2021-11-28T23:24:29.376139",
     "status": "completed"
    },
    "tags": []
   },
   "source": [
    "You're surprised at the results and strongly suspect that something is wrong with your query.  In particular,\n",
    "- According to the query, 100% of the questions from January 2018 received an answer.  But, you know that ~80% of the questions on the site usually receive an answer.\n",
    "- The total number of questions is surprisingly low.  You expected to see at least 150,000 questions represented in the table.\n",
    "\n",
    "Given these observations, you think that the type of **JOIN** you have chosen has inadvertently excluded unanswered questions.  Using the code cell below, can you figure out what type of **JOIN** to use to fix the problem so that the table includes unanswered questions?\n",
    "\n",
    "**Note**: You need only amend the type of **JOIN** (i.e., **INNER**, **LEFT**, **RIGHT**, or **FULL**) to answer the question successfully."
   ]
  },
  {
   "cell_type": "code",
   "execution_count": 5,
   "id": "220793f7",
   "metadata": {
    "execution": {
     "iopub.execute_input": "2021-11-28T23:24:29.436637Z",
     "iopub.status.busy": "2021-11-28T23:24:29.435985Z",
     "iopub.status.idle": "2021-11-28T23:24:43.186344Z",
     "shell.execute_reply": "2021-11-28T23:24:43.186903Z",
     "shell.execute_reply.started": "2021-11-28T21:58:51.79842Z"
    },
    "papermill": {
     "duration": 13.776125,
     "end_time": "2021-11-28T23:24:43.187093",
     "exception": false,
     "start_time": "2021-11-28T23:24:29.410968",
     "status": "completed"
    },
    "tags": []
   },
   "outputs": [
    {
     "name": "stderr",
     "output_type": "stream",
     "text": [
      "/opt/conda/lib/python3.7/site-packages/google/cloud/bigquery/client.py:440: UserWarning: Cannot create BigQuery Storage client, the dependency google-cloud-bigquery-storage is not installed.\n",
      "  \"Cannot create BigQuery Storage client, the dependency \"\n"
     ]
    },
    {
     "data": {
      "text/html": [
       "<div>\n",
       "<style scoped>\n",
       "    .dataframe tbody tr th:only-of-type {\n",
       "        vertical-align: middle;\n",
       "    }\n",
       "\n",
       "    .dataframe tbody tr th {\n",
       "        vertical-align: top;\n",
       "    }\n",
       "\n",
       "    .dataframe thead th {\n",
       "        text-align: right;\n",
       "    }\n",
       "</style>\n",
       "<table border=\"1\" class=\"dataframe\">\n",
       "  <thead>\n",
       "    <tr style=\"text-align: right;\">\n",
       "      <th></th>\n",
       "      <th>q_id</th>\n",
       "      <th>time_to_answer</th>\n",
       "    </tr>\n",
       "  </thead>\n",
       "  <tbody>\n",
       "    <tr>\n",
       "      <th>0</th>\n",
       "      <td>48520278</td>\n",
       "      <td>NaN</td>\n",
       "    </tr>\n",
       "    <tr>\n",
       "      <th>1</th>\n",
       "      <td>48489425</td>\n",
       "      <td>NaN</td>\n",
       "    </tr>\n",
       "    <tr>\n",
       "      <th>2</th>\n",
       "      <td>48530046</td>\n",
       "      <td>NaN</td>\n",
       "    </tr>\n",
       "    <tr>\n",
       "      <th>3</th>\n",
       "      <td>48548246</td>\n",
       "      <td>NaN</td>\n",
       "    </tr>\n",
       "    <tr>\n",
       "      <th>4</th>\n",
       "      <td>48517899</td>\n",
       "      <td>NaN</td>\n",
       "    </tr>\n",
       "  </tbody>\n",
       "</table>\n",
       "</div>"
      ],
      "text/plain": [
       "       q_id  time_to_answer\n",
       "0  48520278             NaN\n",
       "1  48489425             NaN\n",
       "2  48530046             NaN\n",
       "3  48548246             NaN\n",
       "4  48517899             NaN"
      ]
     },
     "metadata": {},
     "output_type": "display_data"
    },
    {
     "data": {
      "application/javascript": [
       "parent.postMessage({\"jupyterEvent\": \"custom.exercise_interaction\", \"data\": {\"outcomeType\": 1, \"valueTowardsCompletion\": 0.25, \"interactionType\": 1, \"questionType\": 2, \"questionId\": \"1_CorrectQuery\", \"learnToolsVersion\": \"0.3.4\", \"failureMessage\": \"\", \"exceptionClass\": \"\", \"trace\": \"\"}}, \"*\")"
      ],
      "text/plain": [
       "<IPython.core.display.Javascript object>"
      ]
     },
     "metadata": {},
     "output_type": "display_data"
    },
    {
     "data": {
      "text/markdown": [
       "<span style=\"color:#33cc33\">Correct</span>"
      ],
      "text/plain": [
       "Correct"
      ]
     },
     "metadata": {},
     "output_type": "display_data"
    },
    {
     "name": "stderr",
     "output_type": "stream",
     "text": [
      "/opt/conda/lib/python3.7/site-packages/google/cloud/bigquery/client.py:440: UserWarning: Cannot create BigQuery Storage client, the dependency google-cloud-bigquery-storage is not installed.\n",
      "  \"Cannot create BigQuery Storage client, the dependency \"\n"
     ]
    },
    {
     "name": "stdout",
     "output_type": "stream",
     "text": [
      "Percentage of answered questions: 83.15120758630908%\n",
      "Number of questions: 161976\n"
     ]
    }
   ],
   "source": [
    "# Your code here\n",
    "correct_query = \"\"\"\n",
    "                 SELECT q.id AS q_id,\n",
    "                  MIN(TIMESTAMP_DIFF(a.creation_date, q.creation_date, SECOND)) as time_to_answer\n",
    "              FROM `bigquery-public-data.stackoverflow.posts_questions` AS q\n",
    "                  LEFT JOIN `bigquery-public-data.stackoverflow.posts_answers` AS a\n",
    "              ON q.id = a.parent_id\n",
    "              WHERE q.creation_date >= '2018-01-01' and q.creation_date < '2018-02-01'\n",
    "              GROUP BY q.id\n",
    "              ORDER BY time_to_answer\n",
    "                \"\"\"\n",
    "\n",
    "# Check your answer\n",
    "q_1.check()\n",
    "\n",
    "# Run the query, and return a pandas DataFrame\n",
    "correct_result = client.query(correct_query).result().to_dataframe()\n",
    "print(\"Percentage of answered questions: %s%%\" % \\\n",
    "      (sum(correct_result[\"time_to_answer\"].notnull()) / len(correct_result) * 100))\n",
    "print(\"Number of questions:\", len(correct_result))"
   ]
  },
  {
   "cell_type": "markdown",
   "id": "179abd37",
   "metadata": {
    "papermill": {
     "duration": 0.01906,
     "end_time": "2021-11-28T23:24:43.225628",
     "exception": false,
     "start_time": "2021-11-28T23:24:43.206568",
     "status": "completed"
    },
    "tags": []
   },
   "source": [
    "### 2) Initial questions and answers, Part 1\n",
    "\n",
    "You're interested in understanding the initial experiences that users typically have with the Stack Overflow website.  Is it more common for users to first ask questions or provide answers?  After signing up, how long does it take for users to first interact with the website?  To explore this further, you draft the (partial) query in the code cell below.\n",
    "\n",
    "The query returns a table with three columns:\n",
    "- `owner_user_id` - the user ID\n",
    "- `q_creation_date` - the first time the user asked a question \n",
    "- `a_creation_date` - the first time the user contributed an answer \n",
    "\n",
    "You want to keep track of users who have asked questions, but have yet to provide answers.  And, your table should also include users who have answered questions, but have yet to pose their own questions.  \n",
    "\n",
    "With this in mind, please fill in the appropriate **JOIN** (i.e., **INNER**, **LEFT**, **RIGHT**, or **FULL**) to return the correct information.  \n",
    "\n",
    "**Note**: You need only fill in the appropriate **JOIN**.  All other parts of the query should be left as-is.  (You also don't need to write any additional code to run the query, since the `check()` method will take care of this for you.)\n",
    "\n",
    "To avoid returning too much data, we'll restrict our attention to questions and answers posed in January 2019.  We'll amend the timeframe in Part 2 of this question to be more realistic!"
   ]
  },
  {
   "cell_type": "code",
   "execution_count": 6,
   "id": "99471a3f",
   "metadata": {
    "execution": {
     "iopub.execute_input": "2021-11-28T23:24:43.270728Z",
     "iopub.status.busy": "2021-11-28T23:24:43.270051Z",
     "iopub.status.idle": "2021-11-28T23:24:46.995951Z",
     "shell.execute_reply": "2021-11-28T23:24:46.995296Z",
     "shell.execute_reply.started": "2021-11-28T22:08:23.300571Z"
    },
    "papermill": {
     "duration": 3.75126,
     "end_time": "2021-11-28T23:24:46.996102",
     "exception": false,
     "start_time": "2021-11-28T23:24:43.244842",
     "status": "completed"
    },
    "tags": []
   },
   "outputs": [
    {
     "data": {
      "text/html": [
       "<div>\n",
       "<style scoped>\n",
       "    .dataframe tbody tr th:only-of-type {\n",
       "        vertical-align: middle;\n",
       "    }\n",
       "\n",
       "    .dataframe tbody tr th {\n",
       "        vertical-align: top;\n",
       "    }\n",
       "\n",
       "    .dataframe thead th {\n",
       "        text-align: right;\n",
       "    }\n",
       "</style>\n",
       "<table border=\"1\" class=\"dataframe\">\n",
       "  <thead>\n",
       "    <tr style=\"text-align: right;\">\n",
       "      <th></th>\n",
       "      <th>owner_user_id</th>\n",
       "      <th>q_creation_date</th>\n",
       "      <th>a_creation_date</th>\n",
       "    </tr>\n",
       "  </thead>\n",
       "  <tbody>\n",
       "    <tr>\n",
       "      <th>0</th>\n",
       "      <td>3962636</td>\n",
       "      <td>2019-01-28 21:34:24.400000+00:00</td>\n",
       "      <td>2019-01-01 00:03:39.090000+00:00</td>\n",
       "    </tr>\n",
       "    <tr>\n",
       "      <th>1</th>\n",
       "      <td>809821</td>\n",
       "      <td>2019-01-24 09:41:29.640000+00:00</td>\n",
       "      <td>2019-01-01 07:37:40.393000+00:00</td>\n",
       "    </tr>\n",
       "    <tr>\n",
       "      <th>2</th>\n",
       "      <td>10604378</td>\n",
       "      <td>2019-01-18 12:30:50.753000+00:00</td>\n",
       "      <td>2019-01-01 08:04:45.767000+00:00</td>\n",
       "    </tr>\n",
       "    <tr>\n",
       "      <th>3</th>\n",
       "      <td>2208342</td>\n",
       "      <td>2019-01-10 13:04:49.993000+00:00</td>\n",
       "      <td>2019-01-01 12:22:44.487000+00:00</td>\n",
       "    </tr>\n",
       "    <tr>\n",
       "      <th>4</th>\n",
       "      <td>5281989</td>\n",
       "      <td>2019-01-01 10:29:26.173000+00:00</td>\n",
       "      <td>2019-01-01 12:44:13.470000+00:00</td>\n",
       "    </tr>\n",
       "  </tbody>\n",
       "</table>\n",
       "</div>"
      ],
      "text/plain": [
       "   owner_user_id                  q_creation_date  \\\n",
       "0        3962636 2019-01-28 21:34:24.400000+00:00   \n",
       "1         809821 2019-01-24 09:41:29.640000+00:00   \n",
       "2       10604378 2019-01-18 12:30:50.753000+00:00   \n",
       "3        2208342 2019-01-10 13:04:49.993000+00:00   \n",
       "4        5281989 2019-01-01 10:29:26.173000+00:00   \n",
       "\n",
       "                   a_creation_date  \n",
       "0 2019-01-01 00:03:39.090000+00:00  \n",
       "1 2019-01-01 07:37:40.393000+00:00  \n",
       "2 2019-01-01 08:04:45.767000+00:00  \n",
       "3 2019-01-01 12:22:44.487000+00:00  \n",
       "4 2019-01-01 12:44:13.470000+00:00  "
      ]
     },
     "metadata": {},
     "output_type": "display_data"
    },
    {
     "data": {
      "application/javascript": [
       "parent.postMessage({\"jupyterEvent\": \"custom.exercise_interaction\", \"data\": {\"outcomeType\": 1, \"valueTowardsCompletion\": 0.25, \"interactionType\": 1, \"questionType\": 2, \"questionId\": \"2_QA_One\", \"learnToolsVersion\": \"0.3.4\", \"failureMessage\": \"\", \"exceptionClass\": \"\", \"trace\": \"\"}}, \"*\")"
      ],
      "text/plain": [
       "<IPython.core.display.Javascript object>"
      ]
     },
     "metadata": {},
     "output_type": "display_data"
    },
    {
     "data": {
      "text/markdown": [
       "<span style=\"color:#33cc33\">Correct</span>"
      ],
      "text/plain": [
       "Correct"
      ]
     },
     "metadata": {},
     "output_type": "display_data"
    }
   ],
   "source": [
    "# Your code here\n",
    "q_and_a_query = \"\"\"\n",
    "                SELECT q.owner_user_id AS owner_user_id,\n",
    "                    MIN(q.creation_date) AS q_creation_date,\n",
    "                    MIN(a.creation_date) AS a_creation_date\n",
    "                FROM `bigquery-public-data.stackoverflow.posts_questions` AS q\n",
    "                    FULL JOIN `bigquery-public-data.stackoverflow.posts_answers` AS a\n",
    "                ON q.owner_user_id = a.owner_user_id \n",
    "                WHERE q.creation_date >= '2019-01-01' AND q.creation_date < '2019-02-01' \n",
    "                    AND a.creation_date >= '2019-01-01' AND a.creation_date < '2019-02-01'\n",
    "                GROUP BY owner_user_id\n",
    "                \"\"\"\n",
    "\n",
    "# Check your answer\n",
    "q_2.check()"
   ]
  },
  {
   "cell_type": "markdown",
   "id": "b1da7ff5",
   "metadata": {
    "papermill": {
     "duration": 0.021556,
     "end_time": "2021-11-28T23:24:47.039160",
     "exception": false,
     "start_time": "2021-11-28T23:24:47.017604",
     "status": "completed"
    },
    "tags": []
   },
   "source": [
    "### 3) Initial questions and answers, Part 2\n",
    "\n",
    "Now you'll address a more realistic (and complex!) scenario.  To answer this question, you'll need to pull information from *three* different tables!  This syntax very similar to the case when we have to join only two tables.  For instance, consider the three tables below.\n",
    "\n",
    "![three tables](https://i.imgur.com/OyhYtD1.png)\n",
    "\n",
    "We can use two different **JOINs** to link together information from all three tables, in a single query.\n",
    "\n",
    "![double join](https://i.imgur.com/G6buS7P.png)\n",
    "\n",
    "With this in mind, say you're interested in understanding users who joined the site in January 2019.  You want to track their activity on the site: when did they post their first questions and answers, if ever?\n",
    "\n",
    "Write a query that returns the following columns:\n",
    "- `id` - the IDs of all users who created Stack Overflow accounts in January 2019 (January 1, 2019, to January 31, 2019, inclusive)\n",
    "- `q_creation_date` - the first time the user posted a question on the site; if the user has never posted a question, the value should be null\n",
    "- `a_creation_date` - the first time the user posted a question on the site; if the user has never posted a question, the value should be null\n",
    "\n",
    "Note that questions and answers posted after January 31, 2019, should still be included in the results.  And, all users who joined the site in January 2019 should be included (even if they have never posted a question or provided an answer).\n",
    "\n",
    "The query from the previous question should be a nice starting point to answering this question!  You'll need to use the `posts_answers` and `posts_questions` tables.  You'll also need to use the `users` table from the Stack Overflow dataset.  The relevant columns from the `users` table are `id` (the ID of each user) and `creation_date` (when the user joined the Stack Overflow site, in DATETIME format)."
   ]
  },
  {
   "cell_type": "code",
   "execution_count": 7,
   "id": "0336d036",
   "metadata": {
    "execution": {
     "iopub.execute_input": "2021-11-28T23:24:47.088745Z",
     "iopub.status.busy": "2021-11-28T23:24:47.088071Z",
     "iopub.status.idle": "2021-11-28T23:24:54.391139Z",
     "shell.execute_reply": "2021-11-28T23:24:54.390562Z",
     "shell.execute_reply.started": "2021-11-28T22:28:35.617393Z"
    },
    "papermill": {
     "duration": 7.330997,
     "end_time": "2021-11-28T23:24:54.391289",
     "exception": false,
     "start_time": "2021-11-28T23:24:47.060292",
     "status": "completed"
    },
    "tags": []
   },
   "outputs": [
    {
     "name": "stderr",
     "output_type": "stream",
     "text": [
      "/opt/conda/lib/python3.7/site-packages/google/cloud/bigquery/client.py:440: UserWarning: Cannot create BigQuery Storage client, the dependency google-cloud-bigquery-storage is not installed.\n",
      "  \"Cannot create BigQuery Storage client, the dependency \"\n"
     ]
    },
    {
     "data": {
      "text/html": [
       "<div>\n",
       "<style scoped>\n",
       "    .dataframe tbody tr th:only-of-type {\n",
       "        vertical-align: middle;\n",
       "    }\n",
       "\n",
       "    .dataframe tbody tr th {\n",
       "        vertical-align: top;\n",
       "    }\n",
       "\n",
       "    .dataframe thead th {\n",
       "        text-align: right;\n",
       "    }\n",
       "</style>\n",
       "<table border=\"1\" class=\"dataframe\">\n",
       "  <thead>\n",
       "    <tr style=\"text-align: right;\">\n",
       "      <th></th>\n",
       "      <th>id</th>\n",
       "      <th>q_creation_date</th>\n",
       "      <th>a_creation_date</th>\n",
       "    </tr>\n",
       "  </thead>\n",
       "  <tbody>\n",
       "    <tr>\n",
       "      <th>0</th>\n",
       "      <td>10897068</td>\n",
       "      <td>2019-01-10 20:07:24.953000+00:00</td>\n",
       "      <td>2019-10-02 20:14:00.183000+00:00</td>\n",
       "    </tr>\n",
       "    <tr>\n",
       "      <th>1</th>\n",
       "      <td>10972371</td>\n",
       "      <td>2020-03-30 00:22:24.123000+00:00</td>\n",
       "      <td>NaT</td>\n",
       "    </tr>\n",
       "    <tr>\n",
       "      <th>2</th>\n",
       "      <td>10987624</td>\n",
       "      <td>2019-01-31 00:13:12.100000+00:00</td>\n",
       "      <td>2021-07-23 17:32:24.497000+00:00</td>\n",
       "    </tr>\n",
       "    <tr>\n",
       "      <th>3</th>\n",
       "      <td>10896648</td>\n",
       "      <td>2020-09-08 05:15:59.447000+00:00</td>\n",
       "      <td>2020-09-28 11:01:22.273000+00:00</td>\n",
       "    </tr>\n",
       "    <tr>\n",
       "      <th>4</th>\n",
       "      <td>10886482</td>\n",
       "      <td>2021-04-01 17:00:11.623000+00:00</td>\n",
       "      <td>NaT</td>\n",
       "    </tr>\n",
       "  </tbody>\n",
       "</table>\n",
       "</div>"
      ],
      "text/plain": [
       "         id                  q_creation_date                  a_creation_date\n",
       "0  10897068 2019-01-10 20:07:24.953000+00:00 2019-10-02 20:14:00.183000+00:00\n",
       "1  10972371 2020-03-30 00:22:24.123000+00:00                              NaT\n",
       "2  10987624 2019-01-31 00:13:12.100000+00:00 2021-07-23 17:32:24.497000+00:00\n",
       "3  10896648 2020-09-08 05:15:59.447000+00:00 2020-09-28 11:01:22.273000+00:00\n",
       "4  10886482 2021-04-01 17:00:11.623000+00:00                              NaT"
      ]
     },
     "metadata": {},
     "output_type": "display_data"
    },
    {
     "data": {
      "application/javascript": [
       "parent.postMessage({\"jupyterEvent\": \"custom.exercise_interaction\", \"data\": {\"outcomeType\": 1, \"valueTowardsCompletion\": 0.25, \"interactionType\": 1, \"questionType\": 2, \"questionId\": \"3_QA_Two\", \"learnToolsVersion\": \"0.3.4\", \"failureMessage\": \"\", \"exceptionClass\": \"\", \"trace\": \"\"}}, \"*\")"
      ],
      "text/plain": [
       "<IPython.core.display.Javascript object>"
      ]
     },
     "metadata": {},
     "output_type": "display_data"
    },
    {
     "data": {
      "text/markdown": [
       "<span style=\"color:#33cc33\">Correct</span>"
      ],
      "text/plain": [
       "Correct"
      ]
     },
     "metadata": {},
     "output_type": "display_data"
    }
   ],
   "source": [
    "# Your code here\n",
    "three_tables_query = \"\"\"\n",
    "                SELECT t.id AS id,\n",
    "                    MIN(q.creation_date) AS q_creation_date,\n",
    "                    MIN(a.creation_date) AS a_creation_date\n",
    "                FROM `bigquery-public-data.stackoverflow.posts_questions` AS q\n",
    "                    FULL JOIN `bigquery-public-data.stackoverflow.posts_answers` AS a\n",
    "                ON q.owner_user_id = a.owner_user_id \n",
    "                    FULL JOIN `bigquery-public-data.stackoverflow.users` AS t\n",
    "                ON q.owner_user_id=t.id\n",
    "                WHERE  t.creation_date >= '2019-01-01' AND t.creation_date < '2019-02-01'\n",
    "                GROUP BY id\n",
    "                \"\"\"\n",
    "                \n",
    "\n",
    "# Check your answer\n",
    "q_3.check()"
   ]
  },
  {
   "cell_type": "markdown",
   "id": "886f2a5d",
   "metadata": {
    "papermill": {
     "duration": 0.022382,
     "end_time": "2021-11-28T23:24:54.436955",
     "exception": false,
     "start_time": "2021-11-28T23:24:54.414573",
     "status": "completed"
    },
    "tags": []
   },
   "source": [
    "### 4) How many distinct users posted on January 1, 2019?\n",
    "\n",
    "In the code cell below, write a query that returns a table with a single column:\n",
    "- `owner_user_id` - the IDs of all users who posted at least one question or answer on January 1, 2019.  Each user ID should appear at most once.\n",
    "\n",
    "In the `posts_questions` (and `posts_answers`) tables, you can get the ID of the original poster from the `owner_user_id` column.  Likewise, the date of the original posting can be found in the `creation_date` column.  \n",
    "\n",
    "In order for your answer to be marked correct, your query must use a **UNION**."
   ]
  },
  {
   "cell_type": "code",
   "execution_count": 8,
   "id": "8f092c5a",
   "metadata": {
    "execution": {
     "iopub.execute_input": "2021-11-28T23:24:54.485955Z",
     "iopub.status.busy": "2021-11-28T23:24:54.484993Z",
     "iopub.status.idle": "2021-11-28T23:24:56.129255Z",
     "shell.execute_reply": "2021-11-28T23:24:56.129769Z",
     "shell.execute_reply.started": "2021-11-28T23:14:35.381591Z"
    },
    "papermill": {
     "duration": 1.67029,
     "end_time": "2021-11-28T23:24:56.129946",
     "exception": false,
     "start_time": "2021-11-28T23:24:54.459656",
     "status": "completed"
    },
    "tags": []
   },
   "outputs": [
    {
     "name": "stderr",
     "output_type": "stream",
     "text": [
      "/opt/conda/lib/python3.7/site-packages/google/cloud/bigquery/client.py:440: UserWarning: Cannot create BigQuery Storage client, the dependency google-cloud-bigquery-storage is not installed.\n",
      "  \"Cannot create BigQuery Storage client, the dependency \"\n"
     ]
    },
    {
     "data": {
      "text/html": [
       "<div>\n",
       "<style scoped>\n",
       "    .dataframe tbody tr th:only-of-type {\n",
       "        vertical-align: middle;\n",
       "    }\n",
       "\n",
       "    .dataframe tbody tr th {\n",
       "        vertical-align: top;\n",
       "    }\n",
       "\n",
       "    .dataframe thead th {\n",
       "        text-align: right;\n",
       "    }\n",
       "</style>\n",
       "<table border=\"1\" class=\"dataframe\">\n",
       "  <thead>\n",
       "    <tr style=\"text-align: right;\">\n",
       "      <th></th>\n",
       "      <th>owner_user_id</th>\n",
       "    </tr>\n",
       "  </thead>\n",
       "  <tbody>\n",
       "    <tr>\n",
       "      <th>0</th>\n",
       "      <td>211114.0</td>\n",
       "    </tr>\n",
       "    <tr>\n",
       "      <th>1</th>\n",
       "      <td>1187345.0</td>\n",
       "    </tr>\n",
       "    <tr>\n",
       "      <th>2</th>\n",
       "      <td>31045.0</td>\n",
       "    </tr>\n",
       "    <tr>\n",
       "      <th>3</th>\n",
       "      <td>1407698.0</td>\n",
       "    </tr>\n",
       "    <tr>\n",
       "      <th>4</th>\n",
       "      <td>8567209.0</td>\n",
       "    </tr>\n",
       "  </tbody>\n",
       "</table>\n",
       "</div>"
      ],
      "text/plain": [
       "   owner_user_id\n",
       "0       211114.0\n",
       "1      1187345.0\n",
       "2        31045.0\n",
       "3      1407698.0\n",
       "4      8567209.0"
      ]
     },
     "metadata": {},
     "output_type": "display_data"
    },
    {
     "data": {
      "application/javascript": [
       "parent.postMessage({\"jupyterEvent\": \"custom.exercise_interaction\", \"data\": {\"outcomeType\": 1, \"valueTowardsCompletion\": 0.25, \"interactionType\": 1, \"questionType\": 2, \"questionId\": \"4_AllUsers\", \"learnToolsVersion\": \"0.3.4\", \"failureMessage\": \"\", \"exceptionClass\": \"\", \"trace\": \"\"}}, \"*\")"
      ],
      "text/plain": [
       "<IPython.core.display.Javascript object>"
      ]
     },
     "metadata": {},
     "output_type": "display_data"
    },
    {
     "data": {
      "text/markdown": [
       "<span style=\"color:#33cc33\">Correct</span>"
      ],
      "text/plain": [
       "Correct"
      ]
     },
     "metadata": {},
     "output_type": "display_data"
    }
   ],
   "source": [
    "# Your code here\n",
    "all_users_query = \"\"\"                    \n",
    "                   SELECT q.owner_user_id\n",
    "                   FROM `bigquery-public-data.stackoverflow.posts_questions` AS q\n",
    "                   WHERE EXTRACT(DATE FROM q.creation_date) = '2019-01-01'\n",
    "                   UNION DISTINCT       \n",
    "                   SELECT a.owner_user_id\n",
    "                   FROM `bigquery-public-data.stackoverflow.posts_answers`  AS a \n",
    "                   WHERE EXTRACT(DATE FROM a.creation_date) = '2019-01-01'\n",
    "                   \"\"\"\n",
    "\n",
    "# Check your answer\n",
    "q_4.check()"
   ]
  },
  {
   "cell_type": "markdown",
   "id": "71a8a540",
   "metadata": {
    "papermill": {
     "duration": 0.024474,
     "end_time": "2021-11-28T23:24:56.179284",
     "exception": false,
     "start_time": "2021-11-28T23:24:56.154810",
     "status": "completed"
    },
    "tags": []
   },
   "source": [
    "### *Antonino Sota*"
   ]
  }
 ],
 "metadata": {
  "kernelspec": {
   "display_name": "Python 3",
   "language": "python",
   "name": "python3"
  },
  "language_info": {
   "codemirror_mode": {
    "name": "ipython",
    "version": 3
   },
   "file_extension": ".py",
   "mimetype": "text/x-python",
   "name": "python",
   "nbconvert_exporter": "python",
   "pygments_lexer": "ipython3",
   "version": "3.7.10"
  },
  "papermill": {
   "default_parameters": {},
   "duration": 67.01484,
   "end_time": "2021-11-28T23:24:56.813930",
   "environment_variables": {},
   "exception": null,
   "input_path": "__notebook__.ipynb",
   "output_path": "__notebook__.ipynb",
   "parameters": {},
   "start_time": "2021-11-28T23:23:49.799090",
   "version": "2.3.3"
  }
 },
 "nbformat": 4,
 "nbformat_minor": 5
}
