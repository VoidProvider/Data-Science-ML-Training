{
 "cells": [
  {
   "cell_type": "markdown",
   "id": "577dffad",
   "metadata": {
    "papermill": {
     "duration": 0.005772,
     "end_time": "2024-05-27T16:07:40.957012",
     "exception": false,
     "start_time": "2024-05-27T16:07:40.951240",
     "status": "completed"
    },
    "tags": []
   },
   "source": [
    "**This notebook is an exercise in the [Intermediate Machine Learning](https://www.kaggle.com/learn/intermediate-machine-learning) course.  You can reference the tutorial at [this link](https://www.kaggle.com/alexisbcook/xgboost).**\n",
    "\n",
    "---\n"
   ]
  },
  {
   "cell_type": "markdown",
   "id": "04c2b294",
   "metadata": {
    "papermill": {
     "duration": 0.005077,
     "end_time": "2024-05-27T16:07:40.967742",
     "exception": false,
     "start_time": "2024-05-27T16:07:40.962665",
     "status": "completed"
    },
    "tags": []
   },
   "source": [
    "In this exercise, we will use our new knowledge to train a model with **gradient boosting**.\n",
    "\n",
    "# Setup\n",
    "\n"
   ]
  },
  {
   "cell_type": "code",
   "execution_count": 1,
   "id": "abd051c1",
   "metadata": {
    "execution": {
     "iopub.execute_input": "2024-05-27T16:07:40.980496Z",
     "iopub.status.busy": "2024-05-27T16:07:40.980001Z",
     "iopub.status.idle": "2024-05-27T16:07:44.786381Z",
     "shell.execute_reply": "2024-05-27T16:07:44.785319Z"
    },
    "papermill": {
     "duration": 3.816595,
     "end_time": "2024-05-27T16:07:44.789661",
     "exception": false,
     "start_time": "2024-05-27T16:07:40.973066",
     "status": "completed"
    },
    "tags": []
   },
   "outputs": [
    {
     "name": "stdout",
     "output_type": "stream",
     "text": [
      "Setup Complete\n"
     ]
    }
   ],
   "source": [
    "# Set up code checking\n",
    "import os\n",
    "if not os.path.exists(\"../input/train.csv\"):\n",
    "    os.symlink(\"../input/home-data-for-ml-course/train.csv\", \"../input/train.csv\")  \n",
    "    os.symlink(\"../input/home-data-for-ml-course/test.csv\", \"../input/test.csv\") \n",
    "from learntools.core import binder\n",
    "binder.bind(globals())\n",
    "from learntools.ml_intermediate.ex6 import *\n",
    "print(\"Setup Complete\")"
   ]
  },
  {
   "cell_type": "markdown",
   "id": "523368dd",
   "metadata": {
    "papermill": {
     "duration": 0.005405,
     "end_time": "2024-05-27T16:07:44.801323",
     "exception": false,
     "start_time": "2024-05-27T16:07:44.795918",
     "status": "completed"
    },
    "tags": []
   },
   "source": [
    "You will work with the [Housing Prices Competition for Kaggle Learn Users](https://www.kaggle.com/c/home-data-for-ml-course) dataset from the previous exercise. \n",
    "\n",
    "![Ames Housing dataset image](https://storage.googleapis.com/kaggle-media/learn/images/lTJVG4e.png)\n",
    "\n",
    "Run the next code cell without changes to load the training and validation sets in `X_train`, `X_valid`, `y_train`, and `y_valid`.  The test set is loaded in `X_test`."
   ]
  },
  {
   "cell_type": "code",
   "execution_count": 2,
   "id": "47653c05",
   "metadata": {
    "execution": {
     "iopub.execute_input": "2024-05-27T16:07:44.814655Z",
     "iopub.status.busy": "2024-05-27T16:07:44.814112Z",
     "iopub.status.idle": "2024-05-27T16:07:45.005289Z",
     "shell.execute_reply": "2024-05-27T16:07:45.004019Z"
    },
    "papermill": {
     "duration": 0.201486,
     "end_time": "2024-05-27T16:07:45.008369",
     "exception": false,
     "start_time": "2024-05-27T16:07:44.806883",
     "status": "completed"
    },
    "tags": []
   },
   "outputs": [],
   "source": [
    "import pandas as pd\n",
    "from sklearn.model_selection import train_test_split\n",
    "\n",
    "# Read the data\n",
    "X = pd.read_csv('../input/train.csv', index_col='Id')\n",
    "X_test_full = pd.read_csv('../input/test.csv', index_col='Id')\n",
    "\n",
    "# Remove rows with missing target, separate target from predictors\n",
    "X.dropna(axis=0, subset=['SalePrice'], inplace=True)\n",
    "y = X.SalePrice              \n",
    "X.drop(['SalePrice'], axis=1, inplace=True)\n",
    "\n",
    "# Break off validation set from training data\n",
    "X_train_full, X_valid_full, y_train, y_valid = train_test_split(X, y, train_size=0.8, test_size=0.2,\n",
    "                                                                random_state=0)\n",
    "\n",
    "# \"Cardinality\" means the number of unique values in a column\n",
    "# Select categorical columns with relatively low cardinality (convenient but arbitrary)\n",
    "low_cardinality_cols = [cname for cname in X_train_full.columns if X_train_full[cname].nunique() < 10 and \n",
    "                        X_train_full[cname].dtype == \"object\"]\n",
    "\n",
    "# Select numeric columns\n",
    "numeric_cols = [cname for cname in X_train_full.columns if X_train_full[cname].dtype in ['int64', 'float64']]\n",
    "\n",
    "# Keep selected columns only\n",
    "my_cols = low_cardinality_cols + numeric_cols\n",
    "X_train = X_train_full[my_cols].copy()\n",
    "X_valid = X_valid_full[my_cols].copy()\n",
    "X_test = X_test_full[my_cols].copy()\n",
    "\n",
    "# One-hot encode the data (to shorten the code, we use pandas)\n",
    "X_train = pd.get_dummies(X_train)\n",
    "X_valid = pd.get_dummies(X_valid)\n",
    "X_test = pd.get_dummies(X_test)\n",
    "X_train, X_valid = X_train.align(X_valid, join='left', axis=1)\n",
    "X_train, X_test = X_train.align(X_test, join='left', axis=1)"
   ]
  },
  {
   "cell_type": "markdown",
   "id": "80e6a16e",
   "metadata": {
    "papermill": {
     "duration": 0.005259,
     "end_time": "2024-05-27T16:07:45.019207",
     "exception": false,
     "start_time": "2024-05-27T16:07:45.013948",
     "status": "completed"
    },
    "tags": []
   },
   "source": [
    "# Step 1: Build model\n",
    "\n",
    "### Part A\n",
    "\n",
    "In this step, you'll build and train your first model with gradient boosting.\n",
    "\n",
    "- Begin by setting `my_model_1` to an XGBoost model.  Use the [XGBRegressor](https://xgboost.readthedocs.io/en/latest/python/python_api.html#xgboost.XGBRegressor) class, and set the random seed to 0 (`random_state=0`).  **Leave all other parameters as default.**\n",
    "- Then, fit the model to the training data in `X_train` and `y_train`."
   ]
  },
  {
   "cell_type": "code",
   "execution_count": 3,
   "id": "280233d6",
   "metadata": {
    "execution": {
     "iopub.execute_input": "2024-05-27T16:07:45.031857Z",
     "iopub.status.busy": "2024-05-27T16:07:45.031446Z",
     "iopub.status.idle": "2024-05-27T16:07:45.569656Z",
     "shell.execute_reply": "2024-05-27T16:07:45.568783Z"
    },
    "papermill": {
     "duration": 0.547255,
     "end_time": "2024-05-27T16:07:45.571968",
     "exception": false,
     "start_time": "2024-05-27T16:07:45.024713",
     "status": "completed"
    },
    "tags": []
   },
   "outputs": [
    {
     "data": {
      "application/javascript": [
       "parent.postMessage({\"jupyterEvent\": \"custom.exercise_interaction\", \"data\": {\"outcomeType\": 1, \"valueTowardsCompletion\": 0.5, \"interactionType\": 1, \"questionType\": 2, \"questionId\": \"1.1_Model1A\", \"learnToolsVersion\": \"0.3.4\", \"failureMessage\": \"\", \"exceptionClass\": \"\", \"trace\": \"\"}}, \"*\")"
      ],
      "text/plain": [
       "<IPython.core.display.Javascript object>"
      ]
     },
     "metadata": {},
     "output_type": "display_data"
    },
    {
     "data": {
      "text/markdown": [
       "<span style=\"color:#33cc33\">Correct</span>"
      ],
      "text/plain": [
       "Correct"
      ]
     },
     "metadata": {},
     "output_type": "display_data"
    }
   ],
   "source": [
    "from xgboost import XGBRegressor\n",
    "\n",
    "# Define the model\n",
    "my_model_1 = XGBRegressor(random_state=0) \n",
    "\n",
    "# Fit the model\n",
    "my_model_1.fit(X_train, y_train)\n",
    "\n",
    "# Check the answer\n",
    "step_1.a.check()"
   ]
  },
  {
   "cell_type": "markdown",
   "id": "767e4e63",
   "metadata": {
    "papermill": {
     "duration": 0.005725,
     "end_time": "2024-05-27T16:07:45.584521",
     "exception": false,
     "start_time": "2024-05-27T16:07:45.578796",
     "status": "completed"
    },
    "tags": []
   },
   "source": [
    "### Part B\n",
    "\n",
    "Set `predictions_1` to the model's predictions for the validation data.  Recall that the validation features are stored in `X_valid`."
   ]
  },
  {
   "cell_type": "code",
   "execution_count": 4,
   "id": "c74c19db",
   "metadata": {
    "execution": {
     "iopub.execute_input": "2024-05-27T16:07:45.598126Z",
     "iopub.status.busy": "2024-05-27T16:07:45.597704Z",
     "iopub.status.idle": "2024-05-27T16:07:45.657180Z",
     "shell.execute_reply": "2024-05-27T16:07:45.656143Z"
    },
    "papermill": {
     "duration": 0.06941,
     "end_time": "2024-05-27T16:07:45.659861",
     "exception": false,
     "start_time": "2024-05-27T16:07:45.590451",
     "status": "completed"
    },
    "tags": []
   },
   "outputs": [
    {
     "data": {
      "application/javascript": [
       "parent.postMessage({\"jupyterEvent\": \"custom.exercise_interaction\", \"data\": {\"outcomeType\": 1, \"valueTowardsCompletion\": 0.5, \"interactionType\": 1, \"questionType\": 2, \"questionId\": \"1.2_Model1B\", \"learnToolsVersion\": \"0.3.4\", \"failureMessage\": \"\", \"exceptionClass\": \"\", \"trace\": \"\"}}, \"*\")"
      ],
      "text/plain": [
       "<IPython.core.display.Javascript object>"
      ]
     },
     "metadata": {},
     "output_type": "display_data"
    },
    {
     "data": {
      "text/markdown": [
       "<span style=\"color:#33cc33\">Correct</span>"
      ],
      "text/plain": [
       "Correct"
      ]
     },
     "metadata": {},
     "output_type": "display_data"
    }
   ],
   "source": [
    "from sklearn.metrics import mean_absolute_error\n",
    "\n",
    "# Get predictions\n",
    "predictions_1 = my_model_1.predict(X_valid) # Your code here\n",
    "\n",
    "# Check your answer\n",
    "step_1.b.check()"
   ]
  },
  {
   "cell_type": "markdown",
   "id": "826a78d7",
   "metadata": {
    "papermill": {
     "duration": 0.006022,
     "end_time": "2024-05-27T16:07:45.672706",
     "exception": false,
     "start_time": "2024-05-27T16:07:45.666684",
     "status": "completed"
    },
    "tags": []
   },
   "source": [
    "### Part C\n",
    "\n",
    "Finally, use the `mean_absolute_error()` function to calculate the mean absolute error (MAE) corresponding to the predictions for the validation set.  Recall that the labels for the validation data are stored in `y_valid`."
   ]
  },
  {
   "cell_type": "code",
   "execution_count": 5,
   "id": "8954c8a2",
   "metadata": {
    "execution": {
     "iopub.execute_input": "2024-05-27T16:07:45.686854Z",
     "iopub.status.busy": "2024-05-27T16:07:45.686450Z",
     "iopub.status.idle": "2024-05-27T16:07:45.698100Z",
     "shell.execute_reply": "2024-05-27T16:07:45.697257Z"
    },
    "papermill": {
     "duration": 0.021296,
     "end_time": "2024-05-27T16:07:45.700201",
     "exception": false,
     "start_time": "2024-05-27T16:07:45.678905",
     "status": "completed"
    },
    "tags": []
   },
   "outputs": [
    {
     "name": "stdout",
     "output_type": "stream",
     "text": [
      "Mean Absolute Error: 18161.82412510702\n"
     ]
    },
    {
     "data": {
      "application/javascript": [
       "parent.postMessage({\"jupyterEvent\": \"custom.exercise_interaction\", \"data\": {\"outcomeType\": 1, \"valueTowardsCompletion\": 0.5, \"interactionType\": 1, \"questionType\": 2, \"questionId\": \"1.3_Model1C\", \"learnToolsVersion\": \"0.3.4\", \"failureMessage\": \"\", \"exceptionClass\": \"\", \"trace\": \"\"}}, \"*\")"
      ],
      "text/plain": [
       "<IPython.core.display.Javascript object>"
      ]
     },
     "metadata": {},
     "output_type": "display_data"
    },
    {
     "data": {
      "text/markdown": [
       "<span style=\"color:#33cc33\">Correct</span>"
      ],
      "text/plain": [
       "Correct"
      ]
     },
     "metadata": {},
     "output_type": "display_data"
    }
   ],
   "source": [
    "# Calculate MAE\n",
    "mae_1 = mean_absolute_error(y_valid, predictions_1)# Your code here\n",
    "\n",
    "# Uncomment to print MAE\n",
    "print(\"Mean Absolute Error:\" , mae_1)\n",
    "\n",
    "# Check our answer\n",
    "step_1.c.check()"
   ]
  },
  {
   "cell_type": "markdown",
   "id": "9340c2e1",
   "metadata": {
    "papermill": {
     "duration": 0.006397,
     "end_time": "2024-05-27T16:07:45.713101",
     "exception": false,
     "start_time": "2024-05-27T16:07:45.706704",
     "status": "completed"
    },
    "tags": []
   },
   "source": [
    "# Step 2: Improve the model\n",
    "\n",
    "Now that we've trained a default model as baseline, it's time to tinker with the parameters, to see if you can get better performance!\n",
    "\n",
    "In order for this step to be marked correct, our model in `my_model_2` must attain lower MAE than the model in `my_model_1`. "
   ]
  },
  {
   "cell_type": "code",
   "execution_count": 6,
   "id": "ea48ab92",
   "metadata": {
    "execution": {
     "iopub.execute_input": "2024-05-27T16:07:45.728849Z",
     "iopub.status.busy": "2024-05-27T16:07:45.728050Z",
     "iopub.status.idle": "2024-05-27T16:07:50.490025Z",
     "shell.execute_reply": "2024-05-27T16:07:50.488947Z"
    },
    "papermill": {
     "duration": 4.772772,
     "end_time": "2024-05-27T16:07:50.492564",
     "exception": false,
     "start_time": "2024-05-27T16:07:45.719792",
     "status": "completed"
    },
    "tags": []
   },
   "outputs": [
    {
     "name": "stdout",
     "output_type": "stream",
     "text": [
      "Mean Absolute Error: 17224.27947078339\n"
     ]
    },
    {
     "data": {
      "application/javascript": [
       "parent.postMessage({\"jupyterEvent\": \"custom.exercise_interaction\", \"data\": {\"outcomeType\": 1, \"valueTowardsCompletion\": 0.5, \"interactionType\": 1, \"questionType\": 2, \"questionId\": \"2_Model2\", \"learnToolsVersion\": \"0.3.4\", \"failureMessage\": \"\", \"exceptionClass\": \"\", \"trace\": \"\"}}, \"*\")"
      ],
      "text/plain": [
       "<IPython.core.display.Javascript object>"
      ]
     },
     "metadata": {},
     "output_type": "display_data"
    },
    {
     "data": {
      "text/markdown": [
       "<span style=\"color:#33cc33\">Correct</span>"
      ],
      "text/plain": [
       "Correct"
      ]
     },
     "metadata": {},
     "output_type": "display_data"
    }
   ],
   "source": [
    "# Define the model\n",
    "my_model_2 =XGBRegressor(n_estimators=1000, learning_rate=0.05)\n",
    "my_model_2.fit(X_train, y_train) \n",
    "\n",
    "# Get predictions\n",
    "predictions_2 = my_model_2.predict(X_valid) # Your code here\n",
    "\n",
    "# Calculate MAE\n",
    "mae_2 = mean_absolute_error(y_valid, predictions_2)\n",
    "\n",
    "# Print MAE\n",
    "print(\"Mean Absolute Error:\" , mae_2)\n",
    "\n",
    "# Check your answer\n",
    "step_2.check()"
   ]
  },
  {
   "cell_type": "markdown",
   "id": "72b4dec2",
   "metadata": {
    "papermill": {
     "duration": 0.006805,
     "end_time": "2024-05-27T16:07:50.508538",
     "exception": false,
     "start_time": "2024-05-27T16:07:50.501733",
     "status": "completed"
    },
    "tags": []
   },
   "source": [
    "# Step 3: Break the model\n",
    "\n",
    "In this step, we will create a model that performs worse than the original model in Step 1.  This will help us to develop our intuition for how to set parameters.  We might even find that you accidentally get better performance, which is ultimately a nice problem to have and a valuable learning experience!\n",
    "\n",
    "\n",
    "In order for this step to be marked correct, your model in `my_model_3` must attain higher MAE than the model in `my_model_1`. "
   ]
  },
  {
   "cell_type": "code",
   "execution_count": 7,
   "id": "1b4be6de",
   "metadata": {
    "execution": {
     "iopub.execute_input": "2024-05-27T16:07:50.524312Z",
     "iopub.status.busy": "2024-05-27T16:07:50.523881Z",
     "iopub.status.idle": "2024-05-27T16:07:52.977225Z",
     "shell.execute_reply": "2024-05-27T16:07:52.976112Z"
    },
    "papermill": {
     "duration": 2.464698,
     "end_time": "2024-05-27T16:07:52.980315",
     "exception": false,
     "start_time": "2024-05-27T16:07:50.515617",
     "status": "completed"
    },
    "tags": []
   },
   "outputs": [
    {
     "name": "stdout",
     "output_type": "stream",
     "text": [
      "Mean Absolute Error: 28423.200944456337\n"
     ]
    },
    {
     "data": {
      "application/javascript": [
       "parent.postMessage({\"jupyterEvent\": \"custom.exercise_interaction\", \"data\": {\"outcomeType\": 1, \"valueTowardsCompletion\": 0.5, \"interactionType\": 1, \"questionType\": 2, \"questionId\": \"3_Model3\", \"learnToolsVersion\": \"0.3.4\", \"failureMessage\": \"\", \"exceptionClass\": \"\", \"trace\": \"\"}}, \"*\")"
      ],
      "text/plain": [
       "<IPython.core.display.Javascript object>"
      ]
     },
     "metadata": {},
     "output_type": "display_data"
    },
    {
     "data": {
      "text/markdown": [
       "<span style=\"color:#33cc33\">Correct</span>"
      ],
      "text/plain": [
       "Correct"
      ]
     },
     "metadata": {},
     "output_type": "display_data"
    }
   ],
   "source": [
    "# Define the model\n",
    "my_model_3 = XGBRegressor(n_estimators=1000, learning_rate=1)\n",
    "\n",
    "# Fit the model\n",
    "my_model_3.fit(X_train, y_train) \n",
    "\n",
    "# Get predictions\n",
    "predictions_3 = my_model_3.predict(X_valid)\n",
    "\n",
    "# Calculate MAE\n",
    "mae_3 = mean_absolute_error(y_valid, predictions_3)\n",
    "\n",
    "# Print MAE\n",
    "print(\"Mean Absolute Error:\" , mae_3)\n",
    "\n",
    "# Check your answer\n",
    "step_3.check()"
   ]
  },
  {
   "cell_type": "markdown",
   "id": "7c12073c",
   "metadata": {
    "papermill": {
     "duration": 0.007295,
     "end_time": "2024-05-27T16:07:52.995714",
     "exception": false,
     "start_time": "2024-05-27T16:07:52.988419",
     "status": "completed"
    },
    "tags": []
   },
   "source": [
    "---\n",
    "\n",
    "\n",
    "\n",
    "\n",
    "*By Poludniowy Albanczyk*"
   ]
  }
 ],
 "metadata": {
  "kaggle": {
   "accelerator": "none",
   "dataSources": [
    {
     "databundleVersionId": 111096,
     "sourceId": 10211,
     "sourceType": "competition"
    }
   ],
   "isGpuEnabled": false,
   "isInternetEnabled": false,
   "language": "python",
   "sourceType": "notebook"
  },
  "kernelspec": {
   "display_name": "Python 3",
   "language": "python",
   "name": "python3"
  },
  "language_info": {
   "codemirror_mode": {
    "name": "ipython",
    "version": 3
   },
   "file_extension": ".py",
   "mimetype": "text/x-python",
   "name": "python",
   "nbconvert_exporter": "python",
   "pygments_lexer": "ipython3",
   "version": "3.10.13"
  },
  "papermill": {
   "default_parameters": {},
   "duration": 15.909646,
   "end_time": "2024-05-27T16:07:53.627259",
   "environment_variables": {},
   "exception": null,
   "input_path": "__notebook__.ipynb",
   "output_path": "__notebook__.ipynb",
   "parameters": {},
   "start_time": "2024-05-27T16:07:37.717613",
   "version": "2.5.0"
  }
 },
 "nbformat": 4,
 "nbformat_minor": 5
}
