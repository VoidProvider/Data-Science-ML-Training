{
 "cells": [
  {
   "cell_type": "markdown",
   "id": "taken-budapest",
   "metadata": {
    "papermill": {
     "duration": 0.011453,
     "end_time": "2021-06-20T20:45:28.919501",
     "exception": false,
     "start_time": "2021-06-20T20:45:28.908048",
     "status": "completed"
    },
    "tags": []
   },
   "source": [
    "# Training session SQL - Poludniowy Albanczyk"
   ]
  },
  {
   "cell_type": "markdown",
   "id": "under-terrorist",
   "metadata": {
    "papermill": {
     "duration": 0.010689,
     "end_time": "2021-06-20T20:45:28.941225",
     "exception": false,
     "start_time": "2021-06-20T20:45:28.930536",
     "status": "completed"
    },
    "tags": []
   },
   "source": [
    "# Introduction\n",
    "\n",
    "The first test of your new data exploration skills uses data describing crime in the city of Chicago.\n",
    "\n",
    "Before you get started, run the following cell. It sets up the automated feedback system to review your answers."
   ]
  },
  {
   "cell_type": "code",
   "execution_count": 1,
   "id": "informative-petroleum",
   "metadata": {
    "execution": {
     "iopub.execute_input": "2021-06-20T20:45:28.975651Z",
     "iopub.status.busy": "2021-06-20T20:45:28.975145Z",
     "iopub.status.idle": "2021-06-20T20:45:29.896698Z",
     "shell.execute_reply": "2021-06-20T20:45:29.895939Z",
     "shell.execute_reply.started": "2021-06-20T20:23:44.873551Z"
    },
    "papermill": {
     "duration": 0.940455,
     "end_time": "2021-06-20T20:45:29.896847",
     "exception": false,
     "start_time": "2021-06-20T20:45:28.956392",
     "status": "completed"
    },
    "tags": []
   },
   "outputs": [
    {
     "name": "stdout",
     "output_type": "stream",
     "text": [
      "Using Kaggle's public dataset BigQuery integration.\n",
      "Setup Complete\n"
     ]
    }
   ],
   "source": [
    "# Set up feedack system\n",
    "from learntools.core import binder\n",
    "binder.bind(globals())\n",
    "from learntools.sql.ex1 import *\n",
    "print(\"Setup Complete\")"
   ]
  },
  {
   "cell_type": "markdown",
   "id": "latest-bryan",
   "metadata": {
    "papermill": {
     "duration": 0.016622,
     "end_time": "2021-06-20T20:45:29.930741",
     "exception": false,
     "start_time": "2021-06-20T20:45:29.914119",
     "status": "completed"
    },
    "tags": []
   },
   "source": [
    "Use the next code cell to fetch the dataset."
   ]
  },
  {
   "cell_type": "code",
   "execution_count": 2,
   "id": "cathedral-continuity",
   "metadata": {
    "execution": {
     "iopub.execute_input": "2021-06-20T20:45:29.971151Z",
     "iopub.status.busy": "2021-06-20T20:45:29.970479Z",
     "iopub.status.idle": "2021-06-20T20:45:30.387341Z",
     "shell.execute_reply": "2021-06-20T20:45:30.386769Z",
     "shell.execute_reply.started": "2021-06-20T20:25:25.444862Z"
    },
    "papermill": {
     "duration": 0.440272,
     "end_time": "2021-06-20T20:45:30.387511",
     "exception": false,
     "start_time": "2021-06-20T20:45:29.947239",
     "status": "completed"
    },
    "tags": []
   },
   "outputs": [
    {
     "name": "stdout",
     "output_type": "stream",
     "text": [
      "Using Kaggle's public dataset BigQuery integration.\n"
     ]
    }
   ],
   "source": [
    "from google.cloud import bigquery\n",
    "\n",
    "# Create a \"Client\" object\n",
    "client = bigquery.Client()\n",
    "\n",
    "# Construct a reference to the \"chicago_crime\" dataset\n",
    "dataset_ref = client.dataset(\"chicago_crime\", project=\"bigquery-public-data\")\n",
    "\n",
    "# API request - fetch the dataset\n",
    "dataset = client.get_dataset(dataset_ref)\n"
   ]
  },
  {
   "cell_type": "markdown",
   "id": "worth-aquarium",
   "metadata": {
    "papermill": {
     "duration": 0.019858,
     "end_time": "2021-06-20T20:45:30.425635",
     "exception": false,
     "start_time": "2021-06-20T20:45:30.405777",
     "status": "completed"
    },
    "tags": []
   },
   "source": [
    "# Exercises\n",
    "\n",
    "### 1) Count tables in the dataset\n",
    "\n",
    "How many tables are in the Chicago Crime dataset?"
   ]
  },
  {
   "cell_type": "code",
   "execution_count": 3,
   "id": "civic-cemetery",
   "metadata": {
    "execution": {
     "iopub.execute_input": "2021-06-20T20:45:30.469073Z",
     "iopub.status.busy": "2021-06-20T20:45:30.468398Z",
     "iopub.status.idle": "2021-06-20T20:45:30.692856Z",
     "shell.execute_reply": "2021-06-20T20:45:30.692234Z",
     "shell.execute_reply.started": "2021-06-20T20:28:46.611002Z"
    },
    "papermill": {
     "duration": 0.248611,
     "end_time": "2021-06-20T20:45:30.693000",
     "exception": false,
     "start_time": "2021-06-20T20:45:30.444389",
     "status": "completed"
    },
    "tags": []
   },
   "outputs": [],
   "source": [
    "tables=list(client.list_tables(dataset))"
   ]
  },
  {
   "cell_type": "code",
   "execution_count": 4,
   "id": "fundamental-protection",
   "metadata": {
    "execution": {
     "iopub.execute_input": "2021-06-20T20:45:30.740044Z",
     "iopub.status.busy": "2021-06-20T20:45:30.739333Z",
     "iopub.status.idle": "2021-06-20T20:45:30.743507Z",
     "shell.execute_reply": "2021-06-20T20:45:30.744229Z",
     "shell.execute_reply.started": "2021-06-20T20:30:57.642695Z"
    },
    "papermill": {
     "duration": 0.029358,
     "end_time": "2021-06-20T20:45:30.744455",
     "exception": false,
     "start_time": "2021-06-20T20:45:30.715097",
     "status": "completed"
    },
    "tags": []
   },
   "outputs": [
    {
     "name": "stdout",
     "output_type": "stream",
     "text": [
      "crime\n"
     ]
    }
   ],
   "source": [
    "for i in tables : \n",
    "    print(i.table_id)"
   ]
  },
  {
   "cell_type": "code",
   "execution_count": 5,
   "id": "photographic-factor",
   "metadata": {
    "execution": {
     "iopub.execute_input": "2021-06-20T20:45:30.790239Z",
     "iopub.status.busy": "2021-06-20T20:45:30.789536Z",
     "iopub.status.idle": "2021-06-20T20:45:30.802720Z",
     "shell.execute_reply": "2021-06-20T20:45:30.802067Z",
     "shell.execute_reply.started": "2021-06-20T20:29:08.816904Z"
    },
    "papermill": {
     "duration": 0.035473,
     "end_time": "2021-06-20T20:45:30.802866",
     "exception": false,
     "start_time": "2021-06-20T20:45:30.767393",
     "status": "completed"
    },
    "tags": []
   },
   "outputs": [
    {
     "data": {
      "application/javascript": [
       "parent.postMessage({\"jupyterEvent\": \"custom.exercise_interaction\", \"data\": {\"outcomeType\": 1, \"valueTowardsCompletion\": 0.3333333333333333, \"interactionType\": 1, \"questionType\": 1, \"questionId\": \"1_CountTables\", \"learnToolsVersion\": \"0.3.4\", \"failureMessage\": \"\", \"exceptionClass\": \"\", \"trace\": \"\"}}, \"*\")"
      ],
      "text/plain": [
       "<IPython.core.display.Javascript object>"
      ]
     },
     "metadata": {},
     "output_type": "display_data"
    },
    {
     "data": {
      "text/markdown": [
       "<span style=\"color:#33cc33\">Correct</span>"
      ],
      "text/plain": [
       "Correct"
      ]
     },
     "metadata": {},
     "output_type": "display_data"
    }
   ],
   "source": [
    "num_tables = len(tables)  # Store the answer as num_tables and then run this cell\n",
    "\n",
    "# Check your answer\n",
    "q_1.check()"
   ]
  },
  {
   "cell_type": "markdown",
   "id": "tested-criminal",
   "metadata": {
    "papermill": {
     "duration": 0.018833,
     "end_time": "2021-06-20T20:45:30.841659",
     "exception": false,
     "start_time": "2021-06-20T20:45:30.822826",
     "status": "completed"
    },
    "tags": []
   },
   "source": [
    "For a hint or the solution, uncomment the appropriate line below."
   ]
  },
  {
   "cell_type": "markdown",
   "id": "democratic-local",
   "metadata": {
    "papermill": {
     "duration": 0.018772,
     "end_time": "2021-06-20T20:45:30.879422",
     "exception": false,
     "start_time": "2021-06-20T20:45:30.860650",
     "status": "completed"
    },
    "tags": []
   },
   "source": [
    "### 2) Explore the table schema\n",
    "\n",
    "How many columns in the `crime` table have `TIMESTAMP` data?"
   ]
  },
  {
   "cell_type": "code",
   "execution_count": 6,
   "id": "continuous-prime",
   "metadata": {
    "execution": {
     "iopub.execute_input": "2021-06-20T20:45:30.925640Z",
     "iopub.status.busy": "2021-06-20T20:45:30.924981Z",
     "iopub.status.idle": "2021-06-20T20:45:31.180050Z",
     "shell.execute_reply": "2021-06-20T20:45:31.180682Z",
     "shell.execute_reply.started": "2021-06-20T20:37:01.262626Z"
    },
    "papermill": {
     "duration": 0.282103,
     "end_time": "2021-06-20T20:45:31.180866",
     "exception": false,
     "start_time": "2021-06-20T20:45:30.898763",
     "status": "completed"
    },
    "tags": []
   },
   "outputs": [
    {
     "data": {
      "text/plain": [
       "[SchemaField('unique_key', 'INTEGER', 'REQUIRED', 'Unique identifier for the record.', (), None),\n",
       " SchemaField('case_number', 'STRING', 'NULLABLE', 'The Chicago Police Department RD Number (Records Division Number), which is unique to the incident.', (), None),\n",
       " SchemaField('date', 'TIMESTAMP', 'NULLABLE', 'Date when the incident occurred. this is sometimes a best estimate.', (), None),\n",
       " SchemaField('block', 'STRING', 'NULLABLE', 'The partially redacted address where the incident occurred, placing it on the same block as the actual address.', (), None),\n",
       " SchemaField('iucr', 'STRING', 'NULLABLE', 'The Illinois Unifrom Crime Reporting code. This is directly linked to the Primary Type and Description. See the list of IUCR codes at https://data.cityofchicago.org/d/c7ck-438e.', (), None),\n",
       " SchemaField('primary_type', 'STRING', 'NULLABLE', 'The primary description of the IUCR code.', (), None),\n",
       " SchemaField('description', 'STRING', 'NULLABLE', 'The secondary description of the IUCR code, a subcategory of the primary description.', (), None),\n",
       " SchemaField('location_description', 'STRING', 'NULLABLE', 'Description of the location where the incident occurred.', (), None),\n",
       " SchemaField('arrest', 'BOOLEAN', 'NULLABLE', 'Indicates whether an arrest was made.', (), None),\n",
       " SchemaField('domestic', 'BOOLEAN', 'NULLABLE', 'Indicates whether the incident was domestic-related as defined by the Illinois Domestic Violence Act.', (), None),\n",
       " SchemaField('beat', 'INTEGER', 'NULLABLE', 'Indicates the beat where the incident occurred. A beat is the smallest police geographic area – each beat has a dedicated police beat car. Three to five beats make up a police sector, and three sectors make up a police district. The Chicago Police Department has 22 police districts. See the beats at https://data.cityofchicago.org/d/aerh-rz74.', (), None),\n",
       " SchemaField('district', 'INTEGER', 'NULLABLE', 'Indicates the police district where the incident occurred. See the districts at https://data.cityofchicago.org/d/fthy-xz3r.', (), None),\n",
       " SchemaField('ward', 'INTEGER', 'NULLABLE', 'The ward (City Council district) where the incident occurred. See the wards at https://data.cityofchicago.org/d/sp34-6z76.', (), None),\n",
       " SchemaField('community_area', 'INTEGER', 'NULLABLE', 'Indicates the community area where the incident occurred. Chicago has 77 community areas. See the community areas at https://data.cityofchicago.org/d/cauq-8yn6.', (), None),\n",
       " SchemaField('fbi_code', 'STRING', 'NULLABLE', \"Indicates the crime classification as outlined in the FBI's National Incident-Based Reporting System (NIBRS). See the Chicago Police Department listing of these classifications at http://gis.chicagopolice.org/clearmap_crime_sums/crime_types.html.\", (), None),\n",
       " SchemaField('x_coordinate', 'FLOAT', 'NULLABLE', 'The x coordinate of the location where the incident occurred in State Plane Illinois East NAD 1983 projection. This location is shifted from the actual location for partial redaction but falls on the same block.', (), None),\n",
       " SchemaField('y_coordinate', 'FLOAT', 'NULLABLE', 'The y coordinate of the location where the incident occurred in State Plane Illinois East NAD 1983 projection. This location is shifted from the actual location for partial redaction but falls on the same block.', (), None),\n",
       " SchemaField('year', 'INTEGER', 'NULLABLE', 'Year the incident occurred.', (), None),\n",
       " SchemaField('updated_on', 'TIMESTAMP', 'NULLABLE', 'Date and time the record was last updated.', (), None),\n",
       " SchemaField('latitude', 'FLOAT', 'NULLABLE', 'The latitude of the location where the incident occurred. This location is shifted from the actual location for partial redaction but falls on the same block.', (), None),\n",
       " SchemaField('longitude', 'FLOAT', 'NULLABLE', 'The longitude of the location where the incident occurred. This location is shifted from the actual location for partial redaction but falls on the same block.', (), None),\n",
       " SchemaField('location', 'STRING', 'NULLABLE', 'The location where the incident occurred in a format that allows for creation of maps and other geographic operations on this data portal. This location is shifted from the actual location for partial redaction but falls on the same block.', (), None)]"
      ]
     },
     "execution_count": 6,
     "metadata": {},
     "output_type": "execute_result"
    }
   ],
   "source": [
    "table_ref=dataset_ref.table(\"crime\")\n",
    "table=client.get_table(table_ref)\n",
    "table.schema"
   ]
  },
  {
   "cell_type": "code",
   "execution_count": 7,
   "id": "manufactured-comfort",
   "metadata": {
    "execution": {
     "iopub.execute_input": "2021-06-20T20:45:31.231976Z",
     "iopub.status.busy": "2021-06-20T20:45:31.231242Z",
     "iopub.status.idle": "2021-06-20T20:45:31.237563Z",
     "shell.execute_reply": "2021-06-20T20:45:31.238203Z",
     "shell.execute_reply.started": "2021-06-20T20:37:52.429702Z"
    },
    "papermill": {
     "duration": 0.034269,
     "end_time": "2021-06-20T20:45:31.238417",
     "exception": false,
     "start_time": "2021-06-20T20:45:31.204148",
     "status": "completed"
    },
    "tags": []
   },
   "outputs": [
    {
     "data": {
      "application/javascript": [
       "parent.postMessage({\"jupyterEvent\": \"custom.exercise_interaction\", \"data\": {\"outcomeType\": 1, \"valueTowardsCompletion\": 0.3333333333333333, \"interactionType\": 1, \"questionType\": 1, \"questionId\": \"2_CountTimestampFields\", \"learnToolsVersion\": \"0.3.4\", \"failureMessage\": \"\", \"exceptionClass\": \"\", \"trace\": \"\"}}, \"*\")"
      ],
      "text/plain": [
       "<IPython.core.display.Javascript object>"
      ]
     },
     "metadata": {},
     "output_type": "display_data"
    },
    {
     "data": {
      "text/markdown": [
       "<span style=\"color:#33cc33\">Correct</span>"
      ],
      "text/plain": [
       "Correct"
      ]
     },
     "metadata": {},
     "output_type": "display_data"
    }
   ],
   "source": [
    "num_timestamp_fields = 2\n",
    "\n",
    "# Check your answer\n",
    "q_2.check()"
   ]
  },
  {
   "cell_type": "markdown",
   "id": "beneficial-server",
   "metadata": {
    "papermill": {
     "duration": 0.020741,
     "end_time": "2021-06-20T20:45:31.281318",
     "exception": false,
     "start_time": "2021-06-20T20:45:31.260577",
     "status": "completed"
    },
    "tags": []
   },
   "source": [
    "For a hint or the solution, uncomment the appropriate line below."
   ]
  },
  {
   "cell_type": "markdown",
   "id": "diagnostic-salad",
   "metadata": {
    "papermill": {
     "duration": 0.021358,
     "end_time": "2021-06-20T20:45:31.325698",
     "exception": false,
     "start_time": "2021-06-20T20:45:31.304340",
     "status": "completed"
    },
    "tags": []
   },
   "source": [
    "### 3) Create a crime map\n",
    "\n",
    "If you wanted to create a map with a dot at the location of each crime, what are the names of the two fields you likely need to pull out of the `crime` table to plot the crimes on a map?"
   ]
  },
  {
   "cell_type": "code",
   "execution_count": 8,
   "id": "invisible-lodging",
   "metadata": {
    "execution": {
     "iopub.execute_input": "2021-06-20T20:45:31.371669Z",
     "iopub.status.busy": "2021-06-20T20:45:31.371070Z",
     "iopub.status.idle": "2021-06-20T20:45:31.866808Z",
     "shell.execute_reply": "2021-06-20T20:45:31.866257Z",
     "shell.execute_reply.started": "2021-06-20T20:42:17.543661Z"
    },
    "papermill": {
     "duration": 0.519723,
     "end_time": "2021-06-20T20:45:31.866932",
     "exception": false,
     "start_time": "2021-06-20T20:45:31.347209",
     "status": "completed"
    },
    "tags": []
   },
   "outputs": [
    {
     "name": "stderr",
     "output_type": "stream",
     "text": [
      "/opt/conda/lib/python3.7/site-packages/ipykernel_launcher.py:1: UserWarning: Cannot use bqstorage_client if max_results is set, reverting to fetching data with the tabledata.list endpoint.\n",
      "  \"\"\"Entry point for launching an IPython kernel.\n"
     ]
    },
    {
     "data": {
      "text/html": [
       "<div>\n",
       "<style scoped>\n",
       "    .dataframe tbody tr th:only-of-type {\n",
       "        vertical-align: middle;\n",
       "    }\n",
       "\n",
       "    .dataframe tbody tr th {\n",
       "        vertical-align: top;\n",
       "    }\n",
       "\n",
       "    .dataframe thead th {\n",
       "        text-align: right;\n",
       "    }\n",
       "</style>\n",
       "<table border=\"1\" class=\"dataframe\">\n",
       "  <thead>\n",
       "    <tr style=\"text-align: right;\">\n",
       "      <th></th>\n",
       "      <th>unique_key</th>\n",
       "      <th>case_number</th>\n",
       "      <th>date</th>\n",
       "      <th>block</th>\n",
       "      <th>iucr</th>\n",
       "      <th>primary_type</th>\n",
       "      <th>description</th>\n",
       "      <th>location_description</th>\n",
       "      <th>arrest</th>\n",
       "      <th>domestic</th>\n",
       "      <th>...</th>\n",
       "      <th>ward</th>\n",
       "      <th>community_area</th>\n",
       "      <th>fbi_code</th>\n",
       "      <th>x_coordinate</th>\n",
       "      <th>y_coordinate</th>\n",
       "      <th>year</th>\n",
       "      <th>updated_on</th>\n",
       "      <th>latitude</th>\n",
       "      <th>longitude</th>\n",
       "      <th>location</th>\n",
       "    </tr>\n",
       "  </thead>\n",
       "  <tbody>\n",
       "    <tr>\n",
       "      <th>0</th>\n",
       "      <td>10229759</td>\n",
       "      <td>HY416640</td>\n",
       "      <td>2015-09-07 21:00:00+00:00</td>\n",
       "      <td>086XX S CONSTANCE AVE</td>\n",
       "      <td>1154</td>\n",
       "      <td>DECEPTIVE PRACTICE</td>\n",
       "      <td>FINANCIAL IDENTITY THEFT $300 AND UNDER</td>\n",
       "      <td>RESIDENCE</td>\n",
       "      <td>False</td>\n",
       "      <td>False</td>\n",
       "      <td>...</td>\n",
       "      <td>8</td>\n",
       "      <td>45</td>\n",
       "      <td>11</td>\n",
       "      <td>1190023.0</td>\n",
       "      <td>1848053.0</td>\n",
       "      <td>2015</td>\n",
       "      <td>2018-02-10 15:50:01+00:00</td>\n",
       "      <td>41.738091</td>\n",
       "      <td>-87.579380</td>\n",
       "      <td>(41.738091377, -87.579380062)</td>\n",
       "    </tr>\n",
       "    <tr>\n",
       "      <th>1</th>\n",
       "      <td>10238407</td>\n",
       "      <td>HY426125</td>\n",
       "      <td>2015-09-16 18:10:00+00:00</td>\n",
       "      <td>096XX S AVENUE M</td>\n",
       "      <td>2220</td>\n",
       "      <td>LIQUOR LAW VIOLATION</td>\n",
       "      <td>ILLEGAL POSSESSION BY MINOR</td>\n",
       "      <td>PARK PROPERTY</td>\n",
       "      <td>True</td>\n",
       "      <td>False</td>\n",
       "      <td>...</td>\n",
       "      <td>10</td>\n",
       "      <td>52</td>\n",
       "      <td>22</td>\n",
       "      <td>1201457.0</td>\n",
       "      <td>1841711.0</td>\n",
       "      <td>2015</td>\n",
       "      <td>2015-09-24 19:50:13+00:00</td>\n",
       "      <td>41.720406</td>\n",
       "      <td>-87.537704</td>\n",
       "      <td>(41.720405953, -87.537704393)</td>\n",
       "    </tr>\n",
       "    <tr>\n",
       "      <th>2</th>\n",
       "      <td>10246176</td>\n",
       "      <td>HY434031</td>\n",
       "      <td>2015-09-22 14:00:00+00:00</td>\n",
       "      <td>106XX S EWING AVE</td>\n",
       "      <td>1780</td>\n",
       "      <td>OFFENSE INVOLVING CHILDREN</td>\n",
       "      <td>OTHER OFFENSE</td>\n",
       "      <td>RESIDENCE</td>\n",
       "      <td>False</td>\n",
       "      <td>True</td>\n",
       "      <td>...</td>\n",
       "      <td>10</td>\n",
       "      <td>52</td>\n",
       "      <td>26</td>\n",
       "      <td>1202180.0</td>\n",
       "      <td>1835045.0</td>\n",
       "      <td>2015</td>\n",
       "      <td>2018-02-10 15:50:01+00:00</td>\n",
       "      <td>41.702096</td>\n",
       "      <td>-87.535283</td>\n",
       "      <td>(41.70209555, -87.535282582)</td>\n",
       "    </tr>\n",
       "    <tr>\n",
       "      <th>3</th>\n",
       "      <td>10278220</td>\n",
       "      <td>HY466077</td>\n",
       "      <td>2015-10-17 19:11:00+00:00</td>\n",
       "      <td>088XX S STONY ISLAND AVE</td>\n",
       "      <td>0650</td>\n",
       "      <td>BURGLARY</td>\n",
       "      <td>HOME INVASION</td>\n",
       "      <td>APARTMENT</td>\n",
       "      <td>False</td>\n",
       "      <td>False</td>\n",
       "      <td>...</td>\n",
       "      <td>8</td>\n",
       "      <td>48</td>\n",
       "      <td>05</td>\n",
       "      <td>1188460.0</td>\n",
       "      <td>1846683.0</td>\n",
       "      <td>2015</td>\n",
       "      <td>2018-02-10 15:50:01+00:00</td>\n",
       "      <td>41.734369</td>\n",
       "      <td>-87.585150</td>\n",
       "      <td>(41.734369392, -87.585150064)</td>\n",
       "    </tr>\n",
       "    <tr>\n",
       "      <th>4</th>\n",
       "      <td>10283179</td>\n",
       "      <td>HY471276</td>\n",
       "      <td>2015-10-21 17:30:00+00:00</td>\n",
       "      <td>054XX S KILDARE AVE</td>\n",
       "      <td>1780</td>\n",
       "      <td>OFFENSE INVOLVING CHILDREN</td>\n",
       "      <td>OTHER OFFENSE</td>\n",
       "      <td>APARTMENT</td>\n",
       "      <td>False</td>\n",
       "      <td>True</td>\n",
       "      <td>...</td>\n",
       "      <td>23</td>\n",
       "      <td>62</td>\n",
       "      <td>26</td>\n",
       "      <td>1148624.0</td>\n",
       "      <td>1868152.0</td>\n",
       "      <td>2015</td>\n",
       "      <td>2018-02-10 15:50:01+00:00</td>\n",
       "      <td>41.794142</td>\n",
       "      <td>-87.730541</td>\n",
       "      <td>(41.794141567, -87.730541033)</td>\n",
       "    </tr>\n",
       "  </tbody>\n",
       "</table>\n",
       "<p>5 rows × 22 columns</p>\n",
       "</div>"
      ],
      "text/plain": [
       "   unique_key case_number                      date                     block  \\\n",
       "0    10229759    HY416640 2015-09-07 21:00:00+00:00     086XX S CONSTANCE AVE   \n",
       "1    10238407    HY426125 2015-09-16 18:10:00+00:00          096XX S AVENUE M   \n",
       "2    10246176    HY434031 2015-09-22 14:00:00+00:00         106XX S EWING AVE   \n",
       "3    10278220    HY466077 2015-10-17 19:11:00+00:00  088XX S STONY ISLAND AVE   \n",
       "4    10283179    HY471276 2015-10-21 17:30:00+00:00       054XX S KILDARE AVE   \n",
       "\n",
       "   iucr                primary_type                              description  \\\n",
       "0  1154          DECEPTIVE PRACTICE  FINANCIAL IDENTITY THEFT $300 AND UNDER   \n",
       "1  2220        LIQUOR LAW VIOLATION              ILLEGAL POSSESSION BY MINOR   \n",
       "2  1780  OFFENSE INVOLVING CHILDREN                            OTHER OFFENSE   \n",
       "3  0650                    BURGLARY                            HOME INVASION   \n",
       "4  1780  OFFENSE INVOLVING CHILDREN                            OTHER OFFENSE   \n",
       "\n",
       "  location_description  arrest  domestic  ...  ward  community_area  fbi_code  \\\n",
       "0            RESIDENCE   False     False  ...     8              45        11   \n",
       "1        PARK PROPERTY    True     False  ...    10              52        22   \n",
       "2            RESIDENCE   False      True  ...    10              52        26   \n",
       "3            APARTMENT   False     False  ...     8              48        05   \n",
       "4            APARTMENT   False      True  ...    23              62        26   \n",
       "\n",
       "   x_coordinate y_coordinate  year                updated_on   latitude  \\\n",
       "0     1190023.0    1848053.0  2015 2018-02-10 15:50:01+00:00  41.738091   \n",
       "1     1201457.0    1841711.0  2015 2015-09-24 19:50:13+00:00  41.720406   \n",
       "2     1202180.0    1835045.0  2015 2018-02-10 15:50:01+00:00  41.702096   \n",
       "3     1188460.0    1846683.0  2015 2018-02-10 15:50:01+00:00  41.734369   \n",
       "4     1148624.0    1868152.0  2015 2018-02-10 15:50:01+00:00  41.794142   \n",
       "\n",
       "   longitude                       location  \n",
       "0 -87.579380  (41.738091377, -87.579380062)  \n",
       "1 -87.537704  (41.720405953, -87.537704393)  \n",
       "2 -87.535283   (41.70209555, -87.535282582)  \n",
       "3 -87.585150  (41.734369392, -87.585150064)  \n",
       "4 -87.730541  (41.794141567, -87.730541033)  \n",
       "\n",
       "[5 rows x 22 columns]"
      ]
     },
     "execution_count": 8,
     "metadata": {},
     "output_type": "execute_result"
    }
   ],
   "source": [
    "x=client.list_rows(table, max_results=5).to_dataframe()\n",
    "x"
   ]
  },
  {
   "cell_type": "code",
   "execution_count": 9,
   "id": "attended-thomas",
   "metadata": {
    "execution": {
     "iopub.execute_input": "2021-06-20T20:45:31.902769Z",
     "iopub.status.busy": "2021-06-20T20:45:31.902172Z",
     "iopub.status.idle": "2021-06-20T20:45:31.910978Z",
     "shell.execute_reply": "2021-06-20T20:45:31.910452Z",
     "shell.execute_reply.started": "2021-06-20T20:43:04.880113Z"
    },
    "papermill": {
     "duration": 0.028829,
     "end_time": "2021-06-20T20:45:31.911141",
     "exception": false,
     "start_time": "2021-06-20T20:45:31.882312",
     "status": "completed"
    },
    "tags": []
   },
   "outputs": [
    {
     "name": "stdout",
     "output_type": "stream",
     "text": [
      "`'latitude'` and `'longitude'` would be better and more standard than `'x_coordinate'` and `'y_coordinate'`, but this might work.\n"
     ]
    },
    {
     "data": {
      "application/javascript": [
       "parent.postMessage({\"jupyterEvent\": \"custom.exercise_interaction\", \"data\": {\"outcomeType\": 1, \"valueTowardsCompletion\": 0.3333333333333333, \"interactionType\": 1, \"questionType\": 2, \"questionId\": \"3_IdentifyFieldsForPlotting\", \"learnToolsVersion\": \"0.3.4\", \"failureMessage\": \"\", \"exceptionClass\": \"\", \"trace\": \"\"}}, \"*\")"
      ],
      "text/plain": [
       "<IPython.core.display.Javascript object>"
      ]
     },
     "metadata": {},
     "output_type": "display_data"
    },
    {
     "data": {
      "text/markdown": [
       "<span style=\"color:#33cc33\">Correct</span>"
      ],
      "text/plain": [
       "Correct"
      ]
     },
     "metadata": {},
     "output_type": "display_data"
    }
   ],
   "source": [
    "fields_for_plotting = ['x_coordinate', 'y_coordinate'] \n",
    "\n",
    "# Check your answer\n",
    "q_3.check()"
   ]
  },
  {
   "cell_type": "markdown",
   "id": "congressional-blank",
   "metadata": {
    "papermill": {
     "duration": 0.023191,
     "end_time": "2021-06-20T20:45:31.958080",
     "exception": false,
     "start_time": "2021-06-20T20:45:31.934889",
     "status": "completed"
    },
    "tags": []
   },
   "source": [
    "Thinking about the question above, there are a few columns that appear to have geographic data. Look at a few values (with the `list_rows()` command) to see if you can determine their relationship.  Two columns will still be hard to interpret. But it should be obvious how the `location` column relates to `latitude` and `longitude`."
   ]
  },
  {
   "cell_type": "code",
   "execution_count": 10,
   "id": "independent-piece",
   "metadata": {
    "execution": {
     "iopub.execute_input": "2021-06-20T20:45:32.008860Z",
     "iopub.status.busy": "2021-06-20T20:45:32.008263Z",
     "iopub.status.idle": "2021-06-20T20:45:32.011111Z",
     "shell.execute_reply": "2021-06-20T20:45:32.011602Z"
    },
    "papermill": {
     "duration": 0.030149,
     "end_time": "2021-06-20T20:45:32.011749",
     "exception": false,
     "start_time": "2021-06-20T20:45:31.981600",
     "status": "completed"
    },
    "tags": []
   },
   "outputs": [],
   "source": [
    "# Scratch space for your code"
   ]
  },
  {
   "cell_type": "markdown",
   "id": "special-window",
   "metadata": {
    "papermill": {
     "duration": 0.023031,
     "end_time": "2021-06-20T20:45:32.058143",
     "exception": false,
     "start_time": "2021-06-20T20:45:32.035112",
     "status": "completed"
    },
    "tags": []
   },
   "source": [
    "---\n",
    "\n",
    "\n",
    "\n",
    "\n",
    "*Have questions or comments? Visit the [Learn Discussion forum](https://www.kaggle.com/learn-forum/161314) to chat with other Learners.*"
   ]
  }
 ],
 "metadata": {
  "kernelspec": {
   "display_name": "Python 3",
   "language": "python",
   "name": "python3"
  },
  "language_info": {
   "codemirror_mode": {
    "name": "ipython",
    "version": 3
   },
   "file_extension": ".py",
   "mimetype": "text/x-python",
   "name": "python",
   "nbconvert_exporter": "python",
   "pygments_lexer": "ipython3",
   "version": "3.7.9"
  },
  "papermill": {
   "default_parameters": {},
   "duration": 11.201832,
   "end_time": "2021-06-20T20:45:32.892516",
   "environment_variables": {},
   "exception": null,
   "input_path": "__notebook__.ipynb",
   "output_path": "__notebook__.ipynb",
   "parameters": {},
   "start_time": "2021-06-20T20:45:21.690684",
   "version": "2.3.2"
  }
 },
 "nbformat": 4,
 "nbformat_minor": 5
}
