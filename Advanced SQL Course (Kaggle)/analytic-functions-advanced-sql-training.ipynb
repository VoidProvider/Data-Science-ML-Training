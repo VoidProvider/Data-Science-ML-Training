{
 "cells": [
  {
   "cell_type": "markdown",
   "id": "8e81d7e1",
   "metadata": {
    "papermill": {
     "duration": 0.004738,
     "end_time": "2023-06-15T00:33:55.716586",
     "exception": false,
     "start_time": "2023-06-15T00:33:55.711848",
     "status": "completed"
    },
    "tags": []
   },
   "source": [
    "**This notebook is an exercise in the [Advanced SQL](https://www.kaggle.com/learn/advanced-sql) course.  You can reference the tutorial at [this link](https://www.kaggle.com/alexisbcook/analytic-functions).**\n",
    "\n",
    "---\n"
   ]
  },
  {
   "cell_type": "markdown",
   "id": "980204e4",
   "metadata": {
    "papermill": {
     "duration": 0.003841,
     "end_time": "2023-06-15T00:33:55.724658",
     "exception": false,
     "start_time": "2023-06-15T00:33:55.720817",
     "status": "completed"
    },
    "tags": []
   },
   "source": [
    "# Introduction\n",
    "\n",
    "Here, you'll use window functions to answer questions about the [Chicago Taxi Trips](https://www.kaggle.com/chicago/chicago-taxi-trips-bq) dataset.\n",
    "\n",
    "Before you get started, run the code cell below to set everything up."
   ]
  },
  {
   "cell_type": "code",
   "execution_count": 1,
   "id": "399aa854",
   "metadata": {
    "execution": {
     "iopub.execute_input": "2023-06-15T00:33:55.734534Z",
     "iopub.status.busy": "2023-06-15T00:33:55.734127Z",
     "iopub.status.idle": "2023-06-15T00:34:55.625936Z",
     "shell.execute_reply": "2023-06-15T00:34:55.624712Z"
    },
    "papermill": {
     "duration": 59.899693,
     "end_time": "2023-06-15T00:34:55.628395",
     "exception": false,
     "start_time": "2023-06-15T00:33:55.728702",
     "status": "completed"
    },
    "tags": []
   },
   "outputs": [
    {
     "name": "stdout",
     "output_type": "stream",
     "text": [
      "Collecting git+https://github.com/Kaggle/learntools.git\r\n",
      "  Cloning https://github.com/Kaggle/learntools.git to /tmp/pip-req-build-89oc_p8t\r\n",
      "  Running command git clone --filter=blob:none --quiet https://github.com/Kaggle/learntools.git /tmp/pip-req-build-89oc_p8t\r\n",
      "  fatal: unable to access 'https://github.com/Kaggle/learntools.git/': Could not resolve host: github.com\r\n",
      "  \u001b[1;31merror\u001b[0m: \u001b[1msubprocess-exited-with-error\u001b[0m\r\n",
      "  \r\n",
      "  \u001b[31m×\u001b[0m \u001b[32mgit clone --\u001b[0m\u001b[32mfilter\u001b[0m\u001b[32m=\u001b[0m\u001b[32mblob\u001b[0m\u001b[32m:none --quiet \u001b[0m\u001b[4;32mhttps://github.com/Kaggle/learntools.git\u001b[0m\u001b[32m \u001b[0m\u001b[32m/tmp/\u001b[0m\u001b[32mpip-req-build-89oc_p8t\u001b[0m did not run successfully.\r\n",
      "  \u001b[31m│\u001b[0m exit code: \u001b[1;36m128\u001b[0m\r\n",
      "  \u001b[31m╰─>\u001b[0m See above for output.\r\n",
      "  \r\n",
      "  \u001b[1;35mnote\u001b[0m: This error originates from a subprocess, and is likely not a problem with pip.\r\n",
      "\u001b[1;31merror\u001b[0m: \u001b[1msubprocess-exited-with-error\u001b[0m\r\n",
      "\r\n",
      "\u001b[31m×\u001b[0m \u001b[32mgit clone --\u001b[0m\u001b[32mfilter\u001b[0m\u001b[32m=\u001b[0m\u001b[32mblob\u001b[0m\u001b[32m:none --quiet \u001b[0m\u001b[4;32mhttps://github.com/Kaggle/learntools.git\u001b[0m\u001b[32m \u001b[0m\u001b[32m/tmp/\u001b[0m\u001b[32mpip-req-build-89oc_p8t\u001b[0m did not run successfully.\r\n",
      "\u001b[31m│\u001b[0m exit code: \u001b[1;36m128\u001b[0m\r\n",
      "\u001b[31m╰─>\u001b[0m See above for output.\r\n",
      "\r\n",
      "\u001b[1;35mnote\u001b[0m: This error originates from a subprocess, and is likely not a problem with pip.\r\n",
      "Using Kaggle's public dataset BigQuery integration.\n",
      "Setup Complete\n"
     ]
    }
   ],
   "source": [
    "# Get most recent checking code\n",
    "!pip install -U -t /kaggle/working/ git+https://github.com/Kaggle/learntools.git\n",
    "# Set up feedback system\n",
    "from learntools.core import binder\n",
    "binder.bind(globals())\n",
    "from learntools.sql_advanced.ex2 import *\n",
    "print(\"Setup Complete\")"
   ]
  },
  {
   "cell_type": "markdown",
   "id": "db7370e0",
   "metadata": {
    "papermill": {
     "duration": 0.004385,
     "end_time": "2023-06-15T00:34:55.637583",
     "exception": false,
     "start_time": "2023-06-15T00:34:55.633198",
     "status": "completed"
    },
    "tags": []
   },
   "source": [
    "The following code cell fetches the `taxi_trips` table from the `chicago_taxi_trips` dataset. We also preview the first five rows of the table.  You'll use the table to answer the questions below."
   ]
  },
  {
   "cell_type": "code",
   "execution_count": 2,
   "id": "d4e55c35",
   "metadata": {
    "execution": {
     "iopub.execute_input": "2023-06-15T00:34:55.648949Z",
     "iopub.status.busy": "2023-06-15T00:34:55.648522Z",
     "iopub.status.idle": "2023-06-15T00:34:57.403457Z",
     "shell.execute_reply": "2023-06-15T00:34:57.402353Z"
    },
    "papermill": {
     "duration": 1.763834,
     "end_time": "2023-06-15T00:34:57.406094",
     "exception": false,
     "start_time": "2023-06-15T00:34:55.642260",
     "status": "completed"
    },
    "tags": []
   },
   "outputs": [
    {
     "name": "stdout",
     "output_type": "stream",
     "text": [
      "Using Kaggle's public dataset BigQuery integration.\n"
     ]
    },
    {
     "data": {
      "text/html": [
       "<div>\n",
       "<style scoped>\n",
       "    .dataframe tbody tr th:only-of-type {\n",
       "        vertical-align: middle;\n",
       "    }\n",
       "\n",
       "    .dataframe tbody tr th {\n",
       "        vertical-align: top;\n",
       "    }\n",
       "\n",
       "    .dataframe thead th {\n",
       "        text-align: right;\n",
       "    }\n",
       "</style>\n",
       "<table border=\"1\" class=\"dataframe\">\n",
       "  <thead>\n",
       "    <tr style=\"text-align: right;\">\n",
       "      <th></th>\n",
       "      <th>unique_key</th>\n",
       "      <th>taxi_id</th>\n",
       "      <th>trip_start_timestamp</th>\n",
       "      <th>trip_end_timestamp</th>\n",
       "      <th>trip_seconds</th>\n",
       "      <th>trip_miles</th>\n",
       "      <th>pickup_census_tract</th>\n",
       "      <th>dropoff_census_tract</th>\n",
       "      <th>pickup_community_area</th>\n",
       "      <th>dropoff_community_area</th>\n",
       "      <th>...</th>\n",
       "      <th>extras</th>\n",
       "      <th>trip_total</th>\n",
       "      <th>payment_type</th>\n",
       "      <th>company</th>\n",
       "      <th>pickup_latitude</th>\n",
       "      <th>pickup_longitude</th>\n",
       "      <th>pickup_location</th>\n",
       "      <th>dropoff_latitude</th>\n",
       "      <th>dropoff_longitude</th>\n",
       "      <th>dropoff_location</th>\n",
       "    </tr>\n",
       "  </thead>\n",
       "  <tbody>\n",
       "    <tr>\n",
       "      <th>0</th>\n",
       "      <td>fe060143e239dfa55af69982d0dbc619e2228b93</td>\n",
       "      <td>93ccda8a38077612a8f32b8bf1b430f8439cf114fefb22...</td>\n",
       "      <td>2015-09-21 15:15:00+00:00</td>\n",
       "      <td>2015-09-21 15:30:00+00:00</td>\n",
       "      <td>360</td>\n",
       "      <td>0.70</td>\n",
       "      <td>1.703184e+10</td>\n",
       "      <td>1.703128e+10</td>\n",
       "      <td>32</td>\n",
       "      <td>28</td>\n",
       "      <td>...</td>\n",
       "      <td>0.0</td>\n",
       "      <td>5.45</td>\n",
       "      <td>Cash</td>\n",
       "      <td>None</td>\n",
       "      <td>41.880994</td>\n",
       "      <td>-87.632746</td>\n",
       "      <td>POINT (-87.6327464887 41.8809944707)</td>\n",
       "      <td>41.885300</td>\n",
       "      <td>-87.642808</td>\n",
       "      <td>POINT (-87.6428084655 41.8853000224)</td>\n",
       "    </tr>\n",
       "    <tr>\n",
       "      <th>1</th>\n",
       "      <td>9e6a37a0cdfe479eebe5de0fa250fda7792448d3</td>\n",
       "      <td>2120ffd6768c3ddb1d831afa3f2ac12eada1fbde60bf4d...</td>\n",
       "      <td>2015-10-01 18:30:00+00:00</td>\n",
       "      <td>2015-10-01 18:45:00+00:00</td>\n",
       "      <td>780</td>\n",
       "      <td>1.53</td>\n",
       "      <td>1.703108e+10</td>\n",
       "      <td>1.703124e+10</td>\n",
       "      <td>8</td>\n",
       "      <td>24</td>\n",
       "      <td>...</td>\n",
       "      <td>1.0</td>\n",
       "      <td>10.05</td>\n",
       "      <td>Cash</td>\n",
       "      <td>None</td>\n",
       "      <td>41.892042</td>\n",
       "      <td>-87.631864</td>\n",
       "      <td>POINT (-87.6318639497 41.8920421365)</td>\n",
       "      <td>41.892658</td>\n",
       "      <td>-87.652534</td>\n",
       "      <td>POINT (-87.6525344838 41.8926581076)</td>\n",
       "    </tr>\n",
       "    <tr>\n",
       "      <th>2</th>\n",
       "      <td>422f9087772c73d3148f4155204f554daebac100</td>\n",
       "      <td>d5dc4a704805faed89d18144387c3f5f9150df85c6ea5d...</td>\n",
       "      <td>2015-09-20 18:30:00+00:00</td>\n",
       "      <td>2015-09-20 19:00:00+00:00</td>\n",
       "      <td>1320</td>\n",
       "      <td>2.80</td>\n",
       "      <td>NaN</td>\n",
       "      <td>NaN</td>\n",
       "      <td>4</td>\n",
       "      <td>14</td>\n",
       "      <td>...</td>\n",
       "      <td>0.0</td>\n",
       "      <td>12.45</td>\n",
       "      <td>Cash</td>\n",
       "      <td>None</td>\n",
       "      <td>41.975171</td>\n",
       "      <td>-87.687516</td>\n",
       "      <td>POINT (-87.68751551520002 41.9751709433)</td>\n",
       "      <td>41.968069</td>\n",
       "      <td>-87.721559</td>\n",
       "      <td>POINT (-87.7215590627 41.968069)</td>\n",
       "    </tr>\n",
       "    <tr>\n",
       "      <th>3</th>\n",
       "      <td>72297eeaf07f7882d38447fe19f91b3901501c93</td>\n",
       "      <td>43946e4da8905d64ceeed7cfc2b1969df72ecf991b865a...</td>\n",
       "      <td>2015-09-21 20:45:00+00:00</td>\n",
       "      <td>2015-09-21 21:15:00+00:00</td>\n",
       "      <td>1140</td>\n",
       "      <td>17.10</td>\n",
       "      <td>1.703198e+10</td>\n",
       "      <td>1.703128e+10</td>\n",
       "      <td>76</td>\n",
       "      <td>28</td>\n",
       "      <td>...</td>\n",
       "      <td>3.0</td>\n",
       "      <td>45.65</td>\n",
       "      <td>Credit Card</td>\n",
       "      <td>None</td>\n",
       "      <td>41.979071</td>\n",
       "      <td>-87.903040</td>\n",
       "      <td>POINT (-87.9030396611 41.9790708201)</td>\n",
       "      <td>41.879255</td>\n",
       "      <td>-87.642649</td>\n",
       "      <td>POINT (-87.642648998 41.8792550844)</td>\n",
       "    </tr>\n",
       "    <tr>\n",
       "      <th>4</th>\n",
       "      <td>f4d252be1d83b74abd02216ea67a80e71a16a8a4</td>\n",
       "      <td>9887bb2fa063dfbc2cdb90e985162116e86cdad1ca041e...</td>\n",
       "      <td>2015-09-23 23:00:00+00:00</td>\n",
       "      <td>2015-09-23 23:15:00+00:00</td>\n",
       "      <td>720</td>\n",
       "      <td>3.80</td>\n",
       "      <td>1.703106e+10</td>\n",
       "      <td>1.703108e+10</td>\n",
       "      <td>6</td>\n",
       "      <td>8</td>\n",
       "      <td>...</td>\n",
       "      <td>0.0</td>\n",
       "      <td>15.25</td>\n",
       "      <td>Credit Card</td>\n",
       "      <td>None</td>\n",
       "      <td>41.942585</td>\n",
       "      <td>-87.656644</td>\n",
       "      <td>POINT (-87.6566440918 41.9425851797)</td>\n",
       "      <td>41.907492</td>\n",
       "      <td>-87.635760</td>\n",
       "      <td>POINT (-87.6357600901 41.9074919303)</td>\n",
       "    </tr>\n",
       "  </tbody>\n",
       "</table>\n",
       "<p>5 rows × 23 columns</p>\n",
       "</div>"
      ],
      "text/plain": [
       "                                 unique_key  \\\n",
       "0  fe060143e239dfa55af69982d0dbc619e2228b93   \n",
       "1  9e6a37a0cdfe479eebe5de0fa250fda7792448d3   \n",
       "2  422f9087772c73d3148f4155204f554daebac100   \n",
       "3  72297eeaf07f7882d38447fe19f91b3901501c93   \n",
       "4  f4d252be1d83b74abd02216ea67a80e71a16a8a4   \n",
       "\n",
       "                                             taxi_id  \\\n",
       "0  93ccda8a38077612a8f32b8bf1b430f8439cf114fefb22...   \n",
       "1  2120ffd6768c3ddb1d831afa3f2ac12eada1fbde60bf4d...   \n",
       "2  d5dc4a704805faed89d18144387c3f5f9150df85c6ea5d...   \n",
       "3  43946e4da8905d64ceeed7cfc2b1969df72ecf991b865a...   \n",
       "4  9887bb2fa063dfbc2cdb90e985162116e86cdad1ca041e...   \n",
       "\n",
       "       trip_start_timestamp        trip_end_timestamp  trip_seconds  \\\n",
       "0 2015-09-21 15:15:00+00:00 2015-09-21 15:30:00+00:00           360   \n",
       "1 2015-10-01 18:30:00+00:00 2015-10-01 18:45:00+00:00           780   \n",
       "2 2015-09-20 18:30:00+00:00 2015-09-20 19:00:00+00:00          1320   \n",
       "3 2015-09-21 20:45:00+00:00 2015-09-21 21:15:00+00:00          1140   \n",
       "4 2015-09-23 23:00:00+00:00 2015-09-23 23:15:00+00:00           720   \n",
       "\n",
       "   trip_miles  pickup_census_tract  dropoff_census_tract  \\\n",
       "0        0.70         1.703184e+10          1.703128e+10   \n",
       "1        1.53         1.703108e+10          1.703124e+10   \n",
       "2        2.80                  NaN                   NaN   \n",
       "3       17.10         1.703198e+10          1.703128e+10   \n",
       "4        3.80         1.703106e+10          1.703108e+10   \n",
       "\n",
       "   pickup_community_area  dropoff_community_area  ...  extras  trip_total  \\\n",
       "0                     32                      28  ...     0.0        5.45   \n",
       "1                      8                      24  ...     1.0       10.05   \n",
       "2                      4                      14  ...     0.0       12.45   \n",
       "3                     76                      28  ...     3.0       45.65   \n",
       "4                      6                       8  ...     0.0       15.25   \n",
       "\n",
       "   payment_type  company  pickup_latitude pickup_longitude  \\\n",
       "0          Cash     None        41.880994       -87.632746   \n",
       "1          Cash     None        41.892042       -87.631864   \n",
       "2          Cash     None        41.975171       -87.687516   \n",
       "3   Credit Card     None        41.979071       -87.903040   \n",
       "4   Credit Card     None        41.942585       -87.656644   \n",
       "\n",
       "                            pickup_location  dropoff_latitude  \\\n",
       "0      POINT (-87.6327464887 41.8809944707)         41.885300   \n",
       "1      POINT (-87.6318639497 41.8920421365)         41.892658   \n",
       "2  POINT (-87.68751551520002 41.9751709433)         41.968069   \n",
       "3      POINT (-87.9030396611 41.9790708201)         41.879255   \n",
       "4      POINT (-87.6566440918 41.9425851797)         41.907492   \n",
       "\n",
       "   dropoff_longitude                      dropoff_location  \n",
       "0         -87.642808  POINT (-87.6428084655 41.8853000224)  \n",
       "1         -87.652534  POINT (-87.6525344838 41.8926581076)  \n",
       "2         -87.721559      POINT (-87.7215590627 41.968069)  \n",
       "3         -87.642649   POINT (-87.642648998 41.8792550844)  \n",
       "4         -87.635760  POINT (-87.6357600901 41.9074919303)  \n",
       "\n",
       "[5 rows x 23 columns]"
      ]
     },
     "execution_count": 2,
     "metadata": {},
     "output_type": "execute_result"
    }
   ],
   "source": [
    "from google.cloud import bigquery\n",
    "\n",
    "# Create a \"Client\" object\n",
    "client = bigquery.Client()\n",
    "\n",
    "# Construct a reference to the \"chicago_taxi_trips\" dataset\n",
    "dataset_ref = client.dataset(\"chicago_taxi_trips\", project=\"bigquery-public-data\")\n",
    "\n",
    "# API request - fetch the dataset\n",
    "dataset = client.get_dataset(dataset_ref)\n",
    "\n",
    "# Construct a reference to the \"taxi_trips\" table\n",
    "table_ref = dataset_ref.table(\"taxi_trips\")\n",
    "\n",
    "# API request - fetch the table\n",
    "table = client.get_table(table_ref)\n",
    "\n",
    "# Preview the first five lines of the table\n",
    "client.list_rows(table, max_results=5).to_dataframe()"
   ]
  },
  {
   "cell_type": "markdown",
   "id": "39d43d5c",
   "metadata": {
    "papermill": {
     "duration": 0.004875,
     "end_time": "2023-06-15T00:34:57.416160",
     "exception": false,
     "start_time": "2023-06-15T00:34:57.411285",
     "status": "completed"
    },
    "tags": []
   },
   "source": [
    "# Exercises\n",
    "\n",
    "### 1) How can you predict the demand for taxis?\n",
    "\n",
    "Say you work for a taxi company, and you're interested in predicting the demand for taxis.  Towards this goal, you'd like to create a plot that shows a rolling average of the daily number of taxi trips.  Amend the (partial) query below to return a DataFrame with two columns:\n",
    "- `trip_date` - contains one entry for each date from January 1, 2016, to March 31, 2016.\n",
    "- `avg_num_trips` - shows the average number of daily trips, calculated over a window including the value for the current date, along with the values for the preceding 3 days and the following 3 days, as long as the days fit within the three-month time frame.  For instance, when calculating the value in this column for January 3, 2016, the window will include the number of trips for the preceding 2 days, the current date, and the following 3 days.\n",
    "\n"
   ]
  },
  {
   "cell_type": "code",
   "execution_count": 3,
   "id": "ce2962fa",
   "metadata": {
    "execution": {
     "iopub.execute_input": "2023-06-15T00:34:57.428795Z",
     "iopub.status.busy": "2023-06-15T00:34:57.427884Z",
     "iopub.status.idle": "2023-06-15T00:34:58.730820Z",
     "shell.execute_reply": "2023-06-15T00:34:58.729781Z"
    },
    "papermill": {
     "duration": 1.311809,
     "end_time": "2023-06-15T00:34:58.733077",
     "exception": false,
     "start_time": "2023-06-15T00:34:57.421268",
     "status": "completed"
    },
    "tags": []
   },
   "outputs": [
    {
     "data": {
      "text/html": [
       "<div>\n",
       "<style scoped>\n",
       "    .dataframe tbody tr th:only-of-type {\n",
       "        vertical-align: middle;\n",
       "    }\n",
       "\n",
       "    .dataframe tbody tr th {\n",
       "        vertical-align: top;\n",
       "    }\n",
       "\n",
       "    .dataframe thead th {\n",
       "        text-align: right;\n",
       "    }\n",
       "</style>\n",
       "<table border=\"1\" class=\"dataframe\">\n",
       "  <thead>\n",
       "    <tr style=\"text-align: right;\">\n",
       "      <th></th>\n",
       "      <th>trip_date</th>\n",
       "      <th>avg_num_trips</th>\n",
       "    </tr>\n",
       "  </thead>\n",
       "  <tbody>\n",
       "    <tr>\n",
       "      <th>0</th>\n",
       "      <td>2016-03-01</td>\n",
       "      <td>91980.000000</td>\n",
       "    </tr>\n",
       "    <tr>\n",
       "      <th>1</th>\n",
       "      <td>2016-01-14</td>\n",
       "      <td>86916.428571</td>\n",
       "    </tr>\n",
       "    <tr>\n",
       "      <th>2</th>\n",
       "      <td>2016-01-02</td>\n",
       "      <td>72801.000000</td>\n",
       "    </tr>\n",
       "    <tr>\n",
       "      <th>3</th>\n",
       "      <td>2016-02-02</td>\n",
       "      <td>79947.285714</td>\n",
       "    </tr>\n",
       "    <tr>\n",
       "      <th>4</th>\n",
       "      <td>2016-03-30</td>\n",
       "      <td>74274.400000</td>\n",
       "    </tr>\n",
       "  </tbody>\n",
       "</table>\n",
       "</div>"
      ],
      "text/plain": [
       "    trip_date  avg_num_trips\n",
       "0  2016-03-01   91980.000000\n",
       "1  2016-01-14   86916.428571\n",
       "2  2016-01-02   72801.000000\n",
       "3  2016-02-02   79947.285714\n",
       "4  2016-03-30   74274.400000"
      ]
     },
     "metadata": {},
     "output_type": "display_data"
    },
    {
     "data": {
      "application/javascript": [
       "parent.postMessage({\"jupyterEvent\": \"custom.exercise_interaction\", \"data\": {\"outcomeType\": 1, \"valueTowardsCompletion\": 0.3333333333333333, \"interactionType\": 1, \"questionType\": 2, \"questionId\": \"1_TaxiDemand\", \"learnToolsVersion\": \"0.3.4\", \"failureMessage\": \"\", \"exceptionClass\": \"\", \"trace\": \"\"}}, \"*\")"
      ],
      "text/plain": [
       "<IPython.core.display.Javascript object>"
      ]
     },
     "metadata": {},
     "output_type": "display_data"
    },
    {
     "data": {
      "text/markdown": [
       "<span style=\"color:#33cc33\">Correct</span>"
      ],
      "text/plain": [
       "Correct"
      ]
     },
     "metadata": {},
     "output_type": "display_data"
    }
   ],
   "source": [
    "# Fill in the blank below\n",
    "avg_num_trips_query = \"\"\"\n",
    "                      WITH trips_by_day AS\n",
    "                      (\n",
    "                      SELECT DATE(trip_start_timestamp) AS trip_date,\n",
    "                          COUNT(*) as num_trips\n",
    "                      FROM `bigquery-public-data.chicago_taxi_trips.taxi_trips`\n",
    "                      WHERE trip_start_timestamp > '2016-01-01' AND trip_start_timestamp < '2016-04-01'\n",
    "                      GROUP BY trip_date\n",
    "                      ORDER BY trip_date\n",
    "                      )\n",
    "                      SELECT trip_date,\n",
    "                          AVG(num_trips)\n",
    "                          OVER (ROWS BETWEEN 3 PRECEDING AND 3 FOLLOWING                 \n",
    "                               ) AS avg_num_trips\n",
    "                      FROM trips_by_day\n",
    "                      \"\"\"\n",
    "\n",
    "# Check your answer\n",
    "q_1.check()"
   ]
  },
  {
   "cell_type": "markdown",
   "id": "3a044a73",
   "metadata": {
    "papermill": {
     "duration": 0.005529,
     "end_time": "2023-06-15T00:34:58.744332",
     "exception": false,
     "start_time": "2023-06-15T00:34:58.738803",
     "status": "completed"
    },
    "tags": []
   },
   "source": [
    "### 2) Can you separate and order trips by community area?\n",
    "\n",
    "The query below returns a DataFrame with three columns from the table: `pickup_community_area`, `trip_start_timestamp`, and `trip_end_timestamp`.  \n",
    "\n",
    "Amend the query to return an additional column called `trip_number` which shows the order in which the trips were taken from their respective community areas.  So, the first trip of the day originating from community area 1 should receive a value of 1; the second trip of the day from the same area should receive a value of 2.  Likewise, the first trip of the day from community area 2 should receive a value of 1, and so on.\n"
   ]
  },
  {
   "cell_type": "code",
   "execution_count": 4,
   "id": "81ffd753",
   "metadata": {
    "execution": {
     "iopub.execute_input": "2023-06-15T00:34:58.757660Z",
     "iopub.status.busy": "2023-06-15T00:34:58.757267Z",
     "iopub.status.idle": "2023-06-15T00:35:03.917445Z",
     "shell.execute_reply": "2023-06-15T00:35:03.916493Z"
    },
    "papermill": {
     "duration": 5.169516,
     "end_time": "2023-06-15T00:35:03.919659",
     "exception": false,
     "start_time": "2023-06-15T00:34:58.750143",
     "status": "completed"
    },
    "tags": []
   },
   "outputs": [
    {
     "data": {
      "text/html": [
       "<div>\n",
       "<style scoped>\n",
       "    .dataframe tbody tr th:only-of-type {\n",
       "        vertical-align: middle;\n",
       "    }\n",
       "\n",
       "    .dataframe tbody tr th {\n",
       "        vertical-align: top;\n",
       "    }\n",
       "\n",
       "    .dataframe thead th {\n",
       "        text-align: right;\n",
       "    }\n",
       "</style>\n",
       "<table border=\"1\" class=\"dataframe\">\n",
       "  <thead>\n",
       "    <tr style=\"text-align: right;\">\n",
       "      <th></th>\n",
       "      <th>pickup_community_area</th>\n",
       "      <th>trip_start_timestamp</th>\n",
       "      <th>trip_end_timestamp</th>\n",
       "      <th>trip_number</th>\n",
       "    </tr>\n",
       "  </thead>\n",
       "  <tbody>\n",
       "    <tr>\n",
       "      <th>0</th>\n",
       "      <td>4.0</td>\n",
       "      <td>2013-10-03 00:00:00+00:00</td>\n",
       "      <td>2013-10-03 00:15:00+00:00</td>\n",
       "      <td>1</td>\n",
       "    </tr>\n",
       "    <tr>\n",
       "      <th>1</th>\n",
       "      <td>4.0</td>\n",
       "      <td>2013-10-03 00:15:00+00:00</td>\n",
       "      <td>2013-10-03 00:15:00+00:00</td>\n",
       "      <td>2</td>\n",
       "    </tr>\n",
       "    <tr>\n",
       "      <th>2</th>\n",
       "      <td>4.0</td>\n",
       "      <td>2013-10-03 00:15:00+00:00</td>\n",
       "      <td>2013-10-03 00:30:00+00:00</td>\n",
       "      <td>2</td>\n",
       "    </tr>\n",
       "    <tr>\n",
       "      <th>3</th>\n",
       "      <td>4.0</td>\n",
       "      <td>2013-10-03 00:15:00+00:00</td>\n",
       "      <td>2013-10-03 00:15:00+00:00</td>\n",
       "      <td>2</td>\n",
       "    </tr>\n",
       "    <tr>\n",
       "      <th>4</th>\n",
       "      <td>4.0</td>\n",
       "      <td>2013-10-03 00:15:00+00:00</td>\n",
       "      <td>2013-10-03 00:15:00+00:00</td>\n",
       "      <td>2</td>\n",
       "    </tr>\n",
       "  </tbody>\n",
       "</table>\n",
       "</div>"
      ],
      "text/plain": [
       "   pickup_community_area      trip_start_timestamp        trip_end_timestamp  \\\n",
       "0                    4.0 2013-10-03 00:00:00+00:00 2013-10-03 00:15:00+00:00   \n",
       "1                    4.0 2013-10-03 00:15:00+00:00 2013-10-03 00:15:00+00:00   \n",
       "2                    4.0 2013-10-03 00:15:00+00:00 2013-10-03 00:30:00+00:00   \n",
       "3                    4.0 2013-10-03 00:15:00+00:00 2013-10-03 00:15:00+00:00   \n",
       "4                    4.0 2013-10-03 00:15:00+00:00 2013-10-03 00:15:00+00:00   \n",
       "\n",
       "   trip_number  \n",
       "0            1  \n",
       "1            2  \n",
       "2            2  \n",
       "3            2  \n",
       "4            2  "
      ]
     },
     "metadata": {},
     "output_type": "display_data"
    },
    {
     "data": {
      "application/javascript": [
       "parent.postMessage({\"jupyterEvent\": \"custom.exercise_interaction\", \"data\": {\"outcomeType\": 1, \"valueTowardsCompletion\": 0.3333333333333333, \"interactionType\": 1, \"questionType\": 2, \"questionId\": \"2_CommunityArea\", \"learnToolsVersion\": \"0.3.4\", \"failureMessage\": \"\", \"exceptionClass\": \"\", \"trace\": \"\"}}, \"*\")"
      ],
      "text/plain": [
       "<IPython.core.display.Javascript object>"
      ]
     },
     "metadata": {},
     "output_type": "display_data"
    },
    {
     "data": {
      "text/markdown": [
       "<span style=\"color:#33cc33\">Correct</span>"
      ],
      "text/plain": [
       "Correct"
      ]
     },
     "metadata": {},
     "output_type": "display_data"
    }
   ],
   "source": [
    "# Amend the query below\n",
    "trip_number_query = \"\"\"\n",
    "                    SELECT pickup_community_area,\n",
    "                        trip_start_timestamp,\n",
    "                        trip_end_timestamp,\n",
    "                        RANK() OVER (PARTITION BY pickup_community_area ORDER BY trip_start_timestamp) AS trip_number\n",
    "                    FROM `bigquery-public-data.chicago_taxi_trips.taxi_trips`\n",
    "                    WHERE DATE(trip_start_timestamp) = '2013-10-03'\n",
    "                    \"\"\"\n",
    "\n",
    "# Check your answer\n",
    "q_2.check()"
   ]
  },
  {
   "cell_type": "markdown",
   "id": "7f61ebca",
   "metadata": {
    "papermill": {
     "duration": 0.006315,
     "end_time": "2023-06-15T00:35:03.934231",
     "exception": false,
     "start_time": "2023-06-15T00:35:03.927916",
     "status": "completed"
    },
    "tags": []
   },
   "source": [
    "### 3) How much time elapses between trips?\n",
    "\n",
    "The (partial) query in the code cell below shows, for each trip in the selected time frame, the corresponding `taxi_id`, `trip_start_timestamp`, and `trip_end_timestamp`. \n",
    "\n",
    "Your task in this exercise is to edit the query to include an additional `prev_break` column that shows the length of the break (in minutes) that the driver had before each trip started (this corresponds to the time between `trip_start_timestamp` of the current trip and `trip_end_timestamp` of the previous trip).  Partition the calculation by `taxi_id`, and order the results within each partition by `trip_start_timestamp`.\n",
    "\n",
    "Some sample results are shown below, where all rows correspond to the same driver (or `taxi_id`).  Take the time now to make sure that the values in the `prev_break` column make sense to you!\n",
    "\n",
    "![first_commands](https://storage.googleapis.com/kaggle-media/learn/images/qjvQzg8.png)\n",
    "\n",
    "Note that the first trip of the day for each driver should have a value of **NaN** (not a number) in the `prev_break` column."
   ]
  },
  {
   "cell_type": "code",
   "execution_count": 5,
   "id": "10ec4148",
   "metadata": {
    "execution": {
     "iopub.execute_input": "2023-06-15T00:35:03.949113Z",
     "iopub.status.busy": "2023-06-15T00:35:03.948525Z",
     "iopub.status.idle": "2023-06-15T00:35:13.262930Z",
     "shell.execute_reply": "2023-06-15T00:35:13.261735Z"
    },
    "papermill": {
     "duration": 9.324866,
     "end_time": "2023-06-15T00:35:13.265471",
     "exception": false,
     "start_time": "2023-06-15T00:35:03.940605",
     "status": "completed"
    },
    "tags": []
   },
   "outputs": [
    {
     "data": {
      "text/html": [
       "<div>\n",
       "<style scoped>\n",
       "    .dataframe tbody tr th:only-of-type {\n",
       "        vertical-align: middle;\n",
       "    }\n",
       "\n",
       "    .dataframe tbody tr th {\n",
       "        vertical-align: top;\n",
       "    }\n",
       "\n",
       "    .dataframe thead th {\n",
       "        text-align: right;\n",
       "    }\n",
       "</style>\n",
       "<table border=\"1\" class=\"dataframe\">\n",
       "  <thead>\n",
       "    <tr style=\"text-align: right;\">\n",
       "      <th></th>\n",
       "      <th>taxi_id</th>\n",
       "      <th>trip_start_timestamp</th>\n",
       "      <th>trip_end_timestamp</th>\n",
       "      <th>prev_break</th>\n",
       "    </tr>\n",
       "  </thead>\n",
       "  <tbody>\n",
       "    <tr>\n",
       "      <th>0</th>\n",
       "      <td>06895917531066707e5e5f4dc3564e3ef6c18853f31d27...</td>\n",
       "      <td>2013-10-03 13:00:00+00:00</td>\n",
       "      <td>2013-10-03 13:30:00+00:00</td>\n",
       "      <td>690.0</td>\n",
       "    </tr>\n",
       "    <tr>\n",
       "      <th>1</th>\n",
       "      <td>0e8726922a5536f2c07eb081776484ac6ed4be5b2f5b09...</td>\n",
       "      <td>2013-10-03 18:45:00+00:00</td>\n",
       "      <td>2013-10-03 18:45:00+00:00</td>\n",
       "      <td>315.0</td>\n",
       "    </tr>\n",
       "    <tr>\n",
       "      <th>2</th>\n",
       "      <td>22b6b96b6772f59c3cf20e1454d31a32462eec5593da20...</td>\n",
       "      <td>2013-10-03 23:00:00+00:00</td>\n",
       "      <td>2013-10-03 23:00:00+00:00</td>\n",
       "      <td>210.0</td>\n",
       "    </tr>\n",
       "    <tr>\n",
       "      <th>3</th>\n",
       "      <td>38f6145c9a2b848dc1baa16fd91087e606b12bcb8757a9...</td>\n",
       "      <td>2013-10-03 15:30:00+00:00</td>\n",
       "      <td>2013-10-03 15:30:00+00:00</td>\n",
       "      <td>615.0</td>\n",
       "    </tr>\n",
       "    <tr>\n",
       "      <th>4</th>\n",
       "      <td>3b5ccf9479decf48844e1beab2b5dba14e75c17972c396...</td>\n",
       "      <td>2013-10-03 14:00:00+00:00</td>\n",
       "      <td>2013-10-03 14:00:00+00:00</td>\n",
       "      <td>840.0</td>\n",
       "    </tr>\n",
       "  </tbody>\n",
       "</table>\n",
       "</div>"
      ],
      "text/plain": [
       "                                             taxi_id  \\\n",
       "0  06895917531066707e5e5f4dc3564e3ef6c18853f31d27...   \n",
       "1  0e8726922a5536f2c07eb081776484ac6ed4be5b2f5b09...   \n",
       "2  22b6b96b6772f59c3cf20e1454d31a32462eec5593da20...   \n",
       "3  38f6145c9a2b848dc1baa16fd91087e606b12bcb8757a9...   \n",
       "4  3b5ccf9479decf48844e1beab2b5dba14e75c17972c396...   \n",
       "\n",
       "       trip_start_timestamp        trip_end_timestamp  prev_break  \n",
       "0 2013-10-03 13:00:00+00:00 2013-10-03 13:30:00+00:00       690.0  \n",
       "1 2013-10-03 18:45:00+00:00 2013-10-03 18:45:00+00:00       315.0  \n",
       "2 2013-10-03 23:00:00+00:00 2013-10-03 23:00:00+00:00       210.0  \n",
       "3 2013-10-03 15:30:00+00:00 2013-10-03 15:30:00+00:00       615.0  \n",
       "4 2013-10-03 14:00:00+00:00 2013-10-03 14:00:00+00:00       840.0  "
      ]
     },
     "metadata": {},
     "output_type": "display_data"
    },
    {
     "data": {
      "application/javascript": [
       "parent.postMessage({\"jupyterEvent\": \"custom.exercise_interaction\", \"data\": {\"outcomeType\": 1, \"valueTowardsCompletion\": 0.3333333333333333, \"interactionType\": 1, \"questionType\": 2, \"questionId\": \"3_BreakTime\", \"learnToolsVersion\": \"0.3.4\", \"failureMessage\": \"\", \"exceptionClass\": \"\", \"trace\": \"\"}}, \"*\")"
      ],
      "text/plain": [
       "<IPython.core.display.Javascript object>"
      ]
     },
     "metadata": {},
     "output_type": "display_data"
    },
    {
     "data": {
      "text/markdown": [
       "<span style=\"color:#33cc33\">Correct</span>"
      ],
      "text/plain": [
       "Correct"
      ]
     },
     "metadata": {},
     "output_type": "display_data"
    }
   ],
   "source": [
    "# Fill in the blanks below\n",
    "break_time_query = \"\"\"\n",
    "                   SELECT taxi_id,\n",
    "                       trip_start_timestamp,\n",
    "                       trip_end_timestamp,\n",
    "                       TIMESTAMP_DIFF(\n",
    "                           trip_start_timestamp, \n",
    "                           LAG(trip_end_timestamp) \n",
    "                               OVER (\n",
    "                                    PARTITION BY taxi_id\n",
    "                                    ORDER BY trip_start_timestamp), \n",
    "                           MINUTE) as prev_break\n",
    "                   FROM `bigquery-public-data.chicago_taxi_trips.taxi_trips`\n",
    "                   WHERE DATE(trip_start_timestamp) = '2013-10-03' \n",
    "                   \"\"\"\n",
    "\n",
    "# Check your answer\n",
    "q_3.check()"
   ]
  },
  {
   "cell_type": "markdown",
   "id": "f28feabd",
   "metadata": {
    "papermill": {
     "duration": 0.006698,
     "end_time": "2023-06-15T00:35:13.279380",
     "exception": false,
     "start_time": "2023-06-15T00:35:13.272682",
     "status": "completed"
    },
    "tags": []
   },
   "source": [
    "---\n",
    "\n",
    "\n",
    "\n",
    "\n",
    "*Training Session - Poludniowy Albanczyk*"
   ]
  }
 ],
 "metadata": {
  "kernelspec": {
   "display_name": "Python 3",
   "language": "python",
   "name": "python3"
  },
  "language_info": {
   "codemirror_mode": {
    "name": "ipython",
    "version": 3
   },
   "file_extension": ".py",
   "mimetype": "text/x-python",
   "name": "python",
   "nbconvert_exporter": "python",
   "pygments_lexer": "ipython3",
   "version": "3.10.10"
  },
  "papermill": {
   "default_parameters": {},
   "duration": 90.200947,
   "end_time": "2023-06-15T00:35:14.208908",
   "environment_variables": {},
   "exception": null,
   "input_path": "__notebook__.ipynb",
   "output_path": "__notebook__.ipynb",
   "parameters": {},
   "start_time": "2023-06-15T00:33:44.007961",
   "version": "2.4.0"
  }
 },
 "nbformat": 4,
 "nbformat_minor": 5
}
