{
 "cells": [
  {
   "cell_type": "markdown",
   "id": "b432a054",
   "metadata": {
    "papermill": {
     "duration": 0.011955,
     "end_time": "2021-09-24T11:03:39.631140",
     "exception": false,
     "start_time": "2021-09-24T11:03:39.619185",
     "status": "completed"
    },
    "tags": []
   },
   "source": [
    "**JOIN's SQL training session - Poludniowy Albanczyk**\n",
    "---\n"
   ]
  },
  {
   "cell_type": "markdown",
   "id": "77b4260d",
   "metadata": {
    "papermill": {
     "duration": 0.009827,
     "end_time": "2021-09-24T11:03:39.651729",
     "exception": false,
     "start_time": "2021-09-24T11:03:39.641902",
     "status": "completed"
    },
    "tags": []
   },
   "source": [
    "# Introduction\n",
    "\n",
    "[Stack Overflow](https://stackoverflow.com/) is a widely beloved question and answer site for technical questions. You'll probably use it yourself as you keep using SQL (or any programming language). \n",
    "\n",
    "Their data is publicly available. What cool things do you think it would be useful for?\n",
    "\n",
    "Here's one idea:\n",
    "You could set up a service that identifies the Stack Overflow users who have demonstrated expertise with a specific technology by answering related questions about it, so someone could hire those experts for in-depth help.\n",
    "\n",
    "In this exercise, you'll write the SQL queries that might serve as the foundation for this type of service.\n",
    "\n",
    "As usual, run the following cell to set up our feedback system before moving on."
   ]
  },
  {
   "cell_type": "code",
   "execution_count": 1,
   "id": "f3a7fbd2",
   "metadata": {
    "execution": {
     "iopub.execute_input": "2021-09-24T11:03:39.676182Z",
     "iopub.status.busy": "2021-09-24T11:03:39.675174Z",
     "iopub.status.idle": "2021-09-24T11:04:03.298600Z",
     "shell.execute_reply": "2021-09-24T11:04:03.299336Z",
     "shell.execute_reply.started": "2021-09-24T10:02:54.428467Z"
    },
    "papermill": {
     "duration": 23.637855,
     "end_time": "2021-09-24T11:04:03.299724",
     "exception": false,
     "start_time": "2021-09-24T11:03:39.661869",
     "status": "completed"
    },
    "tags": []
   },
   "outputs": [
    {
     "name": "stdout",
     "output_type": "stream",
     "text": [
      "Using Kaggle's public dataset BigQuery integration.\n"
     ]
    },
    {
     "name": "stderr",
     "output_type": "stream",
     "text": [
      "/opt/conda/lib/python3.7/site-packages/google/cloud/bigquery/client.py:440: UserWarning: Cannot create BigQuery Storage client, the dependency google-cloud-bigquery-storage is not installed.\n",
      "  \"Cannot create BigQuery Storage client, the dependency \"\n"
     ]
    },
    {
     "name": "stdout",
     "output_type": "stream",
     "text": [
      "Setup Complete\n"
     ]
    }
   ],
   "source": [
    "# Set up feedback system\n",
    "from learntools.core import binder\n",
    "binder.bind(globals())\n",
    "from learntools.sql.ex6 import *\n",
    "print(\"Setup Complete\")"
   ]
  },
  {
   "cell_type": "markdown",
   "id": "ea7552e0",
   "metadata": {
    "papermill": {
     "duration": 0.010879,
     "end_time": "2021-09-24T11:04:03.323238",
     "exception": false,
     "start_time": "2021-09-24T11:04:03.312359",
     "status": "completed"
    },
    "tags": []
   },
   "source": [
    "Run the next cell to fetch the `stackoverflow` dataset."
   ]
  },
  {
   "cell_type": "code",
   "execution_count": 2,
   "id": "9e0642ca",
   "metadata": {
    "execution": {
     "iopub.execute_input": "2021-09-24T11:04:03.353175Z",
     "iopub.status.busy": "2021-09-24T11:04:03.348527Z",
     "iopub.status.idle": "2021-09-24T11:04:03.728324Z",
     "shell.execute_reply": "2021-09-24T11:04:03.728795Z",
     "shell.execute_reply.started": "2021-09-24T10:03:15.312264Z"
    },
    "papermill": {
     "duration": 0.394203,
     "end_time": "2021-09-24T11:04:03.728994",
     "exception": false,
     "start_time": "2021-09-24T11:04:03.334791",
     "status": "completed"
    },
    "tags": []
   },
   "outputs": [
    {
     "name": "stdout",
     "output_type": "stream",
     "text": [
      "Using Kaggle's public dataset BigQuery integration.\n"
     ]
    }
   ],
   "source": [
    "from google.cloud import bigquery\n",
    "\n",
    "# Create a \"Client\" object\n",
    "client = bigquery.Client()\n",
    "\n",
    "# Construct a reference to the \"stackoverflow\" dataset\n",
    "dataset_ref = client.dataset(\"stackoverflow\", project=\"bigquery-public-data\")\n",
    "\n",
    "# API request - fetch the dataset\n",
    "dataset = client.get_dataset(dataset_ref)"
   ]
  },
  {
   "cell_type": "markdown",
   "id": "4c112b66",
   "metadata": {
    "papermill": {
     "duration": 0.011847,
     "end_time": "2021-09-24T11:04:03.752425",
     "exception": false,
     "start_time": "2021-09-24T11:04:03.740578",
     "status": "completed"
    },
    "tags": []
   },
   "source": [
    "# Exercises\n",
    "\n",
    "### 1) Explore the data\n",
    "\n",
    "Before writing queries or **JOIN** clauses, you'll want to see what tables are available. \n",
    "\n",
    "*Hint*: Tab completion is helpful whenever you can't remember a command. Type `client.` and then hit the tab key. Don't forget the period before hitting tab."
   ]
  },
  {
   "cell_type": "code",
   "execution_count": 3,
   "id": "df24196d",
   "metadata": {
    "execution": {
     "iopub.execute_input": "2021-09-24T11:04:03.782898Z",
     "iopub.status.busy": "2021-09-24T11:04:03.782332Z",
     "iopub.status.idle": "2021-09-24T11:04:04.133646Z",
     "shell.execute_reply": "2021-09-24T11:04:04.134106Z",
     "shell.execute_reply.started": "2021-09-24T10:12:40.437323Z"
    },
    "papermill": {
     "duration": 0.369814,
     "end_time": "2021-09-24T11:04:04.134295",
     "exception": false,
     "start_time": "2021-09-24T11:04:03.764481",
     "status": "completed"
    },
    "tags": []
   },
   "outputs": [
    {
     "name": "stdout",
     "output_type": "stream",
     "text": [
      "['badges', 'comments', 'post_history', 'post_links', 'posts_answers', 'posts_moderator_nomination', 'posts_orphaned_tag_wiki', 'posts_privilege_wiki', 'posts_questions', 'posts_tag_wiki', 'posts_tag_wiki_excerpt', 'posts_wiki_placeholder', 'stackoverflow_posts', 'tags', 'users', 'votes']\n"
     ]
    },
    {
     "data": {
      "application/javascript": [
       "parent.postMessage({\"jupyterEvent\": \"custom.exercise_interaction\", \"data\": {\"outcomeType\": 1, \"valueTowardsCompletion\": 0.16666666666666666, \"interactionType\": 1, \"questionType\": 1, \"questionId\": \"1_ListSOTables\", \"learnToolsVersion\": \"0.3.4\", \"failureMessage\": \"\", \"exceptionClass\": \"\", \"trace\": \"\"}}, \"*\")"
      ],
      "text/plain": [
       "<IPython.core.display.Javascript object>"
      ]
     },
     "metadata": {},
     "output_type": "display_data"
    },
    {
     "data": {
      "text/markdown": [
       "<span style=\"color:#33cc33\">Correct</span>"
      ],
      "text/plain": [
       "Correct"
      ]
     },
     "metadata": {},
     "output_type": "display_data"
    }
   ],
   "source": [
    "tables= list(client.list_tables(dataset))\n",
    "list_of_tables = [table.table_id for table in tables]# Your code here\n",
    "\n",
    "# Print your answer\n",
    "print(list_of_tables)\n",
    "\n",
    "# Check your answer\n",
    "q_1.check()"
   ]
  },
  {
   "cell_type": "markdown",
   "id": "4b3b34a6",
   "metadata": {
    "papermill": {
     "duration": 0.012152,
     "end_time": "2021-09-24T11:04:04.158995",
     "exception": false,
     "start_time": "2021-09-24T11:04:04.146843",
     "status": "completed"
    },
    "tags": []
   },
   "source": [
    "### 2) Review relevant tables\n",
    "\n",
    "If you are interested in people who answer questions on a given topic, the `posts_answers` table is a natural place to look. Run the following cell, and look at the output."
   ]
  },
  {
   "cell_type": "code",
   "execution_count": 4,
   "id": "15ba124c",
   "metadata": {
    "execution": {
     "iopub.execute_input": "2021-09-24T11:04:04.192414Z",
     "iopub.status.busy": "2021-09-24T11:04:04.191711Z",
     "iopub.status.idle": "2021-09-24T11:04:05.295191Z",
     "shell.execute_reply": "2021-09-24T11:04:05.296041Z",
     "shell.execute_reply.started": "2021-09-24T10:15:44.016976Z"
    },
    "papermill": {
     "duration": 1.124788,
     "end_time": "2021-09-24T11:04:05.296274",
     "exception": false,
     "start_time": "2021-09-24T11:04:04.171486",
     "status": "completed"
    },
    "tags": []
   },
   "outputs": [
    {
     "name": "stderr",
     "output_type": "stream",
     "text": [
      "/opt/conda/lib/python3.7/site-packages/ipykernel_launcher.py:8: UserWarning: Cannot use bqstorage_client if max_results is set, reverting to fetching data with the tabledata.list endpoint.\n",
      "  \n"
     ]
    },
    {
     "data": {
      "text/html": [
       "<div>\n",
       "<style scoped>\n",
       "    .dataframe tbody tr th:only-of-type {\n",
       "        vertical-align: middle;\n",
       "    }\n",
       "\n",
       "    .dataframe tbody tr th {\n",
       "        vertical-align: top;\n",
       "    }\n",
       "\n",
       "    .dataframe thead th {\n",
       "        text-align: right;\n",
       "    }\n",
       "</style>\n",
       "<table border=\"1\" class=\"dataframe\">\n",
       "  <thead>\n",
       "    <tr style=\"text-align: right;\">\n",
       "      <th></th>\n",
       "      <th>id</th>\n",
       "      <th>title</th>\n",
       "      <th>body</th>\n",
       "      <th>accepted_answer_id</th>\n",
       "      <th>answer_count</th>\n",
       "      <th>comment_count</th>\n",
       "      <th>community_owned_date</th>\n",
       "      <th>creation_date</th>\n",
       "      <th>favorite_count</th>\n",
       "      <th>last_activity_date</th>\n",
       "      <th>last_edit_date</th>\n",
       "      <th>last_editor_display_name</th>\n",
       "      <th>last_editor_user_id</th>\n",
       "      <th>owner_display_name</th>\n",
       "      <th>owner_user_id</th>\n",
       "      <th>parent_id</th>\n",
       "      <th>post_type_id</th>\n",
       "      <th>score</th>\n",
       "      <th>tags</th>\n",
       "      <th>view_count</th>\n",
       "    </tr>\n",
       "  </thead>\n",
       "  <tbody>\n",
       "    <tr>\n",
       "      <th>0</th>\n",
       "      <td>68472973</td>\n",
       "      <td>None</td>\n",
       "      <td>&lt;p&gt;Thank you.  After thinking through your ans...</td>\n",
       "      <td>None</td>\n",
       "      <td>None</td>\n",
       "      <td>0</td>\n",
       "      <td>NaT</td>\n",
       "      <td>2021-07-21 16:09:49.560000+00:00</td>\n",
       "      <td>None</td>\n",
       "      <td>2021-07-21 16:09:49.560000+00:00</td>\n",
       "      <td>NaT</td>\n",
       "      <td>None</td>\n",
       "      <td>NaN</td>\n",
       "      <td>None</td>\n",
       "      <td>11880888</td>\n",
       "      <td>68461807</td>\n",
       "      <td>2</td>\n",
       "      <td>0</td>\n",
       "      <td>None</td>\n",
       "      <td>None</td>\n",
       "    </tr>\n",
       "    <tr>\n",
       "      <th>1</th>\n",
       "      <td>68472974</td>\n",
       "      <td>None</td>\n",
       "      <td>&lt;pre&gt;&lt;code&gt;SELECT age((((m.message -&amp;gt; 'head...</td>\n",
       "      <td>None</td>\n",
       "      <td>None</td>\n",
       "      <td>0</td>\n",
       "      <td>NaT</td>\n",
       "      <td>2021-07-21 16:09:54.130000+00:00</td>\n",
       "      <td>None</td>\n",
       "      <td>2021-07-21 16:09:54.130000+00:00</td>\n",
       "      <td>NaT</td>\n",
       "      <td>None</td>\n",
       "      <td>NaN</td>\n",
       "      <td>None</td>\n",
       "      <td>14132876</td>\n",
       "      <td>68471992</td>\n",
       "      <td>2</td>\n",
       "      <td>0</td>\n",
       "      <td>None</td>\n",
       "      <td>None</td>\n",
       "    </tr>\n",
       "    <tr>\n",
       "      <th>2</th>\n",
       "      <td>68472975</td>\n",
       "      <td>None</td>\n",
       "      <td>&lt;p&gt;I believe &lt;code&gt;Identifiable&lt;/code&gt; is a pr...</td>\n",
       "      <td>None</td>\n",
       "      <td>None</td>\n",
       "      <td>1</td>\n",
       "      <td>NaT</td>\n",
       "      <td>2021-07-21 16:09:56.317000+00:00</td>\n",
       "      <td>None</td>\n",
       "      <td>2021-07-21 16:09:56.317000+00:00</td>\n",
       "      <td>NaT</td>\n",
       "      <td>None</td>\n",
       "      <td>NaN</td>\n",
       "      <td>None</td>\n",
       "      <td>16487083</td>\n",
       "      <td>68472232</td>\n",
       "      <td>2</td>\n",
       "      <td>0</td>\n",
       "      <td>None</td>\n",
       "      <td>None</td>\n",
       "    </tr>\n",
       "    <tr>\n",
       "      <th>3</th>\n",
       "      <td>68472976</td>\n",
       "      <td>None</td>\n",
       "      <td>&lt;p&gt;Funny enough I had the same problem with th...</td>\n",
       "      <td>None</td>\n",
       "      <td>None</td>\n",
       "      <td>0</td>\n",
       "      <td>NaT</td>\n",
       "      <td>2021-07-21 16:10:06.223000+00:00</td>\n",
       "      <td>None</td>\n",
       "      <td>2021-07-21 16:10:06.223000+00:00</td>\n",
       "      <td>NaT</td>\n",
       "      <td>None</td>\n",
       "      <td>NaN</td>\n",
       "      <td>None</td>\n",
       "      <td>9497800</td>\n",
       "      <td>64728953</td>\n",
       "      <td>2</td>\n",
       "      <td>0</td>\n",
       "      <td>None</td>\n",
       "      <td>None</td>\n",
       "    </tr>\n",
       "    <tr>\n",
       "      <th>4</th>\n",
       "      <td>68472989</td>\n",
       "      <td>None</td>\n",
       "      <td>&lt;p&gt;You either need to set a &lt;code&gt;height&lt;/code...</td>\n",
       "      <td>None</td>\n",
       "      <td>None</td>\n",
       "      <td>0</td>\n",
       "      <td>NaT</td>\n",
       "      <td>2021-07-21 16:10:45.250000+00:00</td>\n",
       "      <td>None</td>\n",
       "      <td>2021-07-21 16:10:45.250000+00:00</td>\n",
       "      <td>NaT</td>\n",
       "      <td>None</td>\n",
       "      <td>NaN</td>\n",
       "      <td>None</td>\n",
       "      <td>6035993</td>\n",
       "      <td>68472903</td>\n",
       "      <td>2</td>\n",
       "      <td>0</td>\n",
       "      <td>None</td>\n",
       "      <td>None</td>\n",
       "    </tr>\n",
       "  </tbody>\n",
       "</table>\n",
       "</div>"
      ],
      "text/plain": [
       "         id title                                               body  \\\n",
       "0  68472973  None  <p>Thank you.  After thinking through your ans...   \n",
       "1  68472974  None  <pre><code>SELECT age((((m.message -&gt; 'head...   \n",
       "2  68472975  None  <p>I believe <code>Identifiable</code> is a pr...   \n",
       "3  68472976  None  <p>Funny enough I had the same problem with th...   \n",
       "4  68472989  None  <p>You either need to set a <code>height</code...   \n",
       "\n",
       "  accepted_answer_id answer_count  comment_count community_owned_date  \\\n",
       "0               None         None              0                  NaT   \n",
       "1               None         None              0                  NaT   \n",
       "2               None         None              1                  NaT   \n",
       "3               None         None              0                  NaT   \n",
       "4               None         None              0                  NaT   \n",
       "\n",
       "                     creation_date favorite_count  \\\n",
       "0 2021-07-21 16:09:49.560000+00:00           None   \n",
       "1 2021-07-21 16:09:54.130000+00:00           None   \n",
       "2 2021-07-21 16:09:56.317000+00:00           None   \n",
       "3 2021-07-21 16:10:06.223000+00:00           None   \n",
       "4 2021-07-21 16:10:45.250000+00:00           None   \n",
       "\n",
       "                last_activity_date last_edit_date last_editor_display_name  \\\n",
       "0 2021-07-21 16:09:49.560000+00:00            NaT                     None   \n",
       "1 2021-07-21 16:09:54.130000+00:00            NaT                     None   \n",
       "2 2021-07-21 16:09:56.317000+00:00            NaT                     None   \n",
       "3 2021-07-21 16:10:06.223000+00:00            NaT                     None   \n",
       "4 2021-07-21 16:10:45.250000+00:00            NaT                     None   \n",
       "\n",
       "   last_editor_user_id owner_display_name  owner_user_id  parent_id  \\\n",
       "0                  NaN               None       11880888   68461807   \n",
       "1                  NaN               None       14132876   68471992   \n",
       "2                  NaN               None       16487083   68472232   \n",
       "3                  NaN               None        9497800   64728953   \n",
       "4                  NaN               None        6035993   68472903   \n",
       "\n",
       "   post_type_id  score  tags view_count  \n",
       "0             2      0  None       None  \n",
       "1             2      0  None       None  \n",
       "2             2      0  None       None  \n",
       "3             2      0  None       None  \n",
       "4             2      0  None       None  "
      ]
     },
     "execution_count": 4,
     "metadata": {},
     "output_type": "execute_result"
    }
   ],
   "source": [
    "# Construct a reference to the \"posts_answers\" table\n",
    "answers_table_ref = dataset_ref.table(\"posts_answers\")\n",
    "\n",
    "# API request - fetch the table\n",
    "answers_table = client.get_table(answers_table_ref)\n",
    "\n",
    "# Preview the first five lines of the \"posts_answers\" table\n",
    "client.list_rows(answers_table, max_results=5).to_dataframe()"
   ]
  },
  {
   "cell_type": "markdown",
   "id": "b5ef270c",
   "metadata": {
    "papermill": {
     "duration": 0.019775,
     "end_time": "2021-09-24T11:04:05.330966",
     "exception": false,
     "start_time": "2021-09-24T11:04:05.311191",
     "status": "completed"
    },
    "tags": []
   },
   "source": [
    "It isn't clear yet how to find users who answered questions on any given topic. But `posts_answers` has a `parent_id` column. If you are familiar with the Stack Overflow site, you might figure out that the `parent_id` is the question each post is answering.\n",
    "\n",
    "Look at `posts_questions` using the cell below."
   ]
  },
  {
   "cell_type": "code",
   "execution_count": 5,
   "id": "b1fff974",
   "metadata": {
    "execution": {
     "iopub.execute_input": "2021-09-24T11:04:05.375899Z",
     "iopub.status.busy": "2021-09-24T11:04:05.375061Z",
     "iopub.status.idle": "2021-09-24T11:04:06.115040Z",
     "shell.execute_reply": "2021-09-24T11:04:06.115516Z",
     "shell.execute_reply.started": "2021-09-24T10:19:06.356472Z"
    },
    "papermill": {
     "duration": 0.768788,
     "end_time": "2021-09-24T11:04:06.115680",
     "exception": false,
     "start_time": "2021-09-24T11:04:05.346892",
     "status": "completed"
    },
    "tags": []
   },
   "outputs": [
    {
     "name": "stderr",
     "output_type": "stream",
     "text": [
      "/opt/conda/lib/python3.7/site-packages/ipykernel_launcher.py:8: UserWarning: Cannot use bqstorage_client if max_results is set, reverting to fetching data with the tabledata.list endpoint.\n",
      "  \n"
     ]
    },
    {
     "data": {
      "text/html": [
       "<div>\n",
       "<style scoped>\n",
       "    .dataframe tbody tr th:only-of-type {\n",
       "        vertical-align: middle;\n",
       "    }\n",
       "\n",
       "    .dataframe tbody tr th {\n",
       "        vertical-align: top;\n",
       "    }\n",
       "\n",
       "    .dataframe thead th {\n",
       "        text-align: right;\n",
       "    }\n",
       "</style>\n",
       "<table border=\"1\" class=\"dataframe\">\n",
       "  <thead>\n",
       "    <tr style=\"text-align: right;\">\n",
       "      <th></th>\n",
       "      <th>id</th>\n",
       "      <th>title</th>\n",
       "      <th>body</th>\n",
       "      <th>accepted_answer_id</th>\n",
       "      <th>answer_count</th>\n",
       "      <th>comment_count</th>\n",
       "      <th>community_owned_date</th>\n",
       "      <th>creation_date</th>\n",
       "      <th>favorite_count</th>\n",
       "      <th>last_activity_date</th>\n",
       "      <th>last_edit_date</th>\n",
       "      <th>last_editor_display_name</th>\n",
       "      <th>last_editor_user_id</th>\n",
       "      <th>owner_display_name</th>\n",
       "      <th>owner_user_id</th>\n",
       "      <th>parent_id</th>\n",
       "      <th>post_type_id</th>\n",
       "      <th>score</th>\n",
       "      <th>tags</th>\n",
       "      <th>view_count</th>\n",
       "    </tr>\n",
       "  </thead>\n",
       "  <tbody>\n",
       "    <tr>\n",
       "      <th>0</th>\n",
       "      <td>36723113</td>\n",
       "      <td>webservice handling protobuf</td>\n",
       "      <td>&lt;p&gt;I'm trying to make a webservice work with p...</td>\n",
       "      <td>36739655.0</td>\n",
       "      <td>1</td>\n",
       "      <td>0</td>\n",
       "      <td>NaT</td>\n",
       "      <td>2016-04-19 15:37:01.167000+00:00</td>\n",
       "      <td>NaN</td>\n",
       "      <td>2016-04-20 09:36:16.880000+00:00</td>\n",
       "      <td>NaT</td>\n",
       "      <td>None</td>\n",
       "      <td>NaN</td>\n",
       "      <td>None</td>\n",
       "      <td>821464</td>\n",
       "      <td>None</td>\n",
       "      <td>1</td>\n",
       "      <td>0</td>\n",
       "      <td>java|spring|web-services|protocol-buffers</td>\n",
       "      <td>256</td>\n",
       "    </tr>\n",
       "    <tr>\n",
       "      <th>1</th>\n",
       "      <td>36731285</td>\n",
       "      <td>Get sheets belonging to a specific group</td>\n",
       "      <td>&lt;p&gt;How do I tell if a sheet belongs to a certa...</td>\n",
       "      <td>36738605.0</td>\n",
       "      <td>1</td>\n",
       "      <td>0</td>\n",
       "      <td>NaT</td>\n",
       "      <td>2016-04-19 23:35:10.823000+00:00</td>\n",
       "      <td>NaN</td>\n",
       "      <td>2016-04-20 08:55:31.697000+00:00</td>\n",
       "      <td>NaT</td>\n",
       "      <td>None</td>\n",
       "      <td>NaN</td>\n",
       "      <td>None</td>\n",
       "      <td>1203098</td>\n",
       "      <td>None</td>\n",
       "      <td>1</td>\n",
       "      <td>1</td>\n",
       "      <td>smartsheet-api|smartsheet-c#-sdk-v2</td>\n",
       "      <td>256</td>\n",
       "    </tr>\n",
       "    <tr>\n",
       "      <th>2</th>\n",
       "      <td>36732239</td>\n",
       "      <td>Deploying OSGi bundle on Oracle 12c throws NPE</td>\n",
       "      <td>&lt;p&gt;On Weblogic 12.2.1, I am trying to deploy a...</td>\n",
       "      <td>NaN</td>\n",
       "      <td>1</td>\n",
       "      <td>0</td>\n",
       "      <td>NaT</td>\n",
       "      <td>2016-04-20 01:24:19.777000+00:00</td>\n",
       "      <td>NaN</td>\n",
       "      <td>2016-04-20 07:58:05.090000+00:00</td>\n",
       "      <td>2016-04-20 03:30:31.183000+00:00</td>\n",
       "      <td>None</td>\n",
       "      <td>1247961.0</td>\n",
       "      <td>None</td>\n",
       "      <td>1247961</td>\n",
       "      <td>None</td>\n",
       "      <td>1</td>\n",
       "      <td>1</td>\n",
       "      <td>osgi|weblogic12c|apache-felix</td>\n",
       "      <td>256</td>\n",
       "    </tr>\n",
       "    <tr>\n",
       "      <th>3</th>\n",
       "      <td>36792175</td>\n",
       "      <td>Starscream's socket.isConnected is always retu...</td>\n",
       "      <td>&lt;p&gt;I'm developing an iOS application using Swi...</td>\n",
       "      <td>NaN</td>\n",
       "      <td>1</td>\n",
       "      <td>0</td>\n",
       "      <td>NaT</td>\n",
       "      <td>2016-04-22 11:07:16.993000+00:00</td>\n",
       "      <td>NaN</td>\n",
       "      <td>2017-08-02 10:58:43.600000+00:00</td>\n",
       "      <td>NaT</td>\n",
       "      <td>None</td>\n",
       "      <td>NaN</td>\n",
       "      <td>None</td>\n",
       "      <td>3114316</td>\n",
       "      <td>None</td>\n",
       "      <td>1</td>\n",
       "      <td>1</td>\n",
       "      <td>ios|swift|sockets</td>\n",
       "      <td>256</td>\n",
       "    </tr>\n",
       "    <tr>\n",
       "      <th>4</th>\n",
       "      <td>36804673</td>\n",
       "      <td>Connection Autodesk Motionbuilder with iOS app...</td>\n",
       "      <td>&lt;p&gt;I am trying to write a C++ api to connect A...</td>\n",
       "      <td>NaN</td>\n",
       "      <td>1</td>\n",
       "      <td>0</td>\n",
       "      <td>NaT</td>\n",
       "      <td>2016-04-22 23:13:03.953000+00:00</td>\n",
       "      <td>NaN</td>\n",
       "      <td>2016-04-28 20:44:34.633000+00:00</td>\n",
       "      <td>NaT</td>\n",
       "      <td>None</td>\n",
       "      <td>NaN</td>\n",
       "      <td>None</td>\n",
       "      <td>6242858</td>\n",
       "      <td>None</td>\n",
       "      <td>1</td>\n",
       "      <td>0</td>\n",
       "      <td>ios|osc|motionbuilder</td>\n",
       "      <td>256</td>\n",
       "    </tr>\n",
       "  </tbody>\n",
       "</table>\n",
       "</div>"
      ],
      "text/plain": [
       "         id                                              title  \\\n",
       "0  36723113                       webservice handling protobuf   \n",
       "1  36731285           Get sheets belonging to a specific group   \n",
       "2  36732239     Deploying OSGi bundle on Oracle 12c throws NPE   \n",
       "3  36792175  Starscream's socket.isConnected is always retu...   \n",
       "4  36804673  Connection Autodesk Motionbuilder with iOS app...   \n",
       "\n",
       "                                                body  accepted_answer_id  \\\n",
       "0  <p>I'm trying to make a webservice work with p...          36739655.0   \n",
       "1  <p>How do I tell if a sheet belongs to a certa...          36738605.0   \n",
       "2  <p>On Weblogic 12.2.1, I am trying to deploy a...                 NaN   \n",
       "3  <p>I'm developing an iOS application using Swi...                 NaN   \n",
       "4  <p>I am trying to write a C++ api to connect A...                 NaN   \n",
       "\n",
       "   answer_count  comment_count community_owned_date  \\\n",
       "0             1              0                  NaT   \n",
       "1             1              0                  NaT   \n",
       "2             1              0                  NaT   \n",
       "3             1              0                  NaT   \n",
       "4             1              0                  NaT   \n",
       "\n",
       "                     creation_date  favorite_count  \\\n",
       "0 2016-04-19 15:37:01.167000+00:00             NaN   \n",
       "1 2016-04-19 23:35:10.823000+00:00             NaN   \n",
       "2 2016-04-20 01:24:19.777000+00:00             NaN   \n",
       "3 2016-04-22 11:07:16.993000+00:00             NaN   \n",
       "4 2016-04-22 23:13:03.953000+00:00             NaN   \n",
       "\n",
       "                last_activity_date                   last_edit_date  \\\n",
       "0 2016-04-20 09:36:16.880000+00:00                              NaT   \n",
       "1 2016-04-20 08:55:31.697000+00:00                              NaT   \n",
       "2 2016-04-20 07:58:05.090000+00:00 2016-04-20 03:30:31.183000+00:00   \n",
       "3 2017-08-02 10:58:43.600000+00:00                              NaT   \n",
       "4 2016-04-28 20:44:34.633000+00:00                              NaT   \n",
       "\n",
       "  last_editor_display_name  last_editor_user_id owner_display_name  \\\n",
       "0                     None                  NaN               None   \n",
       "1                     None                  NaN               None   \n",
       "2                     None            1247961.0               None   \n",
       "3                     None                  NaN               None   \n",
       "4                     None                  NaN               None   \n",
       "\n",
       "   owner_user_id parent_id  post_type_id  score  \\\n",
       "0         821464      None             1      0   \n",
       "1        1203098      None             1      1   \n",
       "2        1247961      None             1      1   \n",
       "3        3114316      None             1      1   \n",
       "4        6242858      None             1      0   \n",
       "\n",
       "                                        tags  view_count  \n",
       "0  java|spring|web-services|protocol-buffers         256  \n",
       "1        smartsheet-api|smartsheet-c#-sdk-v2         256  \n",
       "2              osgi|weblogic12c|apache-felix         256  \n",
       "3                          ios|swift|sockets         256  \n",
       "4                      ios|osc|motionbuilder         256  "
      ]
     },
     "execution_count": 5,
     "metadata": {},
     "output_type": "execute_result"
    }
   ],
   "source": [
    "# Construct a reference to the \"posts_questions\" table\n",
    "questions_table_ref = dataset_ref.table(\"posts_questions\")\n",
    "\n",
    "# API request - fetch the table\n",
    "questions_table = client.get_table(questions_table_ref)\n",
    "\n",
    "# Preview the first five lines of the \"posts_questions\" table\n",
    "client.list_rows(questions_table, max_results=5).to_dataframe()"
   ]
  },
  {
   "cell_type": "markdown",
   "id": "4495f409",
   "metadata": {
    "papermill": {
     "duration": 0.013947,
     "end_time": "2021-09-24T11:04:06.144382",
     "exception": false,
     "start_time": "2021-09-24T11:04:06.130435",
     "status": "completed"
    },
    "tags": []
   },
   "source": [
    "### 3) Selecting the right questions\n",
    "\n",
    "A lot of this data is text. \n",
    "\n",
    "We'll explore one last technique in this course which you can apply to this text.\n",
    "\n",
    "A **WHERE** clause can limit your results to rows with certain text using the **LIKE** feature. For example, to select just the third row of the `pets` table from the tutorial, we could use the query in the picture below.\n",
    "\n",
    "![](https://i.imgur.com/RccsXBr.png) \n",
    "\n",
    "You can also use `%` as a \"wildcard\" for any number of characters. So you can also get the third row with:\n",
    "\n",
    "```\n",
    "query = \"\"\"\n",
    "        SELECT * \n",
    "        FROM `bigquery-public-data.pet_records.pets` \n",
    "        WHERE Name LIKE '%ipl%'\n",
    "        \"\"\"\n",
    "```\n",
    "\n",
    "Try this yourself. Write a query that selects the `id`, `title` and `owner_user_id` columns from the `posts_questions` table. \n",
    "- Restrict the results to rows that contain the word \"bigquery\" in the `tags` column. \n",
    "- Include rows where there is other text in addition to the word \"bigquery\" (e.g., if a row has a tag \"bigquery-sql\", your results should include that too)."
   ]
  },
  {
   "cell_type": "code",
   "execution_count": 6,
   "id": "36f41be1",
   "metadata": {
    "execution": {
     "iopub.execute_input": "2021-09-24T11:04:06.181042Z",
     "iopub.status.busy": "2021-09-24T11:04:06.180432Z",
     "iopub.status.idle": "2021-09-24T11:04:09.971543Z",
     "shell.execute_reply": "2021-09-24T11:04:09.971104Z",
     "shell.execute_reply.started": "2021-09-24T10:28:30.170265Z"
    },
    "papermill": {
     "duration": 3.813093,
     "end_time": "2021-09-24T11:04:09.971683",
     "exception": false,
     "start_time": "2021-09-24T11:04:06.158590",
     "status": "completed"
    },
    "tags": []
   },
   "outputs": [
    {
     "name": "stderr",
     "output_type": "stream",
     "text": [
      "/opt/conda/lib/python3.7/site-packages/google/cloud/bigquery/client.py:440: UserWarning: Cannot create BigQuery Storage client, the dependency google-cloud-bigquery-storage is not installed.\n",
      "  \"Cannot create BigQuery Storage client, the dependency \"\n"
     ]
    },
    {
     "name": "stdout",
     "output_type": "stream",
     "text": [
      "         id                                              title  owner_user_id\n",
      "0  64487437  Strange repeated field error when uploading to...       188963.0\n",
      "1  64310251  Is it possible to make a custom metric about a...     14351627.0\n",
      "2  64472919  Why does Azure Data Factory Integration Runtim...      3254527.0\n",
      "3  64352958        Mixed Billing Methods In a Bigquery Project     11692390.0\n",
      "4  64134119  Google BigQuery Superimpose Two Tables with Id...      7326954.0\n"
     ]
    },
    {
     "data": {
      "application/javascript": [
       "parent.postMessage({\"jupyterEvent\": \"custom.exercise_interaction\", \"data\": {\"outcomeType\": 1, \"valueTowardsCompletion\": 0.16666666666666666, \"interactionType\": 1, \"questionType\": 2, \"questionId\": \"3_SelectRightQuestions\", \"learnToolsVersion\": \"0.3.4\", \"failureMessage\": \"\", \"exceptionClass\": \"\", \"trace\": \"\"}}, \"*\")"
      ],
      "text/plain": [
       "<IPython.core.display.Javascript object>"
      ]
     },
     "metadata": {},
     "output_type": "display_data"
    },
    {
     "data": {
      "text/markdown": [
       "<span style=\"color:#33cc33\">Correct</span>"
      ],
      "text/plain": [
       "Correct"
      ]
     },
     "metadata": {},
     "output_type": "display_data"
    }
   ],
   "source": [
    "\n",
    "questions_query = \"\"\"\n",
    "                  SELECT id, title, owner_user_id\n",
    "                  FROM `bigquery-public-data.stackoverflow.posts_questions`\n",
    "                  WHERE tags LIKE '%bigquery%'\n",
    "                  \"\"\"\n",
    "\n",
    "\n",
    "safe_config = bigquery.QueryJobConfig(maximum_bytes_billed=10**10)\n",
    "questions_query_job = client.query(questions_query,job_config=safe_config)\n",
    "\n",
    "questions_results = questions_query_job.to_dataframe() \n",
    "\n",
    "\n",
    "print(questions_results.head())\n",
    "\n",
    "\n",
    "q_3.check()"
   ]
  },
  {
   "cell_type": "markdown",
   "id": "1d1a815f",
   "metadata": {
    "papermill": {
     "duration": 0.014916,
     "end_time": "2021-09-24T11:04:10.002100",
     "exception": false,
     "start_time": "2021-09-24T11:04:09.987184",
     "status": "completed"
    },
    "tags": []
   },
   "source": [
    "### 4) Your first join\n",
    "Now that you have a query to select questions on any given topic (in this case, you chose \"bigquery\"), you can find the answers to those questions with a **JOIN**.  \n",
    "\n",
    "Write a query that returns the `id`, `body` and `owner_user_id` columns from the `posts_answers` table for answers to \"bigquery\"-related questions. \n",
    "- You should have one row in your results for each answer to a question that has \"bigquery\" in the tags.  \n",
    "- Remember you can get the tags for a question from the `tags` column in the `posts_questions` table.\n",
    "\n",
    "\n",
    "\n",
    "It may be useful to scroll up and review the first several rows of the `posts_answers` and `posts_questions` tables.  "
   ]
  },
  {
   "cell_type": "code",
   "execution_count": 7,
   "id": "5dae4f6c",
   "metadata": {
    "execution": {
     "iopub.execute_input": "2021-09-24T11:04:10.040365Z",
     "iopub.status.busy": "2021-09-24T11:04:10.039695Z",
     "iopub.status.idle": "2021-09-24T11:04:26.997045Z",
     "shell.execute_reply": "2021-09-24T11:04:26.996470Z",
     "shell.execute_reply.started": "2021-09-24T10:51:35.462210Z"
    },
    "papermill": {
     "duration": 16.980104,
     "end_time": "2021-09-24T11:04:26.997199",
     "exception": false,
     "start_time": "2021-09-24T11:04:10.017095",
     "status": "completed"
    },
    "tags": []
   },
   "outputs": [
    {
     "name": "stderr",
     "output_type": "stream",
     "text": [
      "/opt/conda/lib/python3.7/site-packages/google/cloud/bigquery/client.py:440: UserWarning: Cannot create BigQuery Storage client, the dependency google-cloud-bigquery-storage is not installed.\n",
      "  \"Cannot create BigQuery Storage client, the dependency \"\n"
     ]
    },
    {
     "name": "stdout",
     "output_type": "stream",
     "text": [
      "         id                                               body  owner_user_id\n",
      "0  64851746  <p>I figured it out using a sub query, hopeful...       789938.0\n",
      "1  64852758  <p>It looks like in my particular case, the is...      1362318.0\n",
      "2  64859159  <p>When you attempt to test a scheduled query ...     12942591.0\n",
      "3  64864200  <p>If I understand correctly, your cluster is ...      9457843.0\n",
      "4  64872364  <p>According to my experience with GCP, both C...     14565295.0\n"
     ]
    },
    {
     "data": {
      "application/javascript": [
       "parent.postMessage({\"jupyterEvent\": \"custom.exercise_interaction\", \"data\": {\"outcomeType\": 1, \"valueTowardsCompletion\": 0.16666666666666666, \"interactionType\": 1, \"questionType\": 2, \"questionId\": \"4_FirstJoin\", \"learnToolsVersion\": \"0.3.4\", \"failureMessage\": \"\", \"exceptionClass\": \"\", \"trace\": \"\"}}, \"*\")"
      ],
      "text/plain": [
       "<IPython.core.display.Javascript object>"
      ]
     },
     "metadata": {},
     "output_type": "display_data"
    },
    {
     "data": {
      "text/markdown": [
       "<span style=\"color:#33cc33\">Correct</span>"
      ],
      "text/plain": [
       "Correct"
      ]
     },
     "metadata": {},
     "output_type": "display_data"
    }
   ],
   "source": [
    "\n",
    "answers_query = \"\"\"SELECT ans.id, ans.body, ans.owner_user_id\n",
    "                   FROM `bigquery-public-data.stackoverflow.posts_answers` ans\n",
    "                   INNER JOIN `bigquery-public-data.stackoverflow.posts_questions` q\n",
    "                   ON ans.parent_id=q.id\n",
    "                   WHERE q.tags LIKE '%bigquery%'\n",
    "                   \"\"\"\n",
    "\n",
    "\n",
    "safe_config = bigquery.QueryJobConfig(maximum_bytes_billed=27*10**10)\n",
    "answers_query_job = client.query(answers_query,job_config=safe_config) \n",
    "\n",
    "\n",
    "answers_results = answers_query_job.to_dataframe() \n",
    "\n",
    "\n",
    "print(answers_results.head())\n",
    "\n",
    "# Check your answer\n",
    "q_4.check()"
   ]
  },
  {
   "cell_type": "markdown",
   "id": "87a40b72",
   "metadata": {
    "papermill": {
     "duration": 0.016336,
     "end_time": "2021-09-24T11:04:27.030608",
     "exception": false,
     "start_time": "2021-09-24T11:04:27.014272",
     "status": "completed"
    },
    "tags": []
   },
   "source": [
    "### 5) Answer the question\n",
    "You have the merge you need. But you want a list of users who have answered many questions... which requires more work beyond your previous result.\n",
    "\n",
    "Write a new query that has a single row for each user who answered at least one question with a tag that includes the string \"bigquery\". Your results should have two columns:\n",
    "- `user_id` - contains the `owner_user_id` column from the `posts_answers` table\n",
    "- `number_of_answers` - contains the number of answers the user has written to \"bigquery\"-related questions"
   ]
  },
  {
   "cell_type": "code",
   "execution_count": 8,
   "id": "bded3237",
   "metadata": {
    "execution": {
     "iopub.execute_input": "2021-09-24T11:04:27.074271Z",
     "iopub.status.busy": "2021-09-24T11:04:27.073528Z",
     "iopub.status.idle": "2021-09-24T11:04:29.135908Z",
     "shell.execute_reply": "2021-09-24T11:04:29.136329Z",
     "shell.execute_reply.started": "2021-09-24T11:00:03.578044Z"
    },
    "papermill": {
     "duration": 2.089373,
     "end_time": "2021-09-24T11:04:29.136514",
     "exception": false,
     "start_time": "2021-09-24T11:04:27.047141",
     "status": "completed"
    },
    "tags": []
   },
   "outputs": [
    {
     "name": "stderr",
     "output_type": "stream",
     "text": [
      "/opt/conda/lib/python3.7/site-packages/google/cloud/bigquery/client.py:440: UserWarning: Cannot create BigQuery Storage client, the dependency google-cloud-bigquery-storage is not installed.\n",
      "  \"Cannot create BigQuery Storage client, the dependency \"\n"
     ]
    },
    {
     "name": "stdout",
     "output_type": "stream",
     "text": [
      "      user_id  number_of_answers\n",
      "0   4461381.0                  1\n",
      "1   9282069.0                  1\n",
      "2  10930378.0                  1\n",
      "3   4058781.0                  1\n",
      "4   4165839.0                  1\n"
     ]
    },
    {
     "data": {
      "application/javascript": [
       "parent.postMessage({\"jupyterEvent\": \"custom.exercise_interaction\", \"data\": {\"outcomeType\": 1, \"valueTowardsCompletion\": 0.16666666666666666, \"interactionType\": 1, \"questionType\": 2, \"questionId\": \"5_BigQueryExperts\", \"learnToolsVersion\": \"0.3.4\", \"failureMessage\": \"\", \"exceptionClass\": \"\", \"trace\": \"\"}}, \"*\")"
      ],
      "text/plain": [
       "<IPython.core.display.Javascript object>"
      ]
     },
     "metadata": {},
     "output_type": "display_data"
    },
    {
     "data": {
      "text/markdown": [
       "<span style=\"color:#33cc33\">Correct</span>"
      ],
      "text/plain": [
       "Correct"
      ]
     },
     "metadata": {},
     "output_type": "display_data"
    }
   ],
   "source": [
    "# Your code here\n",
    "bigquery_experts_query = \"\"\"\n",
    "                   WITH bigqueryans AS \n",
    "                   (SELECT ans.id, ans.body, ans.owner_user_id\n",
    "                   FROM `bigquery-public-data.stackoverflow.posts_answers` ans\n",
    "                   INNER JOIN `bigquery-public-data.stackoverflow.posts_questions` q\n",
    "                   ON ans.parent_id=q.id\n",
    "                   WHERE q.tags LIKE '%bigquery%')\n",
    "                   \n",
    "                   SELECT owner_user_id as user_id, COUNT(1) as number_of_answers\n",
    "                   FROM bigqueryans\n",
    "                   GROUP BY owner_user_id\n",
    "                   ORDER BY number_of_answers\n",
    "                   \"\"\"\n",
    "\n",
    "\n",
    "safe_config = bigquery.QueryJobConfig(maximum_bytes_billed=10**10)\n",
    "bigquery_experts_query_job = client.query(bigquery_experts_query,job_config=safe_config) \n",
    "\n",
    "\n",
    "bigquery_experts_results = bigquery_experts_query_job.to_dataframe()# Your code goes here\n",
    "\n",
    "\n",
    "print(bigquery_experts_results.head())\n",
    "\n",
    "\n",
    "q_5.check()"
   ]
  },
  {
   "cell_type": "markdown",
   "id": "5f19edf4",
   "metadata": {
    "papermill": {
     "duration": 0.017953,
     "end_time": "2021-09-24T11:04:29.172274",
     "exception": false,
     "start_time": "2021-09-24T11:04:29.154321",
     "status": "completed"
    },
    "tags": []
   },
   "source": [
    "### 6) Building a more generally useful service\n",
    "\n",
    "How could you convert what you've done to a general function a website could call on the backend to get experts on any topic?  \n",
    "\n",
    "Think about it and then check the solution below."
   ]
  },
  {
   "cell_type": "code",
   "execution_count": 9,
   "id": "3fe1797b",
   "metadata": {
    "execution": {
     "iopub.execute_input": "2021-09-24T11:04:29.214462Z",
     "iopub.status.busy": "2021-09-24T11:04:29.213325Z",
     "iopub.status.idle": "2021-09-24T11:04:29.218357Z",
     "shell.execute_reply": "2021-09-24T11:04:29.218775Z",
     "shell.execute_reply.started": "2021-09-24T11:00:24.489260Z"
    },
    "papermill": {
     "duration": 0.02872,
     "end_time": "2021-09-24T11:04:29.218944",
     "exception": false,
     "start_time": "2021-09-24T11:04:29.190224",
     "status": "completed"
    },
    "tags": []
   },
   "outputs": [
    {
     "data": {
      "application/javascript": [
       "parent.postMessage({\"jupyterEvent\": \"custom.exercise_interaction\", \"data\": {\"interactionType\": 3, \"questionType\": 4, \"questionId\": \"6_GeneralizeExpertFinder\", \"learnToolsVersion\": \"0.3.4\", \"valueTowardsCompletion\": 0.0, \"failureMessage\": \"\", \"exceptionClass\": \"\", \"trace\": \"\", \"outcomeType\": 4}}, \"*\")"
      ],
      "text/plain": [
       "<IPython.core.display.Javascript object>"
      ]
     },
     "metadata": {},
     "output_type": "display_data"
    },
    {
     "data": {
      "text/markdown": [
       "<span style=\"color:#33cc99\">Solution:</span> \n",
       "```python\n",
       "\n",
       "def expert_finder(topic, client):\n",
       "    '''\n",
       "    Returns a DataFrame with the user IDs who have written Stack Overflow answers on a topic.\n",
       "\n",
       "    Inputs:\n",
       "        topic: A string with the topic of interest\n",
       "        client: A Client object that specifies the connection to the Stack Overflow dataset\n",
       "\n",
       "    Outputs:\n",
       "        results: A DataFrame with columns for user_id and number_of_answers. Follows similar logic to bigquery_experts_results shown above.\n",
       "    '''\n",
       "    my_query = \"\"\"\n",
       "               SELECT a.owner_user_id AS user_id, COUNT(1) AS number_of_answers\n",
       "               FROM `bigquery-public-data.stackoverflow.posts_questions` AS q\n",
       "               INNER JOIN `bigquery-public-data.stackoverflow.posts_answers` AS a\n",
       "                   ON q.id = a.parent_Id\n",
       "               WHERE q.tags like '%{topic}%'\n",
       "               GROUP BY a.owner_user_id\n",
       "               \"\"\"\n",
       "               \n",
       "    # Set up the query (a real service would have good error handling for \n",
       "    # queries that scan too much data)\n",
       "    safe_config = bigquery.QueryJobConfig(maximum_bytes_billed=10**10)      \n",
       "    my_query_job = client.query(my_query, job_config=safe_config)\n",
       "    \n",
       "    # API request - run the query, and return a pandas DataFrame\n",
       "    results = my_query_job.to_dataframe()\n",
       "\n",
       "    return results\n",
       "\n",
       "```"
      ],
      "text/plain": [
       "Solution: \n",
       "```python\n",
       "\n",
       "def expert_finder(topic, client):\n",
       "    '''\n",
       "    Returns a DataFrame with the user IDs who have written Stack Overflow answers on a topic.\n",
       "\n",
       "    Inputs:\n",
       "        topic: A string with the topic of interest\n",
       "        client: A Client object that specifies the connection to the Stack Overflow dataset\n",
       "\n",
       "    Outputs:\n",
       "        results: A DataFrame with columns for user_id and number_of_answers. Follows similar logic to bigquery_experts_results shown above.\n",
       "    '''\n",
       "    my_query = \"\"\"\n",
       "               SELECT a.owner_user_id AS user_id, COUNT(1) AS number_of_answers\n",
       "               FROM `bigquery-public-data.stackoverflow.posts_questions` AS q\n",
       "               INNER JOIN `bigquery-public-data.stackoverflow.posts_answers` AS a\n",
       "                   ON q.id = a.parent_Id\n",
       "               WHERE q.tags like '%{topic}%'\n",
       "               GROUP BY a.owner_user_id\n",
       "               \"\"\"\n",
       "               \n",
       "    # Set up the query (a real service would have good error handling for \n",
       "    # queries that scan too much data)\n",
       "    safe_config = bigquery.QueryJobConfig(maximum_bytes_billed=10**10)      \n",
       "    my_query_job = client.query(my_query, job_config=safe_config)\n",
       "    \n",
       "    # API request - run the query, and return a pandas DataFrame\n",
       "    results = my_query_job.to_dataframe()\n",
       "\n",
       "    return results\n",
       "\n",
       "```"
      ]
     },
     "metadata": {},
     "output_type": "display_data"
    }
   ],
   "source": [
    "# Check your answer (Run this code cell to receive credit!)\n",
    "q_6.solution()"
   ]
  },
  {
   "cell_type": "markdown",
   "id": "47d197e5",
   "metadata": {
    "papermill": {
     "duration": 0.018809,
     "end_time": "2021-09-24T11:04:29.256823",
     "exception": false,
     "start_time": "2021-09-24T11:04:29.238014",
     "status": "completed"
    },
    "tags": []
   },
   "source": [
    "---\n",
    "\n",
    "\n",
    "\n",
    "\n",
    "*Have questions or comments? Visit the [Learn Discussion forum](https://www.kaggle.com/learn-forum/161314) to chat with other Learners.*"
   ]
  }
 ],
 "metadata": {
  "kernelspec": {
   "display_name": "Python 3",
   "language": "python",
   "name": "python3"
  },
  "language_info": {
   "codemirror_mode": {
    "name": "ipython",
    "version": 3
   },
   "file_extension": ".py",
   "mimetype": "text/x-python",
   "name": "python",
   "nbconvert_exporter": "python",
   "pygments_lexer": "ipython3",
   "version": "3.7.10"
  },
  "papermill": {
   "default_parameters": {},
   "duration": 57.444977,
   "end_time": "2021-09-24T11:04:29.985593",
   "environment_variables": {},
   "exception": null,
   "input_path": "__notebook__.ipynb",
   "output_path": "__notebook__.ipynb",
   "parameters": {},
   "start_time": "2021-09-24T11:03:32.540616",
   "version": "2.3.3"
  }
 },
 "nbformat": 4,
 "nbformat_minor": 5
}
