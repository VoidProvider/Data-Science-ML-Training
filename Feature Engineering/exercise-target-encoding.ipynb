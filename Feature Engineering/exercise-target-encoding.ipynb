{
 "cells": [
  {
   "cell_type": "markdown",
   "id": "4ef5a5d9",
   "metadata": {
    "papermill": {
     "duration": 0.008215,
     "end_time": "2024-06-16T22:22:41.914588",
     "exception": false,
     "start_time": "2024-06-16T22:22:41.906373",
     "status": "completed"
    },
    "tags": []
   },
   "source": [
    "**This notebook is an exercise in the [Feature Engineering](https://www.kaggle.com/learn/feature-engineering) course.  You can reference the tutorial at [this link](https://www.kaggle.com/ryanholbrook/target-encoding).**\n",
    "\n",
    "---\n"
   ]
  },
  {
   "cell_type": "markdown",
   "id": "5ae78685",
   "metadata": {
    "papermill": {
     "duration": 0.007123,
     "end_time": "2024-06-16T22:22:41.929462",
     "exception": false,
     "start_time": "2024-06-16T22:22:41.922339",
     "status": "completed"
    },
    "tags": []
   },
   "source": [
    "# Introduction #\n",
    "\n",
    "In this exercise, we'll apply target encoding to features in the [*Ames*](https://www.kaggle.com/c/house-prices-advanced-regression-techniques/data) dataset.\n"
   ]
  },
  {
   "cell_type": "code",
   "execution_count": 1,
   "id": "01a055a9",
   "metadata": {
    "execution": {
     "iopub.execute_input": "2024-06-16T22:22:41.946629Z",
     "iopub.status.busy": "2024-06-16T22:22:41.946133Z",
     "iopub.status.idle": "2024-06-16T22:22:45.258644Z",
     "shell.execute_reply": "2024-06-16T22:22:45.257616Z"
    },
    "papermill": {
     "duration": 3.324985,
     "end_time": "2024-06-16T22:22:45.261961",
     "exception": false,
     "start_time": "2024-06-16T22:22:41.936976",
     "status": "completed"
    },
    "tags": []
   },
   "outputs": [
    {
     "name": "stderr",
     "output_type": "stream",
     "text": [
      "/tmp/ipykernel_18/3788892820.py:16: MatplotlibDeprecationWarning: The seaborn styles shipped by Matplotlib are deprecated since 3.6, as they no longer correspond to the styles shipped by seaborn. However, they will remain available as 'seaborn-v0_8-<style>'. Alternatively, directly use the seaborn API instead.\n",
      "  plt.style.use(\"seaborn-whitegrid\")\n"
     ]
    }
   ],
   "source": [
    "# Setup feedback system\n",
    "from learntools.core import binder\n",
    "binder.bind(globals())\n",
    "from learntools.feature_engineering_new.ex6 import *\n",
    "\n",
    "import matplotlib.pyplot as plt\n",
    "import numpy as np\n",
    "import pandas as pd\n",
    "import seaborn as sns\n",
    "import warnings\n",
    "from category_encoders import MEstimateEncoder\n",
    "from sklearn.model_selection import cross_val_score\n",
    "from xgboost import XGBRegressor\n",
    "\n",
    "# Set Matplotlib defaults\n",
    "plt.style.use(\"seaborn-whitegrid\")\n",
    "plt.rc(\"figure\", autolayout=True)\n",
    "plt.rc(\n",
    "    \"axes\",\n",
    "    labelweight=\"bold\",\n",
    "    labelsize=\"large\",\n",
    "    titleweight=\"bold\",\n",
    "    titlesize=14,\n",
    "    titlepad=10,\n",
    ")\n",
    "warnings.filterwarnings('ignore')\n",
    "\n",
    "\n",
    "def score_dataset(X, y, model=XGBRegressor()):\n",
    "    # Label encoding for categoricals\n",
    "    for colname in X.select_dtypes([\"category\", \"object\"]):\n",
    "        X[colname], _ = X[colname].factorize()\n",
    "    # Metric for Housing competition is RMSLE (Root Mean Squared Log Error)\n",
    "    score = cross_val_score(\n",
    "        model, X, y, cv=5, scoring=\"neg_mean_squared_log_error\",\n",
    "    )\n",
    "    score = -1 * score.mean()\n",
    "    score = np.sqrt(score)\n",
    "    return score\n",
    "\n",
    "\n",
    "df = pd.read_csv(\"../input/fe-course-data/ames.csv\")"
   ]
  },
  {
   "cell_type": "markdown",
   "id": "28ae1cb5",
   "metadata": {
    "papermill": {
     "duration": 0.00769,
     "end_time": "2024-06-16T22:22:45.277632",
     "exception": false,
     "start_time": "2024-06-16T22:22:45.269942",
     "status": "completed"
    },
    "tags": []
   },
   "source": [
    "-------------------------------------------------------------------------------\n",
    "\n",
    "First we'll need to choose which features we want to apply a target encoding to. Categorical features with a large number of categories are often good candidates."
   ]
  },
  {
   "cell_type": "code",
   "execution_count": 2,
   "id": "5f25e7c5",
   "metadata": {
    "execution": {
     "iopub.execute_input": "2024-06-16T22:22:45.295301Z",
     "iopub.status.busy": "2024-06-16T22:22:45.294905Z",
     "iopub.status.idle": "2024-06-16T22:22:45.329664Z",
     "shell.execute_reply": "2024-06-16T22:22:45.328581Z"
    },
    "papermill": {
     "duration": 0.046565,
     "end_time": "2024-06-16T22:22:45.332037",
     "exception": false,
     "start_time": "2024-06-16T22:22:45.285472",
     "status": "completed"
    },
    "tags": []
   },
   "outputs": [
    {
     "data": {
      "text/plain": [
       "MSSubClass       16\n",
       "MSZoning          7\n",
       "Street            2\n",
       "Alley             3\n",
       "LotShape          4\n",
       "LandContour       4\n",
       "Utilities         3\n",
       "LotConfig         5\n",
       "LandSlope         3\n",
       "Neighborhood     28\n",
       "Condition1        9\n",
       "Condition2        8\n",
       "BldgType          5\n",
       "HouseStyle        8\n",
       "OverallQual      10\n",
       "OverallCond       9\n",
       "RoofStyle         6\n",
       "RoofMatl          8\n",
       "Exterior1st      16\n",
       "Exterior2nd      17\n",
       "MasVnrType        4\n",
       "ExterQual         4\n",
       "ExterCond         5\n",
       "Foundation        6\n",
       "BsmtQual          6\n",
       "BsmtCond          6\n",
       "BsmtExposure      5\n",
       "BsmtFinType1      7\n",
       "BsmtFinType2      7\n",
       "Heating           6\n",
       "HeatingQC         5\n",
       "CentralAir        2\n",
       "Electrical        6\n",
       "KitchenQual       5\n",
       "Functional        8\n",
       "FireplaceQu       6\n",
       "GarageType        7\n",
       "GarageFinish      4\n",
       "GarageQual        6\n",
       "GarageCond        6\n",
       "PavedDrive        3\n",
       "PoolQC            5\n",
       "Fence             5\n",
       "MiscFeature       5\n",
       "SaleType         10\n",
       "SaleCondition     6\n",
       "dtype: int64"
      ]
     },
     "execution_count": 2,
     "metadata": {},
     "output_type": "execute_result"
    }
   ],
   "source": [
    "df.select_dtypes([\"object\"]).nunique()"
   ]
  },
  {
   "cell_type": "markdown",
   "id": "910a96d4",
   "metadata": {
    "papermill": {
     "duration": 0.007666,
     "end_time": "2024-06-16T22:22:45.347675",
     "exception": false,
     "start_time": "2024-06-16T22:22:45.340009",
     "status": "completed"
    },
    "tags": []
   },
   "source": [
    "We talked about how the M-estimate encoding uses smoothing to improve estimates for rare categories. To see how many times a category occurs in the dataset, you can use the `value_counts` method. This cell shows the counts for `SaleType`, but you might want to consider others as well."
   ]
  },
  {
   "cell_type": "code",
   "execution_count": 3,
   "id": "b7959635",
   "metadata": {
    "execution": {
     "iopub.execute_input": "2024-06-16T22:22:45.365461Z",
     "iopub.status.busy": "2024-06-16T22:22:45.365089Z",
     "iopub.status.idle": "2024-06-16T22:22:45.377670Z",
     "shell.execute_reply": "2024-06-16T22:22:45.376626Z"
    },
    "papermill": {
     "duration": 0.024189,
     "end_time": "2024-06-16T22:22:45.379921",
     "exception": false,
     "start_time": "2024-06-16T22:22:45.355732",
     "status": "completed"
    },
    "tags": []
   },
   "outputs": [
    {
     "data": {
      "text/plain": [
       "SaleType\n",
       "WD       2536\n",
       "New       239\n",
       "COD        87\n",
       "ConLD      26\n",
       "CWD        12\n",
       "ConLI       9\n",
       "ConLw       8\n",
       "Oth         7\n",
       "Con         5\n",
       "VWD         1\n",
       "Name: count, dtype: int64"
      ]
     },
     "execution_count": 3,
     "metadata": {},
     "output_type": "execute_result"
    }
   ],
   "source": [
    "df[\"SaleType\"].value_counts()"
   ]
  },
  {
   "cell_type": "markdown",
   "id": "6f89a2f2",
   "metadata": {
    "papermill": {
     "duration": 0.008028,
     "end_time": "2024-06-16T22:22:45.396218",
     "exception": false,
     "start_time": "2024-06-16T22:22:45.388190",
     "status": "completed"
    },
    "tags": []
   },
   "source": [
    "# 1) Choose Features for Encoding\n",
    "\n"
   ]
  },
  {
   "cell_type": "code",
   "execution_count": 4,
   "id": "42537a80",
   "metadata": {
    "execution": {
     "iopub.execute_input": "2024-06-16T22:22:45.414092Z",
     "iopub.status.busy": "2024-06-16T22:22:45.413686Z",
     "iopub.status.idle": "2024-06-16T22:22:45.437873Z",
     "shell.execute_reply": "2024-06-16T22:22:45.436722Z"
    },
    "papermill": {
     "duration": 0.036119,
     "end_time": "2024-06-16T22:22:45.440486",
     "exception": false,
     "start_time": "2024-06-16T22:22:45.404367",
     "status": "completed"
    },
    "tags": []
   },
   "outputs": [],
   "source": [
    "agg=df.select_dtypes(['object']).nunique()\n",
    "encod_cat_cols=list(agg[agg>=10].index)\n",
    "\n"
   ]
  },
  {
   "cell_type": "markdown",
   "id": "602646f2",
   "metadata": {
    "papermill": {
     "duration": 0.007888,
     "end_time": "2024-06-16T22:22:45.456756",
     "exception": false,
     "start_time": "2024-06-16T22:22:45.448868",
     "status": "completed"
    },
    "tags": []
   },
   "source": [
    "-------------------------------------------------------------------------------\n",
    "\n",
    "Now we'll apply a target encoding to our choice of feature. As we discussed in the tutorial, to avoid overfitting, we need to fit the encoder on data heldout from the training set. Run this cell to create the encoding and training splits:"
   ]
  },
  {
   "cell_type": "code",
   "execution_count": 5,
   "id": "02f1b79f",
   "metadata": {
    "execution": {
     "iopub.execute_input": "2024-06-16T22:22:45.474630Z",
     "iopub.status.busy": "2024-06-16T22:22:45.474236Z",
     "iopub.status.idle": "2024-06-16T22:22:45.490391Z",
     "shell.execute_reply": "2024-06-16T22:22:45.489618Z"
    },
    "lines_to_next_cell": 2,
    "papermill": {
     "duration": 0.027924,
     "end_time": "2024-06-16T22:22:45.492800",
     "exception": false,
     "start_time": "2024-06-16T22:22:45.464876",
     "status": "completed"
    },
    "tags": []
   },
   "outputs": [],
   "source": [
    "# Encoding split\n",
    "X_encode = df.sample(frac=0.20, random_state=0)\n",
    "y_encode = X_encode.pop(\"SalePrice\")\n",
    "\n",
    "# Training split\n",
    "X_pretrain = df.drop(X_encode.index)\n",
    "y_train = X_pretrain.pop(\"SalePrice\")"
   ]
  },
  {
   "cell_type": "markdown",
   "id": "1ecb5228",
   "metadata": {
    "papermill": {
     "duration": 0.008024,
     "end_time": "2024-06-16T22:22:45.509105",
     "exception": false,
     "start_time": "2024-06-16T22:22:45.501081",
     "status": "completed"
    },
    "tags": []
   },
   "source": [
    "# 2) Apply M-Estimate Encoding\n",
    "\n",
    "Apply a target encoding to your choice of categorical features. Also choose a value for the smoothing parameter `m` (any value is okay for a correct answer)."
   ]
  },
  {
   "cell_type": "code",
   "execution_count": 6,
   "id": "09701d11",
   "metadata": {
    "execution": {
     "iopub.execute_input": "2024-06-16T22:22:45.527301Z",
     "iopub.status.busy": "2024-06-16T22:22:45.526547Z",
     "iopub.status.idle": "2024-06-16T22:22:45.736154Z",
     "shell.execute_reply": "2024-06-16T22:22:45.734972Z"
    },
    "lines_to_next_cell": 0,
    "papermill": {
     "duration": 0.22121,
     "end_time": "2024-06-16T22:22:45.738455",
     "exception": false,
     "start_time": "2024-06-16T22:22:45.517245",
     "status": "completed"
    },
    "tags": []
   },
   "outputs": [
    {
     "data": {
      "application/javascript": [
       "parent.postMessage({\"jupyterEvent\": \"custom.exercise_interaction\", \"data\": {\"outcomeType\": 1, \"valueTowardsCompletion\": 0.3333333333333333, \"interactionType\": 1, \"questionType\": 2, \"questionId\": \"2_Q2\", \"learnToolsVersion\": \"0.3.4\", \"failureMessage\": \"\", \"exceptionClass\": \"\", \"trace\": \"\"}}, \"*\")"
      ],
      "text/plain": [
       "<IPython.core.display.Javascript object>"
      ]
     },
     "metadata": {},
     "output_type": "display_data"
    },
    {
     "data": {
      "text/markdown": [
       "<span style=\"color:#33cc33\">Correct</span>"
      ],
      "text/plain": [
       "Correct"
      ]
     },
     "metadata": {},
     "output_type": "display_data"
    },
    {
     "data": {
      "text/html": [
       "<div>\n",
       "<style scoped>\n",
       "    .dataframe tbody tr th:only-of-type {\n",
       "        vertical-align: middle;\n",
       "    }\n",
       "\n",
       "    .dataframe tbody tr th {\n",
       "        vertical-align: top;\n",
       "    }\n",
       "\n",
       "    .dataframe thead th {\n",
       "        text-align: right;\n",
       "    }\n",
       "</style>\n",
       "<table border=\"1\" class=\"dataframe\">\n",
       "  <thead>\n",
       "    <tr style=\"text-align: right;\">\n",
       "      <th></th>\n",
       "      <th>MSSubClass</th>\n",
       "      <th>MSZoning</th>\n",
       "      <th>LotFrontage</th>\n",
       "      <th>LotArea</th>\n",
       "      <th>Street</th>\n",
       "      <th>Alley</th>\n",
       "      <th>LotShape</th>\n",
       "      <th>LandContour</th>\n",
       "      <th>Utilities</th>\n",
       "      <th>LotConfig</th>\n",
       "      <th>...</th>\n",
       "      <th>ScreenPorch</th>\n",
       "      <th>PoolArea</th>\n",
       "      <th>PoolQC</th>\n",
       "      <th>Fence</th>\n",
       "      <th>MiscFeature</th>\n",
       "      <th>MiscVal</th>\n",
       "      <th>MoSold</th>\n",
       "      <th>YearSold</th>\n",
       "      <th>SaleType</th>\n",
       "      <th>SaleCondition</th>\n",
       "    </tr>\n",
       "  </thead>\n",
       "  <tbody>\n",
       "    <tr>\n",
       "      <th>0</th>\n",
       "      <td>186824.116817</td>\n",
       "      <td>Residential_Low_Density</td>\n",
       "      <td>141.0</td>\n",
       "      <td>31770.0</td>\n",
       "      <td>Pave</td>\n",
       "      <td>No_Alley_Access</td>\n",
       "      <td>Slightly_Irregular</td>\n",
       "      <td>Lvl</td>\n",
       "      <td>AllPub</td>\n",
       "      <td>Corner</td>\n",
       "      <td>...</td>\n",
       "      <td>0.0</td>\n",
       "      <td>0.0</td>\n",
       "      <td>No_Pool</td>\n",
       "      <td>No_Fence</td>\n",
       "      <td>NaN</td>\n",
       "      <td>0.0</td>\n",
       "      <td>5</td>\n",
       "      <td>2010</td>\n",
       "      <td>173648.893407</td>\n",
       "      <td>Normal</td>\n",
       "    </tr>\n",
       "    <tr>\n",
       "      <th>1</th>\n",
       "      <td>186824.116817</td>\n",
       "      <td>Residential_High_Density</td>\n",
       "      <td>80.0</td>\n",
       "      <td>11622.0</td>\n",
       "      <td>Pave</td>\n",
       "      <td>No_Alley_Access</td>\n",
       "      <td>Regular</td>\n",
       "      <td>Lvl</td>\n",
       "      <td>AllPub</td>\n",
       "      <td>Inside</td>\n",
       "      <td>...</td>\n",
       "      <td>120.0</td>\n",
       "      <td>0.0</td>\n",
       "      <td>No_Pool</td>\n",
       "      <td>Minimum_Privacy</td>\n",
       "      <td>NaN</td>\n",
       "      <td>0.0</td>\n",
       "      <td>6</td>\n",
       "      <td>2010</td>\n",
       "      <td>173648.893407</td>\n",
       "      <td>Normal</td>\n",
       "    </tr>\n",
       "    <tr>\n",
       "      <th>2</th>\n",
       "      <td>186824.116817</td>\n",
       "      <td>Residential_Low_Density</td>\n",
       "      <td>81.0</td>\n",
       "      <td>14267.0</td>\n",
       "      <td>Pave</td>\n",
       "      <td>No_Alley_Access</td>\n",
       "      <td>Slightly_Irregular</td>\n",
       "      <td>Lvl</td>\n",
       "      <td>AllPub</td>\n",
       "      <td>Corner</td>\n",
       "      <td>...</td>\n",
       "      <td>0.0</td>\n",
       "      <td>0.0</td>\n",
       "      <td>No_Pool</td>\n",
       "      <td>No_Fence</td>\n",
       "      <td>Gar2</td>\n",
       "      <td>12500.0</td>\n",
       "      <td>6</td>\n",
       "      <td>2010</td>\n",
       "      <td>173648.893407</td>\n",
       "      <td>Normal</td>\n",
       "    </tr>\n",
       "    <tr>\n",
       "      <th>3</th>\n",
       "      <td>186824.116817</td>\n",
       "      <td>Residential_Low_Density</td>\n",
       "      <td>93.0</td>\n",
       "      <td>11160.0</td>\n",
       "      <td>Pave</td>\n",
       "      <td>No_Alley_Access</td>\n",
       "      <td>Regular</td>\n",
       "      <td>Lvl</td>\n",
       "      <td>AllPub</td>\n",
       "      <td>Corner</td>\n",
       "      <td>...</td>\n",
       "      <td>0.0</td>\n",
       "      <td>0.0</td>\n",
       "      <td>No_Pool</td>\n",
       "      <td>No_Fence</td>\n",
       "      <td>NaN</td>\n",
       "      <td>0.0</td>\n",
       "      <td>4</td>\n",
       "      <td>2010</td>\n",
       "      <td>173648.893407</td>\n",
       "      <td>Normal</td>\n",
       "    </tr>\n",
       "    <tr>\n",
       "      <th>4</th>\n",
       "      <td>248172.898659</td>\n",
       "      <td>Residential_Low_Density</td>\n",
       "      <td>74.0</td>\n",
       "      <td>13830.0</td>\n",
       "      <td>Pave</td>\n",
       "      <td>No_Alley_Access</td>\n",
       "      <td>Slightly_Irregular</td>\n",
       "      <td>Lvl</td>\n",
       "      <td>AllPub</td>\n",
       "      <td>Inside</td>\n",
       "      <td>...</td>\n",
       "      <td>0.0</td>\n",
       "      <td>0.0</td>\n",
       "      <td>No_Pool</td>\n",
       "      <td>Minimum_Privacy</td>\n",
       "      <td>NaN</td>\n",
       "      <td>0.0</td>\n",
       "      <td>3</td>\n",
       "      <td>2010</td>\n",
       "      <td>173648.893407</td>\n",
       "      <td>Normal</td>\n",
       "    </tr>\n",
       "  </tbody>\n",
       "</table>\n",
       "<p>5 rows × 78 columns</p>\n",
       "</div>"
      ],
      "text/plain": [
       "      MSSubClass                  MSZoning  LotFrontage  LotArea Street  \\\n",
       "0  186824.116817   Residential_Low_Density        141.0  31770.0   Pave   \n",
       "1  186824.116817  Residential_High_Density         80.0  11622.0   Pave   \n",
       "2  186824.116817   Residential_Low_Density         81.0  14267.0   Pave   \n",
       "3  186824.116817   Residential_Low_Density         93.0  11160.0   Pave   \n",
       "4  248172.898659   Residential_Low_Density         74.0  13830.0   Pave   \n",
       "\n",
       "             Alley            LotShape LandContour Utilities LotConfig  ...  \\\n",
       "0  No_Alley_Access  Slightly_Irregular         Lvl    AllPub    Corner  ...   \n",
       "1  No_Alley_Access             Regular         Lvl    AllPub    Inside  ...   \n",
       "2  No_Alley_Access  Slightly_Irregular         Lvl    AllPub    Corner  ...   \n",
       "3  No_Alley_Access             Regular         Lvl    AllPub    Corner  ...   \n",
       "4  No_Alley_Access  Slightly_Irregular         Lvl    AllPub    Inside  ...   \n",
       "\n",
       "  ScreenPorch  PoolArea   PoolQC            Fence MiscFeature  MiscVal  \\\n",
       "0         0.0       0.0  No_Pool         No_Fence         NaN      0.0   \n",
       "1       120.0       0.0  No_Pool  Minimum_Privacy         NaN      0.0   \n",
       "2         0.0       0.0  No_Pool         No_Fence        Gar2  12500.0   \n",
       "3         0.0       0.0  No_Pool         No_Fence         NaN      0.0   \n",
       "4         0.0       0.0  No_Pool  Minimum_Privacy         NaN      0.0   \n",
       "\n",
       "   MoSold YearSold       SaleType  SaleCondition  \n",
       "0       5     2010  173648.893407         Normal  \n",
       "1       6     2010  173648.893407         Normal  \n",
       "2       6     2010  173648.893407         Normal  \n",
       "3       4     2010  173648.893407         Normal  \n",
       "4       3     2010  173648.893407         Normal  \n",
       "\n",
       "[5 rows x 78 columns]"
      ]
     },
     "execution_count": 6,
     "metadata": {},
     "output_type": "execute_result"
    }
   ],
   "source": [
    "\n",
    "encoder = MEstimateEncoder(cols=encod_cat_cols, m=4)\n",
    "\n",
    "\n",
    "# Fit the encoder on the encoding split\n",
    "encoder.fit(X_encode, y_encode)\n",
    "\n",
    "# Encode the training split\n",
    "X_train = encoder.transform(X_pretrain, y_train)\n",
    "\n",
    "# Check your answer\n",
    "q_2.check()\n",
    "X_train.head()"
   ]
  },
  {
   "cell_type": "code",
   "execution_count": 7,
   "id": "3dd86d2d",
   "metadata": {
    "execution": {
     "iopub.execute_input": "2024-06-16T22:22:45.759066Z",
     "iopub.status.busy": "2024-06-16T22:22:45.758678Z",
     "iopub.status.idle": "2024-06-16T22:22:45.771816Z",
     "shell.execute_reply": "2024-06-16T22:22:45.770766Z"
    },
    "lines_to_next_cell": 0,
    "papermill": {
     "duration": 0.025741,
     "end_time": "2024-06-16T22:22:45.774031",
     "exception": false,
     "start_time": "2024-06-16T22:22:45.748290",
     "status": "completed"
    },
    "tags": []
   },
   "outputs": [
    {
     "data": {
      "application/javascript": [
       "parent.postMessage({\"jupyterEvent\": \"custom.exercise_interaction\", \"data\": {\"interactionType\": 2, \"questionType\": 2, \"questionId\": \"2_Q2\", \"learnToolsVersion\": \"0.3.4\", \"valueTowardsCompletion\": 0.0, \"failureMessage\": \"\", \"exceptionClass\": \"\", \"trace\": \"\", \"outcomeType\": 4}}, \"*\")"
      ],
      "text/plain": [
       "<IPython.core.display.Javascript object>"
      ]
     },
     "metadata": {},
     "output_type": "display_data"
    },
    {
     "data": {
      "text/markdown": [
       "<span style=\"color:#3366cc\">Hint:</span> Your code should look something like:\n",
       "```python\n",
       "encoder = MEstimateEncoder(\n",
       "    cols=____,\n",
       "    m=____,\n",
       ")\n",
       "\n",
       "\n",
       "# Fit the encoder on the encoding split\n",
       "____.____(X_encode, y_encode)\n",
       "\n",
       "# Encode the training split\n",
       "X_train = encoder.transform(X_pretrain, y_train)\n",
       "```\n"
      ],
      "text/plain": [
       "Hint: Your code should look something like:\n",
       "```python\n",
       "encoder = MEstimateEncoder(\n",
       "    cols=____,\n",
       "    m=____,\n",
       ")\n",
       "\n",
       "\n",
       "# Fit the encoder on the encoding split\n",
       "____.____(X_encode, y_encode)\n",
       "\n",
       "# Encode the training split\n",
       "X_train = encoder.transform(X_pretrain, y_train)\n",
       "```"
      ]
     },
     "metadata": {},
     "output_type": "display_data"
    },
    {
     "data": {
      "application/javascript": [
       "parent.postMessage({\"jupyterEvent\": \"custom.exercise_interaction\", \"data\": {\"interactionType\": 3, \"questionType\": 2, \"questionId\": \"2_Q2\", \"learnToolsVersion\": \"0.3.4\", \"valueTowardsCompletion\": 0.0, \"failureMessage\": \"\", \"exceptionClass\": \"\", \"trace\": \"\", \"outcomeType\": 4}}, \"*\")"
      ],
      "text/plain": [
       "<IPython.core.display.Javascript object>"
      ]
     },
     "metadata": {},
     "output_type": "display_data"
    },
    {
     "data": {
      "text/markdown": [
       "<span style=\"color:#33cc99\">Solution:</span> \n",
       "```python\n",
       "\n",
       "encoder = MEstimateEncoder(\n",
       "    cols=[\"Neighborhood\"],\n",
       "    m=1.0,\n",
       ")\n",
       "\n",
       "\n",
       "# Fit the encoder on the encoding split\n",
       "encoder.fit(X_encode, y_encode)\n",
       "\n",
       "# Encode the training split\n",
       "X_train = encoder.transform(X_pretrain, y_train)\n",
       "\n",
       "```"
      ],
      "text/plain": [
       "Solution: \n",
       "```python\n",
       "\n",
       "encoder = MEstimateEncoder(\n",
       "    cols=[\"Neighborhood\"],\n",
       "    m=1.0,\n",
       ")\n",
       "\n",
       "\n",
       "# Fit the encoder on the encoding split\n",
       "encoder.fit(X_encode, y_encode)\n",
       "\n",
       "# Encode the training split\n",
       "X_train = encoder.transform(X_pretrain, y_train)\n",
       "\n",
       "```"
      ]
     },
     "metadata": {},
     "output_type": "display_data"
    }
   ],
   "source": [
    "# Lines below will give you a hint or solution code\n",
    "q_2.hint()\n",
    "q_2.solution()"
   ]
  },
  {
   "cell_type": "markdown",
   "id": "b1d9066f",
   "metadata": {
    "papermill": {
     "duration": 0.009502,
     "end_time": "2024-06-16T22:22:45.793117",
     "exception": false,
     "start_time": "2024-06-16T22:22:45.783615",
     "status": "completed"
    },
    "tags": []
   },
   "source": [
    "If we'd like to see how the encoded feature compares to the target, we can run this cell:"
   ]
  },
  {
   "cell_type": "code",
   "execution_count": 8,
   "id": "618d765a",
   "metadata": {
    "execution": {
     "iopub.execute_input": "2024-06-16T22:22:45.815043Z",
     "iopub.status.busy": "2024-06-16T22:22:45.814319Z",
     "iopub.status.idle": "2024-06-16T22:22:49.390242Z",
     "shell.execute_reply": "2024-06-16T22:22:49.388755Z"
    },
    "papermill": {
     "duration": 3.59111,
     "end_time": "2024-06-16T22:22:49.394424",
     "exception": false,
     "start_time": "2024-06-16T22:22:45.803314",
     "status": "completed"
    },
    "tags": []
   },
   "outputs": [
    {
     "data": {
      "image/png": "[encoded data removed]",
      "text/plain": [
       "<Figure size 576x432 with 1 Axes>"
      ]
     },
     "metadata": {},
     "output_type": "display_data"
    },
    {
     "data": {
      "image/png": "[encoded data removed]",
      "text/plain": [
       "<Figure size 576x432 with 1 Axes>"
      ]
     },
     "metadata": {},
     "output_type": "display_data"
    },
    {
     "data": {
      "image/png": "[encoded data removed]",
      "text/plain": [
       "<Figure size 576x432 with 1 Axes>"
      ]
     },
     "metadata": {},
     "output_type": "display_data"
    },
    {
     "data": {
      "image/png": "[encoded data removed]",
      "text/plain": [
       "<Figure size 576x432 with 1 Axes>"
      ]
     },
     "metadata": {},
     "output_type": "display_data"
    },
    {
     "data": {
      "image/png": "[encoded data removed]",
      "text/plain": [
       "<Figure size 576x432 with 1 Axes>"
      ]
     },
     "metadata": {},
     "output_type": "display_data"
    },
    {
     "data": {
      "image/png": "[encoded data removed]",
      "text/plain": [
       "<Figure size 576x432 with 1 Axes>"
      ]
     },
     "metadata": {},
     "output_type": "display_data"
    }
   ],
   "source": [
    "feature = encoder.cols\n",
    "\n",
    "for i in range(len(feature)) :\n",
    "    plt.figure(dpi=90)\n",
    "    ax = sns.distplot(y_train, kde=True, hist=False)\n",
    "    ax = sns.distplot(X_train[feature[i]], color='r', ax=ax, hist=True, kde=False, norm_hist=True)\n",
    "    ax.set_xlabel(\"SalePrice\");\n",
    "    ax.set_title(feature[i])\n",
    "    "
   ]
  },
  {
   "cell_type": "markdown",
   "id": "cf0dc214",
   "metadata": {
    "papermill": {
     "duration": 0.017744,
     "end_time": "2024-06-16T22:22:49.429205",
     "exception": false,
     "start_time": "2024-06-16T22:22:49.411461",
     "status": "completed"
    },
    "tags": []
   },
   "source": [
    "From the distribution plots, does it seem like the encoding is informative?\n",
    "\n",
    "And this cell will show you the score of the encoded set compared to the original set:"
   ]
  },
  {
   "cell_type": "code",
   "execution_count": 9,
   "id": "727868a4",
   "metadata": {
    "execution": {
     "iopub.execute_input": "2024-06-16T22:22:49.459966Z",
     "iopub.status.busy": "2024-06-16T22:22:49.459531Z",
     "iopub.status.idle": "2024-06-16T22:22:54.819292Z",
     "shell.execute_reply": "2024-06-16T22:22:54.818442Z"
    },
    "papermill": {
     "duration": 5.376388,
     "end_time": "2024-06-16T22:22:54.821908",
     "exception": false,
     "start_time": "2024-06-16T22:22:49.445520",
     "status": "completed"
    },
    "tags": []
   },
   "outputs": [
    {
     "name": "stdout",
     "output_type": "stream",
     "text": [
      "Baseline Score: 0.1434 RMSLE\n",
      "Score with Encoding: 0.1466 RMSLE\n"
     ]
    }
   ],
   "source": [
    "X = df.copy()\n",
    "y = X.pop(\"SalePrice\")\n",
    "score_base = score_dataset(X, y)\n",
    "score_new = score_dataset(X_train, y_train)\n",
    "\n",
    "print(f\"Baseline Score: {score_base:.4f} RMSLE\")\n",
    "print(f\"Score with Encoding: {score_new:.4f} RMSLE\")"
   ]
  },
  {
   "cell_type": "markdown",
   "id": "5b61d549",
   "metadata": {
    "papermill": {
     "duration": 0.013027,
     "end_time": "2024-06-16T22:22:54.850421",
     "exception": false,
     "start_time": "2024-06-16T22:22:54.837394",
     "status": "completed"
    },
    "tags": []
   },
   "source": [
    "Do you think that target encoding was worthwhile in this case? Depending on which feature or features you chose, you may have ended up with a score significantly worse than the baseline. In that case, it's likely the extra information gained by the encoding couldn't make up for the loss of data used for the encoding."
   ]
  },
  {
   "cell_type": "markdown",
   "id": "be1775ba",
   "metadata": {
    "papermill": {
     "duration": 0.012194,
     "end_time": "2024-06-16T22:22:54.875463",
     "exception": false,
     "start_time": "2024-06-16T22:22:54.863269",
     "status": "completed"
    },
    "tags": []
   },
   "source": [
    "-------------------------------------------------------------------------------\n",
    "\n",
    "In this question, we'll explore the problem of overfitting with target encodings. This will illustrate this importance of training fitting target encoders on data held-out from the training set.\n",
    "\n",
    "So let's see what happens when we fit the encoder and the model on the *same* dataset. To emphasize how dramatic the overfitting can be, we'll mean-encode a feature that should have no relationship with `SalePrice`, a count: `0, 1, 2, 3, 4, 5, ...`."
   ]
  },
  {
   "cell_type": "code",
   "execution_count": 10,
   "id": "0daab035",
   "metadata": {
    "execution": {
     "iopub.execute_input": "2024-06-16T22:22:54.901777Z",
     "iopub.status.busy": "2024-06-16T22:22:54.901339Z",
     "iopub.status.idle": "2024-06-16T22:22:56.930035Z",
     "shell.execute_reply": "2024-06-16T22:22:56.929042Z"
    },
    "papermill": {
     "duration": 2.044942,
     "end_time": "2024-06-16T22:22:56.932726",
     "exception": false,
     "start_time": "2024-06-16T22:22:54.887784",
     "status": "completed"
    },
    "tags": []
   },
   "outputs": [
    {
     "name": "stdout",
     "output_type": "stream",
     "text": [
      "Score: 0.0375 RMSLE\n"
     ]
    }
   ],
   "source": [
    "# Try experimenting with the smoothing parameter m\n",
    "m = 0\n",
    "\n",
    "X = df.copy()\n",
    "y = X.pop('SalePrice')\n",
    "\n",
    "# Create an uninformative feature\n",
    "X[\"Count\"] = range(len(X))\n",
    "X[\"Count\"][1] = 0  # actually need one duplicate value to circumvent error-checking in MEstimateEncoder\n",
    "\n",
    "# fit and transform on the same dataset\n",
    "encoder = MEstimateEncoder(cols=\"Count\", m=m)\n",
    "X = encoder.fit_transform(X, y)\n",
    "\n",
    "# Results\n",
    "score =  score_dataset(X, y)\n",
    "print(f\"Score: {score:.4f} RMSLE\")"
   ]
  },
  {
   "cell_type": "markdown",
   "id": "391c5714",
   "metadata": {
    "papermill": {
     "duration": 0.012182,
     "end_time": "2024-06-16T22:22:56.958670",
     "exception": false,
     "start_time": "2024-06-16T22:22:56.946488",
     "status": "completed"
    },
    "tags": []
   },
   "source": [
    "Almost a perfect score!"
   ]
  },
  {
   "cell_type": "code",
   "execution_count": 11,
   "id": "d1db6b23",
   "metadata": {
    "execution": {
     "iopub.execute_input": "2024-06-16T22:22:56.985438Z",
     "iopub.status.busy": "2024-06-16T22:22:56.985073Z",
     "iopub.status.idle": "2024-06-16T22:22:57.534198Z",
     "shell.execute_reply": "2024-06-16T22:22:57.532854Z"
    },
    "papermill": {
     "duration": 0.565597,
     "end_time": "2024-06-16T22:22:57.536751",
     "exception": false,
     "start_time": "2024-06-16T22:22:56.971154",
     "status": "completed"
    },
    "tags": []
   },
   "outputs": [
    {
     "data": {
      "image/png": "[encoded data removed]",
      "text/plain": [
       "<Figure size 576x432 with 1 Axes>"
      ]
     },
     "metadata": {},
     "output_type": "display_data"
    }
   ],
   "source": [
    "plt.figure(dpi=90)\n",
    "ax = sns.distplot(y, kde=True, hist=False)\n",
    "ax = sns.distplot(X[\"Count\"], color='r', ax=ax, hist=True, kde=False, norm_hist=True)\n",
    "ax.set_xlabel(\"SalePrice\");"
   ]
  },
  {
   "cell_type": "markdown",
   "id": "2e70d591",
   "metadata": {
    "papermill": {
     "duration": 0.01282,
     "end_time": "2024-06-16T22:22:57.562723",
     "exception": false,
     "start_time": "2024-06-16T22:22:57.549903",
     "status": "completed"
    },
    "tags": []
   },
   "source": [
    "And the distributions are almost exactly the same, too.\n",
    "\n",
    "# 3) Overfitting with Target Encoders\n"
   ]
  },
  {
   "cell_type": "markdown",
   "id": "17570489",
   "metadata": {
    "execution": {
     "iopub.execute_input": "2024-06-16T22:01:01.961413Z",
     "iopub.status.busy": "2024-06-16T22:01:01.961056Z",
     "iopub.status.idle": "2024-06-16T22:01:01.970311Z",
     "shell.execute_reply": "2024-06-16T22:01:01.968862Z",
     "shell.execute_reply.started": "2024-06-16T22:01:01.961388Z"
    },
    "lines_to_next_cell": 0,
    "papermill": {
     "duration": 0.01256,
     "end_time": "2024-06-16T22:22:57.588380",
     "exception": false,
     "start_time": "2024-06-16T22:22:57.575820",
     "status": "completed"
    },
    "tags": []
   },
   "source": [
    "Since `Count` never has any duplicate values, the mean-encoded Count is essentially an exact copy of the target. In other words, mean-encoding turned a completely meaningless feature into a perfect feature.\n",
    "\n",
    "Now, the only reason this worked is because we trained XGBoost on the same set we used to train the encoder. If we had used a hold-out set instead, none of this \"fake\" encoding would have transferred to the training data.\n",
    "\n",
    "The lesson is that when using a target encoder it's very important to use separate data sets for training the encoder and training the model. Otherwise the results can be very disappointing!"
   ]
  },
  {
   "cell_type": "markdown",
   "id": "c6726d82",
   "metadata": {
    "papermill": {
     "duration": 0.012941,
     "end_time": "2024-06-16T22:22:57.614328",
     "exception": false,
     "start_time": "2024-06-16T22:22:57.601387",
     "status": "completed"
    },
    "tags": []
   },
   "source": [
    "---\n",
    "\n",
    "\n",
    "\n",
    "\n",
    "*By Poludniowy Albanczyk*"
   ]
  }
 ],
 "metadata": {
  "jupytext": {
   "cell_metadata_filter": "-all",
   "formats": "ipynb"
  },
  "kaggle": {
   "accelerator": "none",
   "dataSources": [
    {
     "datasetId": 933090,
     "sourceId": 1828856,
     "sourceType": "datasetVersion"
    }
   ],
   "isGpuEnabled": false,
   "isInternetEnabled": false,
   "language": "python",
   "sourceType": "notebook"
  },
  "kernelspec": {
   "display_name": "Python 3",
   "language": "python",
   "name": "python3"
  },
  "language_info": {
   "codemirror_mode": {
    "name": "ipython",
    "version": 3
   },
   "file_extension": ".py",
   "mimetype": "text/x-python",
   "name": "python",
   "nbconvert_exporter": "python",
   "pygments_lexer": "ipython3",
   "version": "3.10.13"
  },
  "papermill": {
   "default_parameters": {},
   "duration": 19.206455,
   "end_time": "2024-06-16T22:22:58.248626",
   "environment_variables": {},
   "exception": null,
   "input_path": "__notebook__.ipynb",
   "output_path": "__notebook__.ipynb",
   "parameters": {},
   "start_time": "2024-06-16T22:22:39.042171",
   "version": "2.5.0"
  }
 },
 "nbformat": 4,
 "nbformat_minor": 5
}
