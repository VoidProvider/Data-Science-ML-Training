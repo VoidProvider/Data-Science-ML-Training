{
 "cells": [
  {
   "cell_type": "markdown",
   "id": "f5f937fa",
   "metadata": {
    "papermill": {
     "duration": 0.007998,
     "end_time": "2024-03-23T17:28:39.447867",
     "exception": false,
     "start_time": "2024-03-23T17:28:39.439869",
     "status": "completed"
    },
    "tags": []
   },
   "source": [
    "Now it's time to test our new knowledge of **missing values** handling. We'll probably find it makes a big difference.\n",
    "\n",
    "# Setup\n"
   ]
  },
  {
   "cell_type": "code",
   "execution_count": 1,
   "id": "e9ae37a5",
   "metadata": {
    "execution": {
     "iopub.execute_input": "2024-03-23T17:28:39.465450Z",
     "iopub.status.busy": "2024-03-23T17:28:39.465090Z",
     "iopub.status.idle": "2024-03-23T17:28:40.301160Z",
     "shell.execute_reply": "2024-03-23T17:28:40.300188Z"
    },
    "papermill": {
     "duration": 0.847385,
     "end_time": "2024-03-23T17:28:40.303328",
     "exception": false,
     "start_time": "2024-03-23T17:28:39.455943",
     "status": "completed"
    },
    "tags": []
   },
   "outputs": [
    {
     "name": "stdout",
     "output_type": "stream",
     "text": [
      "Setup Complete\n"
     ]
    }
   ],
   "source": [
    "# Set up code checking\n",
    "import os\n",
    "if not os.path.exists(\"../input/train.csv\"):\n",
    "    os.symlink(\"../input/home-data-for-ml-course/train.csv\", \"../input/train.csv\")  \n",
    "    os.symlink(\"../input/home-data-for-ml-course/test.csv\", \"../input/test.csv\") \n",
    "from learntools.core import binder\n",
    "binder.bind(globals())\n",
    "from learntools.ml_intermediate.ex2 import *\n",
    "print(\"Setup Complete\")"
   ]
  },
  {
   "cell_type": "markdown",
   "id": "b6a67a74",
   "metadata": {
    "papermill": {
     "duration": 0.007187,
     "end_time": "2024-03-23T17:28:40.318295",
     "exception": false,
     "start_time": "2024-03-23T17:28:40.311108",
     "status": "completed"
    },
    "tags": []
   },
   "source": [
    "In this exercise, you will work with data from the [Housing Prices Competition for Kaggle Learn Users](https://www.kaggle.com/c/home-data-for-ml-course). \n",
    "\n",
    "![Ames Housing dataset image](https://storage.googleapis.com/kaggle-media/learn/images/lTJVG4e.png)\n",
    "\n",
    "Run the next code cell without changes to load the training and validation sets in `X_train`, `X_valid`, `y_train`, and `y_valid`.  The test set is loaded in `X_test`."
   ]
  },
  {
   "cell_type": "code",
   "execution_count": 2,
   "id": "470aff98",
   "metadata": {
    "execution": {
     "iopub.execute_input": "2024-03-23T17:28:40.335098Z",
     "iopub.status.busy": "2024-03-23T17:28:40.334385Z",
     "iopub.status.idle": "2024-03-23T17:28:41.669997Z",
     "shell.execute_reply": "2024-03-23T17:28:41.668997Z"
    },
    "papermill": {
     "duration": 1.346523,
     "end_time": "2024-03-23T17:28:41.672374",
     "exception": false,
     "start_time": "2024-03-23T17:28:40.325851",
     "status": "completed"
    },
    "tags": []
   },
   "outputs": [],
   "source": [
    "import pandas as pd\n",
    "from sklearn.model_selection import train_test_split\n",
    "\n",
    "# Read the data\n",
    "X_full = pd.read_csv('../input/train.csv', index_col='Id')\n",
    "X_test_full = pd.read_csv('../input/test.csv', index_col='Id')\n",
    "\n",
    "# Remove rows with missing target, separate target from predictors\n",
    "X_full.dropna(axis=0, subset=['SalePrice'], inplace=True)\n",
    "y = X_full.SalePrice\n",
    "X_full.drop(['SalePrice'], axis=1, inplace=True)\n",
    "\n",
    "# To keep things simple, we'll use only numerical predictors\n",
    "X = X_full.select_dtypes(exclude=['object'])\n",
    "X_test = X_test_full.select_dtypes(exclude=['object'])\n",
    "\n",
    "# Break off validation set from training data\n",
    "X_train, X_valid, y_train, y_valid = train_test_split(X, y, train_size=0.8, test_size=0.2,\n",
    "                                                      random_state=0)"
   ]
  },
  {
   "cell_type": "markdown",
   "id": "bdea5f06",
   "metadata": {
    "papermill": {
     "duration": 0.007394,
     "end_time": "2024-03-23T17:28:41.687594",
     "exception": false,
     "start_time": "2024-03-23T17:28:41.680200",
     "status": "completed"
    },
    "tags": []
   },
   "source": [
    "Now we will use the next code cell to print the first five rows of the data."
   ]
  },
  {
   "cell_type": "code",
   "execution_count": 3,
   "id": "378c1332",
   "metadata": {
    "execution": {
     "iopub.execute_input": "2024-03-23T17:28:41.705610Z",
     "iopub.status.busy": "2024-03-23T17:28:41.704715Z",
     "iopub.status.idle": "2024-03-23T17:28:41.729124Z",
     "shell.execute_reply": "2024-03-23T17:28:41.728275Z"
    },
    "papermill": {
     "duration": 0.035165,
     "end_time": "2024-03-23T17:28:41.731095",
     "exception": false,
     "start_time": "2024-03-23T17:28:41.695930",
     "status": "completed"
    },
    "tags": []
   },
   "outputs": [
    {
     "data": {
      "text/html": [
       "<div>\n",
       "<style scoped>\n",
       "    .dataframe tbody tr th:only-of-type {\n",
       "        vertical-align: middle;\n",
       "    }\n",
       "\n",
       "    .dataframe tbody tr th {\n",
       "        vertical-align: top;\n",
       "    }\n",
       "\n",
       "    .dataframe thead th {\n",
       "        text-align: right;\n",
       "    }\n",
       "</style>\n",
       "<table border=\"1\" class=\"dataframe\">\n",
       "  <thead>\n",
       "    <tr style=\"text-align: right;\">\n",
       "      <th></th>\n",
       "      <th>MSSubClass</th>\n",
       "      <th>LotFrontage</th>\n",
       "      <th>LotArea</th>\n",
       "      <th>OverallQual</th>\n",
       "      <th>OverallCond</th>\n",
       "      <th>YearBuilt</th>\n",
       "      <th>YearRemodAdd</th>\n",
       "      <th>MasVnrArea</th>\n",
       "      <th>BsmtFinSF1</th>\n",
       "      <th>BsmtFinSF2</th>\n",
       "      <th>...</th>\n",
       "      <th>GarageArea</th>\n",
       "      <th>WoodDeckSF</th>\n",
       "      <th>OpenPorchSF</th>\n",
       "      <th>EnclosedPorch</th>\n",
       "      <th>3SsnPorch</th>\n",
       "      <th>ScreenPorch</th>\n",
       "      <th>PoolArea</th>\n",
       "      <th>MiscVal</th>\n",
       "      <th>MoSold</th>\n",
       "      <th>YrSold</th>\n",
       "    </tr>\n",
       "    <tr>\n",
       "      <th>Id</th>\n",
       "      <th></th>\n",
       "      <th></th>\n",
       "      <th></th>\n",
       "      <th></th>\n",
       "      <th></th>\n",
       "      <th></th>\n",
       "      <th></th>\n",
       "      <th></th>\n",
       "      <th></th>\n",
       "      <th></th>\n",
       "      <th></th>\n",
       "      <th></th>\n",
       "      <th></th>\n",
       "      <th></th>\n",
       "      <th></th>\n",
       "      <th></th>\n",
       "      <th></th>\n",
       "      <th></th>\n",
       "      <th></th>\n",
       "      <th></th>\n",
       "      <th></th>\n",
       "    </tr>\n",
       "  </thead>\n",
       "  <tbody>\n",
       "    <tr>\n",
       "      <th>619</th>\n",
       "      <td>20</td>\n",
       "      <td>90.0</td>\n",
       "      <td>11694</td>\n",
       "      <td>9</td>\n",
       "      <td>5</td>\n",
       "      <td>2007</td>\n",
       "      <td>2007</td>\n",
       "      <td>452.0</td>\n",
       "      <td>48</td>\n",
       "      <td>0</td>\n",
       "      <td>...</td>\n",
       "      <td>774</td>\n",
       "      <td>0</td>\n",
       "      <td>108</td>\n",
       "      <td>0</td>\n",
       "      <td>0</td>\n",
       "      <td>260</td>\n",
       "      <td>0</td>\n",
       "      <td>0</td>\n",
       "      <td>7</td>\n",
       "      <td>2007</td>\n",
       "    </tr>\n",
       "    <tr>\n",
       "      <th>871</th>\n",
       "      <td>20</td>\n",
       "      <td>60.0</td>\n",
       "      <td>6600</td>\n",
       "      <td>5</td>\n",
       "      <td>5</td>\n",
       "      <td>1962</td>\n",
       "      <td>1962</td>\n",
       "      <td>0.0</td>\n",
       "      <td>0</td>\n",
       "      <td>0</td>\n",
       "      <td>...</td>\n",
       "      <td>308</td>\n",
       "      <td>0</td>\n",
       "      <td>0</td>\n",
       "      <td>0</td>\n",
       "      <td>0</td>\n",
       "      <td>0</td>\n",
       "      <td>0</td>\n",
       "      <td>0</td>\n",
       "      <td>8</td>\n",
       "      <td>2009</td>\n",
       "    </tr>\n",
       "    <tr>\n",
       "      <th>93</th>\n",
       "      <td>30</td>\n",
       "      <td>80.0</td>\n",
       "      <td>13360</td>\n",
       "      <td>5</td>\n",
       "      <td>7</td>\n",
       "      <td>1921</td>\n",
       "      <td>2006</td>\n",
       "      <td>0.0</td>\n",
       "      <td>713</td>\n",
       "      <td>0</td>\n",
       "      <td>...</td>\n",
       "      <td>432</td>\n",
       "      <td>0</td>\n",
       "      <td>0</td>\n",
       "      <td>44</td>\n",
       "      <td>0</td>\n",
       "      <td>0</td>\n",
       "      <td>0</td>\n",
       "      <td>0</td>\n",
       "      <td>8</td>\n",
       "      <td>2009</td>\n",
       "    </tr>\n",
       "    <tr>\n",
       "      <th>818</th>\n",
       "      <td>20</td>\n",
       "      <td>NaN</td>\n",
       "      <td>13265</td>\n",
       "      <td>8</td>\n",
       "      <td>5</td>\n",
       "      <td>2002</td>\n",
       "      <td>2002</td>\n",
       "      <td>148.0</td>\n",
       "      <td>1218</td>\n",
       "      <td>0</td>\n",
       "      <td>...</td>\n",
       "      <td>857</td>\n",
       "      <td>150</td>\n",
       "      <td>59</td>\n",
       "      <td>0</td>\n",
       "      <td>0</td>\n",
       "      <td>0</td>\n",
       "      <td>0</td>\n",
       "      <td>0</td>\n",
       "      <td>7</td>\n",
       "      <td>2008</td>\n",
       "    </tr>\n",
       "    <tr>\n",
       "      <th>303</th>\n",
       "      <td>20</td>\n",
       "      <td>118.0</td>\n",
       "      <td>13704</td>\n",
       "      <td>7</td>\n",
       "      <td>5</td>\n",
       "      <td>2001</td>\n",
       "      <td>2002</td>\n",
       "      <td>150.0</td>\n",
       "      <td>0</td>\n",
       "      <td>0</td>\n",
       "      <td>...</td>\n",
       "      <td>843</td>\n",
       "      <td>468</td>\n",
       "      <td>81</td>\n",
       "      <td>0</td>\n",
       "      <td>0</td>\n",
       "      <td>0</td>\n",
       "      <td>0</td>\n",
       "      <td>0</td>\n",
       "      <td>1</td>\n",
       "      <td>2006</td>\n",
       "    </tr>\n",
       "  </tbody>\n",
       "</table>\n",
       "<p>5 rows × 36 columns</p>\n",
       "</div>"
      ],
      "text/plain": [
       "     MSSubClass  LotFrontage  LotArea  OverallQual  OverallCond  YearBuilt  \\\n",
       "Id                                                                           \n",
       "619          20         90.0    11694            9            5       2007   \n",
       "871          20         60.0     6600            5            5       1962   \n",
       "93           30         80.0    13360            5            7       1921   \n",
       "818          20          NaN    13265            8            5       2002   \n",
       "303          20        118.0    13704            7            5       2001   \n",
       "\n",
       "     YearRemodAdd  MasVnrArea  BsmtFinSF1  BsmtFinSF2  ...  GarageArea  \\\n",
       "Id                                                     ...               \n",
       "619          2007       452.0          48           0  ...         774   \n",
       "871          1962         0.0           0           0  ...         308   \n",
       "93           2006         0.0         713           0  ...         432   \n",
       "818          2002       148.0        1218           0  ...         857   \n",
       "303          2002       150.0           0           0  ...         843   \n",
       "\n",
       "     WoodDeckSF  OpenPorchSF  EnclosedPorch  3SsnPorch  ScreenPorch  PoolArea  \\\n",
       "Id                                                                              \n",
       "619           0          108              0          0          260         0   \n",
       "871           0            0              0          0            0         0   \n",
       "93            0            0             44          0            0         0   \n",
       "818         150           59              0          0            0         0   \n",
       "303         468           81              0          0            0         0   \n",
       "\n",
       "     MiscVal  MoSold  YrSold  \n",
       "Id                            \n",
       "619        0       7    2007  \n",
       "871        0       8    2009  \n",
       "93         0       8    2009  \n",
       "818        0       7    2008  \n",
       "303        0       1    2006  \n",
       "\n",
       "[5 rows x 36 columns]"
      ]
     },
     "execution_count": 3,
     "metadata": {},
     "output_type": "execute_result"
    }
   ],
   "source": [
    "X_train.head()"
   ]
  },
  {
   "cell_type": "markdown",
   "id": "81543d57",
   "metadata": {
    "papermill": {
     "duration": 0.007705,
     "end_time": "2024-03-23T17:28:41.746872",
     "exception": false,
     "start_time": "2024-03-23T17:28:41.739167",
     "status": "completed"
    },
    "tags": []
   },
   "source": [
    "We can already see a few missing values in the first several rows.  In the next step, we'll obtain a more comprehensive understanding of the missing values in the dataset.\n",
    "\n",
    "# Step 1: Preliminary investigation\n",
    "\n",
    "Let's run the code cell below without changes."
   ]
  },
  {
   "cell_type": "code",
   "execution_count": 4,
   "id": "8ffb80e1",
   "metadata": {
    "execution": {
     "iopub.execute_input": "2024-03-23T17:28:41.765715Z",
     "iopub.status.busy": "2024-03-23T17:28:41.765023Z",
     "iopub.status.idle": "2024-03-23T17:28:41.772001Z",
     "shell.execute_reply": "2024-03-23T17:28:41.771088Z"
    },
    "papermill": {
     "duration": 0.018463,
     "end_time": "2024-03-23T17:28:41.774001",
     "exception": false,
     "start_time": "2024-03-23T17:28:41.755538",
     "status": "completed"
    },
    "tags": []
   },
   "outputs": [
    {
     "name": "stdout",
     "output_type": "stream",
     "text": [
      "(1168, 36)\n",
      "LotFrontage    212\n",
      "MasVnrArea       6\n",
      "GarageYrBlt     58\n",
      "dtype: int64\n"
     ]
    }
   ],
   "source": [
    "# Shape of training data (num_rows, num_columns)\n",
    "print(X_train.shape)\n",
    "\n",
    "# Number of missing values in each column of training data\n",
    "missing_val_count_by_column = (X_train.isnull().sum())\n",
    "print(missing_val_count_by_column[missing_val_count_by_column > 0])"
   ]
  },
  {
   "cell_type": "markdown",
   "id": "07437ff9",
   "metadata": {
    "papermill": {
     "duration": 0.008372,
     "end_time": "2024-03-23T17:28:41.790949",
     "exception": false,
     "start_time": "2024-03-23T17:28:41.782577",
     "status": "completed"
    },
    "tags": []
   },
   "source": [
    "### Part A\n",
    "\n",
    "Use the above output to answer the questions below."
   ]
  },
  {
   "cell_type": "code",
   "execution_count": 5,
   "id": "d3c2a4e8",
   "metadata": {
    "execution": {
     "iopub.execute_input": "2024-03-23T17:28:41.809095Z",
     "iopub.status.busy": "2024-03-23T17:28:41.808250Z",
     "iopub.status.idle": "2024-03-23T17:28:41.819561Z",
     "shell.execute_reply": "2024-03-23T17:28:41.818370Z"
    },
    "papermill": {
     "duration": 0.022689,
     "end_time": "2024-03-23T17:28:41.821717",
     "exception": false,
     "start_time": "2024-03-23T17:28:41.799028",
     "status": "completed"
    },
    "tags": []
   },
   "outputs": [
    {
     "name": "stdout",
     "output_type": "stream",
     "text": [
      "total number of rows in the training data = 1168 \n",
      " number of columns in the training data with missing values = 3 \n",
      " number of missing entries in the training data = 276\n"
     ]
    },
    {
     "data": {
      "application/javascript": [
       "parent.postMessage({\"jupyterEvent\": \"custom.exercise_interaction\", \"data\": {\"outcomeType\": 1, \"valueTowardsCompletion\": 1.0, \"interactionType\": 1, \"questionType\": 1, \"questionId\": \"1.1_InvestigateEquality\", \"learnToolsVersion\": \"0.3.4\", \"failureMessage\": \"\", \"exceptionClass\": \"\", \"trace\": \"\"}}, \"*\")"
      ],
      "text/plain": [
       "<IPython.core.display.Javascript object>"
      ]
     },
     "metadata": {},
     "output_type": "display_data"
    },
    {
     "data": {
      "text/markdown": [
       "<span style=\"color:#33cc33\">Correct</span>"
      ],
      "text/plain": [
       "Correct"
      ]
     },
     "metadata": {},
     "output_type": "display_data"
    }
   ],
   "source": [
    "# How many rows are in the training data?\n",
    "num_rows = X_train.shape[0]\n",
    "\n",
    "#  How many columns in the training data have missing values?\n",
    "num_cols_with_missing = len(missing_val_count_by_column[missing_val_count_by_column > 0])\n",
    "\n",
    "# =How many missing entries are contained in all of the training data?\n",
    "tot_missing = missing_val_count_by_column[missing_val_count_by_column > 0].sum()\n",
    "\n",
    "print(f'total number of rows in the training data = {num_rows}', '\\n',\n",
    "     f'number of columns in the training data with missing values = {num_cols_with_missing}', '\\n',\n",
    "     f'number of missing entries in the training data = {tot_missing}')\n",
    "\n",
    "# Check my answers\n",
    "step_1.a.check()"
   ]
  },
  {
   "cell_type": "markdown",
   "id": "1e723e08",
   "metadata": {
    "papermill": {
     "duration": 0.008144,
     "end_time": "2024-03-23T17:28:41.838843",
     "exception": false,
     "start_time": "2024-03-23T17:28:41.830699",
     "status": "completed"
    },
    "tags": []
   },
   "source": [
    "### Part B\n",
    "Considering the above, the best approach to dealing with the missing values is imputation instead of dropping the columns with missing data since only a small percentage from the total number of entries are missing."
   ]
  },
  {
   "cell_type": "markdown",
   "id": "d224e078",
   "metadata": {
    "execution": {
     "iopub.execute_input": "2024-03-22T15:38:54.126966Z",
     "iopub.status.busy": "2024-03-22T15:38:54.126528Z",
     "iopub.status.idle": "2024-03-22T15:38:54.138032Z",
     "shell.execute_reply": "2024-03-22T15:38:54.136742Z",
     "shell.execute_reply.started": "2024-03-22T15:38:54.126927Z"
    },
    "papermill": {
     "duration": 0.008077,
     "end_time": "2024-03-23T17:28:41.855359",
     "exception": false,
     "start_time": "2024-03-23T17:28:41.847282",
     "status": "completed"
    },
    "tags": []
   },
   "source": [
    "Since there are relatively few missing entries in the data (the column with the greatest percentage of missing values is missing less than 20% of its entries), we can expect that dropping columns is unlikely to yield good results. This is because we'd be throwing away a lot of valuable data, and so imputation will likely perform better."
   ]
  },
  {
   "cell_type": "markdown",
   "id": "80112918",
   "metadata": {
    "papermill": {
     "duration": 0.008046,
     "end_time": "2024-03-23T17:28:41.872042",
     "exception": false,
     "start_time": "2024-03-23T17:28:41.863996",
     "status": "completed"
    },
    "tags": []
   },
   "source": [
    "To compare different approaches to dealing with missing values, we'll use the same `score_dataset()` function from the tutorial.  This function reports the [mean absolute error](https://en.wikipedia.org/wiki/Mean_absolute_error) (MAE) from a random forest model."
   ]
  },
  {
   "cell_type": "code",
   "execution_count": 6,
   "id": "3fea9070",
   "metadata": {
    "execution": {
     "iopub.execute_input": "2024-03-23T17:28:41.890430Z",
     "iopub.status.busy": "2024-03-23T17:28:41.890047Z",
     "iopub.status.idle": "2024-03-23T17:28:42.221169Z",
     "shell.execute_reply": "2024-03-23T17:28:42.220238Z"
    },
    "papermill": {
     "duration": 0.343018,
     "end_time": "2024-03-23T17:28:42.223501",
     "exception": false,
     "start_time": "2024-03-23T17:28:41.880483",
     "status": "completed"
    },
    "tags": []
   },
   "outputs": [],
   "source": [
    "from sklearn.ensemble import RandomForestRegressor\n",
    "from sklearn.metrics import mean_absolute_error\n",
    "\n",
    "# Function for comparing different approaches\n",
    "def score_dataset(X_train, X_valid, y_train, y_valid):\n",
    "    model = RandomForestRegressor(n_estimators=100, random_state=0)\n",
    "    model.fit(X_train, y_train)\n",
    "    preds = model.predict(X_valid)\n",
    "    return mean_absolute_error(y_valid, preds)"
   ]
  },
  {
   "cell_type": "markdown",
   "id": "eee2bcbc",
   "metadata": {
    "papermill": {
     "duration": 0.008873,
     "end_time": "2024-03-23T17:28:42.240847",
     "exception": false,
     "start_time": "2024-03-23T17:28:42.231974",
     "status": "completed"
    },
    "tags": []
   },
   "source": [
    "# Step 2: Drop columns with missing values\n",
    "\n",
    "In this step, we'll preprocess the data in `X_train` and `X_valid` to remove columns with missing values.  Set the preprocessed DataFrames to `reduced_X_train` and `reduced_X_valid`, respectively.  "
   ]
  },
  {
   "cell_type": "code",
   "execution_count": 7,
   "id": "216bd2be",
   "metadata": {
    "execution": {
     "iopub.execute_input": "2024-03-23T17:28:42.260408Z",
     "iopub.status.busy": "2024-03-23T17:28:42.259617Z",
     "iopub.status.idle": "2024-03-23T17:28:42.271578Z",
     "shell.execute_reply": "2024-03-23T17:28:42.270532Z"
    },
    "papermill": {
     "duration": 0.024267,
     "end_time": "2024-03-23T17:28:42.274094",
     "exception": false,
     "start_time": "2024-03-23T17:28:42.249827",
     "status": "completed"
    },
    "tags": []
   },
   "outputs": [
    {
     "data": {
      "text/plain": [
       "['LotFrontage', 'MasVnrArea', 'GarageYrBlt']"
      ]
     },
     "execution_count": 7,
     "metadata": {},
     "output_type": "execute_result"
    }
   ],
   "source": [
    "# Let's first create a list with columns that have missing values\n",
    "\n",
    "cols_with_null=[col for col in X.columns\n",
    "               if X[col].isnull().any()]\n",
    "cols_with_null"
   ]
  },
  {
   "cell_type": "code",
   "execution_count": 8,
   "id": "14ae7635",
   "metadata": {
    "execution": {
     "iopub.execute_input": "2024-03-23T17:28:42.293988Z",
     "iopub.status.busy": "2024-03-23T17:28:42.292843Z",
     "iopub.status.idle": "2024-03-23T17:28:42.312220Z",
     "shell.execute_reply": "2024-03-23T17:28:42.311043Z"
    },
    "papermill": {
     "duration": 0.031537,
     "end_time": "2024-03-23T17:28:42.314575",
     "exception": false,
     "start_time": "2024-03-23T17:28:42.283038",
     "status": "completed"
    },
    "tags": []
   },
   "outputs": [
    {
     "data": {
      "application/javascript": [
       "parent.postMessage({\"jupyterEvent\": \"custom.exercise_interaction\", \"data\": {\"outcomeType\": 1, \"valueTowardsCompletion\": 1.0, \"interactionType\": 1, \"questionType\": 2, \"questionId\": \"2_DropMissing\", \"learnToolsVersion\": \"0.3.4\", \"failureMessage\": \"\", \"exceptionClass\": \"\", \"trace\": \"\"}}, \"*\")"
      ],
      "text/plain": [
       "<IPython.core.display.Javascript object>"
      ]
     },
     "metadata": {},
     "output_type": "display_data"
    },
    {
     "data": {
      "text/markdown": [
       "<span style=\"color:#33cc33\">Correct</span>"
      ],
      "text/plain": [
       "Correct"
      ]
     },
     "metadata": {},
     "output_type": "display_data"
    }
   ],
   "source": [
    "# Let's drop columns in training and validation data\n",
    "reduced_X_train = X_train.drop(cols_with_null, axis=1)\n",
    "reduced_X_valid = X_valid.drop(cols_with_null, axis=1)\n",
    "\n",
    "# Check your answers\n",
    "step_2.check()"
   ]
  },
  {
   "cell_type": "markdown",
   "id": "4e6076ef",
   "metadata": {
    "papermill": {
     "duration": 0.008482,
     "end_time": "2024-03-23T17:28:42.332115",
     "exception": false,
     "start_time": "2024-03-23T17:28:42.323633",
     "status": "completed"
    },
    "tags": []
   },
   "source": [
    "Let's print the MAE for this approach."
   ]
  },
  {
   "cell_type": "code",
   "execution_count": 9,
   "id": "91c748ae",
   "metadata": {
    "execution": {
     "iopub.execute_input": "2024-03-23T17:28:42.352911Z",
     "iopub.status.busy": "2024-03-23T17:28:42.352116Z",
     "iopub.status.idle": "2024-03-23T17:28:43.599396Z",
     "shell.execute_reply": "2024-03-23T17:28:43.598254Z"
    },
    "papermill": {
     "duration": 1.260188,
     "end_time": "2024-03-23T17:28:43.601647",
     "exception": false,
     "start_time": "2024-03-23T17:28:42.341459",
     "status": "completed"
    },
    "tags": []
   },
   "outputs": [
    {
     "name": "stdout",
     "output_type": "stream",
     "text": [
      "MAE (Drop columns with missing values):\n",
      "17837.82570776256\n"
     ]
    }
   ],
   "source": [
    "print(\"MAE (Drop columns with missing values):\")\n",
    "print(score_dataset(reduced_X_train, reduced_X_valid, y_train, y_valid))"
   ]
  },
  {
   "cell_type": "markdown",
   "id": "92ce599f",
   "metadata": {
    "papermill": {
     "duration": 0.008484,
     "end_time": "2024-03-23T17:28:43.619442",
     "exception": false,
     "start_time": "2024-03-23T17:28:43.610958",
     "status": "completed"
    },
    "tags": []
   },
   "source": [
    "# Step 3: Imputation\n",
    "\n",
    "### Part A\n",
    "\n",
    "Use the next code cell to impute missing values with the mean value along each column.  Set the preprocessed DataFrames to `imputed_X_train` and `imputed_X_valid`.  Make sure that the column names match those in `X_train` and `X_valid`."
   ]
  },
  {
   "cell_type": "code",
   "execution_count": 10,
   "id": "29553cad",
   "metadata": {
    "execution": {
     "iopub.execute_input": "2024-03-23T17:28:43.639325Z",
     "iopub.status.busy": "2024-03-23T17:28:43.638560Z",
     "iopub.status.idle": "2024-03-23T17:28:43.669460Z",
     "shell.execute_reply": "2024-03-23T17:28:43.668410Z"
    },
    "papermill": {
     "duration": 0.043775,
     "end_time": "2024-03-23T17:28:43.672084",
     "exception": false,
     "start_time": "2024-03-23T17:28:43.628309",
     "status": "completed"
    },
    "tags": []
   },
   "outputs": [
    {
     "data": {
      "application/javascript": [
       "parent.postMessage({\"jupyterEvent\": \"custom.exercise_interaction\", \"data\": {\"outcomeType\": 1, \"valueTowardsCompletion\": 1.0, \"interactionType\": 1, \"questionType\": 2, \"questionId\": \"3.1_ImputeCode\", \"learnToolsVersion\": \"0.3.4\", \"failureMessage\": \"\", \"exceptionClass\": \"\", \"trace\": \"\"}}, \"*\")"
      ],
      "text/plain": [
       "<IPython.core.display.Javascript object>"
      ]
     },
     "metadata": {},
     "output_type": "display_data"
    },
    {
     "data": {
      "text/markdown": [
       "<span style=\"color:#33cc33\">Correct</span>"
      ],
      "text/plain": [
       "Correct"
      ]
     },
     "metadata": {},
     "output_type": "display_data"
    }
   ],
   "source": [
    "from sklearn.impute import SimpleImputer\n",
    "\n",
    "# Imputation\n",
    "my_imputer=SimpleImputer()\n",
    "imputed_X_train = pd.DataFrame(my_imputer.fit_transform(X_train))\n",
    "imputed_X_valid = pd.DataFrame(my_imputer.transform(X_valid))\n",
    "\n",
    "# Fill in the lines below: imputation removed column names; put them back\n",
    "imputed_X_train.columns = X_train.columns\n",
    "imputed_X_valid.columns = X_valid.columns\n",
    "\n",
    "# Check your answers\n",
    "step_3.a.check()"
   ]
  },
  {
   "cell_type": "markdown",
   "id": "453a42da",
   "metadata": {
    "papermill": {
     "duration": 0.008805,
     "end_time": "2024-03-23T17:28:43.690641",
     "exception": false,
     "start_time": "2024-03-23T17:28:43.681836",
     "status": "completed"
    },
    "tags": []
   },
   "source": [
    "Run the next code cell without changes to obtain the MAE for this approach."
   ]
  },
  {
   "cell_type": "code",
   "execution_count": 11,
   "id": "353eda1d",
   "metadata": {
    "execution": {
     "iopub.execute_input": "2024-03-23T17:28:43.711179Z",
     "iopub.status.busy": "2024-03-23T17:28:43.710202Z",
     "iopub.status.idle": "2024-03-23T17:28:45.073088Z",
     "shell.execute_reply": "2024-03-23T17:28:45.071983Z"
    },
    "papermill": {
     "duration": 1.375427,
     "end_time": "2024-03-23T17:28:45.075234",
     "exception": false,
     "start_time": "2024-03-23T17:28:43.699807",
     "status": "completed"
    },
    "tags": []
   },
   "outputs": [
    {
     "name": "stdout",
     "output_type": "stream",
     "text": [
      "MAE (Imputation):\n",
      "18062.894611872147\n"
     ]
    }
   ],
   "source": [
    "print(\"MAE (Imputation):\")\n",
    "print(score_dataset(imputed_X_train, imputed_X_valid, y_train, y_valid))"
   ]
  },
  {
   "cell_type": "markdown",
   "id": "808dc538",
   "metadata": {
    "papermill": {
     "duration": 0.009402,
     "end_time": "2024-03-23T17:28:45.093939",
     "exception": false,
     "start_time": "2024-03-23T17:28:45.084537",
     "status": "completed"
    },
    "tags": []
   },
   "source": [
    "### Part B\n",
    "\n",
    "Compare the MAE from each approach.  Does anything surprise us about the results?  Why do we think one approach performed better than the other?"
   ]
  },
  {
   "cell_type": "markdown",
   "id": "ac85daee",
   "metadata": {
    "execution": {
     "iopub.execute_input": "2024-03-22T15:54:20.817701Z",
     "iopub.status.busy": "2024-03-22T15:54:20.817332Z",
     "iopub.status.idle": "2024-03-22T15:54:20.827951Z",
     "shell.execute_reply": "2024-03-22T15:54:20.826701Z",
     "shell.execute_reply.started": "2024-03-22T15:54:20.817678Z"
    },
    "papermill": {
     "duration": 0.008816,
     "end_time": "2024-03-23T17:28:45.112079",
     "exception": false,
     "start_time": "2024-03-23T17:28:45.103263",
     "status": "completed"
    },
    "tags": []
   },
   "source": [
    "Given that thre are so few missing values in the dataset, we'd expect imputation to perform better than dropping columns entirely. However, we see that dropping columns performs slightly better! While this can probably partially be attributed to noise in the dataset, another potential explanation is that the imputation method is not a great match to this dataset. That is, maybe instead of filling in the mean value, it makes more sense to set every missing value to a value of 0, to fill in the most frequently encountered value, or to use some other method. For instance, consider the GarageYrBlt column (which indicates the year that the garage was built). It's likely that in some cases, a missing value could indicate a house that does not have a garage. Does it make more sense to fill in the median value along each column in this case? Or could we get better results by filling in the minimum value along each column? It's not quite clear what's best in this case, but perhaps we can rule out some options immediately - for instance, setting missing values in this column to 0 is likely to yield horrible results!"
   ]
  },
  {
   "cell_type": "markdown",
   "id": "6913fd68",
   "metadata": {
    "papermill": {
     "duration": 0.008766,
     "end_time": "2024-03-23T17:28:45.130013",
     "exception": false,
     "start_time": "2024-03-23T17:28:45.121247",
     "status": "completed"
    },
    "tags": []
   },
   "source": [
    "# Step 4: Generate test predictions\n",
    "\n",
    "In this final step, you'll use any approach of your choosing to deal with missing values.  Once you've preprocessed the training and validation features, you'll train and evaluate a random forest model.  Then, you'll preprocess the test data before generating predictions that can be submitted to the competition!\n",
    "\n",
    "### Part A\n",
    "\n",
    "Use the next code cell to preprocess the training and validation data.  Set the preprocessed DataFrames to `final_X_train` and `final_X_valid`.  **You can use any approach of your choosing here!**  in order for this step to be marked as correct, you need only ensure:\n",
    "- the preprocessed DataFrames have the same number of columns,\n",
    "- the preprocessed DataFrames have no missing values, \n",
    "- `final_X_train` and `y_train` have the same number of rows, and\n",
    "- `final_X_valid` and `y_valid` have the same number of rows."
   ]
  },
  {
   "cell_type": "code",
   "execution_count": 12,
   "id": "cd842367",
   "metadata": {
    "execution": {
     "iopub.execute_input": "2024-03-23T17:28:45.150263Z",
     "iopub.status.busy": "2024-03-23T17:28:45.149628Z",
     "iopub.status.idle": "2024-03-23T17:28:45.469542Z",
     "shell.execute_reply": "2024-03-23T17:28:45.468432Z"
    },
    "papermill": {
     "duration": 0.332753,
     "end_time": "2024-03-23T17:28:45.471911",
     "exception": false,
     "start_time": "2024-03-23T17:28:45.139158",
     "status": "completed"
    },
    "tags": []
   },
   "outputs": [
    {
     "data": {
      "text/plain": [
       "Text(0.5, 1.0, 'Distribution of MasVnrArea')"
      ]
     },
     "execution_count": 12,
     "metadata": {},
     "output_type": "execute_result"
    },
    {
     "data": {
      "image/png": "[encoded data removed]",
      "text/plain": [
       "<Figure size 640x480 with 1 Axes>"
      ]
     },
     "metadata": {},
     "output_type": "display_data"
    }
   ],
   "source": [
    "import matplotlib.pyplot as plt\n",
    "\n",
    "plt.hist(X.MasVnrArea, color='lightgreen', ec='black', bins=15)\n",
    "plt.title('Distribution of MasVnrArea')"
   ]
  },
  {
   "cell_type": "code",
   "execution_count": 13,
   "id": "67bf27fc",
   "metadata": {
    "execution": {
     "iopub.execute_input": "2024-03-23T17:28:45.494789Z",
     "iopub.status.busy": "2024-03-23T17:28:45.494404Z",
     "iopub.status.idle": "2024-03-23T17:28:45.504271Z",
     "shell.execute_reply": "2024-03-23T17:28:45.503144Z"
    },
    "papermill": {
     "duration": 0.025421,
     "end_time": "2024-03-23T17:28:45.507267",
     "exception": false,
     "start_time": "2024-03-23T17:28:45.481846",
     "status": "completed"
    },
    "tags": []
   },
   "outputs": [
    {
     "name": "stdout",
     "output_type": "stream",
     "text": [
      "103.68526170798899 \n",
      " 0.0\n"
     ]
    }
   ],
   "source": [
    "print(X.MasVnrArea.mean(), '\\n',\n",
    "X.MasVnrArea.median())"
   ]
  },
  {
   "cell_type": "code",
   "execution_count": 14,
   "id": "a2d06ebd",
   "metadata": {
    "execution": {
     "iopub.execute_input": "2024-03-23T17:28:45.534820Z",
     "iopub.status.busy": "2024-03-23T17:28:45.533594Z",
     "iopub.status.idle": "2024-03-23T17:28:45.832593Z",
     "shell.execute_reply": "2024-03-23T17:28:45.831561Z"
    },
    "papermill": {
     "duration": 0.314128,
     "end_time": "2024-03-23T17:28:45.834850",
     "exception": false,
     "start_time": "2024-03-23T17:28:45.520722",
     "status": "completed"
    },
    "tags": []
   },
   "outputs": [
    {
     "data": {
      "text/plain": [
       "Text(0.5, 1.0, 'Distribution of LotFrontage')"
      ]
     },
     "execution_count": 14,
     "metadata": {},
     "output_type": "execute_result"
    },
    {
     "data": {
      "image/png": "[encoded data removed]",
      "text/plain": [
       "<Figure size 640x480 with 1 Axes>"
      ]
     },
     "metadata": {},
     "output_type": "display_data"
    }
   ],
   "source": [
    "import matplotlib.pyplot as plt\n",
    "\n",
    "plt.hist(X.LotFrontage, color='lightgreen', ec='black', bins=15)\n",
    "plt.title('Distribution of LotFrontage')"
   ]
  },
  {
   "cell_type": "code",
   "execution_count": 15,
   "id": "74f61c94",
   "metadata": {
    "execution": {
     "iopub.execute_input": "2024-03-23T17:28:45.857151Z",
     "iopub.status.busy": "2024-03-23T17:28:45.856771Z",
     "iopub.status.idle": "2024-03-23T17:28:45.884951Z",
     "shell.execute_reply": "2024-03-23T17:28:45.883877Z"
    },
    "papermill": {
     "duration": 0.041743,
     "end_time": "2024-03-23T17:28:45.886973",
     "exception": false,
     "start_time": "2024-03-23T17:28:45.845230",
     "status": "completed"
    },
    "tags": []
   },
   "outputs": [
    {
     "data": {
      "application/javascript": [
       "parent.postMessage({\"jupyterEvent\": \"custom.exercise_interaction\", \"data\": {\"outcomeType\": 1, \"valueTowardsCompletion\": 1.0, \"interactionType\": 1, \"questionType\": 2, \"questionId\": \"4.1_PredsCodeA\", \"learnToolsVersion\": \"0.3.4\", \"failureMessage\": \"\", \"exceptionClass\": \"\", \"trace\": \"\"}}, \"*\")"
      ],
      "text/plain": [
       "<IPython.core.display.Javascript object>"
      ]
     },
     "metadata": {},
     "output_type": "display_data"
    },
    {
     "data": {
      "text/markdown": [
       "<span style=\"color:#33cc33\">Correct</span>"
      ],
      "text/plain": [
       "Correct"
      ]
     },
     "metadata": {},
     "output_type": "display_data"
    }
   ],
   "source": [
    "# Preprocessed training and validation features\n",
    "final_imputer=SimpleImputer(strategy='median')\n",
    "\n",
    "final_X_train = pd.DataFrame(final_imputer.fit_transform(X_train))\n",
    "final_X_valid = pd.DataFrame(final_imputer.transform(X_valid))\n",
    "\n",
    "final_X_train.columns = X_train.columns\n",
    "final_X_valid.columns = X_valid.columns\n",
    "\n",
    "\n",
    "# Check your answers\n",
    "step_4.a.check()"
   ]
  },
  {
   "cell_type": "markdown",
   "id": "7a5d4c92",
   "metadata": {
    "papermill": {
     "duration": 0.010236,
     "end_time": "2024-03-23T17:28:45.907850",
     "exception": false,
     "start_time": "2024-03-23T17:28:45.897614",
     "status": "completed"
    },
    "tags": []
   },
   "source": [
    "Run the next code cell to train and evaluate a random forest model.  (*Note that we don't use the `score_dataset()` function above, because we will soon use the trained model to generate test predictions!*)"
   ]
  },
  {
   "cell_type": "code",
   "execution_count": 16,
   "id": "5b9b1532",
   "metadata": {
    "execution": {
     "iopub.execute_input": "2024-03-23T17:28:45.931226Z",
     "iopub.status.busy": "2024-03-23T17:28:45.930836Z",
     "iopub.status.idle": "2024-03-23T17:28:47.313788Z",
     "shell.execute_reply": "2024-03-23T17:28:47.312712Z"
    },
    "papermill": {
     "duration": 1.397111,
     "end_time": "2024-03-23T17:28:47.316001",
     "exception": false,
     "start_time": "2024-03-23T17:28:45.918890",
     "status": "completed"
    },
    "tags": []
   },
   "outputs": [
    {
     "name": "stdout",
     "output_type": "stream",
     "text": [
      "MAE (Your approach):\n",
      "17791.59899543379\n"
     ]
    }
   ],
   "source": [
    "# Define and fit model\n",
    "model = RandomForestRegressor(n_estimators=100, random_state=0)\n",
    "model.fit(final_X_train, y_train)\n",
    "\n",
    "# Get validation predictions and MAE\n",
    "preds_valid = model.predict(final_X_valid)\n",
    "print(\"MAE (Your approach):\")\n",
    "print(mean_absolute_error(y_valid, preds_valid))"
   ]
  },
  {
   "cell_type": "markdown",
   "id": "e60571d7",
   "metadata": {
    "papermill": {
     "duration": 0.010237,
     "end_time": "2024-03-23T17:28:47.337221",
     "exception": false,
     "start_time": "2024-03-23T17:28:47.326984",
     "status": "completed"
    },
    "tags": []
   },
   "source": [
    "### Part B\n",
    "\n",
    "Use the next code cell to preprocess your test data.  Make sure that you use a method that agrees with how you preprocessed the training and validation data, and set the preprocessed test features to `final_X_test`.\n",
    "\n",
    "Then, use the preprocessed test features and the trained model to generate test predictions in `preds_test`.\n",
    "\n",
    "In order for this step to be marked correct, you need only ensure:\n",
    "- the preprocessed test DataFrame has no missing values, and\n",
    "- `final_X_test` has the same number of rows as `X_test`."
   ]
  },
  {
   "cell_type": "code",
   "execution_count": 17,
   "id": "358a4905",
   "metadata": {
    "execution": {
     "iopub.execute_input": "2024-03-23T17:28:47.359999Z",
     "iopub.status.busy": "2024-03-23T17:28:47.359584Z",
     "iopub.status.idle": "2024-03-23T17:28:47.373840Z",
     "shell.execute_reply": "2024-03-23T17:28:47.372816Z"
    },
    "papermill": {
     "duration": 0.027949,
     "end_time": "2024-03-23T17:28:47.375854",
     "exception": false,
     "start_time": "2024-03-23T17:28:47.347905",
     "status": "completed"
    },
    "tags": []
   },
   "outputs": [
    {
     "data": {
      "text/plain": [
       "['LotFrontage',\n",
       " 'MasVnrArea',\n",
       " 'BsmtFinSF1',\n",
       " 'BsmtFinSF2',\n",
       " 'BsmtUnfSF',\n",
       " 'TotalBsmtSF',\n",
       " 'BsmtFullBath',\n",
       " 'BsmtHalfBath',\n",
       " 'GarageYrBlt',\n",
       " 'GarageCars',\n",
       " 'GarageArea']"
      ]
     },
     "execution_count": 17,
     "metadata": {},
     "output_type": "execute_result"
    }
   ],
   "source": [
    "[col for col in X_test.columns if X_test[col].isnull().any()]"
   ]
  },
  {
   "cell_type": "code",
   "execution_count": 18,
   "id": "c0568d95",
   "metadata": {
    "execution": {
     "iopub.execute_input": "2024-03-23T17:28:47.399414Z",
     "iopub.status.busy": "2024-03-23T17:28:47.398539Z",
     "iopub.status.idle": "2024-03-23T17:28:47.441771Z",
     "shell.execute_reply": "2024-03-23T17:28:47.440737Z"
    },
    "papermill": {
     "duration": 0.057411,
     "end_time": "2024-03-23T17:28:47.444010",
     "exception": false,
     "start_time": "2024-03-23T17:28:47.386599",
     "status": "completed"
    },
    "tags": []
   },
   "outputs": [
    {
     "data": {
      "application/javascript": [
       "parent.postMessage({\"jupyterEvent\": \"custom.exercise_interaction\", \"data\": {\"outcomeType\": 1, \"valueTowardsCompletion\": 1.0, \"interactionType\": 1, \"questionType\": 2, \"questionId\": \"4.2_PredsCodeB\", \"learnToolsVersion\": \"0.3.4\", \"failureMessage\": \"\", \"exceptionClass\": \"\", \"trace\": \"\"}}, \"*\")"
      ],
      "text/plain": [
       "<IPython.core.display.Javascript object>"
      ]
     },
     "metadata": {},
     "output_type": "display_data"
    },
    {
     "data": {
      "text/markdown": [
       "<span style=\"color:#33cc33\">Correct</span>"
      ],
      "text/plain": [
       "Correct"
      ]
     },
     "metadata": {},
     "output_type": "display_data"
    }
   ],
   "source": [
    "# Fill in the line below: preprocess test data\n",
    "\n",
    "final_X_test = pd.DataFrame(final_imputer.transform(X_test))\n",
    "final_X_test.columns = X_test.columns\n",
    "\n",
    "# Fill in the line below: get test predictions\n",
    "preds_test = model.predict(final_X_test)\n",
    "\n",
    "# Check your answers\n",
    "step_4.b.check()"
   ]
  },
  {
   "cell_type": "markdown",
   "id": "426b139a",
   "metadata": {
    "papermill": {
     "duration": 0.010586,
     "end_time": "2024-03-23T17:28:47.465572",
     "exception": false,
     "start_time": "2024-03-23T17:28:47.454986",
     "status": "completed"
    },
    "tags": []
   },
   "source": [
    "Run the next code cell without changes to save your results to a CSV file that can be submitted directly to the competition."
   ]
  },
  {
   "cell_type": "code",
   "execution_count": 19,
   "id": "8c41e8fd",
   "metadata": {
    "execution": {
     "iopub.execute_input": "2024-03-23T17:28:47.489112Z",
     "iopub.status.busy": "2024-03-23T17:28:47.488226Z",
     "iopub.status.idle": "2024-03-23T17:28:47.498289Z",
     "shell.execute_reply": "2024-03-23T17:28:47.497554Z"
    },
    "papermill": {
     "duration": 0.024026,
     "end_time": "2024-03-23T17:28:47.500341",
     "exception": false,
     "start_time": "2024-03-23T17:28:47.476315",
     "status": "completed"
    },
    "tags": []
   },
   "outputs": [],
   "source": [
    "# Save test predictions to file\n",
    "output = pd.DataFrame({'Id': X_test.index,\n",
    "                       'SalePrice': preds_test})\n",
    "output.to_csv('submission.csv', index=False)"
   ]
  },
  {
   "cell_type": "markdown",
   "id": "6907a8ff",
   "metadata": {
    "papermill": {
     "duration": 0.011733,
     "end_time": "2024-03-23T17:28:47.523094",
     "exception": false,
     "start_time": "2024-03-23T17:28:47.511361",
     "status": "completed"
    },
    "tags": []
   },
   "source": [
    "---\n",
    "\n",
    "\n",
    "\n",
    "\n",
    "*By Poludniowy Albanczyk*"
   ]
  }
 ],
 "metadata": {
  "kaggle": {
   "accelerator": "none",
   "dataSources": [
    {
     "databundleVersionId": 111096,
     "sourceId": 10211,
     "sourceType": "competition"
    }
   ],
   "isGpuEnabled": false,
   "isInternetEnabled": false,
   "language": "python",
   "sourceType": "notebook"
  },
  "kernelspec": {
   "display_name": "Python 3",
   "language": "python",
   "name": "python3"
  },
  "language_info": {
   "codemirror_mode": {
    "name": "ipython",
    "version": 3
   },
   "file_extension": ".py",
   "mimetype": "text/x-python",
   "name": "python",
   "nbconvert_exporter": "python",
   "pygments_lexer": "ipython3",
   "version": "3.10.13"
  },
  "papermill": {
   "default_parameters": {},
   "duration": 11.354967,
   "end_time": "2024-03-23T17:28:48.154563",
   "environment_variables": {},
   "exception": null,
   "input_path": "__notebook__.ipynb",
   "output_path": "__notebook__.ipynb",
   "parameters": {},
   "start_time": "2024-03-23T17:28:36.799596",
   "version": "2.5.0"
  }
 },
 "nbformat": 4,
 "nbformat_minor": 5
}
